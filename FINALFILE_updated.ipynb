{
 "cells": [
  {
   "cell_type": "code",
   "execution_count": 4,
   "metadata": {},
   "outputs": [],
   "source": [
    "from pyforest import *\n",
    "import numpy as np\n",
    "import pandas as pd\n",
    "import seaborn as sns\n",
    "from matplotlib import pyplot as plt\n",
    "from sklearn.preprocessing import StandardScaler,OneHotEncoder\n",
    "from sklearn.model_selection import train_test_split, cross_val_score\n",
    "import statsmodels.api as sm\n",
    "from statsmodels.stats.outliers_influence import variance_inflation_factor\n",
    "from sklearn.metrics import confusion_matrix,roc_auc_score,roc_curve,accuracy_score, classification_report,f1_score,precision_score,recall_score\n",
    "from sklearn.linear_model import LogisticRegression\n",
    "from sklearn.model_selection import GridSearchCV, RandomizedSearchCV, KFold\n",
    "from sklearn.neighbors import KNeighborsClassifier\n",
    "import warnings\n",
    "warnings.filterwarnings('ignore')\n",
    "from sklearn.tree import DecisionTreeClassifier\n",
    "from sklearn.ensemble import RandomForestClassifier\n",
    "from sklearn.naive_bayes import GaussianNB\n",
    "from sklearn.ensemble import BaggingClassifier,RandomForestClassifier,AdaBoostClassifier,GradientBoostingClassifier\n",
    "from scipy import stats\n",
    "from sklearn.feature_selection import RFE\n",
    "from sklearn.cluster import KMeans"
   ]
  },
  {
   "cell_type": "code",
   "execution_count": 2,
   "metadata": {},
   "outputs": [],
   "source": [
    "df1=pd.read_csv(\"credit_card1.csv\")"
   ]
  },
  {
   "cell_type": "code",
   "execution_count": 3,
   "metadata": {},
   "outputs": [],
   "source": [
    "df1.drop([\"ID\"],axis=1,inplace=True)"
   ]
  },
  {
   "cell_type": "code",
   "execution_count": 4,
   "metadata": {},
   "outputs": [
    {
     "data": {
      "text/html": [
       "<div>\n",
       "<style scoped>\n",
       "    .dataframe tbody tr th:only-of-type {\n",
       "        vertical-align: middle;\n",
       "    }\n",
       "\n",
       "    .dataframe tbody tr th {\n",
       "        vertical-align: top;\n",
       "    }\n",
       "\n",
       "    .dataframe thead th {\n",
       "        text-align: right;\n",
       "    }\n",
       "</style>\n",
       "<table border=\"1\" class=\"dataframe\">\n",
       "  <thead>\n",
       "    <tr style=\"text-align: right;\">\n",
       "      <th></th>\n",
       "      <th>LIMIT_BAL</th>\n",
       "      <th>SEX</th>\n",
       "      <th>EDUCATION</th>\n",
       "      <th>MARRIAGE</th>\n",
       "      <th>AGE</th>\n",
       "      <th>PAY_1</th>\n",
       "      <th>PAY_2</th>\n",
       "      <th>PAY_3</th>\n",
       "      <th>PAY_4</th>\n",
       "      <th>PAY_5</th>\n",
       "      <th>...</th>\n",
       "      <th>BILL_AMT4</th>\n",
       "      <th>BILL_AMT5</th>\n",
       "      <th>BILL_AMT6</th>\n",
       "      <th>PAY_AMT1</th>\n",
       "      <th>PAY_AMT2</th>\n",
       "      <th>PAY_AMT3</th>\n",
       "      <th>PAY_AMT4</th>\n",
       "      <th>PAY_AMT5</th>\n",
       "      <th>PAY_AMT6</th>\n",
       "      <th>DEFAULT</th>\n",
       "    </tr>\n",
       "  </thead>\n",
       "  <tbody>\n",
       "    <tr>\n",
       "      <td>0</td>\n",
       "      <td>20000</td>\n",
       "      <td>2</td>\n",
       "      <td>2</td>\n",
       "      <td>1</td>\n",
       "      <td>24</td>\n",
       "      <td>2</td>\n",
       "      <td>2</td>\n",
       "      <td>-1</td>\n",
       "      <td>-1</td>\n",
       "      <td>-2</td>\n",
       "      <td>...</td>\n",
       "      <td>0</td>\n",
       "      <td>0</td>\n",
       "      <td>0</td>\n",
       "      <td>0</td>\n",
       "      <td>689</td>\n",
       "      <td>0</td>\n",
       "      <td>0</td>\n",
       "      <td>0</td>\n",
       "      <td>0</td>\n",
       "      <td>1</td>\n",
       "    </tr>\n",
       "    <tr>\n",
       "      <td>1</td>\n",
       "      <td>120000</td>\n",
       "      <td>2</td>\n",
       "      <td>2</td>\n",
       "      <td>2</td>\n",
       "      <td>26</td>\n",
       "      <td>-1</td>\n",
       "      <td>2</td>\n",
       "      <td>0</td>\n",
       "      <td>0</td>\n",
       "      <td>0</td>\n",
       "      <td>...</td>\n",
       "      <td>3272</td>\n",
       "      <td>3455</td>\n",
       "      <td>3261</td>\n",
       "      <td>0</td>\n",
       "      <td>1000</td>\n",
       "      <td>1000</td>\n",
       "      <td>1000</td>\n",
       "      <td>0</td>\n",
       "      <td>2000</td>\n",
       "      <td>1</td>\n",
       "    </tr>\n",
       "    <tr>\n",
       "      <td>2</td>\n",
       "      <td>90000</td>\n",
       "      <td>2</td>\n",
       "      <td>2</td>\n",
       "      <td>2</td>\n",
       "      <td>34</td>\n",
       "      <td>0</td>\n",
       "      <td>0</td>\n",
       "      <td>0</td>\n",
       "      <td>0</td>\n",
       "      <td>0</td>\n",
       "      <td>...</td>\n",
       "      <td>14331</td>\n",
       "      <td>14948</td>\n",
       "      <td>15549</td>\n",
       "      <td>1518</td>\n",
       "      <td>1500</td>\n",
       "      <td>1000</td>\n",
       "      <td>1000</td>\n",
       "      <td>1000</td>\n",
       "      <td>5000</td>\n",
       "      <td>0</td>\n",
       "    </tr>\n",
       "    <tr>\n",
       "      <td>3</td>\n",
       "      <td>50000</td>\n",
       "      <td>2</td>\n",
       "      <td>2</td>\n",
       "      <td>1</td>\n",
       "      <td>37</td>\n",
       "      <td>0</td>\n",
       "      <td>0</td>\n",
       "      <td>0</td>\n",
       "      <td>0</td>\n",
       "      <td>0</td>\n",
       "      <td>...</td>\n",
       "      <td>28314</td>\n",
       "      <td>28959</td>\n",
       "      <td>29547</td>\n",
       "      <td>2000</td>\n",
       "      <td>2019</td>\n",
       "      <td>1200</td>\n",
       "      <td>1100</td>\n",
       "      <td>1069</td>\n",
       "      <td>1000</td>\n",
       "      <td>0</td>\n",
       "    </tr>\n",
       "    <tr>\n",
       "      <td>4</td>\n",
       "      <td>50000</td>\n",
       "      <td>1</td>\n",
       "      <td>2</td>\n",
       "      <td>1</td>\n",
       "      <td>57</td>\n",
       "      <td>-1</td>\n",
       "      <td>0</td>\n",
       "      <td>-1</td>\n",
       "      <td>0</td>\n",
       "      <td>0</td>\n",
       "      <td>...</td>\n",
       "      <td>20940</td>\n",
       "      <td>19146</td>\n",
       "      <td>19131</td>\n",
       "      <td>2000</td>\n",
       "      <td>36681</td>\n",
       "      <td>10000</td>\n",
       "      <td>9000</td>\n",
       "      <td>689</td>\n",
       "      <td>679</td>\n",
       "      <td>0</td>\n",
       "    </tr>\n",
       "  </tbody>\n",
       "</table>\n",
       "<p>5 rows × 24 columns</p>\n",
       "</div>"
      ],
      "text/plain": [
       "   LIMIT_BAL  SEX  EDUCATION  MARRIAGE  AGE  PAY_1  PAY_2  PAY_3  PAY_4  \\\n",
       "0      20000    2          2         1   24      2      2     -1     -1   \n",
       "1     120000    2          2         2   26     -1      2      0      0   \n",
       "2      90000    2          2         2   34      0      0      0      0   \n",
       "3      50000    2          2         1   37      0      0      0      0   \n",
       "4      50000    1          2         1   57     -1      0     -1      0   \n",
       "\n",
       "   PAY_5  ...  BILL_AMT4  BILL_AMT5  BILL_AMT6  PAY_AMT1  PAY_AMT2  PAY_AMT3  \\\n",
       "0     -2  ...          0          0          0         0       689         0   \n",
       "1      0  ...       3272       3455       3261         0      1000      1000   \n",
       "2      0  ...      14331      14948      15549      1518      1500      1000   \n",
       "3      0  ...      28314      28959      29547      2000      2019      1200   \n",
       "4      0  ...      20940      19146      19131      2000     36681     10000   \n",
       "\n",
       "   PAY_AMT4  PAY_AMT5  PAY_AMT6  DEFAULT  \n",
       "0         0         0         0        1  \n",
       "1      1000         0      2000        1  \n",
       "2      1000      1000      5000        0  \n",
       "3      1100      1069      1000        0  \n",
       "4      9000       689       679        0  \n",
       "\n",
       "[5 rows x 24 columns]"
      ]
     },
     "execution_count": 4,
     "metadata": {},
     "output_type": "execute_result"
    }
   ],
   "source": [
    "df1.head()"
   ]
  },
  {
   "cell_type": "code",
   "execution_count": 5,
   "metadata": {},
   "outputs": [],
   "source": [
    "df1.SEX=df1.SEX.map({2: 'Female', 1:'Male'})"
   ]
  },
  {
   "cell_type": "code",
   "execution_count": 6,
   "metadata": {},
   "outputs": [],
   "source": [
    "df1.EDUCATION=df1.EDUCATION.map({1:'GraduateSchool', 2:'University', 3:'HighSchool', 4:'Others', 0:'Others', 5:'Others', 6:'Others'})"
   ]
  },
  {
   "cell_type": "code",
   "execution_count": 7,
   "metadata": {},
   "outputs": [],
   "source": [
    "df1.MARRIAGE=df1.MARRIAGE.map({1:'Married', 2:'Single', 3:'Others', 0:'Others'})"
   ]
  },
  {
   "cell_type": "code",
   "execution_count": 8,
   "metadata": {},
   "outputs": [],
   "source": [
    "df1=pd.get_dummies(df1,drop_first=True)"
   ]
  },
  {
   "cell_type": "code",
   "execution_count": 9,
   "metadata": {},
   "outputs": [
    {
     "data": {
      "text/html": [
       "<div>\n",
       "<style scoped>\n",
       "    .dataframe tbody tr th:only-of-type {\n",
       "        vertical-align: middle;\n",
       "    }\n",
       "\n",
       "    .dataframe tbody tr th {\n",
       "        vertical-align: top;\n",
       "    }\n",
       "\n",
       "    .dataframe thead th {\n",
       "        text-align: right;\n",
       "    }\n",
       "</style>\n",
       "<table border=\"1\" class=\"dataframe\">\n",
       "  <thead>\n",
       "    <tr style=\"text-align: right;\">\n",
       "      <th></th>\n",
       "      <th>LIMIT_BAL</th>\n",
       "      <th>AGE</th>\n",
       "      <th>PAY_1</th>\n",
       "      <th>PAY_2</th>\n",
       "      <th>PAY_3</th>\n",
       "      <th>PAY_4</th>\n",
       "      <th>PAY_5</th>\n",
       "      <th>PAY_6</th>\n",
       "      <th>BILL_AMT1</th>\n",
       "      <th>BILL_AMT2</th>\n",
       "      <th>...</th>\n",
       "      <th>PAY_AMT4</th>\n",
       "      <th>PAY_AMT5</th>\n",
       "      <th>PAY_AMT6</th>\n",
       "      <th>DEFAULT</th>\n",
       "      <th>SEX_Male</th>\n",
       "      <th>EDUCATION_HighSchool</th>\n",
       "      <th>EDUCATION_Others</th>\n",
       "      <th>EDUCATION_University</th>\n",
       "      <th>MARRIAGE_Others</th>\n",
       "      <th>MARRIAGE_Single</th>\n",
       "    </tr>\n",
       "  </thead>\n",
       "  <tbody>\n",
       "    <tr>\n",
       "      <td>0</td>\n",
       "      <td>20000</td>\n",
       "      <td>24</td>\n",
       "      <td>2</td>\n",
       "      <td>2</td>\n",
       "      <td>-1</td>\n",
       "      <td>-1</td>\n",
       "      <td>-2</td>\n",
       "      <td>-2</td>\n",
       "      <td>3913</td>\n",
       "      <td>3102</td>\n",
       "      <td>...</td>\n",
       "      <td>0</td>\n",
       "      <td>0</td>\n",
       "      <td>0</td>\n",
       "      <td>1</td>\n",
       "      <td>0</td>\n",
       "      <td>0</td>\n",
       "      <td>0</td>\n",
       "      <td>1</td>\n",
       "      <td>0</td>\n",
       "      <td>0</td>\n",
       "    </tr>\n",
       "    <tr>\n",
       "      <td>1</td>\n",
       "      <td>120000</td>\n",
       "      <td>26</td>\n",
       "      <td>-1</td>\n",
       "      <td>2</td>\n",
       "      <td>0</td>\n",
       "      <td>0</td>\n",
       "      <td>0</td>\n",
       "      <td>2</td>\n",
       "      <td>2682</td>\n",
       "      <td>1725</td>\n",
       "      <td>...</td>\n",
       "      <td>1000</td>\n",
       "      <td>0</td>\n",
       "      <td>2000</td>\n",
       "      <td>1</td>\n",
       "      <td>0</td>\n",
       "      <td>0</td>\n",
       "      <td>0</td>\n",
       "      <td>1</td>\n",
       "      <td>0</td>\n",
       "      <td>1</td>\n",
       "    </tr>\n",
       "    <tr>\n",
       "      <td>2</td>\n",
       "      <td>90000</td>\n",
       "      <td>34</td>\n",
       "      <td>0</td>\n",
       "      <td>0</td>\n",
       "      <td>0</td>\n",
       "      <td>0</td>\n",
       "      <td>0</td>\n",
       "      <td>0</td>\n",
       "      <td>29239</td>\n",
       "      <td>14027</td>\n",
       "      <td>...</td>\n",
       "      <td>1000</td>\n",
       "      <td>1000</td>\n",
       "      <td>5000</td>\n",
       "      <td>0</td>\n",
       "      <td>0</td>\n",
       "      <td>0</td>\n",
       "      <td>0</td>\n",
       "      <td>1</td>\n",
       "      <td>0</td>\n",
       "      <td>1</td>\n",
       "    </tr>\n",
       "    <tr>\n",
       "      <td>3</td>\n",
       "      <td>50000</td>\n",
       "      <td>37</td>\n",
       "      <td>0</td>\n",
       "      <td>0</td>\n",
       "      <td>0</td>\n",
       "      <td>0</td>\n",
       "      <td>0</td>\n",
       "      <td>0</td>\n",
       "      <td>46990</td>\n",
       "      <td>48233</td>\n",
       "      <td>...</td>\n",
       "      <td>1100</td>\n",
       "      <td>1069</td>\n",
       "      <td>1000</td>\n",
       "      <td>0</td>\n",
       "      <td>0</td>\n",
       "      <td>0</td>\n",
       "      <td>0</td>\n",
       "      <td>1</td>\n",
       "      <td>0</td>\n",
       "      <td>0</td>\n",
       "    </tr>\n",
       "    <tr>\n",
       "      <td>4</td>\n",
       "      <td>50000</td>\n",
       "      <td>57</td>\n",
       "      <td>-1</td>\n",
       "      <td>0</td>\n",
       "      <td>-1</td>\n",
       "      <td>0</td>\n",
       "      <td>0</td>\n",
       "      <td>0</td>\n",
       "      <td>8617</td>\n",
       "      <td>5670</td>\n",
       "      <td>...</td>\n",
       "      <td>9000</td>\n",
       "      <td>689</td>\n",
       "      <td>679</td>\n",
       "      <td>0</td>\n",
       "      <td>1</td>\n",
       "      <td>0</td>\n",
       "      <td>0</td>\n",
       "      <td>1</td>\n",
       "      <td>0</td>\n",
       "      <td>0</td>\n",
       "    </tr>\n",
       "  </tbody>\n",
       "</table>\n",
       "<p>5 rows × 27 columns</p>\n",
       "</div>"
      ],
      "text/plain": [
       "   LIMIT_BAL  AGE  PAY_1  PAY_2  PAY_3  PAY_4  PAY_5  PAY_6  BILL_AMT1  \\\n",
       "0      20000   24      2      2     -1     -1     -2     -2       3913   \n",
       "1     120000   26     -1      2      0      0      0      2       2682   \n",
       "2      90000   34      0      0      0      0      0      0      29239   \n",
       "3      50000   37      0      0      0      0      0      0      46990   \n",
       "4      50000   57     -1      0     -1      0      0      0       8617   \n",
       "\n",
       "   BILL_AMT2  ...  PAY_AMT4  PAY_AMT5  PAY_AMT6  DEFAULT  SEX_Male  \\\n",
       "0       3102  ...         0         0         0        1         0   \n",
       "1       1725  ...      1000         0      2000        1         0   \n",
       "2      14027  ...      1000      1000      5000        0         0   \n",
       "3      48233  ...      1100      1069      1000        0         0   \n",
       "4       5670  ...      9000       689       679        0         1   \n",
       "\n",
       "   EDUCATION_HighSchool  EDUCATION_Others  EDUCATION_University  \\\n",
       "0                     0                 0                     1   \n",
       "1                     0                 0                     1   \n",
       "2                     0                 0                     1   \n",
       "3                     0                 0                     1   \n",
       "4                     0                 0                     1   \n",
       "\n",
       "   MARRIAGE_Others  MARRIAGE_Single  \n",
       "0                0                0  \n",
       "1                0                1  \n",
       "2                0                1  \n",
       "3                0                0  \n",
       "4                0                0  \n",
       "\n",
       "[5 rows x 27 columns]"
      ]
     },
     "execution_count": 9,
     "metadata": {},
     "output_type": "execute_result"
    }
   ],
   "source": [
    "df1.head()"
   ]
  },
  {
   "cell_type": "code",
   "execution_count": 10,
   "metadata": {},
   "outputs": [],
   "source": [
    "from sklearn.model_selection import train_test_split"
   ]
  },
  {
   "cell_type": "code",
   "execution_count": 11,
   "metadata": {},
   "outputs": [],
   "source": [
    "x = df1.drop('DEFAULT',axis=1)\n",
    "y = df1['DEFAULT']\n",
    "x_train, x_test, y_train, y_test = train_test_split(x,y,test_size=0.3,random_state=42)\n",
    "x_trainc = sm.add_constant(x_train)\n",
    "x_testc = sm.add_constant(x_test)"
   ]
  },
  {
   "cell_type": "code",
   "execution_count": 12,
   "metadata": {},
   "outputs": [
    {
     "name": "stdout",
     "output_type": "stream",
     "text": [
      "Optimization terminated successfully.\n",
      "         Current function value: 0.464534\n",
      "         Iterations 7\n"
     ]
    },
    {
     "data": {
      "text/html": [
       "<table class=\"simpletable\">\n",
       "<caption>Logit Regression Results</caption>\n",
       "<tr>\n",
       "  <th>Dep. Variable:</th>        <td>DEFAULT</td>     <th>  No. Observations:  </th>  <td> 21000</td> \n",
       "</tr>\n",
       "<tr>\n",
       "  <th>Model:</th>                 <td>Logit</td>      <th>  Df Residuals:      </th>  <td> 20973</td> \n",
       "</tr>\n",
       "<tr>\n",
       "  <th>Method:</th>                 <td>MLE</td>       <th>  Df Model:          </th>  <td>    26</td> \n",
       "</tr>\n",
       "<tr>\n",
       "  <th>Date:</th>            <td>Wed, 29 Jan 2020</td> <th>  Pseudo R-squ.:     </th>  <td>0.1240</td> \n",
       "</tr>\n",
       "<tr>\n",
       "  <th>Time:</th>                <td>20:29:45</td>     <th>  Log-Likelihood:    </th> <td> -9755.2</td>\n",
       "</tr>\n",
       "<tr>\n",
       "  <th>converged:</th>             <td>True</td>       <th>  LL-Null:           </th> <td> -11136.</td>\n",
       "</tr>\n",
       "<tr>\n",
       "  <th>Covariance Type:</th>     <td>nonrobust</td>    <th>  LLR p-value:       </th>  <td> 0.000</td> \n",
       "</tr>\n",
       "</table>\n",
       "<table class=\"simpletable\">\n",
       "<tr>\n",
       "            <td></td>              <th>coef</th>     <th>std err</th>      <th>z</th>      <th>P>|z|</th>  <th>[0.025</th>    <th>0.975]</th>  \n",
       "</tr>\n",
       "<tr>\n",
       "  <th>const</th>                <td>   -1.1572</td> <td>    0.098</td> <td>  -11.794</td> <td> 0.000</td> <td>   -1.349</td> <td>   -0.965</td>\n",
       "</tr>\n",
       "<tr>\n",
       "  <th>LIMIT_BAL</th>            <td>-7.792e-07</td> <td> 1.89e-07</td> <td>   -4.114</td> <td> 0.000</td> <td>-1.15e-06</td> <td>-4.08e-07</td>\n",
       "</tr>\n",
       "<tr>\n",
       "  <th>AGE</th>                  <td>    0.0071</td> <td>    0.002</td> <td>    3.192</td> <td> 0.001</td> <td>    0.003</td> <td>    0.011</td>\n",
       "</tr>\n",
       "<tr>\n",
       "  <th>PAY_1</th>                <td>    0.5771</td> <td>    0.021</td> <td>   27.279</td> <td> 0.000</td> <td>    0.536</td> <td>    0.619</td>\n",
       "</tr>\n",
       "<tr>\n",
       "  <th>PAY_2</th>                <td>    0.0935</td> <td>    0.024</td> <td>    3.861</td> <td> 0.000</td> <td>    0.046</td> <td>    0.141</td>\n",
       "</tr>\n",
       "<tr>\n",
       "  <th>PAY_3</th>                <td>    0.0738</td> <td>    0.027</td> <td>    2.700</td> <td> 0.007</td> <td>    0.020</td> <td>    0.127</td>\n",
       "</tr>\n",
       "<tr>\n",
       "  <th>PAY_4</th>                <td>    0.0327</td> <td>    0.030</td> <td>    1.094</td> <td> 0.274</td> <td>   -0.026</td> <td>    0.091</td>\n",
       "</tr>\n",
       "<tr>\n",
       "  <th>PAY_5</th>                <td>    0.0127</td> <td>    0.032</td> <td>    0.394</td> <td> 0.693</td> <td>   -0.050</td> <td>    0.076</td>\n",
       "</tr>\n",
       "<tr>\n",
       "  <th>PAY_6</th>                <td>    0.0220</td> <td>    0.026</td> <td>    0.842</td> <td> 0.400</td> <td>   -0.029</td> <td>    0.073</td>\n",
       "</tr>\n",
       "<tr>\n",
       "  <th>BILL_AMT1</th>            <td>-5.494e-06</td> <td> 1.35e-06</td> <td>   -4.077</td> <td> 0.000</td> <td>-8.14e-06</td> <td>-2.85e-06</td>\n",
       "</tr>\n",
       "<tr>\n",
       "  <th>BILL_AMT2</th>            <td> 2.602e-06</td> <td> 1.77e-06</td> <td>    1.471</td> <td> 0.141</td> <td>-8.66e-07</td> <td> 6.07e-06</td>\n",
       "</tr>\n",
       "<tr>\n",
       "  <th>BILL_AMT3</th>            <td> 1.796e-06</td> <td> 1.55e-06</td> <td>    1.162</td> <td> 0.245</td> <td>-1.23e-06</td> <td> 4.83e-06</td>\n",
       "</tr>\n",
       "<tr>\n",
       "  <th>BILL_AMT4</th>            <td> -5.79e-07</td> <td> 1.58e-06</td> <td>   -0.366</td> <td> 0.714</td> <td>-3.68e-06</td> <td> 2.52e-06</td>\n",
       "</tr>\n",
       "<tr>\n",
       "  <th>BILL_AMT5</th>            <td>-1.811e-07</td> <td> 1.82e-06</td> <td>   -0.100</td> <td> 0.921</td> <td>-3.74e-06</td> <td> 3.38e-06</td>\n",
       "</tr>\n",
       "<tr>\n",
       "  <th>BILL_AMT6</th>            <td> 3.881e-07</td> <td> 1.45e-06</td> <td>    0.267</td> <td> 0.789</td> <td>-2.46e-06</td> <td> 3.23e-06</td>\n",
       "</tr>\n",
       "<tr>\n",
       "  <th>PAY_AMT1</th>             <td>-1.013e-05</td> <td> 2.45e-06</td> <td>   -4.132</td> <td> 0.000</td> <td>-1.49e-05</td> <td>-5.32e-06</td>\n",
       "</tr>\n",
       "<tr>\n",
       "  <th>PAY_AMT2</th>             <td>-1.056e-05</td> <td>  2.6e-06</td> <td>   -4.055</td> <td> 0.000</td> <td>-1.57e-05</td> <td>-5.46e-06</td>\n",
       "</tr>\n",
       "<tr>\n",
       "  <th>PAY_AMT3</th>             <td>-2.055e-06</td> <td> 2.07e-06</td> <td>   -0.992</td> <td> 0.321</td> <td>-6.11e-06</td> <td> 2.01e-06</td>\n",
       "</tr>\n",
       "<tr>\n",
       "  <th>PAY_AMT4</th>             <td> -2.05e-06</td> <td> 1.97e-06</td> <td>   -1.041</td> <td> 0.298</td> <td>-5.91e-06</td> <td> 1.81e-06</td>\n",
       "</tr>\n",
       "<tr>\n",
       "  <th>PAY_AMT5</th>             <td>-3.023e-06</td> <td> 2.05e-06</td> <td>   -1.471</td> <td> 0.141</td> <td>-7.05e-06</td> <td>    1e-06</td>\n",
       "</tr>\n",
       "<tr>\n",
       "  <th>PAY_AMT6</th>             <td>-2.535e-06</td> <td> 1.54e-06</td> <td>   -1.641</td> <td> 0.101</td> <td>-5.56e-06</td> <td> 4.92e-07</td>\n",
       "</tr>\n",
       "<tr>\n",
       "  <th>SEX_Male</th>             <td>    0.1114</td> <td>    0.037</td> <td>    3.032</td> <td> 0.002</td> <td>    0.039</td> <td>    0.183</td>\n",
       "</tr>\n",
       "<tr>\n",
       "  <th>EDUCATION_HighSchool</th> <td>   -0.1154</td> <td>    0.057</td> <td>   -2.027</td> <td> 0.043</td> <td>   -0.227</td> <td>   -0.004</td>\n",
       "</tr>\n",
       "<tr>\n",
       "  <th>EDUCATION_Others</th>     <td>   -1.0321</td> <td>    0.213</td> <td>   -4.846</td> <td> 0.000</td> <td>   -1.450</td> <td>   -0.615</td>\n",
       "</tr>\n",
       "<tr>\n",
       "  <th>EDUCATION_University</th> <td>   -0.0657</td> <td>    0.043</td> <td>   -1.545</td> <td> 0.122</td> <td>   -0.149</td> <td>    0.018</td>\n",
       "</tr>\n",
       "<tr>\n",
       "  <th>MARRIAGE_Others</th>      <td>   -0.2267</td> <td>    0.158</td> <td>   -1.438</td> <td> 0.150</td> <td>   -0.536</td> <td>    0.082</td>\n",
       "</tr>\n",
       "<tr>\n",
       "  <th>MARRIAGE_Single</th>      <td>   -0.1791</td> <td>    0.041</td> <td>   -4.324</td> <td> 0.000</td> <td>   -0.260</td> <td>   -0.098</td>\n",
       "</tr>\n",
       "</table>"
      ],
      "text/plain": [
       "<class 'statsmodels.iolib.summary.Summary'>\n",
       "\"\"\"\n",
       "                           Logit Regression Results                           \n",
       "==============================================================================\n",
       "Dep. Variable:                DEFAULT   No. Observations:                21000\n",
       "Model:                          Logit   Df Residuals:                    20973\n",
       "Method:                           MLE   Df Model:                           26\n",
       "Date:                Wed, 29 Jan 2020   Pseudo R-squ.:                  0.1240\n",
       "Time:                        20:29:45   Log-Likelihood:                -9755.2\n",
       "converged:                       True   LL-Null:                       -11136.\n",
       "Covariance Type:            nonrobust   LLR p-value:                     0.000\n",
       "========================================================================================\n",
       "                           coef    std err          z      P>|z|      [0.025      0.975]\n",
       "----------------------------------------------------------------------------------------\n",
       "const                   -1.1572      0.098    -11.794      0.000      -1.349      -0.965\n",
       "LIMIT_BAL            -7.792e-07   1.89e-07     -4.114      0.000   -1.15e-06   -4.08e-07\n",
       "AGE                      0.0071      0.002      3.192      0.001       0.003       0.011\n",
       "PAY_1                    0.5771      0.021     27.279      0.000       0.536       0.619\n",
       "PAY_2                    0.0935      0.024      3.861      0.000       0.046       0.141\n",
       "PAY_3                    0.0738      0.027      2.700      0.007       0.020       0.127\n",
       "PAY_4                    0.0327      0.030      1.094      0.274      -0.026       0.091\n",
       "PAY_5                    0.0127      0.032      0.394      0.693      -0.050       0.076\n",
       "PAY_6                    0.0220      0.026      0.842      0.400      -0.029       0.073\n",
       "BILL_AMT1            -5.494e-06   1.35e-06     -4.077      0.000   -8.14e-06   -2.85e-06\n",
       "BILL_AMT2             2.602e-06   1.77e-06      1.471      0.141   -8.66e-07    6.07e-06\n",
       "BILL_AMT3             1.796e-06   1.55e-06      1.162      0.245   -1.23e-06    4.83e-06\n",
       "BILL_AMT4             -5.79e-07   1.58e-06     -0.366      0.714   -3.68e-06    2.52e-06\n",
       "BILL_AMT5            -1.811e-07   1.82e-06     -0.100      0.921   -3.74e-06    3.38e-06\n",
       "BILL_AMT6             3.881e-07   1.45e-06      0.267      0.789   -2.46e-06    3.23e-06\n",
       "PAY_AMT1             -1.013e-05   2.45e-06     -4.132      0.000   -1.49e-05   -5.32e-06\n",
       "PAY_AMT2             -1.056e-05    2.6e-06     -4.055      0.000   -1.57e-05   -5.46e-06\n",
       "PAY_AMT3             -2.055e-06   2.07e-06     -0.992      0.321   -6.11e-06    2.01e-06\n",
       "PAY_AMT4              -2.05e-06   1.97e-06     -1.041      0.298   -5.91e-06    1.81e-06\n",
       "PAY_AMT5             -3.023e-06   2.05e-06     -1.471      0.141   -7.05e-06       1e-06\n",
       "PAY_AMT6             -2.535e-06   1.54e-06     -1.641      0.101   -5.56e-06    4.92e-07\n",
       "SEX_Male                 0.1114      0.037      3.032      0.002       0.039       0.183\n",
       "EDUCATION_HighSchool    -0.1154      0.057     -2.027      0.043      -0.227      -0.004\n",
       "EDUCATION_Others        -1.0321      0.213     -4.846      0.000      -1.450      -0.615\n",
       "EDUCATION_University    -0.0657      0.043     -1.545      0.122      -0.149       0.018\n",
       "MARRIAGE_Others         -0.2267      0.158     -1.438      0.150      -0.536       0.082\n",
       "MARRIAGE_Single         -0.1791      0.041     -4.324      0.000      -0.260      -0.098\n",
       "========================================================================================\n",
       "\"\"\""
      ]
     },
     "execution_count": 12,
     "metadata": {},
     "output_type": "execute_result"
    }
   ],
   "source": [
    "logit_model = sm.Logit(y_train,x_trainc)\n",
    "result = logit_model.fit()\n",
    "result.summary()"
   ]
  },
  {
   "cell_type": "code",
   "execution_count": 13,
   "metadata": {},
   "outputs": [
    {
     "data": {
      "text/plain": [
       "2308     0.232375\n",
       "22404    0.161950\n",
       "23397    0.215560\n",
       "25058    0.223813\n",
       "2664     0.180670\n",
       "dtype: float64"
      ]
     },
     "execution_count": 13,
     "metadata": {},
     "output_type": "execute_result"
    }
   ],
   "source": [
    "y_prob = result.predict(x_testc)\n",
    "y_prob.head()"
   ]
  },
  {
   "cell_type": "code",
   "execution_count": 14,
   "metadata": {},
   "outputs": [],
   "source": [
    "y_test_data = pd.DataFrame(y_test)\n",
    "y_test_data['prob'] = y_prob"
   ]
  },
  {
   "cell_type": "code",
   "execution_count": 15,
   "metadata": {},
   "outputs": [
    {
     "data": {
      "text/html": [
       "<div>\n",
       "<style scoped>\n",
       "    .dataframe tbody tr th:only-of-type {\n",
       "        vertical-align: middle;\n",
       "    }\n",
       "\n",
       "    .dataframe tbody tr th {\n",
       "        vertical-align: top;\n",
       "    }\n",
       "\n",
       "    .dataframe thead th {\n",
       "        text-align: right;\n",
       "    }\n",
       "</style>\n",
       "<table border=\"1\" class=\"dataframe\">\n",
       "  <thead>\n",
       "    <tr style=\"text-align: right;\">\n",
       "      <th></th>\n",
       "      <th>DEFAULT</th>\n",
       "      <th>prob</th>\n",
       "      <th>y_pred</th>\n",
       "    </tr>\n",
       "  </thead>\n",
       "  <tbody>\n",
       "    <tr>\n",
       "      <td>2308</td>\n",
       "      <td>0</td>\n",
       "      <td>0.232375</td>\n",
       "      <td>0</td>\n",
       "    </tr>\n",
       "    <tr>\n",
       "      <td>22404</td>\n",
       "      <td>0</td>\n",
       "      <td>0.161950</td>\n",
       "      <td>0</td>\n",
       "    </tr>\n",
       "    <tr>\n",
       "      <td>23397</td>\n",
       "      <td>0</td>\n",
       "      <td>0.215560</td>\n",
       "      <td>0</td>\n",
       "    </tr>\n",
       "    <tr>\n",
       "      <td>25058</td>\n",
       "      <td>0</td>\n",
       "      <td>0.223813</td>\n",
       "      <td>0</td>\n",
       "    </tr>\n",
       "    <tr>\n",
       "      <td>2664</td>\n",
       "      <td>1</td>\n",
       "      <td>0.180670</td>\n",
       "      <td>0</td>\n",
       "    </tr>\n",
       "  </tbody>\n",
       "</table>\n",
       "</div>"
      ],
      "text/plain": [
       "       DEFAULT      prob  y_pred\n",
       "2308         0  0.232375       0\n",
       "22404        0  0.161950       0\n",
       "23397        0  0.215560       0\n",
       "25058        0  0.223813       0\n",
       "2664         1  0.180670       0"
      ]
     },
     "execution_count": 15,
     "metadata": {},
     "output_type": "execute_result"
    }
   ],
   "source": [
    "y_test_data['y_pred'] = y_test_data['prob'].apply(lambda x:1 if x>=0.5 else 0)\n",
    "y_test_data.head()"
   ]
  },
  {
   "cell_type": "code",
   "execution_count": 16,
   "metadata": {},
   "outputs": [
    {
     "data": {
      "text/plain": [
       "array([[6824,  216],\n",
       "       [1501,  459]], dtype=int64)"
      ]
     },
     "execution_count": 16,
     "metadata": {},
     "output_type": "execute_result"
    }
   ],
   "source": [
    "cm = confusion_matrix(y_test_data['DEFAULT'],y_test_data['y_pred'])\n",
    "cm"
   ]
  },
  {
   "cell_type": "code",
   "execution_count": 17,
   "metadata": {},
   "outputs": [
    {
     "data": {
      "text/plain": [
       "<matplotlib.axes._subplots.AxesSubplot at 0x21877efccc8>"
      ]
     },
     "execution_count": 17,
     "metadata": {},
     "output_type": "execute_result"
    },
    {
     "data": {
      "image/png": "[encoded data removed]",
      "text/plain": [
       "<Figure size 432x288 with 2 Axes>"
      ]
     },
     "metadata": {
      "needs_background": "light"
     },
     "output_type": "display_data"
    }
   ],
   "source": [
    "cm = pd.DataFrame(data=cm,columns=['Predicted:0','Predicted:1'],index=['Actual:0','Actual:1'])\n",
    "sns.heatmap(cm,annot=True,fmt ='g')"
   ]
  },
  {
   "cell_type": "code",
   "execution_count": 18,
   "metadata": {},
   "outputs": [
    {
     "data": {
      "image/png": "[encoded data removed]",
      "text/plain": [
       "<Figure size 432x288 with 1 Axes>"
      ]
     },
     "metadata": {
      "needs_background": "light"
     },
     "output_type": "display_data"
    }
   ],
   "source": [
    "fpr,tpr,threshold = roc_curve(y_test_data['DEFAULT'],y_test_data['prob'])\n",
    "plt.plot(fpr,tpr,color='r')\n",
    "plt.plot(fpr,fpr,color='b')\n",
    "plt.show()"
   ]
  },
  {
   "cell_type": "code",
   "execution_count": 19,
   "metadata": {},
   "outputs": [
    {
     "data": {
      "text/plain": [
       "0.7246060412801484"
      ]
     },
     "execution_count": 19,
     "metadata": {},
     "output_type": "execute_result"
    }
   ],
   "source": [
    "roc_auc_score(y_test_data['DEFAULT'],y_test_data['prob'])"
   ]
  },
  {
   "cell_type": "code",
   "execution_count": 58,
   "metadata": {},
   "outputs": [],
   "source": [
    "from sklearn.metrics import cohen_kappa_score,matthews_corrcoef,accuracy_score,classification_report"
   ]
  },
  {
   "cell_type": "code",
   "execution_count": 21,
   "metadata": {},
   "outputs": [
    {
     "name": "stdout",
     "output_type": "stream",
     "text": [
      "Cohen's Kappa 0.2665527552328065\n",
      "Matthew's Correlation 0.3188884067750508\n",
      "              precision    recall  f1-score   support\n",
      "\n",
      "           0       0.82      0.97      0.89      7040\n",
      "           1       0.68      0.23      0.35      1960\n",
      "\n",
      "    accuracy                           0.81      9000\n",
      "   macro avg       0.75      0.60      0.62      9000\n",
      "weighted avg       0.79      0.81      0.77      9000\n",
      "\n",
      "0.8092222222222222\n"
     ]
    }
   ],
   "source": [
    "print(\"Cohen's Kappa\",cohen_kappa_score(y_test_data['DEFAULT'],y_test_data['y_pred']))\n",
    "print(\"Matthew's Correlation\",matthews_corrcoef(y_test_data['DEFAULT'],y_test_data['y_pred']))\n",
    "print(classification_report(y_test_data['DEFAULT'],y_test_data['y_pred']))\n",
    "print(accuracy_score(y_test_data['DEFAULT'],y_test_data['y_pred']))"
   ]
  },
  {
   "cell_type": "code",
   "execution_count": 61,
   "metadata": {},
   "outputs": [],
   "source": [
    "from sklearn.ensemble import RandomForestClassifier\n",
    "rf=RandomForestClassifier()"
   ]
  },
  {
   "cell_type": "code",
   "execution_count": 23,
   "metadata": {},
   "outputs": [],
   "source": [
    "x=df1.drop([\"DEFAULT\"],axis=1)\n",
    "y=df1[\"DEFAULT\"]"
   ]
  },
  {
   "cell_type": "code",
   "execution_count": 24,
   "metadata": {},
   "outputs": [],
   "source": [
    "xtrain,xtest,ytrain,ytest=train_test_split(x,y,test_size=0.3,random_state=1)"
   ]
  },
  {
   "cell_type": "code",
   "execution_count": 25,
   "metadata": {},
   "outputs": [],
   "source": [
    "modelrf=rf.fit(xtrain,ytrain)\n",
    "ypred=modelrf.predict(xtest)"
   ]
  },
  {
   "cell_type": "code",
   "execution_count": 26,
   "metadata": {},
   "outputs": [
    {
     "data": {
      "text/plain": [
       "array([[6595,  405],\n",
       "       [1275,  725]], dtype=int64)"
      ]
     },
     "execution_count": 26,
     "metadata": {},
     "output_type": "execute_result"
    }
   ],
   "source": [
    "confusion_matrix(ytest,ypred)"
   ]
  },
  {
   "cell_type": "code",
   "execution_count": 27,
   "metadata": {},
   "outputs": [
    {
     "name": "stdout",
     "output_type": "stream",
     "text": [
      "              precision    recall  f1-score   support\n",
      "\n",
      "           0       0.84      0.94      0.89      7000\n",
      "           1       0.64      0.36      0.46      2000\n",
      "\n",
      "    accuracy                           0.81      9000\n",
      "   macro avg       0.74      0.65      0.68      9000\n",
      "weighted avg       0.79      0.81      0.79      9000\n",
      "\n"
     ]
    }
   ],
   "source": [
    "print(classification_report(ytest,ypred))"
   ]
  },
  {
   "cell_type": "code",
   "execution_count": 28,
   "metadata": {},
   "outputs": [
    {
     "name": "stdout",
     "output_type": "stream",
     "text": [
      "Cohen's Kappa 0.360676532769556\n",
      "Matthew's Correlation 0.3822332206376694\n",
      "0.8133333333333334\n"
     ]
    }
   ],
   "source": [
    "print(\"Cohen's Kappa\",cohen_kappa_score(ytest,ypred))\n",
    "print(\"Matthew's Correlation\",matthews_corrcoef(ytest,ypred))\n",
    "print(accuracy_score(ytest,ypred))"
   ]
  },
  {
   "cell_type": "code",
   "execution_count": 29,
   "metadata": {},
   "outputs": [],
   "source": [
    "from sklearn.linear_model import LogisticRegression\n",
    "lr=LogisticRegression(class_weight={1:70,0:30})"
   ]
  },
  {
   "cell_type": "code",
   "execution_count": 30,
   "metadata": {},
   "outputs": [],
   "source": [
    "modellr=lr.fit(xtrain,ytrain)\n",
    "ypredlr=modellr.predict(xtest)"
   ]
  },
  {
   "cell_type": "code",
   "execution_count": 31,
   "metadata": {},
   "outputs": [
    {
     "data": {
      "text/plain": [
       "array([[6897,  103],\n",
       "       [1909,   91]], dtype=int64)"
      ]
     },
     "execution_count": 31,
     "metadata": {},
     "output_type": "execute_result"
    }
   ],
   "source": [
    "confusion_matrix(ytest,ypredlr)"
   ]
  },
  {
   "cell_type": "code",
   "execution_count": 32,
   "metadata": {},
   "outputs": [
    {
     "name": "stdout",
     "output_type": "stream",
     "text": [
      "              precision    recall  f1-score   support\n",
      "\n",
      "           0       0.78      0.99      0.87      7000\n",
      "           1       0.47      0.05      0.08      2000\n",
      "\n",
      "    accuracy                           0.78      9000\n",
      "   macro avg       0.63      0.52      0.48      9000\n",
      "weighted avg       0.71      0.78      0.70      9000\n",
      "\n"
     ]
    }
   ],
   "source": [
    "print(classification_report(ytest,ypredlr))"
   ]
  },
  {
   "cell_type": "code",
   "execution_count": 33,
   "metadata": {},
   "outputs": [
    {
     "name": "stdout",
     "output_type": "stream",
     "text": [
      "Cohen's Kappa 0.045440168687401195\n",
      "Matthew's Correlation 0.08812985321759548\n",
      "0.7764444444444445\n"
     ]
    }
   ],
   "source": [
    "print(\"Cohen's Kappa\",cohen_kappa_score(ytest,ypredlr))\n",
    "print(\"Matthew's Correlation\",matthews_corrcoef(ytest,ypredlr))\n",
    "print(accuracy_score(ytest,ypredlr))"
   ]
  },
  {
   "cell_type": "code",
   "execution_count": 34,
   "metadata": {},
   "outputs": [],
   "source": [
    "from sklearn.naive_bayes import GaussianNB\n",
    "nb=GaussianNB()"
   ]
  },
  {
   "cell_type": "code",
   "execution_count": 35,
   "metadata": {},
   "outputs": [],
   "source": [
    "modelnb=nb.fit(xtrain,ytrain)\n",
    "yprednb=modelnb.predict(xtest)"
   ]
  },
  {
   "cell_type": "code",
   "execution_count": 36,
   "metadata": {},
   "outputs": [
    {
     "name": "stdout",
     "output_type": "stream",
     "text": [
      "              precision    recall  f1-score   support\n",
      "\n",
      "           0       0.88      0.23      0.36      7000\n",
      "           1       0.25      0.90      0.39      2000\n",
      "\n",
      "    accuracy                           0.38      9000\n",
      "   macro avg       0.57      0.56      0.38      9000\n",
      "weighted avg       0.74      0.38      0.37      9000\n",
      "\n"
     ]
    }
   ],
   "source": [
    "print(classification_report(ytest,yprednb))"
   ]
  },
  {
   "cell_type": "code",
   "execution_count": 37,
   "metadata": {},
   "outputs": [
    {
     "name": "stdout",
     "output_type": "stream",
     "text": [
      "Cohen's Kappa 0.06445392175041731\n",
      "Matthew's Correlation 0.12865406310104469\n",
      "0.3771111111111111\n"
     ]
    }
   ],
   "source": [
    "print(\"Cohen's Kappa\",cohen_kappa_score(ytest,yprednb))\n",
    "print(\"Matthew's Correlation\",matthews_corrcoef(ytest,yprednb))\n",
    "print(accuracy_score(ytest,yprednb))"
   ]
  },
  {
   "cell_type": "code",
   "execution_count": 38,
   "metadata": {},
   "outputs": [],
   "source": [
    "sc=StandardScaler()"
   ]
  },
  {
   "cell_type": "code",
   "execution_count": 39,
   "metadata": {},
   "outputs": [],
   "source": [
    "scaled_train=pd.DataFrame(sc.fit_transform(xtrain),columns=xtrain.columns)\n",
    "scaled_test=pd.DataFrame(sc.fit_transform(xtest),columns=xtest.columns)"
   ]
  },
  {
   "cell_type": "code",
   "execution_count": 40,
   "metadata": {},
   "outputs": [],
   "source": [
    "from sklearn.neighbors import KNeighborsClassifier\n",
    "knn=KNeighborsClassifier()"
   ]
  },
  {
   "cell_type": "code",
   "execution_count": 41,
   "metadata": {},
   "outputs": [],
   "source": [
    "modelknn=knn.fit(scaled_train,ytrain)\n",
    "ypredknn=modelknn.predict(scaled_test)"
   ]
  },
  {
   "cell_type": "code",
   "execution_count": 42,
   "metadata": {},
   "outputs": [
    {
     "name": "stdout",
     "output_type": "stream",
     "text": [
      "              precision    recall  f1-score   support\n",
      "\n",
      "           0       0.83      0.92      0.87      7000\n",
      "           1       0.55      0.35      0.43      2000\n",
      "\n",
      "    accuracy                           0.79      9000\n",
      "   macro avg       0.69      0.63      0.65      9000\n",
      "weighted avg       0.77      0.79      0.77      9000\n",
      "\n"
     ]
    }
   ],
   "source": [
    "print(classification_report(ytest,ypredknn))"
   ]
  },
  {
   "cell_type": "code",
   "execution_count": 43,
   "metadata": {},
   "outputs": [
    {
     "name": "stdout",
     "output_type": "stream",
     "text": [
      "Cohen's Kappa 0.30740664328450584\n",
      "Matthew's Correlation 0.3201799559396239\n",
      "0.7927777777777778\n"
     ]
    }
   ],
   "source": [
    "print(\"Cohen's Kappa\",cohen_kappa_score(ytest,ypredknn))\n",
    "print(\"Matthew's Correlation\",matthews_corrcoef(ytest,ypredknn))\n",
    "print(accuracy_score(ytest,ypredknn))"
   ]
  },
  {
   "cell_type": "code",
   "execution_count": 44,
   "metadata": {},
   "outputs": [],
   "source": [
    "from sklearn.neighbors import KNeighborsClassifier\n",
    "from sklearn.naive_bayes import GaussianNB\n",
    "from sklearn.ensemble import RandomForestClassifier\n",
    "from sklearn.tree import DecisionTreeClassifier\n",
    "from sklearn.ensemble import AdaBoostClassifier\n",
    "from sklearn.ensemble import BaggingClassifier\n",
    "from sklearn.ensemble import GradientBoostingClassifier\n",
    "from sklearn.ensemble import ExtraTreesClassifier\n",
    "from sklearn import model_selection"
   ]
  },
  {
   "cell_type": "code",
   "execution_count": 45,
   "metadata": {},
   "outputs": [],
   "source": [
    "models = []\n",
    "models.append(('KNN', KNeighborsClassifier()))\n",
    "models.append(('NB', GaussianNB()))\n",
    "models.append(('RFC', RandomForestClassifier()))\n",
    "models.append(('DTR', DecisionTreeClassifier()))\n",
    "models.append(('ADB', AdaBoostClassifier()))\n",
    "models.append(('GBM', GradientBoostingClassifier()))"
   ]
  },
  {
   "cell_type": "code",
   "execution_count": 47,
   "metadata": {},
   "outputs": [
    {
     "name": "stdout",
     "output_type": "stream",
     "text": [
      "KNN Result mean : 0.755 Std Deviation : 0.015\n",
      "NB Result mean : 0.378 Std Deviation : 0.009\n",
      "RFC Result mean : 0.818 Std Deviation : 0.013\n",
      "DTR Result mean : 0.726 Std Deviation : 0.016\n",
      "ADB Result mean : 0.816 Std Deviation : 0.013\n",
      "GBM Result mean : 0.821 Std Deviation : 0.015\n"
     ]
    }
   ],
   "source": [
    "X=x\n",
    "Y=y\n",
    "results=[]\n",
    "names=[]\n",
    "for name,model in models:\n",
    "    kfold=model_selection.KFold(n_splits=10,random_state=1)\n",
    "    cv_results=model_selection.cross_val_score(model,X,Y,cv=kfold,scoring=\"recall_weighted\")\n",
    "    results.append(cv_results)\n",
    "    names.append(name)\n",
    "    print(name,\"Result mean :\",round(cv_results.mean(),3),\"Std Deviation :\",round(cv_results.std(),3))"
   ]
  },
  {
   "cell_type": "code",
   "execution_count": 48,
   "metadata": {},
   "outputs": [
    {
     "name": "stdout",
     "output_type": "stream",
     "text": [
      "KNN Bias Error : 0.281 Variance Error : 0.017\n",
      "NB Bias Error : 0.627 Variance Error : 0.015\n",
      "RFC Bias Error : 0.20199999999999996 Variance Error : 0.013\n",
      "DTR Bias Error : 0.272 Variance Error : 0.013\n",
      "ADB Bias Error : 0.21099999999999997 Variance Error : 0.014\n",
      "GBM Bias Error : 0.19999999999999996 Variance Error : 0.016\n"
     ]
    }
   ],
   "source": [
    "X=x\n",
    "Y=y\n",
    "results=[]\n",
    "names=[]\n",
    "for name,model in models:\n",
    "    kfold=model_selection.KFold(n_splits=10,random_state=1)\n",
    "    cv_results=model_selection.cross_val_score(model,X,Y,cv=kfold,scoring=\"f1_weighted\")\n",
    "    results.append(cv_results)\n",
    "    names.append(name)\n",
    "    print(name,\"Bias Error :\",1-round(cv_results.mean(),3),\"Variance Error :\",round(cv_results.std(),3))"
   ]
  },
  {
   "cell_type": "code",
   "execution_count": 49,
   "metadata": {},
   "outputs": [
    {
     "data": {
      "image/png": "[encoded data removed]",
      "text/plain": [
       "<Figure size 432x288 with 1 Axes>"
      ]
     },
     "metadata": {
      "needs_background": "light"
     },
     "output_type": "display_data"
    }
   ],
   "source": [
    "fig = plt.figure()\n",
    "fig.suptitle('Algorithm Comparison')\n",
    "ax = fig.add_subplot(111)\n",
    "plt.boxplot(results)\n",
    "ax.set_xticklabels(names)\n",
    "plt.show()"
   ]
  },
  {
   "cell_type": "code",
   "execution_count": 51,
   "metadata": {},
   "outputs": [],
   "source": [
    "gbm=GradientBoostingClassifier(criterion='friedman_mse',init=None, learning_rate=0.1,loss='deviance', max_depth=8,max_features='sqrt'\n",
    "                               ,max_leaf_nodes=None,min_impurity_decrease=0.0,min_impurity_split=None,min_samples_leaf=50\n",
    "                               ,min_samples_split=500,min_weight_fraction_leaf=0.0,n_estimators=20,n_iter_no_change=None\n",
    "                               ,presort='auto',\n",
    "                            random_state=10,\n",
    "                                                  subsample=0.8, tol=0.0001,\n",
    "                                                  validation_fraction=0.1,\n",
    "                                                  verbose=0, warm_start=False)"
   ]
  },
  {
   "cell_type": "code",
   "execution_count": 52,
   "metadata": {},
   "outputs": [],
   "source": [
    "modelgbm=gbm.fit(xtrain,ytrain)"
   ]
  },
  {
   "cell_type": "code",
   "execution_count": 53,
   "metadata": {},
   "outputs": [],
   "source": [
    "ypredgbm=modelgbm.predict(xtest)"
   ]
  },
  {
   "cell_type": "code",
   "execution_count": 54,
   "metadata": {},
   "outputs": [
    {
     "name": "stdout",
     "output_type": "stream",
     "text": [
      "              precision    recall  f1-score   support\n",
      "\n",
      "           0       0.83      0.96      0.89      7000\n",
      "           1       0.68      0.32      0.44      2000\n",
      "\n",
      "    accuracy                           0.82      9000\n",
      "   macro avg       0.76      0.64      0.66      9000\n",
      "weighted avg       0.80      0.82      0.79      9000\n",
      "\n"
     ]
    }
   ],
   "source": [
    "print(classification_report(ytest,ypredgbm))"
   ]
  },
  {
   "cell_type": "code",
   "execution_count": 55,
   "metadata": {},
   "outputs": [
    {
     "name": "stdout",
     "output_type": "stream",
     "text": [
      "Cohen's Kappa 0.3442659035879374\n",
      "Matthew's Correlation 0.37911433951120177\n",
      "0.8161111111111111\n"
     ]
    }
   ],
   "source": [
    "print(\"Cohen's Kappa\",cohen_kappa_score(ytest,ypredgbm))\n",
    "print(\"Matthew's Correlation\",matthews_corrcoef(ytest,ypredgbm))\n",
    "print(accuracy_score(ytest,ypredgbm))"
   ]
  },
  {
   "cell_type": "code",
   "execution_count": 56,
   "metadata": {},
   "outputs": [
    {
     "data": {
      "text/plain": [
       "GridSearchCV(cv=5, error_score=nan,\n",
       "             estimator=GradientBoostingClassifier(ccp_alpha=0.0,\n",
       "                                                  criterion='friedman_mse',\n",
       "                                                  init=None, learning_rate=0.1,\n",
       "                                                  loss='deviance', max_depth=8,\n",
       "                                                  max_features='sqrt',\n",
       "                                                  max_leaf_nodes=None,\n",
       "                                                  min_impurity_decrease=0.0,\n",
       "                                                  min_impurity_split=None,\n",
       "                                                  min_samples_leaf=50,\n",
       "                                                  min_samples_split=500,\n",
       "                                                  min_weight_fraction_leaf=0.0,\n",
       "                                                  n_estimators=100,\n",
       "                                                  n_iter_no_change=None,\n",
       "                                                  presort='deprecated',\n",
       "                                                  random_state=10,\n",
       "                                                  subsample=0.8, tol=0.0001,\n",
       "                                                  validation_fraction=0.1,\n",
       "                                                  verbose=0, warm_start=False),\n",
       "             iid=False, n_jobs=4,\n",
       "             param_grid={'n_estimators': range(20, 81, 10)},\n",
       "             pre_dispatch='2*n_jobs', refit=True, return_train_score=False,\n",
       "             scoring='f1_weighted', verbose=0)"
      ]
     },
     "execution_count": 56,
     "metadata": {},
     "output_type": "execute_result"
    }
   ],
   "source": [
    "param_test1 = {'n_estimators':range(20,81,10)}\n",
    "gsearch1 = GridSearchCV(estimator = GradientBoostingClassifier(learning_rate=0.1, min_samples_split=500,min_samples_leaf=50,max_depth=8,max_features='sqrt',subsample=0.8,random_state=10), \n",
    "param_grid = param_test1, scoring='f1_weighted',n_jobs=4,iid=False, cv=5)\n",
    "gsearch1.fit(xtrain,ytrain)"
   ]
  },
  {
   "cell_type": "code",
   "execution_count": 57,
   "metadata": {},
   "outputs": [
    {
     "data": {
      "text/plain": [
       "{'n_estimators': 40}"
      ]
     },
     "execution_count": 57,
     "metadata": {},
     "output_type": "execute_result"
    }
   ],
   "source": [
    "gsearch1.best_params_"
   ]
  },
  {
   "cell_type": "code",
   "execution_count": 58,
   "metadata": {},
   "outputs": [
    {
     "data": {
      "text/plain": [
       "0.8011496916562836"
      ]
     },
     "execution_count": 58,
     "metadata": {},
     "output_type": "execute_result"
    }
   ],
   "source": [
    "gsearch1.best_score_"
   ]
  },
  {
   "cell_type": "code",
   "execution_count": 59,
   "metadata": {},
   "outputs": [
    {
     "data": {
      "text/plain": [
       "dict_keys(['explained_variance', 'r2', 'max_error', 'neg_median_absolute_error', 'neg_mean_absolute_error', 'neg_mean_squared_error', 'neg_mean_squared_log_error', 'neg_root_mean_squared_error', 'neg_mean_poisson_deviance', 'neg_mean_gamma_deviance', 'accuracy', 'roc_auc', 'roc_auc_ovr', 'roc_auc_ovo', 'roc_auc_ovr_weighted', 'roc_auc_ovo_weighted', 'balanced_accuracy', 'average_precision', 'neg_log_loss', 'neg_brier_score', 'adjusted_rand_score', 'homogeneity_score', 'completeness_score', 'v_measure_score', 'mutual_info_score', 'adjusted_mutual_info_score', 'normalized_mutual_info_score', 'fowlkes_mallows_score', 'precision', 'precision_macro', 'precision_micro', 'precision_samples', 'precision_weighted', 'recall', 'recall_macro', 'recall_micro', 'recall_samples', 'recall_weighted', 'f1', 'f1_macro', 'f1_micro', 'f1_samples', 'f1_weighted', 'jaccard', 'jaccard_macro', 'jaccard_micro', 'jaccard_samples', 'jaccard_weighted'])"
      ]
     },
     "execution_count": 59,
     "metadata": {},
     "output_type": "execute_result"
    }
   ],
   "source": [
    "sklearn.metrics.SCORERS.keys()"
   ]
  },
  {
   "cell_type": "code",
   "execution_count": null,
   "metadata": {},
   "outputs": [],
   "source": []
  },
  {
   "cell_type": "code",
   "execution_count": null,
   "metadata": {},
   "outputs": [],
   "source": []
  },
  {
   "cell_type": "code",
   "execution_count": 60,
   "metadata": {},
   "outputs": [],
   "source": [
    "### RFE"
   ]
  },
  {
   "cell_type": "code",
   "execution_count": 61,
   "metadata": {},
   "outputs": [],
   "source": [
    "x = df1.drop('DEFAULT',axis=1)\n",
    "y = df1['DEFAULT']"
   ]
  },
  {
   "cell_type": "code",
   "execution_count": 62,
   "metadata": {},
   "outputs": [],
   "source": [
    "xtrain,xtest,ytrain,ytest=train_test_split(x,y,test_size=0.2,random_state=1)"
   ]
  },
  {
   "cell_type": "code",
   "execution_count": 99,
   "metadata": {},
   "outputs": [],
   "source": [
    "from sklearn.feature_selection import RFECV #rfe\n",
    "from sklearn.model_selection import StratifiedKFold #kfold\n",
    "from sklearn.ensemble import RandomForestClassifier #estimator\n",
    "import warnings\n",
    "warnings.filterwarnings(\"ignore\")"
   ]
  },
  {
   "cell_type": "code",
   "execution_count": 64,
   "metadata": {},
   "outputs": [],
   "source": [
    "rf=RandomForestClassifier()"
   ]
  },
  {
   "cell_type": "code",
   "execution_count": 65,
   "metadata": {},
   "outputs": [],
   "source": [
    "rfecv=RFECV(estimator=rf,step=1,cv=StratifiedKFold(10,random_state=0),scoring=\"f1_weighted\")"
   ]
  },
  {
   "cell_type": "code",
   "execution_count": 67,
   "metadata": {},
   "outputs": [],
   "source": [
    "#rfecv.fit(xtrain,ytrain)"
   ]
  },
  {
   "cell_type": "code",
   "execution_count": 330,
   "metadata": {},
   "outputs": [
    {
     "name": "stdout",
     "output_type": "stream",
     "text": [
      "Optimal Feature Count 14\n"
     ]
    }
   ],
   "source": [
    "print(\"Optimal Feature Count {}\".format(rfecv.n_features_))"
   ]
  },
  {
   "cell_type": "code",
   "execution_count": 331,
   "metadata": {},
   "outputs": [
    {
     "data": {
      "image/png": "[encoded data removed]",
      "text/plain": [
       "<Figure size 720x360 with 1 Axes>"
      ]
     },
     "metadata": {
      "needs_background": "light"
     },
     "output_type": "display_data"
    }
   ],
   "source": [
    "plt.figure(figsize=(10,5))\n",
    "plt.title(\"RFE with CV\",fontsize=13,pad=20)\n",
    "plt.xlabel(\"No. of features selected\",fontsize=13,labelpad=10)\n",
    "plt.ylabel(\"% Correct Classifications\",fontsize=13,labelpad=10)\n",
    "plt.plot(range(1,len(rfecv.grid_scores_)+1),rfecv.grid_scores_,color=\"red\",linewidth=1.5)\n",
    "plt.grid(True)\n",
    "plt.show()"
   ]
  },
  {
   "cell_type": "code",
   "execution_count": 332,
   "metadata": {},
   "outputs": [
    {
     "name": "stdout",
     "output_type": "stream",
     "text": [
      "[ 9 14 15 16]\n"
     ]
    }
   ],
   "source": [
    "print(np.where(rfecv.support_==False)[0])"
   ]
  },
  {
   "cell_type": "code",
   "execution_count": 333,
   "metadata": {},
   "outputs": [
    {
     "data": {
      "text/plain": [
       "Index([9, 14, 15, 16], dtype='object')"
      ]
     },
     "execution_count": 333,
     "metadata": {},
     "output_type": "execute_result"
    }
   ],
   "source": [
    "x.iloc[:,np.where(rfecv.support_==False)[0]].columns"
   ]
  },
  {
   "cell_type": "code",
   "execution_count": 68,
   "metadata": {},
   "outputs": [],
   "source": [
    "xtrain1=xtrain.drop(['PAY_3', 'PAY_4', 'PAY_5', 'PAY_6', 'SEX_Male', 'EDUCATION_HighSchool',\n",
    "       'EDUCATION_Others', 'EDUCATION_University', 'MARRIAGE_Others',\n",
    "       'MARRIAGE_Single'],axis=1)\n",
    "\n",
    "xtest1=xtest.drop(['PAY_3', 'PAY_4', 'PAY_5', 'PAY_6', 'SEX_Male', 'EDUCATION_HighSchool',\n",
    "       'EDUCATION_Others', 'EDUCATION_University', 'MARRIAGE_Others',\n",
    "       'MARRIAGE_Single'],axis=1)"
   ]
  },
  {
   "cell_type": "code",
   "execution_count": 69,
   "metadata": {},
   "outputs": [],
   "source": [
    "model=rf.fit(xtrain1,ytrain)\n",
    "ypred=model.predict(xtest1)"
   ]
  },
  {
   "cell_type": "code",
   "execution_count": 70,
   "metadata": {},
   "outputs": [
    {
     "data": {
      "text/plain": [
       "array([[4422,  241],\n",
       "       [ 862,  475]], dtype=int64)"
      ]
     },
     "execution_count": 70,
     "metadata": {},
     "output_type": "execute_result"
    }
   ],
   "source": [
    "cm = confusion_matrix(ytest,ypred)\n",
    "cm"
   ]
  },
  {
   "cell_type": "code",
   "execution_count": 71,
   "metadata": {},
   "outputs": [
    {
     "data": {
      "image/png": "[encoded data removed]",
      "text/plain": [
       "<Figure size 720x360 with 2 Axes>"
      ]
     },
     "metadata": {
      "needs_background": "light"
     },
     "output_type": "display_data"
    }
   ],
   "source": [
    "plt.figure(figsize=(10,5))\n",
    "cm = pd.DataFrame(data=cm,columns=['Predicted:0','Predicted:1'],index=['Actual:0','Actual:1'])\n",
    "sns.heatmap(cm,annot=True,fmt ='g')\n",
    "plt.show()"
   ]
  },
  {
   "cell_type": "code",
   "execution_count": 72,
   "metadata": {},
   "outputs": [
    {
     "data": {
      "image/png": "[encoded data removed]",
      "text/plain": [
       "<Figure size 720x360 with 1 Axes>"
      ]
     },
     "metadata": {
      "needs_background": "light"
     },
     "output_type": "display_data"
    }
   ],
   "source": [
    "plt.figure(figsize=(10,5))\n",
    "fpr,tpr,threshold = roc_curve(ytest,ypred)\n",
    "plt.plot(fpr,tpr,color='red')\n",
    "plt.plot(fpr,fpr,color='black')\n",
    "plt.show()"
   ]
  },
  {
   "cell_type": "code",
   "execution_count": 73,
   "metadata": {},
   "outputs": [
    {
     "data": {
      "text/plain": [
       "0.6517947668359791"
      ]
     },
     "execution_count": 73,
     "metadata": {},
     "output_type": "execute_result"
    }
   ],
   "source": [
    "roc_auc_score(ytest,ypred)"
   ]
  },
  {
   "cell_type": "code",
   "execution_count": 74,
   "metadata": {},
   "outputs": [
    {
     "name": "stdout",
     "output_type": "stream",
     "text": [
      "Cohen's Kappa 0.363862792759609\n",
      "Matthew's Correlation 0.38971515150513136\n",
      "              precision    recall  f1-score   support\n",
      "\n",
      "           0       0.84      0.95      0.89      4663\n",
      "           1       0.66      0.36      0.46      1337\n",
      "\n",
      "    accuracy                           0.82      6000\n",
      "   macro avg       0.75      0.65      0.68      6000\n",
      "weighted avg       0.80      0.82      0.79      6000\n",
      "\n"
     ]
    }
   ],
   "source": [
    "print(\"Cohen's Kappa\",cohen_kappa_score(ytest,ypred))\n",
    "print(\"Matthew's Correlation\",matthews_corrcoef(ytest,ypred))\n",
    "print(classification_report(ytest,ypred))"
   ]
  },
  {
   "cell_type": "code",
   "execution_count": 75,
   "metadata": {},
   "outputs": [
    {
     "name": "stdout",
     "output_type": "stream",
     "text": [
      "Bias Error in Random Forest after RFECV 0.20319739390008018\n",
      "Variance Error in Random Forest after RFECV 8.958123579244356e-05\n"
     ]
    }
   ],
   "source": [
    "kfolds=model_selection.KFold(n_splits=10,random_state=1)\n",
    "r_scores=cross_val_score(rf, xtrain, ytrain, cv=kfolds, scoring='f1_weighted')\n",
    "print('Bias Error in Random Forest after RFECV',1-r_scores.mean())\n",
    "print('Variance Error in Random Forest after RFECV',r_scores.var())"
   ]
  },
  {
   "cell_type": "code",
   "execution_count": 76,
   "metadata": {},
   "outputs": [],
   "source": [
    "### RFE - LR"
   ]
  },
  {
   "cell_type": "code",
   "execution_count": 77,
   "metadata": {},
   "outputs": [],
   "source": [
    "x = df1.drop('DEFAULT',axis=1)\n",
    "y = df1['DEFAULT']"
   ]
  },
  {
   "cell_type": "code",
   "execution_count": 78,
   "metadata": {},
   "outputs": [],
   "source": [
    "xtrain,xtest,ytrain,ytest=train_test_split(x,y,test_size=0.2,random_state=1)"
   ]
  },
  {
   "cell_type": "code",
   "execution_count": 79,
   "metadata": {},
   "outputs": [],
   "source": [
    "from sklearn.feature_selection import RFECV #rfe\n",
    "from sklearn.model_selection import StratifiedKFold #kfold\n",
    "from sklearn.ensemble import RandomForestClassifier #estimator\n",
    "import warnings\n",
    "warnings.filterwarnings(\"ignore\")"
   ]
  },
  {
   "cell_type": "code",
   "execution_count": 80,
   "metadata": {},
   "outputs": [],
   "source": [
    "lr=LogisticRegression()"
   ]
  },
  {
   "cell_type": "code",
   "execution_count": 81,
   "metadata": {},
   "outputs": [],
   "source": [
    "rfecv=RFECV(estimator=lr,step=1,cv=StratifiedKFold(10,random_state=0),scoring=\"f1_weighted\")"
   ]
  },
  {
   "cell_type": "code",
   "execution_count": 82,
   "metadata": {},
   "outputs": [
    {
     "data": {
      "text/plain": [
       "RFECV(cv=StratifiedKFold(n_splits=10, random_state=0, shuffle=False),\n",
       "      estimator=LogisticRegression(C=1.0, class_weight=None, dual=False,\n",
       "                                   fit_intercept=True, intercept_scaling=1,\n",
       "                                   l1_ratio=None, max_iter=100,\n",
       "                                   multi_class='auto', n_jobs=None,\n",
       "                                   penalty='l2', random_state=None,\n",
       "                                   solver='lbfgs', tol=0.0001, verbose=0,\n",
       "                                   warm_start=False),\n",
       "      min_features_to_select=1, n_jobs=None, scoring='f1_weighted', step=1,\n",
       "      verbose=0)"
      ]
     },
     "execution_count": 82,
     "metadata": {},
     "output_type": "execute_result"
    }
   ],
   "source": [
    "rfecv.fit(xtrain,ytrain)"
   ]
  },
  {
   "cell_type": "code",
   "execution_count": 83,
   "metadata": {},
   "outputs": [
    {
     "name": "stdout",
     "output_type": "stream",
     "text": [
      "Optimal Feature Count 1\n"
     ]
    }
   ],
   "source": [
    "print(\"Optimal Feature Count {}\".format(rfecv.n_features_))"
   ]
  },
  {
   "cell_type": "code",
   "execution_count": 84,
   "metadata": {},
   "outputs": [
    {
     "data": {
      "image/png": "[encoded data removed]",
      "text/plain": [
       "<Figure size 720x360 with 1 Axes>"
      ]
     },
     "metadata": {
      "needs_background": "light"
     },
     "output_type": "display_data"
    }
   ],
   "source": [
    "plt.figure(figsize=(10,5))\n",
    "plt.title(\"RFE with CV\",fontsize=13,pad=20)\n",
    "plt.xlabel(\"No. of features selected\",fontsize=13,labelpad=10)\n",
    "plt.ylabel(\"% Correct Classifications\",fontsize=13,labelpad=10)\n",
    "plt.plot(range(1,len(rfecv.grid_scores_)+1),rfecv.grid_scores_,color=\"red\",linewidth=1.5)\n",
    "plt.grid(True)\n",
    "plt.show()"
   ]
  },
  {
   "cell_type": "code",
   "execution_count": 85,
   "metadata": {},
   "outputs": [
    {
     "name": "stdout",
     "output_type": "stream",
     "text": [
      "[ 0  1  3  4  5  6  7  8  9 10 11 12 13 14 15 16 17 18 19 20 21 22 23 24\n",
      " 25]\n"
     ]
    }
   ],
   "source": [
    "print(np.where(rfecv.support_==False)[0])"
   ]
  },
  {
   "cell_type": "code",
   "execution_count": 86,
   "metadata": {},
   "outputs": [
    {
     "data": {
      "text/plain": [
       "Index(['LIMIT_BAL', 'AGE', 'PAY_2', 'PAY_3', 'PAY_4', 'PAY_5', 'PAY_6',\n",
       "       'BILL_AMT1', 'BILL_AMT2', 'BILL_AMT3', 'BILL_AMT4', 'BILL_AMT5',\n",
       "       'BILL_AMT6', 'PAY_AMT1', 'PAY_AMT2', 'PAY_AMT3', 'PAY_AMT4', 'PAY_AMT5',\n",
       "       'PAY_AMT6', 'SEX_Male', 'EDUCATION_HighSchool', 'EDUCATION_Others',\n",
       "       'EDUCATION_University', 'MARRIAGE_Others', 'MARRIAGE_Single'],\n",
       "      dtype='object')"
      ]
     },
     "execution_count": 86,
     "metadata": {},
     "output_type": "execute_result"
    }
   ],
   "source": [
    "x.iloc[:,np.where(rfecv.support_==False)[0]].columns"
   ]
  },
  {
   "cell_type": "code",
   "execution_count": 87,
   "metadata": {},
   "outputs": [],
   "source": [
    "xtrain1=xtrain.drop(['LIMIT_BAL', 'AGE', 'PAY_2', 'PAY_3', 'PAY_4', 'PAY_5', 'PAY_6',\n",
    "       'BILL_AMT1', 'BILL_AMT2', 'BILL_AMT3', 'BILL_AMT4', 'BILL_AMT5',\n",
    "       'BILL_AMT6', 'PAY_AMT1', 'PAY_AMT2', 'PAY_AMT3', 'PAY_AMT4', 'PAY_AMT5',\n",
    "       'PAY_AMT6', 'SEX_Male', 'EDUCATION_HighSchool', 'EDUCATION_University',\n",
    "       'MARRIAGE_Others', 'MARRIAGE_Single'],axis=1)\n",
    "\n",
    "xtest1=xtest.drop(['LIMIT_BAL', 'AGE', 'PAY_2', 'PAY_3', 'PAY_4', 'PAY_5', 'PAY_6',\n",
    "       'BILL_AMT1', 'BILL_AMT2', 'BILL_AMT3', 'BILL_AMT4', 'BILL_AMT5',\n",
    "       'BILL_AMT6', 'PAY_AMT1', 'PAY_AMT2', 'PAY_AMT3', 'PAY_AMT4', 'PAY_AMT5',\n",
    "       'PAY_AMT6', 'SEX_Male', 'EDUCATION_HighSchool', 'EDUCATION_University',\n",
    "       'MARRIAGE_Others', 'MARRIAGE_Single'],axis=1)"
   ]
  },
  {
   "cell_type": "code",
   "execution_count": 88,
   "metadata": {},
   "outputs": [
    {
     "data": {
      "text/plain": [
       "Index(['LIMIT_BAL', 'AGE', 'PAY_1', 'PAY_2', 'PAY_3', 'PAY_4', 'PAY_5',\n",
       "       'PAY_6', 'BILL_AMT1', 'BILL_AMT2', 'BILL_AMT3', 'BILL_AMT4',\n",
       "       'BILL_AMT5', 'BILL_AMT6', 'PAY_AMT1', 'PAY_AMT2', 'PAY_AMT3',\n",
       "       'PAY_AMT4', 'PAY_AMT5', 'PAY_AMT6', 'DEFAULT', 'SEX_Male',\n",
       "       'EDUCATION_HighSchool', 'EDUCATION_Others', 'EDUCATION_University',\n",
       "       'MARRIAGE_Others', 'MARRIAGE_Single'],\n",
       "      dtype='object')"
      ]
     },
     "execution_count": 88,
     "metadata": {},
     "output_type": "execute_result"
    }
   ],
   "source": [
    "df1.columns"
   ]
  },
  {
   "cell_type": "code",
   "execution_count": 89,
   "metadata": {},
   "outputs": [],
   "source": [
    "model=lr.fit(xtrain1,ytrain)\n",
    "ypred=model.predict(xtest1)"
   ]
  },
  {
   "cell_type": "code",
   "execution_count": 90,
   "metadata": {},
   "outputs": [
    {
     "data": {
      "text/plain": [
       "array([[4496,  167],\n",
       "       [ 921,  416]], dtype=int64)"
      ]
     },
     "execution_count": 90,
     "metadata": {},
     "output_type": "execute_result"
    }
   ],
   "source": [
    "cm = confusion_matrix(ytest,ypred)\n",
    "cm"
   ]
  },
  {
   "cell_type": "code",
   "execution_count": 91,
   "metadata": {},
   "outputs": [
    {
     "data": {
      "image/png": "[encoded data removed]",
      "text/plain": [
       "<Figure size 720x360 with 2 Axes>"
      ]
     },
     "metadata": {
      "needs_background": "light"
     },
     "output_type": "display_data"
    }
   ],
   "source": [
    "plt.figure(figsize=(10,5))\n",
    "cm = pd.DataFrame(data=cm,columns=['Predicted:0','Predicted:1'],index=['Actual:0','Actual:1'])\n",
    "sns.heatmap(cm,annot=True,fmt ='g')\n",
    "plt.show()"
   ]
  },
  {
   "cell_type": "code",
   "execution_count": 92,
   "metadata": {},
   "outputs": [
    {
     "data": {
      "image/png": "[encoded data removed]",
      "text/plain": [
       "<Figure size 720x360 with 1 Axes>"
      ]
     },
     "metadata": {
      "needs_background": "light"
     },
     "output_type": "display_data"
    }
   ],
   "source": [
    "plt.figure(figsize=(10,5))\n",
    "fpr,tpr,threshold = roc_curve(ytest,ypred)\n",
    "plt.plot(fpr,tpr,color='red')\n",
    "plt.plot(fpr,fpr,color='black')\n",
    "plt.show()"
   ]
  },
  {
   "cell_type": "code",
   "execution_count": 93,
   "metadata": {},
   "outputs": [
    {
     "data": {
      "text/plain": [
       "0.6376652496434718"
      ]
     },
     "execution_count": 93,
     "metadata": {},
     "output_type": "execute_result"
    }
   ],
   "source": [
    "roc_auc_score(ytest,ypred)"
   ]
  },
  {
   "cell_type": "code",
   "execution_count": 94,
   "metadata": {},
   "outputs": [
    {
     "name": "stdout",
     "output_type": "stream",
     "text": [
      "Cohen's Kappa 0.344647927961066\n",
      "Matthew's Correlation 0.3868468265310818\n",
      "              precision    recall  f1-score   support\n",
      "\n",
      "           0       0.83      0.96      0.89      4663\n",
      "           1       0.71      0.31      0.43      1337\n",
      "\n",
      "    accuracy                           0.82      6000\n",
      "   macro avg       0.77      0.64      0.66      6000\n",
      "weighted avg       0.80      0.82      0.79      6000\n",
      "\n"
     ]
    }
   ],
   "source": [
    "print(\"Cohen's Kappa\",cohen_kappa_score(ytest,ypred))\n",
    "print(\"Matthew's Correlation\",matthews_corrcoef(ytest,ypred))\n",
    "print(classification_report(ytest,ypred))"
   ]
  },
  {
   "cell_type": "code",
   "execution_count": 95,
   "metadata": {},
   "outputs": [
    {
     "name": "stdout",
     "output_type": "stream",
     "text": [
      "Bias Error in Logistic Regression after RFECV 0.3174276499563542\n",
      "Variance Error in Logistic Regression after RFECV 0.00011901705672941697\n"
     ]
    }
   ],
   "source": [
    "kfolds=model_selection.KFold(n_splits=10,random_state=1)\n",
    "r_scores=cross_val_score(lr, xtrain, ytrain, cv=kfolds, scoring='f1_weighted')\n",
    "print('Bias Error in Logistic Regression after RFECV',1-r_scores.mean())\n",
    "print('Variance Error in Logistic Regression after RFECV',r_scores.var())"
   ]
  },
  {
   "cell_type": "code",
   "execution_count": 96,
   "metadata": {},
   "outputs": [],
   "source": [
    "from sklearn.tree import DecisionTreeClassifier\n",
    "dt=DecisionTreeClassifier()"
   ]
  },
  {
   "cell_type": "code",
   "execution_count": 97,
   "metadata": {},
   "outputs": [],
   "source": [
    "x = df1.drop('DEFAULT',axis=1)\n",
    "y = df1['DEFAULT']"
   ]
  },
  {
   "cell_type": "code",
   "execution_count": 98,
   "metadata": {},
   "outputs": [],
   "source": [
    "xtrain,xtest,ytrain,ytest=train_test_split(x,y,test_size=0.2,random_state=1)"
   ]
  },
  {
   "cell_type": "code",
   "execution_count": 99,
   "metadata": {},
   "outputs": [],
   "source": [
    "from sklearn.feature_selection import RFECV #rfe\n",
    "from sklearn.model_selection import StratifiedKFold #kfold\n",
    "from sklearn.ensemble import RandomForestClassifier #estimator\n",
    "import warnings\n",
    "warnings.filterwarnings(\"ignore\")"
   ]
  },
  {
   "cell_type": "code",
   "execution_count": 100,
   "metadata": {},
   "outputs": [],
   "source": [
    "rfecv=RFECV(estimator=dt,step=1,cv=StratifiedKFold(10,random_state=0),scoring=\"f1_weighted\")"
   ]
  },
  {
   "cell_type": "code",
   "execution_count": 101,
   "metadata": {},
   "outputs": [
    {
     "data": {
      "text/plain": [
       "RFECV(cv=StratifiedKFold(n_splits=10, random_state=0, shuffle=False),\n",
       "      estimator=DecisionTreeClassifier(ccp_alpha=0.0, class_weight=None,\n",
       "                                       criterion='gini', max_depth=None,\n",
       "                                       max_features=None, max_leaf_nodes=None,\n",
       "                                       min_impurity_decrease=0.0,\n",
       "                                       min_impurity_split=None,\n",
       "                                       min_samples_leaf=1, min_samples_split=2,\n",
       "                                       min_weight_fraction_leaf=0.0,\n",
       "                                       presort='deprecated', random_state=None,\n",
       "                                       splitter='best'),\n",
       "      min_features_to_select=1, n_jobs=None, scoring='f1_weighted', step=1,\n",
       "      verbose=0)"
      ]
     },
     "execution_count": 101,
     "metadata": {},
     "output_type": "execute_result"
    }
   ],
   "source": [
    "rfecv.fit(xtrain,ytrain)"
   ]
  },
  {
   "cell_type": "code",
   "execution_count": 102,
   "metadata": {},
   "outputs": [
    {
     "name": "stdout",
     "output_type": "stream",
     "text": [
      "Optimal Feature Count 21\n"
     ]
    }
   ],
   "source": [
    "print(\"Optimal Feature Count {}\".format(rfecv.n_features_))"
   ]
  },
  {
   "cell_type": "code",
   "execution_count": 103,
   "metadata": {},
   "outputs": [
    {
     "data": {
      "image/png": "[encoded data removed]",
      "text/plain": [
       "<Figure size 720x360 with 1 Axes>"
      ]
     },
     "metadata": {
      "needs_background": "light"
     },
     "output_type": "display_data"
    }
   ],
   "source": [
    "plt.figure(figsize=(10,5))\n",
    "plt.title(\"RFE with CV\",fontsize=13,pad=20)\n",
    "plt.xlabel(\"No. of features selected\",fontsize=13,labelpad=10)\n",
    "plt.ylabel(\"% Correct Classifications\",fontsize=13,labelpad=10)\n",
    "plt.plot(range(1,len(rfecv.grid_scores_)+1),rfecv.grid_scores_,color=\"red\",linewidth=1.5)\n",
    "plt.grid(True)\n",
    "plt.show()"
   ]
  },
  {
   "cell_type": "code",
   "execution_count": 104,
   "metadata": {},
   "outputs": [
    {
     "name": "stdout",
     "output_type": "stream",
     "text": [
      "[ 6 20 21 22 24]\n"
     ]
    }
   ],
   "source": [
    "print(np.where(rfecv.support_==False)[0])"
   ]
  },
  {
   "cell_type": "code",
   "execution_count": 105,
   "metadata": {},
   "outputs": [
    {
     "data": {
      "text/plain": [
       "Index(['PAY_5', 'SEX_Male', 'EDUCATION_HighSchool', 'EDUCATION_Others',\n",
       "       'MARRIAGE_Others'],\n",
       "      dtype='object')"
      ]
     },
     "execution_count": 105,
     "metadata": {},
     "output_type": "execute_result"
    }
   ],
   "source": [
    "x.iloc[:,np.where(rfecv.support_==False)[0]].columns"
   ]
  },
  {
   "cell_type": "code",
   "execution_count": 106,
   "metadata": {},
   "outputs": [],
   "source": [
    "xtrain1=xtrain.drop(['PAY_3', 'PAY_5', 'SEX_Male', 'EDUCATION_HighSchool',\n",
    "       'EDUCATION_Others', 'EDUCATION_University', 'MARRIAGE_Others',\n",
    "       'MARRIAGE_Single'],axis=1)\n",
    "\n",
    "xtest1=xtest.drop(['PAY_3', 'PAY_5', 'SEX_Male', 'EDUCATION_HighSchool',\n",
    "       'EDUCATION_Others', 'EDUCATION_University', 'MARRIAGE_Others',\n",
    "       'MARRIAGE_Single'],axis=1)"
   ]
  },
  {
   "cell_type": "code",
   "execution_count": 107,
   "metadata": {},
   "outputs": [],
   "source": [
    "model=dt.fit(xtrain1,ytrain)\n",
    "ypred=model.predict(xtest1)"
   ]
  },
  {
   "cell_type": "code",
   "execution_count": 108,
   "metadata": {},
   "outputs": [
    {
     "data": {
      "text/plain": [
       "array([[3825,  838],\n",
       "       [ 791,  546]], dtype=int64)"
      ]
     },
     "execution_count": 108,
     "metadata": {},
     "output_type": "execute_result"
    }
   ],
   "source": [
    "cm = confusion_matrix(ytest,ypred)\n",
    "cm"
   ]
  },
  {
   "cell_type": "code",
   "execution_count": 109,
   "metadata": {},
   "outputs": [
    {
     "data": {
      "image/png": "[encoded data removed]",
      "text/plain": [
       "<Figure size 720x360 with 2 Axes>"
      ]
     },
     "metadata": {
      "needs_background": "light"
     },
     "output_type": "display_data"
    }
   ],
   "source": [
    "plt.figure(figsize=(10,5))\n",
    "cm = pd.DataFrame(data=cm,columns=['Predicted:0','Predicted:1'],index=['Actual:0','Actual:1'])\n",
    "sns.heatmap(cm,annot=True,fmt ='g')\n",
    "plt.show()"
   ]
  },
  {
   "cell_type": "code",
   "execution_count": 110,
   "metadata": {},
   "outputs": [
    {
     "data": {
      "image/png": "[encoded data removed]",
      "text/plain": [
       "<Figure size 720x360 with 1 Axes>"
      ]
     },
     "metadata": {
      "needs_background": "light"
     },
     "output_type": "display_data"
    }
   ],
   "source": [
    "plt.figure(figsize=(10,5))\n",
    "fpr,tpr,threshold = roc_curve(ytest,ypred)\n",
    "plt.plot(fpr,tpr,color='red')\n",
    "plt.plot(fpr,fpr,color='black')\n",
    "plt.show()"
   ]
  },
  {
   "cell_type": "code",
   "execution_count": 111,
   "metadata": {},
   "outputs": [
    {
     "data": {
      "text/plain": [
       "0.6143321659987897"
      ]
     },
     "execution_count": 111,
     "metadata": {},
     "output_type": "execute_result"
    }
   ],
   "source": [
    "roc_auc_score(ytest,ypred)"
   ]
  },
  {
   "cell_type": "code",
   "execution_count": 112,
   "metadata": {},
   "outputs": [
    {
     "name": "stdout",
     "output_type": "stream",
     "text": [
      "Cohen's Kappa 0.22583306508641787\n",
      "Matthew's Correlation 0.22588942143674914\n",
      "              precision    recall  f1-score   support\n",
      "\n",
      "           0       0.83      0.82      0.82      4663\n",
      "           1       0.39      0.41      0.40      1337\n",
      "\n",
      "    accuracy                           0.73      6000\n",
      "   macro avg       0.61      0.61      0.61      6000\n",
      "weighted avg       0.73      0.73      0.73      6000\n",
      "\n"
     ]
    }
   ],
   "source": [
    "print(\"Cohen's Kappa\",cohen_kappa_score(ytest,ypred))\n",
    "print(\"Matthew's Correlation\",matthews_corrcoef(ytest,ypred))\n",
    "print(classification_report(ytest,ypred))"
   ]
  },
  {
   "cell_type": "code",
   "execution_count": 113,
   "metadata": {},
   "outputs": [
    {
     "name": "stdout",
     "output_type": "stream",
     "text": [
      "Bias Error in Decision Tree after RFECV 0.26854213940382166\n",
      "Variance Error in Decision Tree after RFECV 6.379304362857942e-05\n"
     ]
    }
   ],
   "source": [
    "kfolds=model_selection.KFold(n_splits=10,random_state=1)\n",
    "r_scores=cross_val_score(dt, xtrain, ytrain, cv=kfolds, scoring='f1_weighted')\n",
    "print('Bias Error in Decision Tree after RFECV',1-r_scores.mean())\n",
    "print('Variance Error in Decision Tree after RFECV',r_scores.var())"
   ]
  },
  {
   "cell_type": "code",
   "execution_count": 114,
   "metadata": {},
   "outputs": [],
   "source": [
    "##smote"
   ]
  },
  {
   "cell_type": "code",
   "execution_count": 115,
   "metadata": {},
   "outputs": [],
   "source": [
    "from imblearn.combine import SMOTETomek"
   ]
  },
  {
   "cell_type": "code",
   "execution_count": 116,
   "metadata": {},
   "outputs": [],
   "source": [
    "smt=SMOTETomek(random_state=42)\n",
    "x=df1.drop([\"DEFAULT\"],axis=1)\n",
    "y=df1[\"DEFAULT\"]\n",
    "\n",
    "x_reset,y_reset=smt.fit_sample(x,y)"
   ]
  },
  {
   "cell_type": "code",
   "execution_count": 117,
   "metadata": {},
   "outputs": [
    {
     "name": "stdout",
     "output_type": "stream",
     "text": [
      "Orignal Data CountCounter({0: 23364, 1: 6636})\n",
      "Revised Data CountCounter({1: 22730, 0: 22730})\n"
     ]
    }
   ],
   "source": [
    "from collections import Counter\n",
    "print(\"Orignal Data Count{}\".format(Counter(df1[\"DEFAULT\"])))\n",
    "print(\"Revised Data Count{}\".format(Counter(y_reset)))"
   ]
  },
  {
   "cell_type": "code",
   "execution_count": 118,
   "metadata": {},
   "outputs": [],
   "source": [
    "lr=LogisticRegression()"
   ]
  },
  {
   "cell_type": "code",
   "execution_count": 119,
   "metadata": {},
   "outputs": [],
   "source": [
    "xtrain,xtest,ytrain,ytest=train_test_split(x_reset,y_reset,test_size=0.2,random_state=25)\n",
    "smotemodel=lr.fit(xtrain,ytrain)\n",
    "smotepred=smotemodel.predict(xtest)"
   ]
  },
  {
   "cell_type": "code",
   "execution_count": 120,
   "metadata": {},
   "outputs": [
    {
     "name": "stdout",
     "output_type": "stream",
     "text": [
      "Cohen's Kappa :  0.1704232557432417\n",
      "Matthew's Correlation :  0.18483876075608044\n",
      "              precision    recall  f1-score   support\n",
      "\n",
      "           0       0.56      0.78      0.65      4553\n",
      "           1       0.64      0.39      0.49      4539\n",
      "\n",
      "    accuracy                           0.59      9092\n",
      "   macro avg       0.60      0.59      0.57      9092\n",
      "weighted avg       0.60      0.59      0.57      9092\n",
      "\n",
      "0.5854597448306204\n"
     ]
    },
    {
     "data": {
      "image/png": "[encoded data removed]",
      "text/plain": [
       "<Figure size 432x288 with 2 Axes>"
      ]
     },
     "metadata": {
      "needs_background": "light"
     },
     "output_type": "display_data"
    }
   ],
   "source": [
    "print(\"Cohen's Kappa : \",cohen_kappa_score(ytest,smotepred))\n",
    "print(\"Matthew's Correlation : \",matthews_corrcoef(ytest,smotepred))\n",
    "print(classification_report(ytest,smotepred))\n",
    "print(accuracy_score(ytest,smotepred))\n",
    "sns.heatmap(confusion_matrix(ytest,smotepred),annot=True,fmt=\"g\")\n",
    "plt.show()"
   ]
  },
  {
   "cell_type": "code",
   "execution_count": 121,
   "metadata": {},
   "outputs": [],
   "source": [
    "rf=RandomForestClassifier()"
   ]
  },
  {
   "cell_type": "code",
   "execution_count": 122,
   "metadata": {},
   "outputs": [],
   "source": [
    "smotemodel=rf.fit(xtrain,ytrain)\n",
    "smotepred=smotemodel.predict(xtest)"
   ]
  },
  {
   "cell_type": "code",
   "execution_count": 123,
   "metadata": {},
   "outputs": [
    {
     "name": "stdout",
     "output_type": "stream",
     "text": [
      "Cohen's Kappa :  0.7100558365894798\n",
      "Matthew's Correlation :  0.7106509943171768\n",
      "              precision    recall  f1-score   support\n",
      "\n",
      "           0       0.84      0.88      0.86      4553\n",
      "           1       0.87      0.83      0.85      4539\n",
      "\n",
      "    accuracy                           0.86      9092\n",
      "   macro avg       0.86      0.86      0.85      9092\n",
      "weighted avg       0.86      0.86      0.85      9092\n",
      "\n",
      "0.8550373955125385\n"
     ]
    },
    {
     "data": {
      "image/png": "[encoded data removed]",
      "text/plain": [
       "<Figure size 432x288 with 2 Axes>"
      ]
     },
     "metadata": {
      "needs_background": "light"
     },
     "output_type": "display_data"
    }
   ],
   "source": [
    "print(\"Cohen's Kappa : \",cohen_kappa_score(ytest,smotepred))\n",
    "print(\"Matthew's Correlation : \",matthews_corrcoef(ytest,smotepred))\n",
    "print(classification_report(ytest,smotepred))\n",
    "print(accuracy_score(ytest,smotepred))\n",
    "sns.heatmap(confusion_matrix(ytest,smotepred),annot=True,fmt=\"g\")\n",
    "plt.show()"
   ]
  },
  {
   "cell_type": "code",
   "execution_count": 124,
   "metadata": {},
   "outputs": [
    {
     "name": "stdout",
     "output_type": "stream",
     "text": [
      "Mean weighted F1-score in Logitic after SMOTE TOMEK 0.5805256943528969\n",
      "Bias Error in Logistic after SMOTE TOMEK 0.4194743056471031\n",
      "Variance Error in Logistic after SMOTE TOMEK 0.0005005927413542031\n"
     ]
    }
   ],
   "source": [
    "kfolds=model_selection.KFold(n_splits=10,random_state=1)\n",
    "r_scores=cross_val_score(lr, xtrain, ytrain, cv=kfolds, scoring='f1_weighted')\n",
    "print('Mean weighted F1-score in Logitic after SMOTE TOMEK', r_scores.mean())\n",
    "print('Bias Error in Logistic after SMOTE TOMEK',1-r_scores.mean())\n",
    "print('Variance Error in Logistic after SMOTE TOMEK',r_scores.var())"
   ]
  },
  {
   "cell_type": "code",
   "execution_count": 125,
   "metadata": {},
   "outputs": [],
   "source": [
    "from sklearn.naive_bayes import GaussianNB\n",
    "nb=GaussianNB()"
   ]
  },
  {
   "cell_type": "code",
   "execution_count": 126,
   "metadata": {},
   "outputs": [],
   "source": [
    "smotemodel=nb.fit(xtrain,ytrain)\n",
    "smotepred=smotemodel.predict(xtest)"
   ]
  },
  {
   "cell_type": "code",
   "execution_count": 127,
   "metadata": {},
   "outputs": [
    {
     "name": "stdout",
     "output_type": "stream",
     "text": [
      "Cohen's Kappa :  0.11675829785650438\n",
      "Matthew's Correlat ion :  0.1844925101169159\n",
      "              precision    recall  f1-score   support\n",
      "\n",
      "           0       0.76      0.17      0.28      4553\n",
      "           1       0.53      0.95      0.68      4539\n",
      "\n",
      "    accuracy                           0.56      9092\n",
      "   macro avg       0.65      0.56      0.48      9092\n",
      "weighted avg       0.65      0.56      0.48      9092\n",
      "\n",
      "0.557853057633084\n"
     ]
    },
    {
     "data": {
      "image/png": "[encoded data removed]",
      "text/plain": [
       "<Figure size 432x288 with 2 Axes>"
      ]
     },
     "metadata": {
      "needs_background": "light"
     },
     "output_type": "display_data"
    }
   ],
   "source": [
    "print(\"Cohen's Kappa : \",cohen_kappa_score(ytest,smotepred))\n",
    "print(\"Matthew's Correlat ion : \",matthews_corrcoef(ytest,smotepred))\n",
    "print(classification_report(ytest,smotepred))\n",
    "print(accuracy_score(ytest,smotepred))\n",
    "sns.heatmap(confusion_matrix(ytest,smotepred),annot=True,fmt=\"g\")\n",
    "plt.show()"
   ]
  },
  {
   "cell_type": "code",
   "execution_count": 128,
   "metadata": {},
   "outputs": [
    {
     "name": "stdout",
     "output_type": "stream",
     "text": [
      "Mean weighted F1-score in NaiveBayes after SMOTE TOMEK 0.4693252783385497\n",
      "Bias Error in NaiveBayes after SMOTE TOMEK 0.5306747216614502\n",
      "Variance Error in NaiveBayes after SMOTE TOMEK 9.777049526686916e-05\n"
     ]
    }
   ],
   "source": [
    "kfolds=model_selection.KFold(n_splits=10,random_state=1)\n",
    "r_scores=cross_val_score(nb, xtrain, ytrain, cv=kfolds, scoring='f1_weighted')\n",
    "print('Mean weighted F1-score in NaiveBayes after SMOTE TOMEK', r_scores.mean())\n",
    "print('Bias Error in NaiveBayes after SMOTE TOMEK',1-r_scores.mean())\n",
    "print('Variance Error in NaiveBayes after SMOTE TOMEK',r_scores.var())"
   ]
  },
  {
   "cell_type": "code",
   "execution_count": 129,
   "metadata": {},
   "outputs": [],
   "source": [
    "dt=DecisionTreeClassifier()"
   ]
  },
  {
   "cell_type": "code",
   "execution_count": 130,
   "metadata": {},
   "outputs": [],
   "source": [
    "smotemodel=dt.fit(xtrain,ytrain)\n",
    "smotepred=smotemodel.predict(xtest)"
   ]
  },
  {
   "cell_type": "code",
   "execution_count": 131,
   "metadata": {},
   "outputs": [
    {
     "name": "stdout",
     "output_type": "stream",
     "text": [
      "Cohen's Kappa :  0.5475305438301264\n",
      "Matthew's Correlat ion :  0.547699761803876\n",
      "              precision    recall  f1-score   support\n",
      "\n",
      "           0       0.78      0.76      0.77      4553\n",
      "           1       0.77      0.79      0.78      4539\n",
      "\n",
      "    accuracy                           0.77      9092\n",
      "   macro avg       0.77      0.77      0.77      9092\n",
      "weighted avg       0.77      0.77      0.77      9092\n",
      "\n",
      "0.7737571491421029\n"
     ]
    },
    {
     "data": {
      "image/png": "[encoded data removed]",
      "text/plain": [
       "<Figure size 432x288 with 2 Axes>"
      ]
     },
     "metadata": {
      "needs_background": "light"
     },
     "output_type": "display_data"
    }
   ],
   "source": [
    "print(\"Cohen's Kappa : \",cohen_kappa_score(ytest,smotepred))\n",
    "print(\"Matthew's Correlat ion : \",matthews_corrcoef(ytest,smotepred))\n",
    "print(classification_report(ytest,smotepred))\n",
    "print(accuracy_score(ytest,smotepred))\n",
    "sns.heatmap(confusion_matrix(ytest,smotepred),annot=True,fmt=\"g\")\n",
    "plt.show()"
   ]
  },
  {
   "cell_type": "code",
   "execution_count": 132,
   "metadata": {},
   "outputs": [
    {
     "name": "stdout",
     "output_type": "stream",
     "text": [
      "Mean weighted F1-score in DT after SMOTE TOMEK 0.7568094826565532\n",
      "Bias Error in DT after SMOTE TOMEK 0.24319051734344677\n",
      "Variance Error in DT after SMOTE TOMEK 5.6251447736833646e-05\n"
     ]
    }
   ],
   "source": [
    "kfolds=model_selection.KFold(n_splits=10,random_state=1)\n",
    "r_scores=cross_val_score(dt, xtrain, ytrain, cv=kfolds, scoring='f1_weighted')\n",
    "print('Mean weighted F1-score in DT after SMOTE TOMEK', r_scores.mean())\n",
    "print('Bias Error in DT after SMOTE TOMEK',1-r_scores.mean())\n",
    "print('Variance Error in DT after SMOTE TOMEK',r_scores.var())"
   ]
  },
  {
   "cell_type": "code",
   "execution_count": 133,
   "metadata": {},
   "outputs": [],
   "source": [
    "ada=AdaBoostClassifier()"
   ]
  },
  {
   "cell_type": "code",
   "execution_count": 134,
   "metadata": {},
   "outputs": [],
   "source": [
    "smotemodel=ada.fit(xtrain,ytrain)\n",
    "smotepred=smotemodel.predict(xtest)"
   ]
  },
  {
   "cell_type": "code",
   "execution_count": 135,
   "metadata": {},
   "outputs": [
    {
     "name": "stdout",
     "output_type": "stream",
     "text": [
      "Cohen's Kappa :  0.5375830638838748\n",
      "Matthew's Correlation :  0.5381041490461109\n",
      "              precision    recall  f1-score   support\n",
      "\n",
      "           0       0.76      0.79      0.77      4553\n",
      "           1       0.78      0.75      0.76      4539\n",
      "\n",
      "    accuracy                           0.77      9092\n",
      "   macro avg       0.77      0.77      0.77      9092\n",
      "weighted avg       0.77      0.77      0.77      9092\n",
      "\n",
      "0.7688077430708316\n"
     ]
    },
    {
     "data": {
      "image/png": "[encoded data removed]",
      "text/plain": [
       "<Figure size 432x288 with 2 Axes>"
      ]
     },
     "metadata": {
      "needs_background": "light"
     },
     "output_type": "display_data"
    }
   ],
   "source": [
    "print(\"Cohen's Kappa : \",cohen_kappa_score(ytest,smotepred))\n",
    "print(\"Matthew's Correlation : \",matthews_corrcoef(ytest,smotepred))\n",
    "print(classification_report(ytest,smotepred))\n",
    "print(accuracy_score(ytest,smotepred))\n",
    "sns.heatmap(confusion_matrix(ytest,smotepred),annot=True,fmt=\"g\")\n",
    "plt.show()"
   ]
  },
  {
   "cell_type": "code",
   "execution_count": 136,
   "metadata": {},
   "outputs": [
    {
     "name": "stdout",
     "output_type": "stream",
     "text": [
      "Mean weighted F1-score in AdaBoost after SMOTE TOMEK 0.7633870265926601\n",
      "Bias Error in AdaBoost after SMOTE TOMEK 0.2366129734073399\n",
      "Variance Error in AdaBoost after SMOTE TOMEK 5.8285039444561985e-05\n"
     ]
    }
   ],
   "source": [
    "kfolds=model_selection.KFold(n_splits=10,random_state=1)\n",
    "r_scores=cross_val_score(ada, xtrain, ytrain, cv=kfolds, scoring='f1_weighted')\n",
    "print('Mean weighted F1-score in AdaBoost after SMOTE TOMEK', r_scores.mean())\n",
    "print('Bias Error in AdaBoost after SMOTE TOMEK',1-r_scores.mean())\n",
    "print('Variance Error in AdaBoost after SMOTE TOMEK',r_scores.var())"
   ]
  },
  {
   "cell_type": "code",
   "execution_count": 137,
   "metadata": {},
   "outputs": [],
   "source": [
    "gbm=GradientBoostingClassifier()"
   ]
  },
  {
   "cell_type": "code",
   "execution_count": 138,
   "metadata": {},
   "outputs": [],
   "source": [
    "smotemodel=gbm.fit(xtrain,ytrain)\n",
    "smotepred=smotemodel.predict(xtest)"
   ]
  },
  {
   "cell_type": "code",
   "execution_count": 139,
   "metadata": {},
   "outputs": [
    {
     "name": "stdout",
     "output_type": "stream",
     "text": [
      "Cohen's Kappa :  0.5837565078031692\n",
      "Matthew's Correlation :  0.5857213543565916\n",
      "              precision    recall  f1-score   support\n",
      "\n",
      "           0       0.77      0.83      0.80      4553\n",
      "           1       0.82      0.75      0.78      4539\n",
      "\n",
      "    accuracy                           0.79      9092\n",
      "   macro avg       0.79      0.79      0.79      9092\n",
      "weighted avg       0.79      0.79      0.79      9092\n",
      "\n",
      "0.7919049714034316\n"
     ]
    },
    {
     "data": {
      "image/png": "[encoded data removed]",
      "text/plain": [
       "<Figure size 432x288 with 2 Axes>"
      ]
     },
     "metadata": {
      "needs_background": "light"
     },
     "output_type": "display_data"
    }
   ],
   "source": [
    "print(\"Cohen's Kappa : \",cohen_kappa_score(ytest,smotepred))\n",
    "print(\"Matthew's Correlation : \",matthews_corrcoef(ytest,smotepred))\n",
    "print(classification_report(ytest,smotepred))\n",
    "print(accuracy_score(ytest,smotepred))\n",
    "sns.heatmap(confusion_matrix(ytest,smotepred),annot=True,fmt=\"g\")\n",
    "plt.show()"
   ]
  },
  {
   "cell_type": "code",
   "execution_count": 140,
   "metadata": {},
   "outputs": [
    {
     "name": "stdout",
     "output_type": "stream",
     "text": [
      "Mean weighted F1-score in GradientBoost after SMOTE TOMEK 0.7908818272632397\n",
      "Bias Error in GradientBoost after SMOTE TOMEK 0.20911817273676025\n",
      "Variance Error in GradientBoost after SMOTE TOMEK 5.345861057229401e-05\n"
     ]
    }
   ],
   "source": [
    "kfolds=model_selection.KFold(n_splits=10,random_state=1)\n",
    "r_scores=cross_val_score(gbm, xtrain, ytrain, cv=kfolds, scoring='f1_weighted')\n",
    "print('Mean weighted F1-score in GradientBoost after SMOTE TOMEK', r_scores.mean())\n",
    "print('Bias Error in GradientBoost after SMOTE TOMEK',1-r_scores.mean())\n",
    "print('Variance Error in GradientBoost after SMOTE TOMEK',r_scores.var())"
   ]
  },
  {
   "cell_type": "code",
   "execution_count": 141,
   "metadata": {},
   "outputs": [],
   "source": [
    "### Tuning"
   ]
  },
  {
   "cell_type": "code",
   "execution_count": 142,
   "metadata": {},
   "outputs": [],
   "source": [
    "x=df1.drop([\"DEFAULT\"],axis=1)\n",
    "y=df1[\"DEFAULT\"]\n",
    "xtrain,xtest,ytrain,ytest=train_test_split(x,y,test_size=0.2,random_state=0)"
   ]
  },
  {
   "cell_type": "code",
   "execution_count": 143,
   "metadata": {},
   "outputs": [],
   "source": [
    "param_grid = [{'C':[0.1,0.2,0.3,0.4,0.5,0.6,0.7,0.8,0.9,1.0,1.1,1.2,1.3,1.4,1.5,1.6],'penalty':['l1','l2']}]"
   ]
  },
  {
   "cell_type": "code",
   "execution_count": 144,
   "metadata": {},
   "outputs": [],
   "source": [
    "lr=LogisticRegression()"
   ]
  },
  {
   "cell_type": "code",
   "execution_count": 145,
   "metadata": {},
   "outputs": [
    {
     "data": {
      "text/plain": [
       "GridSearchCV(cv=5, error_score=nan,\n",
       "             estimator=LogisticRegression(C=1.0, class_weight=None, dual=False,\n",
       "                                          fit_intercept=True,\n",
       "                                          intercept_scaling=1, l1_ratio=None,\n",
       "                                          max_iter=100, multi_class='auto',\n",
       "                                          n_jobs=None, penalty='l2',\n",
       "                                          random_state=None, solver='lbfgs',\n",
       "                                          tol=0.0001, verbose=0,\n",
       "                                          warm_start=False),\n",
       "             iid='deprecated', n_jobs=None,\n",
       "             param_grid=[{'C': [0.1, 0.2, 0.3, 0.4, 0.5, 0.6, 0.7, 0.8, 0.9,\n",
       "                                1.0, 1.1, 1.2, 1.3, 1.4, 1.5, 1.6],\n",
       "                          'penalty': ['l1', 'l2']}],\n",
       "             pre_dispatch='2*n_jobs', refit=True, return_train_score=False,\n",
       "             scoring='f1_weighted', verbose=0)"
      ]
     },
     "execution_count": 145,
     "metadata": {},
     "output_type": "execute_result"
    }
   ],
   "source": [
    "gs = GridSearchCV(lr,param_grid,cv=5,scoring='f1_weighted')\n",
    "gs.fit(xtrain,ytrain)"
   ]
  },
  {
   "cell_type": "code",
   "execution_count": 146,
   "metadata": {},
   "outputs": [
    {
     "data": {
      "text/plain": [
       "{'C': 0.6, 'penalty': 'l2'}"
      ]
     },
     "execution_count": 146,
     "metadata": {},
     "output_type": "execute_result"
    }
   ],
   "source": [
    "gs.best_params_"
   ]
  },
  {
   "cell_type": "code",
   "execution_count": 147,
   "metadata": {},
   "outputs": [],
   "source": [
    "lr_gs = LogisticRegression(**gs.best_params_)"
   ]
  },
  {
   "cell_type": "code",
   "execution_count": 148,
   "metadata": {},
   "outputs": [],
   "source": [
    "model=lr_gs.fit(xtrain,ytrain)\n",
    "pred=model.predict(xtest)"
   ]
  },
  {
   "cell_type": "code",
   "execution_count": 149,
   "metadata": {},
   "outputs": [
    {
     "name": "stdout",
     "output_type": "stream",
     "text": [
      "Cohen's Kappa :  0.0\n",
      "Matthew's Correlation :  0.0\n",
      "              precision    recall  f1-score   support\n",
      "\n",
      "           0       0.78      1.00      0.88      4703\n",
      "           1       0.00      0.00      0.00      1297\n",
      "\n",
      "    accuracy                           0.78      6000\n",
      "   macro avg       0.39      0.50      0.44      6000\n",
      "weighted avg       0.61      0.78      0.69      6000\n",
      "\n",
      "0.7838333333333334\n"
     ]
    },
    {
     "data": {
      "image/png": "[encoded data removed]",
      "text/plain": [
       "<Figure size 432x288 with 2 Axes>"
      ]
     },
     "metadata": {
      "needs_background": "light"
     },
     "output_type": "display_data"
    }
   ],
   "source": [
    "print(\"Cohen's Kappa : \",cohen_kappa_score(ytest,pred))\n",
    "print(\"Matthew's Correlation : \",matthews_corrcoef(ytest,pred))\n",
    "print(classification_report(ytest,pred))\n",
    "print(accuracy_score(ytest,pred))\n",
    "sns.heatmap(confusion_matrix(ytest,pred),annot=True,fmt=\"g\")\n",
    "plt.show()"
   ]
  },
  {
   "cell_type": "code",
   "execution_count": 153,
   "metadata": {},
   "outputs": [],
   "source": [
    "smt=SMOTETomek(random_state=42)\n",
    "x_reset,y_reset=smt.fit_sample(x,y)\n",
    "xtrsmote,xtesmote,ytrsmote,ytesmote=train_test_split(x_reset,y_reset,test_size=0.2,random_state=0)"
   ]
  },
  {
   "cell_type": "code",
   "execution_count": 154,
   "metadata": {},
   "outputs": [
    {
     "name": "stdout",
     "output_type": "stream",
     "text": [
      "{'C': 0.6, 'penalty': 'l2'}\n",
      "0.6806215666811392\n"
     ]
    }
   ],
   "source": [
    "print(gs.best_params_)\n",
    "print(gs.best_score_)"
   ]
  },
  {
   "cell_type": "code",
   "execution_count": 155,
   "metadata": {},
   "outputs": [
    {
     "ename": "ValueError",
     "evalue": "Found input variables with inconsistent numbers of samples: [9092, 6000]",
     "output_type": "error",
     "traceback": [
      "\u001b[1;31m---------------------------------------------------------------------------\u001b[0m",
      "\u001b[1;31mValueError\u001b[0m                                Traceback (most recent call last)",
      "\u001b[1;32m<ipython-input-155-fba50a0194f1>\u001b[0m in \u001b[0;36m<module>\u001b[1;34m\u001b[0m\n\u001b[1;32m----> 1\u001b[1;33m \u001b[0mprint\u001b[0m\u001b[1;33m(\u001b[0m\u001b[1;34m\"Cohen's Kappa : \"\u001b[0m\u001b[1;33m,\u001b[0m\u001b[0mcohen_kappa_score\u001b[0m\u001b[1;33m(\u001b[0m\u001b[0mytesmote\u001b[0m\u001b[1;33m,\u001b[0m\u001b[0mpred\u001b[0m\u001b[1;33m)\u001b[0m\u001b[1;33m)\u001b[0m\u001b[1;33m\u001b[0m\u001b[1;33m\u001b[0m\u001b[0m\n\u001b[0m\u001b[0;32m      2\u001b[0m \u001b[0mprint\u001b[0m\u001b[1;33m(\u001b[0m\u001b[1;34m\"Matthew's Correlation : \"\u001b[0m\u001b[1;33m,\u001b[0m\u001b[0mmatthews_corrcoef\u001b[0m\u001b[1;33m(\u001b[0m\u001b[0mytesmote\u001b[0m\u001b[1;33m,\u001b[0m\u001b[0mpred\u001b[0m\u001b[1;33m)\u001b[0m\u001b[1;33m)\u001b[0m\u001b[1;33m\u001b[0m\u001b[1;33m\u001b[0m\u001b[0m\n\u001b[0;32m      3\u001b[0m \u001b[0mprint\u001b[0m\u001b[1;33m(\u001b[0m\u001b[0mclassification_report\u001b[0m\u001b[1;33m(\u001b[0m\u001b[0mytesmote\u001b[0m\u001b[1;33m,\u001b[0m\u001b[0mpred\u001b[0m\u001b[1;33m)\u001b[0m\u001b[1;33m)\u001b[0m\u001b[1;33m\u001b[0m\u001b[1;33m\u001b[0m\u001b[0m\n\u001b[0;32m      4\u001b[0m \u001b[0mprint\u001b[0m\u001b[1;33m(\u001b[0m\u001b[0maccuracy_score\u001b[0m\u001b[1;33m(\u001b[0m\u001b[0mytesmote\u001b[0m\u001b[1;33m,\u001b[0m\u001b[0mpred\u001b[0m\u001b[1;33m)\u001b[0m\u001b[1;33m)\u001b[0m\u001b[1;33m\u001b[0m\u001b[1;33m\u001b[0m\u001b[0m\n\u001b[0;32m      5\u001b[0m \u001b[0msns\u001b[0m\u001b[1;33m.\u001b[0m\u001b[0mheatmap\u001b[0m\u001b[1;33m(\u001b[0m\u001b[0mconfusion_matrix\u001b[0m\u001b[1;33m(\u001b[0m\u001b[0mytesmote\u001b[0m\u001b[1;33m,\u001b[0m\u001b[0mpred\u001b[0m\u001b[1;33m)\u001b[0m\u001b[1;33m,\u001b[0m\u001b[0mannot\u001b[0m\u001b[1;33m=\u001b[0m\u001b[1;32mTrue\u001b[0m\u001b[1;33m,\u001b[0m\u001b[0mfmt\u001b[0m\u001b[1;33m=\u001b[0m\u001b[1;34m\"g\"\u001b[0m\u001b[1;33m)\u001b[0m\u001b[1;33m\u001b[0m\u001b[1;33m\u001b[0m\u001b[0m\n",
      "\u001b[1;32m~\\Anaconda3\\lib\\site-packages\\sklearn\\metrics\\_classification.py\u001b[0m in \u001b[0;36mcohen_kappa_score\u001b[1;34m(y1, y2, labels, weights, sample_weight)\u001b[0m\n\u001b[0;32m    579\u001b[0m     \"\"\"\n\u001b[0;32m    580\u001b[0m     confusion = confusion_matrix(y1, y2, labels=labels,\n\u001b[1;32m--> 581\u001b[1;33m                                  sample_weight=sample_weight)\n\u001b[0m\u001b[0;32m    582\u001b[0m     \u001b[0mn_classes\u001b[0m \u001b[1;33m=\u001b[0m \u001b[0mconfusion\u001b[0m\u001b[1;33m.\u001b[0m\u001b[0mshape\u001b[0m\u001b[1;33m[\u001b[0m\u001b[1;36m0\u001b[0m\u001b[1;33m]\u001b[0m\u001b[1;33m\u001b[0m\u001b[1;33m\u001b[0m\u001b[0m\n\u001b[0;32m    583\u001b[0m     \u001b[0msum0\u001b[0m \u001b[1;33m=\u001b[0m \u001b[0mnp\u001b[0m\u001b[1;33m.\u001b[0m\u001b[0msum\u001b[0m\u001b[1;33m(\u001b[0m\u001b[0mconfusion\u001b[0m\u001b[1;33m,\u001b[0m \u001b[0maxis\u001b[0m\u001b[1;33m=\u001b[0m\u001b[1;36m0\u001b[0m\u001b[1;33m)\u001b[0m\u001b[1;33m\u001b[0m\u001b[1;33m\u001b[0m\u001b[0m\n",
      "\u001b[1;32m~\\Anaconda3\\lib\\site-packages\\sklearn\\metrics\\_classification.py\u001b[0m in \u001b[0;36mconfusion_matrix\u001b[1;34m(y_true, y_pred, labels, sample_weight, normalize)\u001b[0m\n\u001b[0;32m    266\u001b[0m \u001b[1;33m\u001b[0m\u001b[0m\n\u001b[0;32m    267\u001b[0m     \"\"\"\n\u001b[1;32m--> 268\u001b[1;33m     \u001b[0my_type\u001b[0m\u001b[1;33m,\u001b[0m \u001b[0my_true\u001b[0m\u001b[1;33m,\u001b[0m \u001b[0my_pred\u001b[0m \u001b[1;33m=\u001b[0m \u001b[0m_check_targets\u001b[0m\u001b[1;33m(\u001b[0m\u001b[0my_true\u001b[0m\u001b[1;33m,\u001b[0m \u001b[0my_pred\u001b[0m\u001b[1;33m)\u001b[0m\u001b[1;33m\u001b[0m\u001b[1;33m\u001b[0m\u001b[0m\n\u001b[0m\u001b[0;32m    269\u001b[0m     \u001b[1;32mif\u001b[0m \u001b[0my_type\u001b[0m \u001b[1;32mnot\u001b[0m \u001b[1;32min\u001b[0m \u001b[1;33m(\u001b[0m\u001b[1;34m\"binary\"\u001b[0m\u001b[1;33m,\u001b[0m \u001b[1;34m\"multiclass\"\u001b[0m\u001b[1;33m)\u001b[0m\u001b[1;33m:\u001b[0m\u001b[1;33m\u001b[0m\u001b[1;33m\u001b[0m\u001b[0m\n\u001b[0;32m    270\u001b[0m         \u001b[1;32mraise\u001b[0m \u001b[0mValueError\u001b[0m\u001b[1;33m(\u001b[0m\u001b[1;34m\"%s is not supported\"\u001b[0m \u001b[1;33m%\u001b[0m \u001b[0my_type\u001b[0m\u001b[1;33m)\u001b[0m\u001b[1;33m\u001b[0m\u001b[1;33m\u001b[0m\u001b[0m\n",
      "\u001b[1;32m~\\Anaconda3\\lib\\site-packages\\sklearn\\metrics\\_classification.py\u001b[0m in \u001b[0;36m_check_targets\u001b[1;34m(y_true, y_pred)\u001b[0m\n\u001b[0;32m     78\u001b[0m     \u001b[0my_pred\u001b[0m \u001b[1;33m:\u001b[0m \u001b[0marray\u001b[0m \u001b[1;32mor\u001b[0m \u001b[0mindicator\u001b[0m \u001b[0mmatrix\u001b[0m\u001b[1;33m\u001b[0m\u001b[1;33m\u001b[0m\u001b[0m\n\u001b[0;32m     79\u001b[0m     \"\"\"\n\u001b[1;32m---> 80\u001b[1;33m     \u001b[0mcheck_consistent_length\u001b[0m\u001b[1;33m(\u001b[0m\u001b[0my_true\u001b[0m\u001b[1;33m,\u001b[0m \u001b[0my_pred\u001b[0m\u001b[1;33m)\u001b[0m\u001b[1;33m\u001b[0m\u001b[1;33m\u001b[0m\u001b[0m\n\u001b[0m\u001b[0;32m     81\u001b[0m     \u001b[0mtype_true\u001b[0m \u001b[1;33m=\u001b[0m \u001b[0mtype_of_target\u001b[0m\u001b[1;33m(\u001b[0m\u001b[0my_true\u001b[0m\u001b[1;33m)\u001b[0m\u001b[1;33m\u001b[0m\u001b[1;33m\u001b[0m\u001b[0m\n\u001b[0;32m     82\u001b[0m     \u001b[0mtype_pred\u001b[0m \u001b[1;33m=\u001b[0m \u001b[0mtype_of_target\u001b[0m\u001b[1;33m(\u001b[0m\u001b[0my_pred\u001b[0m\u001b[1;33m)\u001b[0m\u001b[1;33m\u001b[0m\u001b[1;33m\u001b[0m\u001b[0m\n",
      "\u001b[1;32m~\\Anaconda3\\lib\\site-packages\\sklearn\\utils\\validation.py\u001b[0m in \u001b[0;36mcheck_consistent_length\u001b[1;34m(*arrays)\u001b[0m\n\u001b[0;32m    210\u001b[0m     \u001b[1;32mif\u001b[0m \u001b[0mlen\u001b[0m\u001b[1;33m(\u001b[0m\u001b[0muniques\u001b[0m\u001b[1;33m)\u001b[0m \u001b[1;33m>\u001b[0m \u001b[1;36m1\u001b[0m\u001b[1;33m:\u001b[0m\u001b[1;33m\u001b[0m\u001b[1;33m\u001b[0m\u001b[0m\n\u001b[0;32m    211\u001b[0m         raise ValueError(\"Found input variables with inconsistent numbers of\"\n\u001b[1;32m--> 212\u001b[1;33m                          \" samples: %r\" % [int(l) for l in lengths])\n\u001b[0m\u001b[0;32m    213\u001b[0m \u001b[1;33m\u001b[0m\u001b[0m\n\u001b[0;32m    214\u001b[0m \u001b[1;33m\u001b[0m\u001b[0m\n",
      "\u001b[1;31mValueError\u001b[0m: Found input variables with inconsistent numbers of samples: [9092, 6000]"
     ]
    }
   ],
   "source": [
    "print(\"Cohen's Kappa : \",cohen_kappa_score(ytesmote,pred))\n",
    "print(\"Matthew's Correlation : \",matthews_corrcoef(ytesmote,pred))\n",
    "print(classification_report(ytesmote,pred))\n",
    "print(accuracy_score(ytesmote,pred))\n",
    "sns.heatmap(confusion_matrix(ytesmote,pred),annot=True,fmt=\"g\")\n",
    "plt.show()"
   ]
  },
  {
   "cell_type": "code",
   "execution_count": 156,
   "metadata": {},
   "outputs": [
    {
     "name": "stdout",
     "output_type": "stream",
     "text": [
      "Best Hyper Parameters: {'max_features': 'log2', 'min_samples_leaf': 11, 'min_samples_split': 2, 'random_state': 42}\n"
     ]
    }
   ],
   "source": [
    "from sklearn.tree import DecisionTreeClassifier\n",
    "#making the instance\n",
    "dt= DecisionTreeClassifier(random_state=42)\n",
    "#Hyper Parameters Set\n",
    "params = {'max_features': ['auto', 'sqrt', 'log2'],\n",
    "          'min_samples_split': [2,3,4,5,6,7,8,9,10,11,12,13,14,15], \n",
    "          'min_samples_leaf':[1,2,3,4,5,6,7,8,9,10,11],\n",
    "          'random_state':[42]}\n",
    "#Making models with hyper parameters sets\n",
    "gs = GridSearchCV(dt, param_grid=params, n_jobs=-1,cv=5,scoring='f1_weighted')\n",
    "#Learning\n",
    "gs.fit(xtrain,ytrain)\n",
    "#The best hyper parameters set\n",
    "print(\"Best Hyper Parameters:\",gs.best_params_)"
   ]
  },
  {
   "cell_type": "code",
   "execution_count": 157,
   "metadata": {},
   "outputs": [],
   "source": [
    "dt_gs=DecisionTreeClassifier(**gs.best_params_)"
   ]
  },
  {
   "cell_type": "code",
   "execution_count": 158,
   "metadata": {},
   "outputs": [],
   "source": [
    "model=dt_gs.fit(xtrain,ytrain)\n",
    "pred=model.predict(xtest)"
   ]
  },
  {
   "cell_type": "code",
   "execution_count": 159,
   "metadata": {},
   "outputs": [
    {
     "name": "stdout",
     "output_type": "stream",
     "text": [
      "Cohen's Kappa :  0.31048406414038066\n",
      "Matthew's Correlation :  0.3235359086698211\n",
      "              precision    recall  f1-score   support\n",
      "\n",
      "           0       0.84      0.92      0.88      4703\n",
      "           1       0.55      0.34      0.42      1297\n",
      "\n",
      "    accuracy                           0.80      6000\n",
      "   macro avg       0.70      0.63      0.65      6000\n",
      "weighted avg       0.78      0.80      0.78      6000\n",
      "\n",
      "0.7985\n"
     ]
    },
    {
     "data": {
      "image/png": "[encoded data removed]",
      "text/plain": [
       "<Figure size 432x288 with 2 Axes>"
      ]
     },
     "metadata": {
      "needs_background": "light"
     },
     "output_type": "display_data"
    }
   ],
   "source": [
    "print(\"Cohen's Kappa : \",cohen_kappa_score(ytest,pred))\n",
    "print(\"Matthew's Correlation : \",matthews_corrcoef(ytest,pred))\n",
    "print(classification_report(ytest,pred))\n",
    "print(accuracy_score(ytest,pred))\n",
    "sns.heatmap(confusion_matrix(ytest,pred),annot=True,fmt=\"g\")\n",
    "plt.show()"
   ]
  },
  {
   "cell_type": "code",
   "execution_count": 160,
   "metadata": {},
   "outputs": [],
   "source": [
    "smotemodel=dt_gs.fit(xtrain,ytrain)\n",
    "smotepred=smotemodel.predict(xtest)"
   ]
  },
  {
   "cell_type": "code",
   "execution_count": 161,
   "metadata": {},
   "outputs": [
    {
     "name": "stdout",
     "output_type": "stream",
     "text": [
      "Cohen's Kappa :  0.31048406414038066\n",
      "Matthew's Correlat ion :  0.3235359086698211\n",
      "              precision    recall  f1-score   support\n",
      "\n",
      "           0       0.84      0.92      0.88      4703\n",
      "           1       0.55      0.34      0.42      1297\n",
      "\n",
      "    accuracy                           0.80      6000\n",
      "   macro avg       0.70      0.63      0.65      6000\n",
      "weighted avg       0.78      0.80      0.78      6000\n",
      "\n",
      "0.7985\n"
     ]
    },
    {
     "data": {
      "image/png": "[encoded data removed]",
      "text/plain": [
       "<Figure size 432x288 with 2 Axes>"
      ]
     },
     "metadata": {
      "needs_background": "light"
     },
     "output_type": "display_data"
    }
   ],
   "source": [
    "print(\"Cohen's Kappa : \",cohen_kappa_score(ytest,smotepred))\n",
    "print(\"Matthew's Correlat ion : \",matthews_corrcoef(ytest,smotepred))\n",
    "print(classification_report(ytest,smotepred))\n",
    "print(accuracy_score(ytest,smotepred))\n",
    "sns.heatmap(confusion_matrix(ytest,smotepred),annot=True,fmt=\"g\")\n",
    "plt.show()"
   ]
  },
  {
   "cell_type": "code",
   "execution_count": 163,
   "metadata": {},
   "outputs": [],
   "source": [
    "smt=SMOTETomek(random_state=42)\n",
    "x_reset,y_reset=smt.fit_sample(x,y)\n",
    "xtrsmote,xtesmote,ytrsmote,ytesmote=train_test_split(x_reset,y_reset,test_size=0.2,random_state=0)"
   ]
  },
  {
   "cell_type": "code",
   "execution_count": 164,
   "metadata": {},
   "outputs": [
    {
     "name": "stdout",
     "output_type": "stream",
     "text": [
      "{'max_features': 'log2', 'min_samples_leaf': 11, 'min_samples_split': 2, 'random_state': 42}\n",
      "0.7697003859575114\n"
     ]
    }
   ],
   "source": [
    "print(gs.best_params_)\n",
    "print(gs.best_score_)"
   ]
  },
  {
   "cell_type": "code",
   "execution_count": 165,
   "metadata": {},
   "outputs": [],
   "source": [
    "dt_gs = DecisionTreeClassifier(**gs.best_params_)\n",
    "model=dt_gs.fit(xtrsmote,ytrsmote)\n",
    "pred=model.predict(xtesmote)"
   ]
  },
  {
   "cell_type": "code",
   "execution_count": 166,
   "metadata": {},
   "outputs": [
    {
     "name": "stdout",
     "output_type": "stream",
     "text": [
      "Cohen's Kappa :  0.49231485284793886\n",
      "Matthew's Correlation :  0.4924071137426783\n",
      "              precision    recall  f1-score   support\n",
      "\n",
      "           0       0.74      0.76      0.75      4539\n",
      "           1       0.75      0.74      0.74      4553\n",
      "\n",
      "    accuracy                           0.75      9092\n",
      "   macro avg       0.75      0.75      0.75      9092\n",
      "weighted avg       0.75      0.75      0.75      9092\n",
      "\n",
      "0.7461504619445667\n"
     ]
    },
    {
     "data": {
      "image/png": "[encoded data removed]",
      "text/plain": [
       "<Figure size 432x288 with 2 Axes>"
      ]
     },
     "metadata": {
      "needs_background": "light"
     },
     "output_type": "display_data"
    }
   ],
   "source": [
    "print(\"Cohen's Kappa : \",cohen_kappa_score(ytesmote,pred))\n",
    "print(\"Matthew's Correlation : \",matthews_corrcoef(ytesmote,pred))\n",
    "print(classification_report(ytesmote,pred))\n",
    "print(accuracy_score(ytesmote,pred))\n",
    "sns.heatmap(confusion_matrix(ytesmote,pred),annot=True,fmt=\"g\")\n",
    "plt.show()"
   ]
  },
  {
   "cell_type": "code",
   "execution_count": 167,
   "metadata": {},
   "outputs": [
    {
     "data": {
      "text/plain": [
       "GridSearchCV(cv=5, error_score=nan,\n",
       "             estimator=GradientBoostingClassifier(ccp_alpha=0.0,\n",
       "                                                  criterion='friedman_mse',\n",
       "                                                  init=None, learning_rate=0.1,\n",
       "                                                  loss='deviance', max_depth=8,\n",
       "                                                  max_features='sqrt',\n",
       "                                                  max_leaf_nodes=None,\n",
       "                                                  min_impurity_decrease=0.0,\n",
       "                                                  min_impurity_split=None,\n",
       "                                                  min_samples_leaf=50,\n",
       "                                                  min_samples_split=500,\n",
       "                                                  min_weight_fraction_leaf=0.0,\n",
       "                                                  n_estimators=100,\n",
       "                                                  n_iter_no_change=None,\n",
       "                                                  presort='deprecated',\n",
       "                                                  random_state=10,\n",
       "                                                  subsample=0.8, tol=0.0001,\n",
       "                                                  validation_fraction=0.1,\n",
       "                                                  verbose=0, warm_start=False),\n",
       "             iid=False, n_jobs=4,\n",
       "             param_grid={'n_estimators': range(20, 81, 10)},\n",
       "             pre_dispatch='2*n_jobs', refit=True, return_train_score=False,\n",
       "             scoring='f1_weighted', verbose=0)"
      ]
     },
     "execution_count": 167,
     "metadata": {},
     "output_type": "execute_result"
    }
   ],
   "source": [
    "param_test1 = {'n_estimators':range(20,81,10)}\n",
    "gsearch1 = GridSearchCV(estimator = GradientBoostingClassifier(learning_rate=0.1, min_samples_split=500,min_samples_leaf=50,max_depth=8,max_features='sqrt',subsample=0.8,random_state=10), \n",
    "param_grid = param_test1, scoring='f1_weighted',n_jobs=4,iid=False, cv=5)\n",
    "gsearch1.fit(xtrain,ytrain)"
   ]
  },
  {
   "cell_type": "code",
   "execution_count": 168,
   "metadata": {},
   "outputs": [
    {
     "data": {
      "text/plain": [
       "{'n_estimators': 70}"
      ]
     },
     "execution_count": 168,
     "metadata": {},
     "output_type": "execute_result"
    }
   ],
   "source": [
    "gsearch1.best_params_"
   ]
  },
  {
   "cell_type": "code",
   "execution_count": 169,
   "metadata": {},
   "outputs": [],
   "source": [
    "gboost_gs = GradientBoostingClassifier(**gsearch1.best_params_)"
   ]
  },
  {
   "cell_type": "code",
   "execution_count": 170,
   "metadata": {},
   "outputs": [],
   "source": [
    "model=gboost_gs.fit(xtrain,ytrain)\n",
    "pred=model.predict(xtest)"
   ]
  },
  {
   "cell_type": "code",
   "execution_count": 171,
   "metadata": {},
   "outputs": [
    {
     "name": "stdout",
     "output_type": "stream",
     "text": [
      "Cohen's Kappa :  0.39224487895790405\n",
      "Matthew's Correlation :  0.42009196200918103\n",
      "              precision    recall  f1-score   support\n",
      "\n",
      "           0       0.85      0.96      0.90      4703\n",
      "           1       0.70      0.37      0.48      1297\n",
      "\n",
      "    accuracy                           0.83      6000\n",
      "   macro avg       0.77      0.66      0.69      6000\n",
      "weighted avg       0.81      0.83      0.81      6000\n",
      "\n",
      "0.8288333333333333\n"
     ]
    },
    {
     "data": {
      "image/png": "[encoded data removed]",
      "text/plain": [
       "<Figure size 432x288 with 2 Axes>"
      ]
     },
     "metadata": {
      "needs_background": "light"
     },
     "output_type": "display_data"
    }
   ],
   "source": [
    "print(\"Cohen's Kappa : \",cohen_kappa_score(ytest,pred))\n",
    "print(\"Matthew's Correlation : \",matthews_corrcoef(ytest,pred))\n",
    "print(classification_report(ytest,pred))\n",
    "print(accuracy_score(ytest,pred))\n",
    "sns.heatmap(confusion_matrix(ytest,pred),annot=True,fmt=\"g\")\n",
    "plt.show()"
   ]
  },
  {
   "cell_type": "code",
   "execution_count": 172,
   "metadata": {},
   "outputs": [],
   "source": [
    "smt=SMOTETomek(random_state=42)\n",
    "x_reset,y_reset=smt.fit_sample(x,y)\n",
    "xtrsmote,xtesmote,ytrsmote,ytesmote=train_test_split(x_reset,y_reset,test_size=0.2,random_state=0)"
   ]
  },
  {
   "cell_type": "code",
   "execution_count": 55,
   "metadata": {
    "scrolled": true
   },
   "outputs": [
    {
     "ename": "NameError",
     "evalue": "name 'ytesmote' is not defined",
     "output_type": "error",
     "traceback": [
      "\u001b[1;31m---------------------------------------------------------------------------\u001b[0m",
      "\u001b[1;31mNameError\u001b[0m                                 Traceback (most recent call last)",
      "\u001b[1;32m<ipython-input-55-fba50a0194f1>\u001b[0m in \u001b[0;36m<module>\u001b[1;34m\u001b[0m\n\u001b[1;32m----> 1\u001b[1;33m \u001b[0mprint\u001b[0m\u001b[1;33m(\u001b[0m\u001b[1;34m\"Cohen's Kappa : \"\u001b[0m\u001b[1;33m,\u001b[0m\u001b[0mcohen_kappa_score\u001b[0m\u001b[1;33m(\u001b[0m\u001b[0mytesmote\u001b[0m\u001b[1;33m,\u001b[0m\u001b[0mpred\u001b[0m\u001b[1;33m)\u001b[0m\u001b[1;33m)\u001b[0m\u001b[1;33m\u001b[0m\u001b[1;33m\u001b[0m\u001b[0m\n\u001b[0m\u001b[0;32m      2\u001b[0m \u001b[0mprint\u001b[0m\u001b[1;33m(\u001b[0m\u001b[1;34m\"Matthew's Correlation : \"\u001b[0m\u001b[1;33m,\u001b[0m\u001b[0mmatthews_corrcoef\u001b[0m\u001b[1;33m(\u001b[0m\u001b[0mytesmote\u001b[0m\u001b[1;33m,\u001b[0m\u001b[0mpred\u001b[0m\u001b[1;33m)\u001b[0m\u001b[1;33m)\u001b[0m\u001b[1;33m\u001b[0m\u001b[1;33m\u001b[0m\u001b[0m\n\u001b[0;32m      3\u001b[0m \u001b[0mprint\u001b[0m\u001b[1;33m(\u001b[0m\u001b[0mclassification_report\u001b[0m\u001b[1;33m(\u001b[0m\u001b[0mytesmote\u001b[0m\u001b[1;33m,\u001b[0m\u001b[0mpred\u001b[0m\u001b[1;33m)\u001b[0m\u001b[1;33m)\u001b[0m\u001b[1;33m\u001b[0m\u001b[1;33m\u001b[0m\u001b[0m\n\u001b[0;32m      4\u001b[0m \u001b[0mprint\u001b[0m\u001b[1;33m(\u001b[0m\u001b[0maccuracy_score\u001b[0m\u001b[1;33m(\u001b[0m\u001b[0mytesmote\u001b[0m\u001b[1;33m,\u001b[0m\u001b[0mpred\u001b[0m\u001b[1;33m)\u001b[0m\u001b[1;33m)\u001b[0m\u001b[1;33m\u001b[0m\u001b[1;33m\u001b[0m\u001b[0m\n\u001b[0;32m      5\u001b[0m \u001b[0msns\u001b[0m\u001b[1;33m.\u001b[0m\u001b[0mheatmap\u001b[0m\u001b[1;33m(\u001b[0m\u001b[0mconfusion_matrix\u001b[0m\u001b[1;33m(\u001b[0m\u001b[0mytesmote\u001b[0m\u001b[1;33m,\u001b[0m\u001b[0mpred\u001b[0m\u001b[1;33m)\u001b[0m\u001b[1;33m,\u001b[0m\u001b[0mannot\u001b[0m\u001b[1;33m=\u001b[0m\u001b[1;32mTrue\u001b[0m\u001b[1;33m,\u001b[0m\u001b[0mfmt\u001b[0m\u001b[1;33m=\u001b[0m\u001b[1;34m\"g\"\u001b[0m\u001b[1;33m)\u001b[0m\u001b[1;33m\u001b[0m\u001b[1;33m\u001b[0m\u001b[0m\n",
      "\u001b[1;31mNameError\u001b[0m: name 'ytesmote' is not defined"
     ]
    }
   ],
   "source": [
    "print(\"Cohen's Kappa : \",cohen_kappa_score(ytesmote,pred))\n",
    "print(\"Matthew's Correlation : \",matthews_corrcoef(ytesmote,pred))\n",
    "print(classification_report(ytesmote,pred))\n",
    "print(accuracy_score(ytesmote,pred))\n",
    "sns.heatmap(confusion_matrix(ytesmote,pred),annot=True,fmt=\"g\")\n",
    "plt.show()"
   ]
  },
  {
   "cell_type": "code",
   "execution_count": 174,
   "metadata": {},
   "outputs": [],
   "source": [
    "# Feature Engineered models with dropped records"
   ]
  },
  {
   "cell_type": "code",
   "execution_count": 5,
   "metadata": {},
   "outputs": [],
   "source": [
    "df1=pd.read_csv(\"credit_card1.csv\")"
   ]
  },
  {
   "cell_type": "code",
   "execution_count": 6,
   "metadata": {},
   "outputs": [
    {
     "data": {
      "text/html": [
       "<div>\n",
       "<style scoped>\n",
       "    .dataframe tbody tr th:only-of-type {\n",
       "        vertical-align: middle;\n",
       "    }\n",
       "\n",
       "    .dataframe tbody tr th {\n",
       "        vertical-align: top;\n",
       "    }\n",
       "\n",
       "    .dataframe thead th {\n",
       "        text-align: right;\n",
       "    }\n",
       "</style>\n",
       "<table border=\"1\" class=\"dataframe\">\n",
       "  <thead>\n",
       "    <tr style=\"text-align: right;\">\n",
       "      <th></th>\n",
       "      <th>ID</th>\n",
       "      <th>LIMIT_BAL</th>\n",
       "      <th>SEX</th>\n",
       "      <th>EDUCATION</th>\n",
       "      <th>MARRIAGE</th>\n",
       "      <th>AGE</th>\n",
       "      <th>PAY_1</th>\n",
       "      <th>PAY_2</th>\n",
       "      <th>PAY_3</th>\n",
       "      <th>PAY_4</th>\n",
       "      <th>...</th>\n",
       "      <th>BILL_AMT4</th>\n",
       "      <th>BILL_AMT5</th>\n",
       "      <th>BILL_AMT6</th>\n",
       "      <th>PAY_AMT1</th>\n",
       "      <th>PAY_AMT2</th>\n",
       "      <th>PAY_AMT3</th>\n",
       "      <th>PAY_AMT4</th>\n",
       "      <th>PAY_AMT5</th>\n",
       "      <th>PAY_AMT6</th>\n",
       "      <th>DEFAULT</th>\n",
       "    </tr>\n",
       "  </thead>\n",
       "  <tbody>\n",
       "    <tr>\n",
       "      <td>0</td>\n",
       "      <td>1</td>\n",
       "      <td>20000</td>\n",
       "      <td>2</td>\n",
       "      <td>2</td>\n",
       "      <td>1</td>\n",
       "      <td>24</td>\n",
       "      <td>2</td>\n",
       "      <td>2</td>\n",
       "      <td>-1</td>\n",
       "      <td>-1</td>\n",
       "      <td>...</td>\n",
       "      <td>0</td>\n",
       "      <td>0</td>\n",
       "      <td>0</td>\n",
       "      <td>0</td>\n",
       "      <td>689</td>\n",
       "      <td>0</td>\n",
       "      <td>0</td>\n",
       "      <td>0</td>\n",
       "      <td>0</td>\n",
       "      <td>1</td>\n",
       "    </tr>\n",
       "    <tr>\n",
       "      <td>1</td>\n",
       "      <td>2</td>\n",
       "      <td>120000</td>\n",
       "      <td>2</td>\n",
       "      <td>2</td>\n",
       "      <td>2</td>\n",
       "      <td>26</td>\n",
       "      <td>-1</td>\n",
       "      <td>2</td>\n",
       "      <td>0</td>\n",
       "      <td>0</td>\n",
       "      <td>...</td>\n",
       "      <td>3272</td>\n",
       "      <td>3455</td>\n",
       "      <td>3261</td>\n",
       "      <td>0</td>\n",
       "      <td>1000</td>\n",
       "      <td>1000</td>\n",
       "      <td>1000</td>\n",
       "      <td>0</td>\n",
       "      <td>2000</td>\n",
       "      <td>1</td>\n",
       "    </tr>\n",
       "    <tr>\n",
       "      <td>2</td>\n",
       "      <td>3</td>\n",
       "      <td>90000</td>\n",
       "      <td>2</td>\n",
       "      <td>2</td>\n",
       "      <td>2</td>\n",
       "      <td>34</td>\n",
       "      <td>0</td>\n",
       "      <td>0</td>\n",
       "      <td>0</td>\n",
       "      <td>0</td>\n",
       "      <td>...</td>\n",
       "      <td>14331</td>\n",
       "      <td>14948</td>\n",
       "      <td>15549</td>\n",
       "      <td>1518</td>\n",
       "      <td>1500</td>\n",
       "      <td>1000</td>\n",
       "      <td>1000</td>\n",
       "      <td>1000</td>\n",
       "      <td>5000</td>\n",
       "      <td>0</td>\n",
       "    </tr>\n",
       "    <tr>\n",
       "      <td>3</td>\n",
       "      <td>4</td>\n",
       "      <td>50000</td>\n",
       "      <td>2</td>\n",
       "      <td>2</td>\n",
       "      <td>1</td>\n",
       "      <td>37</td>\n",
       "      <td>0</td>\n",
       "      <td>0</td>\n",
       "      <td>0</td>\n",
       "      <td>0</td>\n",
       "      <td>...</td>\n",
       "      <td>28314</td>\n",
       "      <td>28959</td>\n",
       "      <td>29547</td>\n",
       "      <td>2000</td>\n",
       "      <td>2019</td>\n",
       "      <td>1200</td>\n",
       "      <td>1100</td>\n",
       "      <td>1069</td>\n",
       "      <td>1000</td>\n",
       "      <td>0</td>\n",
       "    </tr>\n",
       "    <tr>\n",
       "      <td>4</td>\n",
       "      <td>5</td>\n",
       "      <td>50000</td>\n",
       "      <td>1</td>\n",
       "      <td>2</td>\n",
       "      <td>1</td>\n",
       "      <td>57</td>\n",
       "      <td>-1</td>\n",
       "      <td>0</td>\n",
       "      <td>-1</td>\n",
       "      <td>0</td>\n",
       "      <td>...</td>\n",
       "      <td>20940</td>\n",
       "      <td>19146</td>\n",
       "      <td>19131</td>\n",
       "      <td>2000</td>\n",
       "      <td>36681</td>\n",
       "      <td>10000</td>\n",
       "      <td>9000</td>\n",
       "      <td>689</td>\n",
       "      <td>679</td>\n",
       "      <td>0</td>\n",
       "    </tr>\n",
       "  </tbody>\n",
       "</table>\n",
       "<p>5 rows × 25 columns</p>\n",
       "</div>"
      ],
      "text/plain": [
       "   ID  LIMIT_BAL  SEX  EDUCATION  MARRIAGE  AGE  PAY_1  PAY_2  PAY_3  PAY_4  \\\n",
       "0   1      20000    2          2         1   24      2      2     -1     -1   \n",
       "1   2     120000    2          2         2   26     -1      2      0      0   \n",
       "2   3      90000    2          2         2   34      0      0      0      0   \n",
       "3   4      50000    2          2         1   37      0      0      0      0   \n",
       "4   5      50000    1          2         1   57     -1      0     -1      0   \n",
       "\n",
       "   ...  BILL_AMT4  BILL_AMT5  BILL_AMT6  PAY_AMT1  PAY_AMT2  PAY_AMT3  \\\n",
       "0  ...          0          0          0         0       689         0   \n",
       "1  ...       3272       3455       3261         0      1000      1000   \n",
       "2  ...      14331      14948      15549      1518      1500      1000   \n",
       "3  ...      28314      28959      29547      2000      2019      1200   \n",
       "4  ...      20940      19146      19131      2000     36681     10000   \n",
       "\n",
       "   PAY_AMT4  PAY_AMT5  PAY_AMT6  DEFAULT  \n",
       "0         0         0         0        1  \n",
       "1      1000         0      2000        1  \n",
       "2      1000      1000      5000        0  \n",
       "3      1100      1069      1000        0  \n",
       "4      9000       689       679        0  \n",
       "\n",
       "[5 rows x 25 columns]"
      ]
     },
     "execution_count": 6,
     "metadata": {},
     "output_type": "execute_result"
    }
   ],
   "source": [
    "df1.head()"
   ]
  },
  {
   "cell_type": "code",
   "execution_count": 7,
   "metadata": {},
   "outputs": [],
   "source": [
    "df1[\"Total_Risk_Value\"]=df1[\"PAY_1\"]+df1[\"PAY_2\"]+df1[\"PAY_3\"]+df1[\"PAY_4\"]+df1[\"PAY_5\"]+df1[\"PAY_6\"]"
   ]
  },
  {
   "cell_type": "code",
   "execution_count": 8,
   "metadata": {},
   "outputs": [],
   "source": [
    "df1.drop([\"PAY_1\",\"PAY_2\",\"PAY_3\",\"PAY_4\",\"PAY_5\",\"PAY_6\"],axis=1,inplace=True)"
   ]
  },
  {
   "cell_type": "code",
   "execution_count": 9,
   "metadata": {},
   "outputs": [
    {
     "data": {
      "text/html": [
       "<div>\n",
       "<style scoped>\n",
       "    .dataframe tbody tr th:only-of-type {\n",
       "        vertical-align: middle;\n",
       "    }\n",
       "\n",
       "    .dataframe tbody tr th {\n",
       "        vertical-align: top;\n",
       "    }\n",
       "\n",
       "    .dataframe thead th {\n",
       "        text-align: right;\n",
       "    }\n",
       "</style>\n",
       "<table border=\"1\" class=\"dataframe\">\n",
       "  <thead>\n",
       "    <tr style=\"text-align: right;\">\n",
       "      <th></th>\n",
       "      <th>ID</th>\n",
       "      <th>LIMIT_BAL</th>\n",
       "      <th>SEX</th>\n",
       "      <th>EDUCATION</th>\n",
       "      <th>MARRIAGE</th>\n",
       "      <th>AGE</th>\n",
       "      <th>BILL_AMT1</th>\n",
       "      <th>BILL_AMT2</th>\n",
       "      <th>BILL_AMT3</th>\n",
       "      <th>BILL_AMT4</th>\n",
       "      <th>BILL_AMT5</th>\n",
       "      <th>BILL_AMT6</th>\n",
       "      <th>PAY_AMT1</th>\n",
       "      <th>PAY_AMT2</th>\n",
       "      <th>PAY_AMT3</th>\n",
       "      <th>PAY_AMT4</th>\n",
       "      <th>PAY_AMT5</th>\n",
       "      <th>PAY_AMT6</th>\n",
       "      <th>DEFAULT</th>\n",
       "      <th>Total_Risk_Value</th>\n",
       "    </tr>\n",
       "  </thead>\n",
       "  <tbody>\n",
       "    <tr>\n",
       "      <td>0</td>\n",
       "      <td>1</td>\n",
       "      <td>20000</td>\n",
       "      <td>2</td>\n",
       "      <td>2</td>\n",
       "      <td>1</td>\n",
       "      <td>24</td>\n",
       "      <td>3913</td>\n",
       "      <td>3102</td>\n",
       "      <td>689</td>\n",
       "      <td>0</td>\n",
       "      <td>0</td>\n",
       "      <td>0</td>\n",
       "      <td>0</td>\n",
       "      <td>689</td>\n",
       "      <td>0</td>\n",
       "      <td>0</td>\n",
       "      <td>0</td>\n",
       "      <td>0</td>\n",
       "      <td>1</td>\n",
       "      <td>-2</td>\n",
       "    </tr>\n",
       "    <tr>\n",
       "      <td>1</td>\n",
       "      <td>2</td>\n",
       "      <td>120000</td>\n",
       "      <td>2</td>\n",
       "      <td>2</td>\n",
       "      <td>2</td>\n",
       "      <td>26</td>\n",
       "      <td>2682</td>\n",
       "      <td>1725</td>\n",
       "      <td>2682</td>\n",
       "      <td>3272</td>\n",
       "      <td>3455</td>\n",
       "      <td>3261</td>\n",
       "      <td>0</td>\n",
       "      <td>1000</td>\n",
       "      <td>1000</td>\n",
       "      <td>1000</td>\n",
       "      <td>0</td>\n",
       "      <td>2000</td>\n",
       "      <td>1</td>\n",
       "      <td>3</td>\n",
       "    </tr>\n",
       "    <tr>\n",
       "      <td>2</td>\n",
       "      <td>3</td>\n",
       "      <td>90000</td>\n",
       "      <td>2</td>\n",
       "      <td>2</td>\n",
       "      <td>2</td>\n",
       "      <td>34</td>\n",
       "      <td>29239</td>\n",
       "      <td>14027</td>\n",
       "      <td>13559</td>\n",
       "      <td>14331</td>\n",
       "      <td>14948</td>\n",
       "      <td>15549</td>\n",
       "      <td>1518</td>\n",
       "      <td>1500</td>\n",
       "      <td>1000</td>\n",
       "      <td>1000</td>\n",
       "      <td>1000</td>\n",
       "      <td>5000</td>\n",
       "      <td>0</td>\n",
       "      <td>0</td>\n",
       "    </tr>\n",
       "    <tr>\n",
       "      <td>3</td>\n",
       "      <td>4</td>\n",
       "      <td>50000</td>\n",
       "      <td>2</td>\n",
       "      <td>2</td>\n",
       "      <td>1</td>\n",
       "      <td>37</td>\n",
       "      <td>46990</td>\n",
       "      <td>48233</td>\n",
       "      <td>49291</td>\n",
       "      <td>28314</td>\n",
       "      <td>28959</td>\n",
       "      <td>29547</td>\n",
       "      <td>2000</td>\n",
       "      <td>2019</td>\n",
       "      <td>1200</td>\n",
       "      <td>1100</td>\n",
       "      <td>1069</td>\n",
       "      <td>1000</td>\n",
       "      <td>0</td>\n",
       "      <td>0</td>\n",
       "    </tr>\n",
       "    <tr>\n",
       "      <td>4</td>\n",
       "      <td>5</td>\n",
       "      <td>50000</td>\n",
       "      <td>1</td>\n",
       "      <td>2</td>\n",
       "      <td>1</td>\n",
       "      <td>57</td>\n",
       "      <td>8617</td>\n",
       "      <td>5670</td>\n",
       "      <td>35835</td>\n",
       "      <td>20940</td>\n",
       "      <td>19146</td>\n",
       "      <td>19131</td>\n",
       "      <td>2000</td>\n",
       "      <td>36681</td>\n",
       "      <td>10000</td>\n",
       "      <td>9000</td>\n",
       "      <td>689</td>\n",
       "      <td>679</td>\n",
       "      <td>0</td>\n",
       "      <td>-2</td>\n",
       "    </tr>\n",
       "  </tbody>\n",
       "</table>\n",
       "</div>"
      ],
      "text/plain": [
       "   ID  LIMIT_BAL  SEX  EDUCATION  MARRIAGE  AGE  BILL_AMT1  BILL_AMT2  \\\n",
       "0   1      20000    2          2         1   24       3913       3102   \n",
       "1   2     120000    2          2         2   26       2682       1725   \n",
       "2   3      90000    2          2         2   34      29239      14027   \n",
       "3   4      50000    2          2         1   37      46990      48233   \n",
       "4   5      50000    1          2         1   57       8617       5670   \n",
       "\n",
       "   BILL_AMT3  BILL_AMT4  BILL_AMT5  BILL_AMT6  PAY_AMT1  PAY_AMT2  PAY_AMT3  \\\n",
       "0        689          0          0          0         0       689         0   \n",
       "1       2682       3272       3455       3261         0      1000      1000   \n",
       "2      13559      14331      14948      15549      1518      1500      1000   \n",
       "3      49291      28314      28959      29547      2000      2019      1200   \n",
       "4      35835      20940      19146      19131      2000     36681     10000   \n",
       "\n",
       "   PAY_AMT4  PAY_AMT5  PAY_AMT6  DEFAULT  Total_Risk_Value  \n",
       "0         0         0         0        1                -2  \n",
       "1      1000         0      2000        1                 3  \n",
       "2      1000      1000      5000        0                 0  \n",
       "3      1100      1069      1000        0                 0  \n",
       "4      9000       689       679        0                -2  "
      ]
     },
     "execution_count": 9,
     "metadata": {},
     "output_type": "execute_result"
    }
   ],
   "source": [
    "df1.head()"
   ]
  },
  {
   "cell_type": "code",
   "execution_count": 10,
   "metadata": {},
   "outputs": [],
   "source": [
    "df1.drop([\"ID\"],axis=1,inplace=True)"
   ]
  },
  {
   "cell_type": "code",
   "execution_count": 11,
   "metadata": {},
   "outputs": [],
   "source": [
    "df1.SEX=df1.SEX.map({2: 'Female', 1:'Male'})"
   ]
  },
  {
   "cell_type": "code",
   "execution_count": 12,
   "metadata": {},
   "outputs": [],
   "source": [
    "df1.EDUCATION=df1.EDUCATION.map({1:'GraduateSchool', 2:'University', 3:'HighSchool', 4:'Others', 0:'Others', 5:'Others', 6:'Others'})"
   ]
  },
  {
   "cell_type": "code",
   "execution_count": 13,
   "metadata": {},
   "outputs": [],
   "source": [
    "df1.MARRIAGE=df1.MARRIAGE.map({1:'Married', 2:'Single', 3:'Others', 0:'Others'})"
   ]
  },
  {
   "cell_type": "code",
   "execution_count": 14,
   "metadata": {},
   "outputs": [],
   "source": [
    "df1[\"demographics\"]=df1[\"SEX\"].astype(\"str\")+\"_\"+df1[\"EDUCATION\"]+\"_\"+df1[\"MARRIAGE\"]"
   ]
  },
  {
   "cell_type": "code",
   "execution_count": 15,
   "metadata": {},
   "outputs": [],
   "source": [
    "df1.drop([\"SEX\",\"EDUCATION\",\"MARRIAGE\"],axis=1,inplace=True)"
   ]
  },
  {
   "cell_type": "code",
   "execution_count": 16,
   "metadata": {},
   "outputs": [],
   "source": [
    "def age_cat(y):\n",
    "    if y>=20 and y<40:\n",
    "        return \"Young\"\n",
    "    elif y>=40 and y<60:\n",
    "        return \"Middle Aged\"\n",
    "    elif y>=60 and y<80:\n",
    "        return \"Senior Citizens\"\n",
    "df1['Age_Category']=df1.AGE.apply(age_cat)"
   ]
  },
  {
   "cell_type": "code",
   "execution_count": 17,
   "metadata": {},
   "outputs": [],
   "source": [
    "df1.drop(columns='AGE', inplace=True)"
   ]
  },
  {
   "cell_type": "code",
   "execution_count": 18,
   "metadata": {},
   "outputs": [],
   "source": [
    "def limit_cat(x):\n",
    "    if x>=10000 and x<208000:\n",
    "        return \"Low Limit Holder\"\n",
    "    elif x>=208000 and x<406000:\n",
    "        return \"Medium Limit Holder\"\n",
    "    elif x>=406000 and x<604000:\n",
    "        return \"High Limit Holder\"\n",
    "    elif x>=604000 and x<802000:\n",
    "        return \"Very High Limit Holder\"\n",
    "    elif x>=802000 and x<1000000:\n",
    "        return \"Ultra High Limit Holder\"\n",
    "df1['Credit_Limit_Category']=df1.LIMIT_BAL.apply(limit_cat)"
   ]
  },
  {
   "cell_type": "code",
   "execution_count": 19,
   "metadata": {},
   "outputs": [],
   "source": [
    "df1.drop(columns='LIMIT_BAL', inplace=True)"
   ]
  },
  {
   "cell_type": "code",
   "execution_count": 20,
   "metadata": {},
   "outputs": [
    {
     "data": {
      "text/html": [
       "<div>\n",
       "<style scoped>\n",
       "    .dataframe tbody tr th:only-of-type {\n",
       "        vertical-align: middle;\n",
       "    }\n",
       "\n",
       "    .dataframe tbody tr th {\n",
       "        vertical-align: top;\n",
       "    }\n",
       "\n",
       "    .dataframe thead th {\n",
       "        text-align: right;\n",
       "    }\n",
       "</style>\n",
       "<table border=\"1\" class=\"dataframe\">\n",
       "  <thead>\n",
       "    <tr style=\"text-align: right;\">\n",
       "      <th></th>\n",
       "      <th>BILL_AMT1</th>\n",
       "      <th>BILL_AMT2</th>\n",
       "      <th>BILL_AMT3</th>\n",
       "      <th>BILL_AMT4</th>\n",
       "      <th>BILL_AMT5</th>\n",
       "      <th>BILL_AMT6</th>\n",
       "      <th>PAY_AMT1</th>\n",
       "      <th>PAY_AMT2</th>\n",
       "      <th>PAY_AMT3</th>\n",
       "      <th>PAY_AMT4</th>\n",
       "      <th>PAY_AMT5</th>\n",
       "      <th>PAY_AMT6</th>\n",
       "      <th>DEFAULT</th>\n",
       "      <th>Total_Risk_Value</th>\n",
       "      <th>demographics</th>\n",
       "      <th>Age_Category</th>\n",
       "      <th>Credit_Limit_Category</th>\n",
       "    </tr>\n",
       "  </thead>\n",
       "  <tbody>\n",
       "    <tr>\n",
       "      <td>0</td>\n",
       "      <td>3913</td>\n",
       "      <td>3102</td>\n",
       "      <td>689</td>\n",
       "      <td>0</td>\n",
       "      <td>0</td>\n",
       "      <td>0</td>\n",
       "      <td>0</td>\n",
       "      <td>689</td>\n",
       "      <td>0</td>\n",
       "      <td>0</td>\n",
       "      <td>0</td>\n",
       "      <td>0</td>\n",
       "      <td>1</td>\n",
       "      <td>-2</td>\n",
       "      <td>Female_University_Married</td>\n",
       "      <td>Young</td>\n",
       "      <td>Low Limit Holder</td>\n",
       "    </tr>\n",
       "    <tr>\n",
       "      <td>1</td>\n",
       "      <td>2682</td>\n",
       "      <td>1725</td>\n",
       "      <td>2682</td>\n",
       "      <td>3272</td>\n",
       "      <td>3455</td>\n",
       "      <td>3261</td>\n",
       "      <td>0</td>\n",
       "      <td>1000</td>\n",
       "      <td>1000</td>\n",
       "      <td>1000</td>\n",
       "      <td>0</td>\n",
       "      <td>2000</td>\n",
       "      <td>1</td>\n",
       "      <td>3</td>\n",
       "      <td>Female_University_Single</td>\n",
       "      <td>Young</td>\n",
       "      <td>Low Limit Holder</td>\n",
       "    </tr>\n",
       "    <tr>\n",
       "      <td>2</td>\n",
       "      <td>29239</td>\n",
       "      <td>14027</td>\n",
       "      <td>13559</td>\n",
       "      <td>14331</td>\n",
       "      <td>14948</td>\n",
       "      <td>15549</td>\n",
       "      <td>1518</td>\n",
       "      <td>1500</td>\n",
       "      <td>1000</td>\n",
       "      <td>1000</td>\n",
       "      <td>1000</td>\n",
       "      <td>5000</td>\n",
       "      <td>0</td>\n",
       "      <td>0</td>\n",
       "      <td>Female_University_Single</td>\n",
       "      <td>Young</td>\n",
       "      <td>Low Limit Holder</td>\n",
       "    </tr>\n",
       "    <tr>\n",
       "      <td>3</td>\n",
       "      <td>46990</td>\n",
       "      <td>48233</td>\n",
       "      <td>49291</td>\n",
       "      <td>28314</td>\n",
       "      <td>28959</td>\n",
       "      <td>29547</td>\n",
       "      <td>2000</td>\n",
       "      <td>2019</td>\n",
       "      <td>1200</td>\n",
       "      <td>1100</td>\n",
       "      <td>1069</td>\n",
       "      <td>1000</td>\n",
       "      <td>0</td>\n",
       "      <td>0</td>\n",
       "      <td>Female_University_Married</td>\n",
       "      <td>Young</td>\n",
       "      <td>Low Limit Holder</td>\n",
       "    </tr>\n",
       "    <tr>\n",
       "      <td>4</td>\n",
       "      <td>8617</td>\n",
       "      <td>5670</td>\n",
       "      <td>35835</td>\n",
       "      <td>20940</td>\n",
       "      <td>19146</td>\n",
       "      <td>19131</td>\n",
       "      <td>2000</td>\n",
       "      <td>36681</td>\n",
       "      <td>10000</td>\n",
       "      <td>9000</td>\n",
       "      <td>689</td>\n",
       "      <td>679</td>\n",
       "      <td>0</td>\n",
       "      <td>-2</td>\n",
       "      <td>Male_University_Married</td>\n",
       "      <td>Middle Aged</td>\n",
       "      <td>Low Limit Holder</td>\n",
       "    </tr>\n",
       "  </tbody>\n",
       "</table>\n",
       "</div>"
      ],
      "text/plain": [
       "   BILL_AMT1  BILL_AMT2  BILL_AMT3  BILL_AMT4  BILL_AMT5  BILL_AMT6  PAY_AMT1  \\\n",
       "0       3913       3102        689          0          0          0         0   \n",
       "1       2682       1725       2682       3272       3455       3261         0   \n",
       "2      29239      14027      13559      14331      14948      15549      1518   \n",
       "3      46990      48233      49291      28314      28959      29547      2000   \n",
       "4       8617       5670      35835      20940      19146      19131      2000   \n",
       "\n",
       "   PAY_AMT2  PAY_AMT3  PAY_AMT4  PAY_AMT5  PAY_AMT6  DEFAULT  \\\n",
       "0       689         0         0         0         0        1   \n",
       "1      1000      1000      1000         0      2000        1   \n",
       "2      1500      1000      1000      1000      5000        0   \n",
       "3      2019      1200      1100      1069      1000        0   \n",
       "4     36681     10000      9000       689       679        0   \n",
       "\n",
       "   Total_Risk_Value               demographics Age_Category  \\\n",
       "0                -2  Female_University_Married        Young   \n",
       "1                 3   Female_University_Single        Young   \n",
       "2                 0   Female_University_Single        Young   \n",
       "3                 0  Female_University_Married        Young   \n",
       "4                -2    Male_University_Married  Middle Aged   \n",
       "\n",
       "  Credit_Limit_Category  \n",
       "0      Low Limit Holder  \n",
       "1      Low Limit Holder  \n",
       "2      Low Limit Holder  \n",
       "3      Low Limit Holder  \n",
       "4      Low Limit Holder  "
      ]
     },
     "execution_count": 20,
     "metadata": {},
     "output_type": "execute_result"
    }
   ],
   "source": [
    "df1.head()"
   ]
  },
  {
   "cell_type": "code",
   "execution_count": 21,
   "metadata": {},
   "outputs": [],
   "source": [
    "df1=pd.get_dummies(df1,drop_first=True)"
   ]
  },
  {
   "cell_type": "code",
   "execution_count": 22,
   "metadata": {},
   "outputs": [],
   "source": [
    "df1[\"Avg.Bill\"]=(df1[\"BILL_AMT1\"]+df1[\"BILL_AMT2\"]+df1[\"BILL_AMT3\"]+df1[\"BILL_AMT4\"]+df1[\"BILL_AMT5\"]+df1[\"BILL_AMT6\"])/6"
   ]
  },
  {
   "cell_type": "code",
   "execution_count": 265,
   "metadata": {},
   "outputs": [],
   "source": [
    "df1[\"Avg.Outstanding\"]=((df1[\"BILL_AMT6\"]-df1[\"PAY_AMT5\"])+(df1[\"BILL_AMT5\"]-df1[\"PAY_AMT4\"])+(df1[\"BILL_AMT4\"]-df1[\"PAY_AMT3\"])+(df1[\"BILL_AMT3\"]-df1[\"PAY_AMT2\"])+(df1[\"BILL_AMT2\"]-df1[\"PAY_AMT1\"]))/5"
   ]
  },
  {
   "cell_type": "code",
   "execution_count": 23,
   "metadata": {},
   "outputs": [],
   "source": [
    "df1[\"Avg.Pay\"]=(df1[\"PAY_AMT1\"]+df1[\"PAY_AMT2\"]+df1[\"PAY_AMT3\"]+df1[\"PAY_AMT4\"]+df1[\"PAY_AMT5\"]+df1[\"PAY_AMT6\"])/6"
   ]
  },
  {
   "cell_type": "code",
   "execution_count": 24,
   "metadata": {},
   "outputs": [],
   "source": [
    "df1.drop([\"BILL_AMT1\",\"BILL_AMT2\",\"BILL_AMT3\",\"BILL_AMT4\",\"BILL_AMT5\",\"BILL_AMT6\"],axis=1,inplace=True)"
   ]
  },
  {
   "cell_type": "code",
   "execution_count": 25,
   "metadata": {},
   "outputs": [],
   "source": [
    "df1.drop([\"PAY_AMT1\",\"PAY_AMT2\",\"PAY_AMT3\",\"PAY_AMT4\",\"PAY_AMT5\",\"PAY_AMT6\"],axis=1,inplace=True)"
   ]
  },
  {
   "cell_type": "code",
   "execution_count": 26,
   "metadata": {},
   "outputs": [
    {
     "data": {
      "text/html": [
       "<div>\n",
       "<style scoped>\n",
       "    .dataframe tbody tr th:only-of-type {\n",
       "        vertical-align: middle;\n",
       "    }\n",
       "\n",
       "    .dataframe tbody tr th {\n",
       "        vertical-align: top;\n",
       "    }\n",
       "\n",
       "    .dataframe thead th {\n",
       "        text-align: right;\n",
       "    }\n",
       "</style>\n",
       "<table border=\"1\" class=\"dataframe\">\n",
       "  <thead>\n",
       "    <tr style=\"text-align: right;\">\n",
       "      <th></th>\n",
       "      <th>DEFAULT</th>\n",
       "      <th>Total_Risk_Value</th>\n",
       "      <th>demographics_Female_GraduateSchool_Others</th>\n",
       "      <th>demographics_Female_GraduateSchool_Single</th>\n",
       "      <th>demographics_Female_HighSchool_Married</th>\n",
       "      <th>demographics_Female_HighSchool_Others</th>\n",
       "      <th>demographics_Female_HighSchool_Single</th>\n",
       "      <th>demographics_Female_Others_Married</th>\n",
       "      <th>demographics_Female_Others_Others</th>\n",
       "      <th>demographics_Female_Others_Single</th>\n",
       "      <th>...</th>\n",
       "      <th>demographics_Male_University_Married</th>\n",
       "      <th>demographics_Male_University_Others</th>\n",
       "      <th>demographics_Male_University_Single</th>\n",
       "      <th>Age_Category_Senior Citizens</th>\n",
       "      <th>Age_Category_Young</th>\n",
       "      <th>Credit_Limit_Category_Low Limit Holder</th>\n",
       "      <th>Credit_Limit_Category_Medium Limit Holder</th>\n",
       "      <th>Credit_Limit_Category_Very High Limit Holder</th>\n",
       "      <th>Avg.Bill</th>\n",
       "      <th>Avg.Pay</th>\n",
       "    </tr>\n",
       "  </thead>\n",
       "  <tbody>\n",
       "    <tr>\n",
       "      <td>0</td>\n",
       "      <td>1</td>\n",
       "      <td>-2</td>\n",
       "      <td>0</td>\n",
       "      <td>0</td>\n",
       "      <td>0</td>\n",
       "      <td>0</td>\n",
       "      <td>0</td>\n",
       "      <td>0</td>\n",
       "      <td>0</td>\n",
       "      <td>0</td>\n",
       "      <td>...</td>\n",
       "      <td>0</td>\n",
       "      <td>0</td>\n",
       "      <td>0</td>\n",
       "      <td>0</td>\n",
       "      <td>1</td>\n",
       "      <td>1</td>\n",
       "      <td>0</td>\n",
       "      <td>0</td>\n",
       "      <td>1284.000000</td>\n",
       "      <td>114.833333</td>\n",
       "    </tr>\n",
       "    <tr>\n",
       "      <td>1</td>\n",
       "      <td>1</td>\n",
       "      <td>3</td>\n",
       "      <td>0</td>\n",
       "      <td>0</td>\n",
       "      <td>0</td>\n",
       "      <td>0</td>\n",
       "      <td>0</td>\n",
       "      <td>0</td>\n",
       "      <td>0</td>\n",
       "      <td>0</td>\n",
       "      <td>...</td>\n",
       "      <td>0</td>\n",
       "      <td>0</td>\n",
       "      <td>0</td>\n",
       "      <td>0</td>\n",
       "      <td>1</td>\n",
       "      <td>1</td>\n",
       "      <td>0</td>\n",
       "      <td>0</td>\n",
       "      <td>2846.166667</td>\n",
       "      <td>833.333333</td>\n",
       "    </tr>\n",
       "    <tr>\n",
       "      <td>2</td>\n",
       "      <td>0</td>\n",
       "      <td>0</td>\n",
       "      <td>0</td>\n",
       "      <td>0</td>\n",
       "      <td>0</td>\n",
       "      <td>0</td>\n",
       "      <td>0</td>\n",
       "      <td>0</td>\n",
       "      <td>0</td>\n",
       "      <td>0</td>\n",
       "      <td>...</td>\n",
       "      <td>0</td>\n",
       "      <td>0</td>\n",
       "      <td>0</td>\n",
       "      <td>0</td>\n",
       "      <td>1</td>\n",
       "      <td>1</td>\n",
       "      <td>0</td>\n",
       "      <td>0</td>\n",
       "      <td>16942.166667</td>\n",
       "      <td>1836.333333</td>\n",
       "    </tr>\n",
       "    <tr>\n",
       "      <td>3</td>\n",
       "      <td>0</td>\n",
       "      <td>0</td>\n",
       "      <td>0</td>\n",
       "      <td>0</td>\n",
       "      <td>0</td>\n",
       "      <td>0</td>\n",
       "      <td>0</td>\n",
       "      <td>0</td>\n",
       "      <td>0</td>\n",
       "      <td>0</td>\n",
       "      <td>...</td>\n",
       "      <td>0</td>\n",
       "      <td>0</td>\n",
       "      <td>0</td>\n",
       "      <td>0</td>\n",
       "      <td>1</td>\n",
       "      <td>1</td>\n",
       "      <td>0</td>\n",
       "      <td>0</td>\n",
       "      <td>38555.666667</td>\n",
       "      <td>1398.000000</td>\n",
       "    </tr>\n",
       "    <tr>\n",
       "      <td>4</td>\n",
       "      <td>0</td>\n",
       "      <td>-2</td>\n",
       "      <td>0</td>\n",
       "      <td>0</td>\n",
       "      <td>0</td>\n",
       "      <td>0</td>\n",
       "      <td>0</td>\n",
       "      <td>0</td>\n",
       "      <td>0</td>\n",
       "      <td>0</td>\n",
       "      <td>...</td>\n",
       "      <td>1</td>\n",
       "      <td>0</td>\n",
       "      <td>0</td>\n",
       "      <td>0</td>\n",
       "      <td>0</td>\n",
       "      <td>1</td>\n",
       "      <td>0</td>\n",
       "      <td>0</td>\n",
       "      <td>18223.166667</td>\n",
       "      <td>9841.500000</td>\n",
       "    </tr>\n",
       "  </tbody>\n",
       "</table>\n",
       "<p>5 rows × 32 columns</p>\n",
       "</div>"
      ],
      "text/plain": [
       "   DEFAULT  Total_Risk_Value  demographics_Female_GraduateSchool_Others  \\\n",
       "0        1                -2                                          0   \n",
       "1        1                 3                                          0   \n",
       "2        0                 0                                          0   \n",
       "3        0                 0                                          0   \n",
       "4        0                -2                                          0   \n",
       "\n",
       "   demographics_Female_GraduateSchool_Single  \\\n",
       "0                                          0   \n",
       "1                                          0   \n",
       "2                                          0   \n",
       "3                                          0   \n",
       "4                                          0   \n",
       "\n",
       "   demographics_Female_HighSchool_Married  \\\n",
       "0                                       0   \n",
       "1                                       0   \n",
       "2                                       0   \n",
       "3                                       0   \n",
       "4                                       0   \n",
       "\n",
       "   demographics_Female_HighSchool_Others  \\\n",
       "0                                      0   \n",
       "1                                      0   \n",
       "2                                      0   \n",
       "3                                      0   \n",
       "4                                      0   \n",
       "\n",
       "   demographics_Female_HighSchool_Single  demographics_Female_Others_Married  \\\n",
       "0                                      0                                   0   \n",
       "1                                      0                                   0   \n",
       "2                                      0                                   0   \n",
       "3                                      0                                   0   \n",
       "4                                      0                                   0   \n",
       "\n",
       "   demographics_Female_Others_Others  demographics_Female_Others_Single  ...  \\\n",
       "0                                  0                                  0  ...   \n",
       "1                                  0                                  0  ...   \n",
       "2                                  0                                  0  ...   \n",
       "3                                  0                                  0  ...   \n",
       "4                                  0                                  0  ...   \n",
       "\n",
       "   demographics_Male_University_Married  demographics_Male_University_Others  \\\n",
       "0                                     0                                    0   \n",
       "1                                     0                                    0   \n",
       "2                                     0                                    0   \n",
       "3                                     0                                    0   \n",
       "4                                     1                                    0   \n",
       "\n",
       "   demographics_Male_University_Single  Age_Category_Senior Citizens  \\\n",
       "0                                    0                             0   \n",
       "1                                    0                             0   \n",
       "2                                    0                             0   \n",
       "3                                    0                             0   \n",
       "4                                    0                             0   \n",
       "\n",
       "   Age_Category_Young  Credit_Limit_Category_Low Limit Holder  \\\n",
       "0                   1                                       1   \n",
       "1                   1                                       1   \n",
       "2                   1                                       1   \n",
       "3                   1                                       1   \n",
       "4                   0                                       1   \n",
       "\n",
       "   Credit_Limit_Category_Medium Limit Holder  \\\n",
       "0                                          0   \n",
       "1                                          0   \n",
       "2                                          0   \n",
       "3                                          0   \n",
       "4                                          0   \n",
       "\n",
       "   Credit_Limit_Category_Very High Limit Holder      Avg.Bill      Avg.Pay  \n",
       "0                                             0   1284.000000   114.833333  \n",
       "1                                             0   2846.166667   833.333333  \n",
       "2                                             0  16942.166667  1836.333333  \n",
       "3                                             0  38555.666667  1398.000000  \n",
       "4                                             0  18223.166667  9841.500000  \n",
       "\n",
       "[5 rows x 32 columns]"
      ]
     },
     "execution_count": 26,
     "metadata": {},
     "output_type": "execute_result"
    }
   ],
   "source": [
    "df1.head()"
   ]
  },
  {
   "cell_type": "code",
   "execution_count": 27,
   "metadata": {},
   "outputs": [],
   "source": [
    "from sklearn.model_selection import train_test_split"
   ]
  },
  {
   "cell_type": "code",
   "execution_count": 28,
   "metadata": {},
   "outputs": [],
   "source": [
    "x = df1.drop('DEFAULT',axis=1)\n",
    "y = df1['DEFAULT']\n",
    "x_train, x_test, y_train, y_test = train_test_split(x,y,test_size=0.3,random_state=42)\n",
    "x_trainc = sm.add_constant(x_train)\n",
    "x_testc = sm.add_constant(x_test)"
   ]
  },
  {
   "cell_type": "code",
   "execution_count": 29,
   "metadata": {},
   "outputs": [
    {
     "name": "stdout",
     "output_type": "stream",
     "text": [
      "Warning: Maximum number of iterations has been exceeded.\n",
      "         Current function value: 0.479660\n",
      "         Iterations: 35\n"
     ]
    },
    {
     "data": {
      "text/html": [
       "<table class=\"simpletable\">\n",
       "<caption>Logit Regression Results</caption>\n",
       "<tr>\n",
       "  <th>Dep. Variable:</th>        <td>DEFAULT</td>     <th>  No. Observations:  </th>  <td> 21000</td> \n",
       "</tr>\n",
       "<tr>\n",
       "  <th>Model:</th>                 <td>Logit</td>      <th>  Df Residuals:      </th>  <td> 20968</td> \n",
       "</tr>\n",
       "<tr>\n",
       "  <th>Method:</th>                 <td>MLE</td>       <th>  Df Model:          </th>  <td>    31</td> \n",
       "</tr>\n",
       "<tr>\n",
       "  <th>Date:</th>            <td>Fri, 31 Jan 2020</td> <th>  Pseudo R-squ.:     </th>  <td>0.09543</td>\n",
       "</tr>\n",
       "<tr>\n",
       "  <th>Time:</th>                <td>19:46:00</td>     <th>  Log-Likelihood:    </th> <td> -10073.</td>\n",
       "</tr>\n",
       "<tr>\n",
       "  <th>converged:</th>             <td>False</td>      <th>  LL-Null:           </th> <td> -11136.</td>\n",
       "</tr>\n",
       "<tr>\n",
       "  <th>Covariance Type:</th>     <td>nonrobust</td>    <th>  LLR p-value:       </th>  <td> 0.000</td> \n",
       "</tr>\n",
       "</table>\n",
       "<table class=\"simpletable\">\n",
       "<tr>\n",
       "                        <td></td>                          <th>coef</th>     <th>std err</th>      <th>z</th>      <th>P>|z|</th>  <th>[0.025</th>    <th>0.975]</th>  \n",
       "</tr>\n",
       "<tr>\n",
       "  <th>const</th>                                        <td>   -0.9514</td> <td>    0.123</td> <td>   -7.761</td> <td> 0.000</td> <td>   -1.192</td> <td>   -0.711</td>\n",
       "</tr>\n",
       "<tr>\n",
       "  <th>Total_Risk_Value</th>                             <td>    0.1200</td> <td>    0.004</td> <td>   34.044</td> <td> 0.000</td> <td>    0.113</td> <td>    0.127</td>\n",
       "</tr>\n",
       "<tr>\n",
       "  <th>demographics_Female_GraduateSchool_Others</th>    <td>   -0.1406</td> <td>    0.788</td> <td>   -0.178</td> <td> 0.858</td> <td>   -1.685</td> <td>    1.404</td>\n",
       "</tr>\n",
       "<tr>\n",
       "  <th>demographics_Female_GraduateSchool_Single</th>    <td>   -0.2514</td> <td>    0.089</td> <td>   -2.841</td> <td> 0.005</td> <td>   -0.425</td> <td>   -0.078</td>\n",
       "</tr>\n",
       "<tr>\n",
       "  <th>demographics_Female_HighSchool_Married</th>       <td>   -0.2359</td> <td>    0.101</td> <td>   -2.336</td> <td> 0.019</td> <td>   -0.434</td> <td>   -0.038</td>\n",
       "</tr>\n",
       "<tr>\n",
       "  <th>demographics_Female_HighSchool_Others</th>        <td>   -0.5541</td> <td>    0.331</td> <td>   -1.674</td> <td> 0.094</td> <td>   -1.203</td> <td>    0.095</td>\n",
       "</tr>\n",
       "<tr>\n",
       "  <th>demographics_Female_HighSchool_Single</th>        <td>   -0.2123</td> <td>    0.119</td> <td>   -1.777</td> <td> 0.076</td> <td>   -0.446</td> <td>    0.022</td>\n",
       "</tr>\n",
       "<tr>\n",
       "  <th>demographics_Female_Others_Married</th>           <td>   -1.4106</td> <td>    0.431</td> <td>   -3.276</td> <td> 0.001</td> <td>   -2.255</td> <td>   -0.567</td>\n",
       "</tr>\n",
       "<tr>\n",
       "  <th>demographics_Female_Others_Others</th>            <td>  -18.2825</td> <td> 9840.562</td> <td>   -0.002</td> <td> 0.999</td> <td>-1.93e+04</td> <td> 1.93e+04</td>\n",
       "</tr>\n",
       "<tr>\n",
       "  <th>demographics_Female_Others_Single</th>            <td>   -0.7037</td> <td>    0.332</td> <td>   -2.119</td> <td> 0.034</td> <td>   -1.354</td> <td>   -0.053</td>\n",
       "</tr>\n",
       "<tr>\n",
       "  <th>demographics_Female_University_Married</th>       <td>   -0.1163</td> <td>    0.085</td> <td>   -1.368</td> <td> 0.171</td> <td>   -0.283</td> <td>    0.050</td>\n",
       "</tr>\n",
       "<tr>\n",
       "  <th>demographics_Female_University_Others</th>        <td>   -0.1939</td> <td>    0.295</td> <td>   -0.657</td> <td> 0.511</td> <td>   -0.773</td> <td>    0.385</td>\n",
       "</tr>\n",
       "<tr>\n",
       "  <th>demographics_Female_University_Single</th>        <td>   -0.2545</td> <td>    0.088</td> <td>   -2.896</td> <td> 0.004</td> <td>   -0.427</td> <td>   -0.082</td>\n",
       "</tr>\n",
       "<tr>\n",
       "  <th>demographics_Male_GraduateSchool_Married</th>     <td>    0.1536</td> <td>    0.103</td> <td>    1.495</td> <td> 0.135</td> <td>   -0.048</td> <td>    0.355</td>\n",
       "</tr>\n",
       "<tr>\n",
       "  <th>demographics_Male_GraduateSchool_Others</th>      <td>    0.1252</td> <td>    0.498</td> <td>    0.251</td> <td> 0.802</td> <td>   -0.851</td> <td>    1.102</td>\n",
       "</tr>\n",
       "<tr>\n",
       "  <th>demographics_Male_GraduateSchool_Single</th>      <td>   -0.2236</td> <td>    0.097</td> <td>   -2.313</td> <td> 0.021</td> <td>   -0.413</td> <td>   -0.034</td>\n",
       "</tr>\n",
       "<tr>\n",
       "  <th>demographics_Male_HighSchool_Married</th>         <td>    0.0985</td> <td>    0.113</td> <td>    0.868</td> <td> 0.385</td> <td>   -0.124</td> <td>    0.321</td>\n",
       "</tr>\n",
       "<tr>\n",
       "  <th>demographics_Male_HighSchool_Others</th>          <td>   -0.4671</td> <td>    0.446</td> <td>   -1.048</td> <td> 0.295</td> <td>   -1.340</td> <td>    0.406</td>\n",
       "</tr>\n",
       "<tr>\n",
       "  <th>demographics_Male_HighSchool_Single</th>          <td>   -0.1648</td> <td>    0.122</td> <td>   -1.351</td> <td> 0.177</td> <td>   -0.404</td> <td>    0.074</td>\n",
       "</tr>\n",
       "<tr>\n",
       "  <th>demographics_Male_Others_Married</th>             <td>   -0.7574</td> <td>    0.441</td> <td>   -1.716</td> <td> 0.086</td> <td>   -1.623</td> <td>    0.108</td>\n",
       "</tr>\n",
       "<tr>\n",
       "  <th>demographics_Male_Others_Others</th>              <td>  -17.9896</td> <td> 8607.881</td> <td>   -0.002</td> <td> 0.998</td> <td>-1.69e+04</td> <td> 1.69e+04</td>\n",
       "</tr>\n",
       "<tr>\n",
       "  <th>demographics_Male_Others_Single</th>              <td>   -1.6336</td> <td>    0.602</td> <td>   -2.715</td> <td> 0.007</td> <td>   -2.813</td> <td>   -0.454</td>\n",
       "</tr>\n",
       "<tr>\n",
       "  <th>demographics_Male_University_Married</th>         <td>    0.0492</td> <td>    0.093</td> <td>    0.530</td> <td> 0.596</td> <td>   -0.133</td> <td>    0.231</td>\n",
       "</tr>\n",
       "<tr>\n",
       "  <th>demographics_Male_University_Others</th>          <td>    0.0373</td> <td>    0.326</td> <td>    0.115</td> <td> 0.909</td> <td>   -0.601</td> <td>    0.676</td>\n",
       "</tr>\n",
       "<tr>\n",
       "  <th>demographics_Male_University_Single</th>          <td>   -0.2017</td> <td>    0.092</td> <td>   -2.204</td> <td> 0.028</td> <td>   -0.381</td> <td>   -0.022</td>\n",
       "</tr>\n",
       "<tr>\n",
       "  <th>Age_Category_Senior Citizens</th>                 <td>    0.2582</td> <td>    0.156</td> <td>    1.650</td> <td> 0.099</td> <td>   -0.048</td> <td>    0.565</td>\n",
       "</tr>\n",
       "<tr>\n",
       "  <th>Age_Category_Young</th>                           <td>   -0.0832</td> <td>    0.042</td> <td>   -1.962</td> <td> 0.050</td> <td>   -0.166</td> <td>   -0.000</td>\n",
       "</tr>\n",
       "<tr>\n",
       "  <th>Credit_Limit_Category_Low Limit Holder</th>       <td>    0.2036</td> <td>    0.100</td> <td>    2.030</td> <td> 0.042</td> <td>    0.007</td> <td>    0.400</td>\n",
       "</tr>\n",
       "<tr>\n",
       "  <th>Credit_Limit_Category_Medium Limit Holder</th>    <td>    0.0984</td> <td>    0.102</td> <td>    0.969</td> <td> 0.333</td> <td>   -0.101</td> <td>    0.298</td>\n",
       "</tr>\n",
       "<tr>\n",
       "  <th>Credit_Limit_Category_Very High Limit Holder</th> <td>   -0.7652</td> <td>    0.609</td> <td>   -1.256</td> <td> 0.209</td> <td>   -1.959</td> <td>    0.428</td>\n",
       "</tr>\n",
       "<tr>\n",
       "  <th>Avg.Bill</th>                                     <td>-2.003e-06</td> <td> 3.75e-07</td> <td>   -5.348</td> <td> 0.000</td> <td>-2.74e-06</td> <td>-1.27e-06</td>\n",
       "</tr>\n",
       "<tr>\n",
       "  <th>Avg.Pay</th>                                      <td>-3.614e-05</td> <td> 3.98e-06</td> <td>   -9.081</td> <td> 0.000</td> <td>-4.39e-05</td> <td>-2.83e-05</td>\n",
       "</tr>\n",
       "</table>"
      ],
      "text/plain": [
       "<class 'statsmodels.iolib.summary.Summary'>\n",
       "\"\"\"\n",
       "                           Logit Regression Results                           \n",
       "==============================================================================\n",
       "Dep. Variable:                DEFAULT   No. Observations:                21000\n",
       "Model:                          Logit   Df Residuals:                    20968\n",
       "Method:                           MLE   Df Model:                           31\n",
       "Date:                Fri, 31 Jan 2020   Pseudo R-squ.:                 0.09543\n",
       "Time:                        19:46:00   Log-Likelihood:                -10073.\n",
       "converged:                      False   LL-Null:                       -11136.\n",
       "Covariance Type:            nonrobust   LLR p-value:                     0.000\n",
       "================================================================================================================\n",
       "                                                   coef    std err          z      P>|z|      [0.025      0.975]\n",
       "----------------------------------------------------------------------------------------------------------------\n",
       "const                                           -0.9514      0.123     -7.761      0.000      -1.192      -0.711\n",
       "Total_Risk_Value                                 0.1200      0.004     34.044      0.000       0.113       0.127\n",
       "demographics_Female_GraduateSchool_Others       -0.1406      0.788     -0.178      0.858      -1.685       1.404\n",
       "demographics_Female_GraduateSchool_Single       -0.2514      0.089     -2.841      0.005      -0.425      -0.078\n",
       "demographics_Female_HighSchool_Married          -0.2359      0.101     -2.336      0.019      -0.434      -0.038\n",
       "demographics_Female_HighSchool_Others           -0.5541      0.331     -1.674      0.094      -1.203       0.095\n",
       "demographics_Female_HighSchool_Single           -0.2123      0.119     -1.777      0.076      -0.446       0.022\n",
       "demographics_Female_Others_Married              -1.4106      0.431     -3.276      0.001      -2.255      -0.567\n",
       "demographics_Female_Others_Others              -18.2825   9840.562     -0.002      0.999   -1.93e+04    1.93e+04\n",
       "demographics_Female_Others_Single               -0.7037      0.332     -2.119      0.034      -1.354      -0.053\n",
       "demographics_Female_University_Married          -0.1163      0.085     -1.368      0.171      -0.283       0.050\n",
       "demographics_Female_University_Others           -0.1939      0.295     -0.657      0.511      -0.773       0.385\n",
       "demographics_Female_University_Single           -0.2545      0.088     -2.896      0.004      -0.427      -0.082\n",
       "demographics_Male_GraduateSchool_Married         0.1536      0.103      1.495      0.135      -0.048       0.355\n",
       "demographics_Male_GraduateSchool_Others          0.1252      0.498      0.251      0.802      -0.851       1.102\n",
       "demographics_Male_GraduateSchool_Single         -0.2236      0.097     -2.313      0.021      -0.413      -0.034\n",
       "demographics_Male_HighSchool_Married             0.0985      0.113      0.868      0.385      -0.124       0.321\n",
       "demographics_Male_HighSchool_Others             -0.4671      0.446     -1.048      0.295      -1.340       0.406\n",
       "demographics_Male_HighSchool_Single             -0.1648      0.122     -1.351      0.177      -0.404       0.074\n",
       "demographics_Male_Others_Married                -0.7574      0.441     -1.716      0.086      -1.623       0.108\n",
       "demographics_Male_Others_Others                -17.9896   8607.881     -0.002      0.998   -1.69e+04    1.69e+04\n",
       "demographics_Male_Others_Single                 -1.6336      0.602     -2.715      0.007      -2.813      -0.454\n",
       "demographics_Male_University_Married             0.0492      0.093      0.530      0.596      -0.133       0.231\n",
       "demographics_Male_University_Others              0.0373      0.326      0.115      0.909      -0.601       0.676\n",
       "demographics_Male_University_Single             -0.2017      0.092     -2.204      0.028      -0.381      -0.022\n",
       "Age_Category_Senior Citizens                     0.2582      0.156      1.650      0.099      -0.048       0.565\n",
       "Age_Category_Young                              -0.0832      0.042     -1.962      0.050      -0.166      -0.000\n",
       "Credit_Limit_Category_Low Limit Holder           0.2036      0.100      2.030      0.042       0.007       0.400\n",
       "Credit_Limit_Category_Medium Limit Holder        0.0984      0.102      0.969      0.333      -0.101       0.298\n",
       "Credit_Limit_Category_Very High Limit Holder    -0.7652      0.609     -1.256      0.209      -1.959       0.428\n",
       "Avg.Bill                                     -2.003e-06   3.75e-07     -5.348      0.000   -2.74e-06   -1.27e-06\n",
       "Avg.Pay                                      -3.614e-05   3.98e-06     -9.081      0.000   -4.39e-05   -2.83e-05\n",
       "================================================================================================================\n",
       "\"\"\""
      ]
     },
     "execution_count": 29,
     "metadata": {},
     "output_type": "execute_result"
    }
   ],
   "source": [
    "logit_model = sm.Logit(y_train,x_trainc)\n",
    "result = logit_model.fit()\n",
    "result.summary()"
   ]
  },
  {
   "cell_type": "code",
   "execution_count": 30,
   "metadata": {},
   "outputs": [
    {
     "data": {
      "text/plain": [
       "2308     0.246599\n",
       "22404    0.195565\n",
       "23397    0.213676\n",
       "25058    0.232425\n",
       "2664     0.274708\n",
       "dtype: float64"
      ]
     },
     "execution_count": 30,
     "metadata": {},
     "output_type": "execute_result"
    }
   ],
   "source": [
    "y_prob = result.predict(x_testc)\n",
    "y_prob.head()"
   ]
  },
  {
   "cell_type": "code",
   "execution_count": 31,
   "metadata": {},
   "outputs": [],
   "source": [
    "y_test_data = pd.DataFrame(y_test)\n",
    "y_test_data['prob'] = y_prob"
   ]
  },
  {
   "cell_type": "code",
   "execution_count": 32,
   "metadata": {},
   "outputs": [
    {
     "data": {
      "text/html": [
       "<div>\n",
       "<style scoped>\n",
       "    .dataframe tbody tr th:only-of-type {\n",
       "        vertical-align: middle;\n",
       "    }\n",
       "\n",
       "    .dataframe tbody tr th {\n",
       "        vertical-align: top;\n",
       "    }\n",
       "\n",
       "    .dataframe thead th {\n",
       "        text-align: right;\n",
       "    }\n",
       "</style>\n",
       "<table border=\"1\" class=\"dataframe\">\n",
       "  <thead>\n",
       "    <tr style=\"text-align: right;\">\n",
       "      <th></th>\n",
       "      <th>DEFAULT</th>\n",
       "      <th>prob</th>\n",
       "      <th>y_pred</th>\n",
       "    </tr>\n",
       "  </thead>\n",
       "  <tbody>\n",
       "    <tr>\n",
       "      <td>2308</td>\n",
       "      <td>0</td>\n",
       "      <td>0.246599</td>\n",
       "      <td>0</td>\n",
       "    </tr>\n",
       "    <tr>\n",
       "      <td>22404</td>\n",
       "      <td>0</td>\n",
       "      <td>0.195565</td>\n",
       "      <td>0</td>\n",
       "    </tr>\n",
       "    <tr>\n",
       "      <td>23397</td>\n",
       "      <td>0</td>\n",
       "      <td>0.213676</td>\n",
       "      <td>0</td>\n",
       "    </tr>\n",
       "    <tr>\n",
       "      <td>25058</td>\n",
       "      <td>0</td>\n",
       "      <td>0.232425</td>\n",
       "      <td>0</td>\n",
       "    </tr>\n",
       "    <tr>\n",
       "      <td>2664</td>\n",
       "      <td>1</td>\n",
       "      <td>0.274708</td>\n",
       "      <td>0</td>\n",
       "    </tr>\n",
       "  </tbody>\n",
       "</table>\n",
       "</div>"
      ],
      "text/plain": [
       "       DEFAULT      prob  y_pred\n",
       "2308         0  0.246599       0\n",
       "22404        0  0.195565       0\n",
       "23397        0  0.213676       0\n",
       "25058        0  0.232425       0\n",
       "2664         1  0.274708       0"
      ]
     },
     "execution_count": 32,
     "metadata": {},
     "output_type": "execute_result"
    }
   ],
   "source": [
    "y_test_data['y_pred'] = y_test_data['prob'].apply(lambda x:1 if x>=0.5 else 0)\n",
    "y_test_data.head()"
   ]
  },
  {
   "cell_type": "code",
   "execution_count": 33,
   "metadata": {},
   "outputs": [
    {
     "data": {
      "text/plain": [
       "array([[6866,  174],\n",
       "       [1655,  305]], dtype=int64)"
      ]
     },
     "execution_count": 33,
     "metadata": {},
     "output_type": "execute_result"
    }
   ],
   "source": [
    "cm = confusion_matrix(y_test_data['DEFAULT'],y_test_data['y_pred'])\n",
    "cm"
   ]
  },
  {
   "cell_type": "code",
   "execution_count": 34,
   "metadata": {},
   "outputs": [
    {
     "data": {
      "text/plain": [
       "<matplotlib.axes._subplots.AxesSubplot at 0x21471d3fbc8>"
      ]
     },
     "execution_count": 34,
     "metadata": {},
     "output_type": "execute_result"
    },
    {
     "data": {
      "image/png": "[encoded data removed]",
      "text/plain": [
       "<Figure size 432x288 with 2 Axes>"
      ]
     },
     "metadata": {
      "needs_background": "light"
     },
     "output_type": "display_data"
    }
   ],
   "source": [
    "cm = pd.DataFrame(data=cm,columns=['Predicted:0','Predicted:1'],index=['Actual:0','Actual:1'])\n",
    "sns.heatmap(cm,annot=True,fmt ='g')"
   ]
  },
  {
   "cell_type": "code",
   "execution_count": 35,
   "metadata": {},
   "outputs": [
    {
     "data": {
      "image/png": "[encoded data removed]",
      "text/plain": [
       "<Figure size 432x288 with 1 Axes>"
      ]
     },
     "metadata": {
      "needs_background": "light"
     },
     "output_type": "display_data"
    }
   ],
   "source": [
    "fpr,tpr,threshold = roc_curve(y_test_data['DEFAULT'],y_test_data['prob'])\n",
    "plt.plot(fpr,tpr,color='r')\n",
    "plt.plot(fpr,fpr,color='b')\n",
    "plt.show()"
   ]
  },
  {
   "cell_type": "code",
   "execution_count": 36,
   "metadata": {},
   "outputs": [
    {
     "data": {
      "text/plain": [
       "0.6900878000347866"
      ]
     },
     "execution_count": 36,
     "metadata": {},
     "output_type": "execute_result"
    }
   ],
   "source": [
    "roc_auc_score(y_test_data['DEFAULT'],y_test_data['prob'])"
   ]
  },
  {
   "cell_type": "code",
   "execution_count": 37,
   "metadata": {},
   "outputs": [],
   "source": [
    "from sklearn.metrics import cohen_kappa_score,roc_auc_score,classification_report,matthews_corrcoef,confusion_matrix"
   ]
  },
  {
   "cell_type": "code",
   "execution_count": 38,
   "metadata": {},
   "outputs": [
    {
     "name": "stdout",
     "output_type": "stream",
     "text": [
      "Cohen's Kappa 0.17995628027650623\n",
      "Matthew's Correlation 0.24067380014718884\n",
      "              precision    recall  f1-score   support\n",
      "\n",
      "           0       0.81      0.98      0.88      7040\n",
      "           1       0.64      0.16      0.25      1960\n",
      "\n",
      "    accuracy                           0.80      9000\n",
      "   macro avg       0.72      0.57      0.57      9000\n",
      "weighted avg       0.77      0.80      0.74      9000\n",
      "\n",
      "0.7967777777777778\n"
     ]
    }
   ],
   "source": [
    "print(\"Cohen's Kappa\",cohen_kappa_score(y_test_data['DEFAULT'],y_test_data['y_pred']))\n",
    "print(\"Matthew's Correlation\",matthews_corrcoef(y_test_data['DEFAULT'],y_test_data['y_pred']))\n",
    "print(classification_report(y_test_data['DEFAULT'],y_test_data['y_pred']))\n",
    "print(accuracy_score(y_test_data['DEFAULT'],y_test_data['y_pred']))"
   ]
  },
  {
   "cell_type": "code",
   "execution_count": 39,
   "metadata": {},
   "outputs": [
    {
     "data": {
      "text/plain": [
       "0.0"
      ]
     },
     "execution_count": 39,
     "metadata": {},
     "output_type": "execute_result"
    }
   ],
   "source": [
    "df1['Total_Risk_Value'].median()"
   ]
  },
  {
   "cell_type": "code",
   "execution_count": 42,
   "metadata": {},
   "outputs": [],
   "source": [
    "#df1['Avg.Outstanding'].median()"
   ]
  },
  {
   "cell_type": "code",
   "execution_count": 43,
   "metadata": {},
   "outputs": [],
   "source": [
    "fil = ((df1[\"Total_Risk_Value\"] <0) &(df1[\"DEFAULT\"] ==1))"
   ]
  },
  {
   "cell_type": "code",
   "execution_count": 44,
   "metadata": {},
   "outputs": [
    {
     "data": {
      "text/html": [
       "<div>\n",
       "<style scoped>\n",
       "    .dataframe tbody tr th:only-of-type {\n",
       "        vertical-align: middle;\n",
       "    }\n",
       "\n",
       "    .dataframe tbody tr th {\n",
       "        vertical-align: top;\n",
       "    }\n",
       "\n",
       "    .dataframe thead th {\n",
       "        text-align: right;\n",
       "    }\n",
       "</style>\n",
       "<table border=\"1\" class=\"dataframe\">\n",
       "  <thead>\n",
       "    <tr style=\"text-align: right;\">\n",
       "      <th></th>\n",
       "      <th>DEFAULT</th>\n",
       "      <th>Total_Risk_Value</th>\n",
       "      <th>demographics_Female_GraduateSchool_Others</th>\n",
       "      <th>demographics_Female_GraduateSchool_Single</th>\n",
       "      <th>demographics_Female_HighSchool_Married</th>\n",
       "      <th>demographics_Female_HighSchool_Others</th>\n",
       "      <th>demographics_Female_HighSchool_Single</th>\n",
       "      <th>demographics_Female_Others_Married</th>\n",
       "      <th>demographics_Female_Others_Others</th>\n",
       "      <th>demographics_Female_Others_Single</th>\n",
       "      <th>...</th>\n",
       "      <th>demographics_Male_University_Married</th>\n",
       "      <th>demographics_Male_University_Others</th>\n",
       "      <th>demographics_Male_University_Single</th>\n",
       "      <th>Age_Category_Senior Citizens</th>\n",
       "      <th>Age_Category_Young</th>\n",
       "      <th>Credit_Limit_Category_Low Limit Holder</th>\n",
       "      <th>Credit_Limit_Category_Medium Limit Holder</th>\n",
       "      <th>Credit_Limit_Category_Very High Limit Holder</th>\n",
       "      <th>Avg.Bill</th>\n",
       "      <th>Avg.Pay</th>\n",
       "    </tr>\n",
       "  </thead>\n",
       "  <tbody>\n",
       "    <tr>\n",
       "      <td>0</td>\n",
       "      <td>1</td>\n",
       "      <td>-2</td>\n",
       "      <td>0</td>\n",
       "      <td>0</td>\n",
       "      <td>0</td>\n",
       "      <td>0</td>\n",
       "      <td>0</td>\n",
       "      <td>0</td>\n",
       "      <td>0</td>\n",
       "      <td>0</td>\n",
       "      <td>...</td>\n",
       "      <td>0</td>\n",
       "      <td>0</td>\n",
       "      <td>0</td>\n",
       "      <td>0</td>\n",
       "      <td>1</td>\n",
       "      <td>1</td>\n",
       "      <td>0</td>\n",
       "      <td>0</td>\n",
       "      <td>1284.000000</td>\n",
       "      <td>114.833333</td>\n",
       "    </tr>\n",
       "    <tr>\n",
       "      <td>21</td>\n",
       "      <td>1</td>\n",
       "      <td>-6</td>\n",
       "      <td>0</td>\n",
       "      <td>0</td>\n",
       "      <td>0</td>\n",
       "      <td>0</td>\n",
       "      <td>0</td>\n",
       "      <td>0</td>\n",
       "      <td>0</td>\n",
       "      <td>0</td>\n",
       "      <td>...</td>\n",
       "      <td>0</td>\n",
       "      <td>0</td>\n",
       "      <td>0</td>\n",
       "      <td>0</td>\n",
       "      <td>1</td>\n",
       "      <td>1</td>\n",
       "      <td>0</td>\n",
       "      <td>0</td>\n",
       "      <td>316.000000</td>\n",
       "      <td>263.333333</td>\n",
       "    </tr>\n",
       "    <tr>\n",
       "      <td>23</td>\n",
       "      <td>1</td>\n",
       "      <td>-12</td>\n",
       "      <td>0</td>\n",
       "      <td>0</td>\n",
       "      <td>0</td>\n",
       "      <td>0</td>\n",
       "      <td>0</td>\n",
       "      <td>0</td>\n",
       "      <td>0</td>\n",
       "      <td>0</td>\n",
       "      <td>...</td>\n",
       "      <td>0</td>\n",
       "      <td>0</td>\n",
       "      <td>0</td>\n",
       "      <td>0</td>\n",
       "      <td>0</td>\n",
       "      <td>0</td>\n",
       "      <td>0</td>\n",
       "      <td>0</td>\n",
       "      <td>4494.166667</td>\n",
       "      <td>3764.833333</td>\n",
       "    </tr>\n",
       "    <tr>\n",
       "      <td>26</td>\n",
       "      <td>1</td>\n",
       "      <td>-5</td>\n",
       "      <td>0</td>\n",
       "      <td>0</td>\n",
       "      <td>0</td>\n",
       "      <td>0</td>\n",
       "      <td>0</td>\n",
       "      <td>0</td>\n",
       "      <td>0</td>\n",
       "      <td>0</td>\n",
       "      <td>...</td>\n",
       "      <td>0</td>\n",
       "      <td>0</td>\n",
       "      <td>0</td>\n",
       "      <td>0</td>\n",
       "      <td>1</td>\n",
       "      <td>1</td>\n",
       "      <td>0</td>\n",
       "      <td>0</td>\n",
       "      <td>-65.666667</td>\n",
       "      <td>416.666667</td>\n",
       "    </tr>\n",
       "    <tr>\n",
       "      <td>38</td>\n",
       "      <td>1</td>\n",
       "      <td>-7</td>\n",
       "      <td>0</td>\n",
       "      <td>0</td>\n",
       "      <td>0</td>\n",
       "      <td>0</td>\n",
       "      <td>0</td>\n",
       "      <td>0</td>\n",
       "      <td>0</td>\n",
       "      <td>0</td>\n",
       "      <td>...</td>\n",
       "      <td>0</td>\n",
       "      <td>0</td>\n",
       "      <td>0</td>\n",
       "      <td>0</td>\n",
       "      <td>1</td>\n",
       "      <td>1</td>\n",
       "      <td>0</td>\n",
       "      <td>0</td>\n",
       "      <td>130.000000</td>\n",
       "      <td>130.000000</td>\n",
       "    </tr>\n",
       "  </tbody>\n",
       "</table>\n",
       "<p>5 rows × 32 columns</p>\n",
       "</div>"
      ],
      "text/plain": [
       "    DEFAULT  Total_Risk_Value  demographics_Female_GraduateSchool_Others  \\\n",
       "0         1                -2                                          0   \n",
       "21        1                -6                                          0   \n",
       "23        1               -12                                          0   \n",
       "26        1                -5                                          0   \n",
       "38        1                -7                                          0   \n",
       "\n",
       "    demographics_Female_GraduateSchool_Single  \\\n",
       "0                                           0   \n",
       "21                                          0   \n",
       "23                                          0   \n",
       "26                                          0   \n",
       "38                                          0   \n",
       "\n",
       "    demographics_Female_HighSchool_Married  \\\n",
       "0                                        0   \n",
       "21                                       0   \n",
       "23                                       0   \n",
       "26                                       0   \n",
       "38                                       0   \n",
       "\n",
       "    demographics_Female_HighSchool_Others  \\\n",
       "0                                       0   \n",
       "21                                      0   \n",
       "23                                      0   \n",
       "26                                      0   \n",
       "38                                      0   \n",
       "\n",
       "    demographics_Female_HighSchool_Single  demographics_Female_Others_Married  \\\n",
       "0                                       0                                   0   \n",
       "21                                      0                                   0   \n",
       "23                                      0                                   0   \n",
       "26                                      0                                   0   \n",
       "38                                      0                                   0   \n",
       "\n",
       "    demographics_Female_Others_Others  demographics_Female_Others_Single  ...  \\\n",
       "0                                   0                                  0  ...   \n",
       "21                                  0                                  0  ...   \n",
       "23                                  0                                  0  ...   \n",
       "26                                  0                                  0  ...   \n",
       "38                                  0                                  0  ...   \n",
       "\n",
       "    demographics_Male_University_Married  demographics_Male_University_Others  \\\n",
       "0                                      0                                    0   \n",
       "21                                     0                                    0   \n",
       "23                                     0                                    0   \n",
       "26                                     0                                    0   \n",
       "38                                     0                                    0   \n",
       "\n",
       "    demographics_Male_University_Single  Age_Category_Senior Citizens  \\\n",
       "0                                     0                             0   \n",
       "21                                    0                             0   \n",
       "23                                    0                             0   \n",
       "26                                    0                             0   \n",
       "38                                    0                             0   \n",
       "\n",
       "    Age_Category_Young  Credit_Limit_Category_Low Limit Holder  \\\n",
       "0                    1                                       1   \n",
       "21                   1                                       1   \n",
       "23                   0                                       0   \n",
       "26                   1                                       1   \n",
       "38                   1                                       1   \n",
       "\n",
       "    Credit_Limit_Category_Medium Limit Holder  \\\n",
       "0                                           0   \n",
       "21                                          0   \n",
       "23                                          0   \n",
       "26                                          0   \n",
       "38                                          0   \n",
       "\n",
       "    Credit_Limit_Category_Very High Limit Holder     Avg.Bill      Avg.Pay  \n",
       "0                                              0  1284.000000   114.833333  \n",
       "21                                             0   316.000000   263.333333  \n",
       "23                                             0  4494.166667  3764.833333  \n",
       "26                                             0   -65.666667   416.666667  \n",
       "38                                             0   130.000000   130.000000  \n",
       "\n",
       "[5 rows x 32 columns]"
      ]
     },
     "execution_count": 44,
     "metadata": {},
     "output_type": "execute_result"
    }
   ],
   "source": [
    "df1.loc[fil,:].head()"
   ]
  },
  {
   "cell_type": "code",
   "execution_count": 45,
   "metadata": {},
   "outputs": [],
   "source": [
    "index=df1.loc[fil].index\n",
    "df1.drop(index,inplace=True)"
   ]
  },
  {
   "cell_type": "code",
   "execution_count": 46,
   "metadata": {},
   "outputs": [
    {
     "data": {
      "text/plain": [
       "(27971, 32)"
      ]
     },
     "execution_count": 46,
     "metadata": {},
     "output_type": "execute_result"
    }
   ],
   "source": [
    "df1.shape"
   ]
  },
  {
   "cell_type": "code",
   "execution_count": 47,
   "metadata": {},
   "outputs": [],
   "source": [
    "x = df1.drop('DEFAULT',axis=1)\n",
    "y = df1['DEFAULT']\n",
    "x_train, x_test, y_train, y_test = train_test_split(x,y,test_size=0.2,random_state=42)\n",
    "x_trainc = sm.add_constant(x_train)\n",
    "x_testc = sm.add_constant(x_test)"
   ]
  },
  {
   "cell_type": "code",
   "execution_count": 48,
   "metadata": {},
   "outputs": [
    {
     "name": "stdout",
     "output_type": "stream",
     "text": [
      "Warning: Maximum number of iterations has been exceeded.\n",
      "         Current function value: 0.317961\n",
      "         Iterations: 35\n"
     ]
    },
    {
     "data": {
      "text/html": [
       "<table class=\"simpletable\">\n",
       "<caption>Logit Regression Results</caption>\n",
       "<tr>\n",
       "  <th>Dep. Variable:</th>        <td>DEFAULT</td>     <th>  No. Observations:  </th>  <td> 22376</td> \n",
       "</tr>\n",
       "<tr>\n",
       "  <th>Model:</th>                 <td>Logit</td>      <th>  Df Residuals:      </th>  <td> 22344</td> \n",
       "</tr>\n",
       "<tr>\n",
       "  <th>Method:</th>                 <td>MLE</td>       <th>  Df Model:          </th>  <td>    31</td> \n",
       "</tr>\n",
       "<tr>\n",
       "  <th>Date:</th>            <td>Fri, 31 Jan 2020</td> <th>  Pseudo R-squ.:     </th>  <td>0.2914</td> \n",
       "</tr>\n",
       "<tr>\n",
       "  <th>Time:</th>                <td>19:47:20</td>     <th>  Log-Likelihood:    </th> <td> -7114.7</td>\n",
       "</tr>\n",
       "<tr>\n",
       "  <th>converged:</th>             <td>False</td>      <th>  LL-Null:           </th> <td> -10041.</td>\n",
       "</tr>\n",
       "<tr>\n",
       "  <th>Covariance Type:</th>     <td>nonrobust</td>    <th>  LLR p-value:       </th>  <td> 0.000</td> \n",
       "</tr>\n",
       "</table>\n",
       "<table class=\"simpletable\">\n",
       "<tr>\n",
       "                        <td></td>                          <th>coef</th>     <th>std err</th>      <th>z</th>      <th>P>|z|</th>  <th>[0.025</th>    <th>0.975]</th>  \n",
       "</tr>\n",
       "<tr>\n",
       "  <th>const</th>                                        <td>   -2.8302</td> <td>    0.188</td> <td>  -15.057</td> <td> 0.000</td> <td>   -3.199</td> <td>   -2.462</td>\n",
       "</tr>\n",
       "<tr>\n",
       "  <th>Total_Risk_Value</th>                             <td>    0.2671</td> <td>    0.005</td> <td>   51.925</td> <td> 0.000</td> <td>    0.257</td> <td>    0.277</td>\n",
       "</tr>\n",
       "<tr>\n",
       "  <th>demographics_Female_GraduateSchool_Others</th>    <td>    0.8020</td> <td>    0.807</td> <td>    0.994</td> <td> 0.320</td> <td>   -0.780</td> <td>    2.384</td>\n",
       "</tr>\n",
       "<tr>\n",
       "  <th>demographics_Female_GraduateSchool_Single</th>    <td>   -0.0089</td> <td>    0.130</td> <td>   -0.069</td> <td> 0.945</td> <td>   -0.264</td> <td>    0.246</td>\n",
       "</tr>\n",
       "<tr>\n",
       "  <th>demographics_Female_HighSchool_Married</th>       <td>    0.2229</td> <td>    0.138</td> <td>    1.610</td> <td> 0.107</td> <td>   -0.048</td> <td>    0.494</td>\n",
       "</tr>\n",
       "<tr>\n",
       "  <th>demographics_Female_HighSchool_Others</th>        <td>    0.0309</td> <td>    0.395</td> <td>    0.078</td> <td> 0.938</td> <td>   -0.743</td> <td>    0.805</td>\n",
       "</tr>\n",
       "<tr>\n",
       "  <th>demographics_Female_HighSchool_Single</th>        <td>    0.1354</td> <td>    0.158</td> <td>    0.856</td> <td> 0.392</td> <td>   -0.175</td> <td>    0.445</td>\n",
       "</tr>\n",
       "<tr>\n",
       "  <th>demographics_Female_Others_Married</th>           <td>   -1.3903</td> <td>    0.627</td> <td>   -2.219</td> <td> 0.027</td> <td>   -2.618</td> <td>   -0.162</td>\n",
       "</tr>\n",
       "<tr>\n",
       "  <th>demographics_Female_Others_Others</th>            <td>  -15.1509</td> <td> 4336.825</td> <td>   -0.003</td> <td> 0.997</td> <td>-8515.171</td> <td> 8484.869</td>\n",
       "</tr>\n",
       "<tr>\n",
       "  <th>demographics_Female_Others_Single</th>            <td>   -0.4610</td> <td>    0.441</td> <td>   -1.045</td> <td> 0.296</td> <td>   -1.326</td> <td>    0.404</td>\n",
       "</tr>\n",
       "<tr>\n",
       "  <th>demographics_Female_University_Married</th>       <td>    0.1839</td> <td>    0.123</td> <td>    1.491</td> <td> 0.136</td> <td>   -0.058</td> <td>    0.426</td>\n",
       "</tr>\n",
       "<tr>\n",
       "  <th>demographics_Female_University_Others</th>        <td>   -0.1680</td> <td>    0.393</td> <td>   -0.428</td> <td> 0.669</td> <td>   -0.937</td> <td>    0.601</td>\n",
       "</tr>\n",
       "<tr>\n",
       "  <th>demographics_Female_University_Single</th>        <td>    0.0378</td> <td>    0.126</td> <td>    0.300</td> <td> 0.764</td> <td>   -0.209</td> <td>    0.284</td>\n",
       "</tr>\n",
       "<tr>\n",
       "  <th>demographics_Male_GraduateSchool_Married</th>     <td>    0.1122</td> <td>    0.153</td> <td>    0.734</td> <td> 0.463</td> <td>   -0.187</td> <td>    0.412</td>\n",
       "</tr>\n",
       "<tr>\n",
       "  <th>demographics_Male_GraduateSchool_Others</th>      <td>    1.2291</td> <td>    0.513</td> <td>    2.396</td> <td> 0.017</td> <td>    0.224</td> <td>    2.234</td>\n",
       "</tr>\n",
       "<tr>\n",
       "  <th>demographics_Male_GraduateSchool_Single</th>      <td>   -0.0336</td> <td>    0.137</td> <td>   -0.244</td> <td> 0.807</td> <td>   -0.303</td> <td>    0.236</td>\n",
       "</tr>\n",
       "<tr>\n",
       "  <th>demographics_Male_HighSchool_Married</th>         <td>    0.2675</td> <td>    0.154</td> <td>    1.734</td> <td> 0.083</td> <td>   -0.035</td> <td>    0.570</td>\n",
       "</tr>\n",
       "<tr>\n",
       "  <th>demographics_Male_HighSchool_Others</th>          <td>    0.5640</td> <td>    0.462</td> <td>    1.221</td> <td> 0.222</td> <td>   -0.341</td> <td>    1.469</td>\n",
       "</tr>\n",
       "<tr>\n",
       "  <th>demographics_Male_HighSchool_Single</th>          <td>    0.1704</td> <td>    0.158</td> <td>    1.079</td> <td> 0.281</td> <td>   -0.139</td> <td>    0.480</td>\n",
       "</tr>\n",
       "<tr>\n",
       "  <th>demographics_Male_Others_Married</th>             <td>    0.3615</td> <td>    0.431</td> <td>    0.838</td> <td> 0.402</td> <td>   -0.484</td> <td>    1.207</td>\n",
       "</tr>\n",
       "<tr>\n",
       "  <th>demographics_Male_Others_Others</th>              <td>   -4.1668</td> <td>   51.202</td> <td>   -0.081</td> <td> 0.935</td> <td> -104.520</td> <td>   96.186</td>\n",
       "</tr>\n",
       "<tr>\n",
       "  <th>demographics_Male_Others_Single</th>              <td>   -1.8602</td> <td>    0.841</td> <td>   -2.211</td> <td> 0.027</td> <td>   -3.509</td> <td>   -0.211</td>\n",
       "</tr>\n",
       "<tr>\n",
       "  <th>demographics_Male_University_Married</th>         <td>    0.3687</td> <td>    0.131</td> <td>    2.810</td> <td> 0.005</td> <td>    0.112</td> <td>    0.626</td>\n",
       "</tr>\n",
       "<tr>\n",
       "  <th>demographics_Male_University_Others</th>          <td>    0.6439</td> <td>    0.390</td> <td>    1.652</td> <td> 0.099</td> <td>   -0.120</td> <td>    1.408</td>\n",
       "</tr>\n",
       "<tr>\n",
       "  <th>demographics_Male_University_Single</th>          <td>    0.1844</td> <td>    0.128</td> <td>    1.442</td> <td> 0.149</td> <td>   -0.066</td> <td>    0.435</td>\n",
       "</tr>\n",
       "<tr>\n",
       "  <th>Age_Category_Senior Citizens</th>                 <td>   -0.2733</td> <td>    0.211</td> <td>   -1.298</td> <td> 0.194</td> <td>   -0.686</td> <td>    0.139</td>\n",
       "</tr>\n",
       "<tr>\n",
       "  <th>Age_Category_Young</th>                           <td>   -0.0362</td> <td>    0.053</td> <td>   -0.688</td> <td> 0.492</td> <td>   -0.139</td> <td>    0.067</td>\n",
       "</tr>\n",
       "<tr>\n",
       "  <th>Credit_Limit_Category_Low Limit Holder</th>       <td>    0.7941</td> <td>    0.149</td> <td>    5.320</td> <td> 0.000</td> <td>    0.502</td> <td>    1.087</td>\n",
       "</tr>\n",
       "<tr>\n",
       "  <th>Credit_Limit_Category_Medium Limit Holder</th>    <td>    0.2031</td> <td>    0.148</td> <td>    1.369</td> <td> 0.171</td> <td>   -0.088</td> <td>    0.494</td>\n",
       "</tr>\n",
       "<tr>\n",
       "  <th>Credit_Limit_Category_Very High Limit Holder</th> <td>   -0.3240</td> <td>    0.621</td> <td>   -0.522</td> <td> 0.602</td> <td>   -1.541</td> <td>    0.893</td>\n",
       "</tr>\n",
       "<tr>\n",
       "  <th>Avg.Bill</th>                                     <td> 3.772e-06</td> <td> 4.15e-07</td> <td>    9.081</td> <td> 0.000</td> <td> 2.96e-06</td> <td> 4.59e-06</td>\n",
       "</tr>\n",
       "<tr>\n",
       "  <th>Avg.Pay</th>                                      <td>-3.053e-05</td> <td> 5.36e-06</td> <td>   -5.692</td> <td> 0.000</td> <td> -4.1e-05</td> <td>   -2e-05</td>\n",
       "</tr>\n",
       "</table>"
      ],
      "text/plain": [
       "<class 'statsmodels.iolib.summary.Summary'>\n",
       "\"\"\"\n",
       "                           Logit Regression Results                           \n",
       "==============================================================================\n",
       "Dep. Variable:                DEFAULT   No. Observations:                22376\n",
       "Model:                          Logit   Df Residuals:                    22344\n",
       "Method:                           MLE   Df Model:                           31\n",
       "Date:                Fri, 31 Jan 2020   Pseudo R-squ.:                  0.2914\n",
       "Time:                        19:47:20   Log-Likelihood:                -7114.7\n",
       "converged:                      False   LL-Null:                       -10041.\n",
       "Covariance Type:            nonrobust   LLR p-value:                     0.000\n",
       "================================================================================================================\n",
       "                                                   coef    std err          z      P>|z|      [0.025      0.975]\n",
       "----------------------------------------------------------------------------------------------------------------\n",
       "const                                           -2.8302      0.188    -15.057      0.000      -3.199      -2.462\n",
       "Total_Risk_Value                                 0.2671      0.005     51.925      0.000       0.257       0.277\n",
       "demographics_Female_GraduateSchool_Others        0.8020      0.807      0.994      0.320      -0.780       2.384\n",
       "demographics_Female_GraduateSchool_Single       -0.0089      0.130     -0.069      0.945      -0.264       0.246\n",
       "demographics_Female_HighSchool_Married           0.2229      0.138      1.610      0.107      -0.048       0.494\n",
       "demographics_Female_HighSchool_Others            0.0309      0.395      0.078      0.938      -0.743       0.805\n",
       "demographics_Female_HighSchool_Single            0.1354      0.158      0.856      0.392      -0.175       0.445\n",
       "demographics_Female_Others_Married              -1.3903      0.627     -2.219      0.027      -2.618      -0.162\n",
       "demographics_Female_Others_Others              -15.1509   4336.825     -0.003      0.997   -8515.171    8484.869\n",
       "demographics_Female_Others_Single               -0.4610      0.441     -1.045      0.296      -1.326       0.404\n",
       "demographics_Female_University_Married           0.1839      0.123      1.491      0.136      -0.058       0.426\n",
       "demographics_Female_University_Others           -0.1680      0.393     -0.428      0.669      -0.937       0.601\n",
       "demographics_Female_University_Single            0.0378      0.126      0.300      0.764      -0.209       0.284\n",
       "demographics_Male_GraduateSchool_Married         0.1122      0.153      0.734      0.463      -0.187       0.412\n",
       "demographics_Male_GraduateSchool_Others          1.2291      0.513      2.396      0.017       0.224       2.234\n",
       "demographics_Male_GraduateSchool_Single         -0.0336      0.137     -0.244      0.807      -0.303       0.236\n",
       "demographics_Male_HighSchool_Married             0.2675      0.154      1.734      0.083      -0.035       0.570\n",
       "demographics_Male_HighSchool_Others              0.5640      0.462      1.221      0.222      -0.341       1.469\n",
       "demographics_Male_HighSchool_Single              0.1704      0.158      1.079      0.281      -0.139       0.480\n",
       "demographics_Male_Others_Married                 0.3615      0.431      0.838      0.402      -0.484       1.207\n",
       "demographics_Male_Others_Others                 -4.1668     51.202     -0.081      0.935    -104.520      96.186\n",
       "demographics_Male_Others_Single                 -1.8602      0.841     -2.211      0.027      -3.509      -0.211\n",
       "demographics_Male_University_Married             0.3687      0.131      2.810      0.005       0.112       0.626\n",
       "demographics_Male_University_Others              0.6439      0.390      1.652      0.099      -0.120       1.408\n",
       "demographics_Male_University_Single              0.1844      0.128      1.442      0.149      -0.066       0.435\n",
       "Age_Category_Senior Citizens                    -0.2733      0.211     -1.298      0.194      -0.686       0.139\n",
       "Age_Category_Young                              -0.0362      0.053     -0.688      0.492      -0.139       0.067\n",
       "Credit_Limit_Category_Low Limit Holder           0.7941      0.149      5.320      0.000       0.502       1.087\n",
       "Credit_Limit_Category_Medium Limit Holder        0.2031      0.148      1.369      0.171      -0.088       0.494\n",
       "Credit_Limit_Category_Very High Limit Holder    -0.3240      0.621     -0.522      0.602      -1.541       0.893\n",
       "Avg.Bill                                      3.772e-06   4.15e-07      9.081      0.000    2.96e-06    4.59e-06\n",
       "Avg.Pay                                      -3.053e-05   5.36e-06     -5.692      0.000    -4.1e-05      -2e-05\n",
       "================================================================================================================\n",
       "\"\"\""
      ]
     },
     "execution_count": 48,
     "metadata": {},
     "output_type": "execute_result"
    }
   ],
   "source": [
    "logit_model = sm.Logit(y_train,x_trainc)\n",
    "result = logit_model.fit()\n",
    "result.summary()"
   ]
  },
  {
   "cell_type": "code",
   "execution_count": 49,
   "metadata": {},
   "outputs": [
    {
     "data": {
      "text/plain": [
       "15158    0.084217\n",
       "27905    0.037392\n",
       "19704    0.049048\n",
       "16038    0.063730\n",
       "17383    0.132428\n",
       "dtype: float64"
      ]
     },
     "execution_count": 49,
     "metadata": {},
     "output_type": "execute_result"
    }
   ],
   "source": [
    "y_prob = result.predict(x_testc)\n",
    "y_prob.head()"
   ]
  },
  {
   "cell_type": "code",
   "execution_count": 50,
   "metadata": {},
   "outputs": [],
   "source": [
    "y_test_data = pd.DataFrame(y_test)\n",
    "y_test_data['prob'] = y_prob"
   ]
  },
  {
   "cell_type": "code",
   "execution_count": 51,
   "metadata": {},
   "outputs": [
    {
     "data": {
      "text/html": [
       "<div>\n",
       "<style scoped>\n",
       "    .dataframe tbody tr th:only-of-type {\n",
       "        vertical-align: middle;\n",
       "    }\n",
       "\n",
       "    .dataframe tbody tr th {\n",
       "        vertical-align: top;\n",
       "    }\n",
       "\n",
       "    .dataframe thead th {\n",
       "        text-align: right;\n",
       "    }\n",
       "</style>\n",
       "<table border=\"1\" class=\"dataframe\">\n",
       "  <thead>\n",
       "    <tr style=\"text-align: right;\">\n",
       "      <th></th>\n",
       "      <th>DEFAULT</th>\n",
       "      <th>prob</th>\n",
       "      <th>y_pred</th>\n",
       "    </tr>\n",
       "  </thead>\n",
       "  <tbody>\n",
       "    <tr>\n",
       "      <td>15158</td>\n",
       "      <td>0</td>\n",
       "      <td>0.084217</td>\n",
       "      <td>0</td>\n",
       "    </tr>\n",
       "    <tr>\n",
       "      <td>27905</td>\n",
       "      <td>0</td>\n",
       "      <td>0.037392</td>\n",
       "      <td>0</td>\n",
       "    </tr>\n",
       "    <tr>\n",
       "      <td>19704</td>\n",
       "      <td>0</td>\n",
       "      <td>0.049048</td>\n",
       "      <td>0</td>\n",
       "    </tr>\n",
       "    <tr>\n",
       "      <td>16038</td>\n",
       "      <td>0</td>\n",
       "      <td>0.063730</td>\n",
       "      <td>0</td>\n",
       "    </tr>\n",
       "    <tr>\n",
       "      <td>17383</td>\n",
       "      <td>0</td>\n",
       "      <td>0.132428</td>\n",
       "      <td>0</td>\n",
       "    </tr>\n",
       "  </tbody>\n",
       "</table>\n",
       "</div>"
      ],
      "text/plain": [
       "       DEFAULT      prob  y_pred\n",
       "15158        0  0.084217       0\n",
       "27905        0  0.037392       0\n",
       "19704        0  0.049048       0\n",
       "16038        0  0.063730       0\n",
       "17383        0  0.132428       0"
      ]
     },
     "execution_count": 51,
     "metadata": {},
     "output_type": "execute_result"
    }
   ],
   "source": [
    "y_test_data['y_pred'] = y_test_data['prob'].apply(lambda x:1 if x>=0.2 else 0)\n",
    "y_test_data.head()"
   ]
  },
  {
   "cell_type": "code",
   "execution_count": 52,
   "metadata": {},
   "outputs": [
    {
     "data": {
      "text/plain": [
       "array([[4091,  601],\n",
       "       [ 310,  593]], dtype=int64)"
      ]
     },
     "execution_count": 52,
     "metadata": {},
     "output_type": "execute_result"
    }
   ],
   "source": [
    "cm = confusion_matrix(y_test_data['DEFAULT'],y_test_data['y_pred'])\n",
    "cm"
   ]
  },
  {
   "cell_type": "code",
   "execution_count": 53,
   "metadata": {},
   "outputs": [
    {
     "data": {
      "text/plain": [
       "<matplotlib.axes._subplots.AxesSubplot at 0x21472b7b3c8>"
      ]
     },
     "execution_count": 53,
     "metadata": {},
     "output_type": "execute_result"
    },
    {
     "data": {
      "image/png": "[encoded data removed]",
      "text/plain": [
       "<Figure size 432x288 with 2 Axes>"
      ]
     },
     "metadata": {
      "needs_background": "light"
     },
     "output_type": "display_data"
    }
   ],
   "source": [
    "cm = pd.DataFrame(data=cm,columns=['Predicted:0','Predicted:1'],index=['Actual:0','Actual:1'])\n",
    "sns.heatmap(cm,annot=True,fmt ='g')"
   ]
  },
  {
   "cell_type": "code",
   "execution_count": 54,
   "metadata": {},
   "outputs": [
    {
     "data": {
      "image/png": "[encoded data removed]",
      "text/plain": [
       "<Figure size 432x288 with 1 Axes>"
      ]
     },
     "metadata": {
      "needs_background": "light"
     },
     "output_type": "display_data"
    }
   ],
   "source": [
    "fpr,tpr,threshold = roc_curve(y_test_data['DEFAULT'],y_test_data['prob'])\n",
    "plt.plot(fpr,tpr,color='r')\n",
    "plt.plot(fpr,fpr,color='b')\n",
    "plt.show()"
   ]
  },
  {
   "cell_type": "code",
   "execution_count": 55,
   "metadata": {},
   "outputs": [
    {
     "data": {
      "text/plain": [
       "0.8728402719362096"
      ]
     },
     "execution_count": 55,
     "metadata": {},
     "output_type": "execute_result"
    }
   ],
   "source": [
    "roc_auc_score(y_test_data['DEFAULT'],y_test_data['prob'])"
   ]
  },
  {
   "cell_type": "code",
   "execution_count": 56,
   "metadata": {},
   "outputs": [
    {
     "name": "stdout",
     "output_type": "stream",
     "text": [
      "Cohen's Kappa 0.4677466396125205\n",
      "Matthew's Correlation 0.4746571329961929\n",
      "              precision    recall  f1-score   support\n",
      "\n",
      "           0       0.93      0.87      0.90      4692\n",
      "           1       0.50      0.66      0.57       903\n",
      "\n",
      "    accuracy                           0.84      5595\n",
      "   macro avg       0.71      0.76      0.73      5595\n",
      "weighted avg       0.86      0.84      0.85      5595\n",
      "\n",
      "0.8371760500446828\n"
     ]
    }
   ],
   "source": [
    "print(\"Cohen's Kappa\",cohen_kappa_score(y_test_data['DEFAULT'],y_test_data['y_pred']))\n",
    "print(\"Matthew's Correlation\",matthews_corrcoef(y_test_data['DEFAULT'],y_test_data['y_pred']))\n",
    "print(classification_report(y_test_data['DEFAULT'],y_test_data['y_pred']))\n",
    "print(accuracy_score(y_test_data['DEFAULT'],y_test_data['y_pred']))"
   ]
  },
  {
   "cell_type": "code",
   "execution_count": 57,
   "metadata": {},
   "outputs": [],
   "source": [
    "x=df1.drop([\"DEFAULT\"],axis=1)\n",
    "y=df1[\"DEFAULT\"]"
   ]
  },
  {
   "cell_type": "code",
   "execution_count": 58,
   "metadata": {},
   "outputs": [],
   "source": [
    "xtrain,xtest,ytrain,ytest=train_test_split(x,y,test_size=0.3,random_state=1)"
   ]
  },
  {
   "cell_type": "code",
   "execution_count": 59,
   "metadata": {},
   "outputs": [
    {
     "ename": "NameError",
     "evalue": "name 'rf' is not defined",
     "output_type": "error",
     "traceback": [
      "\u001b[1;31m---------------------------------------------------------------------------\u001b[0m",
      "\u001b[1;31mNameError\u001b[0m                                 Traceback (most recent call last)",
      "\u001b[1;32m<ipython-input-59-123e3547bd9a>\u001b[0m in \u001b[0;36m<module>\u001b[1;34m\u001b[0m\n\u001b[1;32m----> 1\u001b[1;33m \u001b[0mmodelrf\u001b[0m\u001b[1;33m=\u001b[0m\u001b[0mrf\u001b[0m\u001b[1;33m.\u001b[0m\u001b[0mfit\u001b[0m\u001b[1;33m(\u001b[0m\u001b[0mxtrain\u001b[0m\u001b[1;33m,\u001b[0m\u001b[0mytrain\u001b[0m\u001b[1;33m)\u001b[0m\u001b[1;33m\u001b[0m\u001b[1;33m\u001b[0m\u001b[0m\n\u001b[0m\u001b[0;32m      2\u001b[0m \u001b[0mypred\u001b[0m\u001b[1;33m=\u001b[0m\u001b[0mmodelrf\u001b[0m\u001b[1;33m.\u001b[0m\u001b[0mpredict\u001b[0m\u001b[1;33m(\u001b[0m\u001b[0mxtest\u001b[0m\u001b[1;33m)\u001b[0m\u001b[1;33m\u001b[0m\u001b[1;33m\u001b[0m\u001b[0m\n",
      "\u001b[1;31mNameError\u001b[0m: name 'rf' is not defined"
     ]
    }
   ],
   "source": [
    "modelrf=rf.fit(xtrain,ytrain)\n",
    "ypred=modelrf.predict(xtest)"
   ]
  },
  {
   "cell_type": "code",
   "execution_count": 60,
   "metadata": {},
   "outputs": [
    {
     "ename": "NameError",
     "evalue": "name 'ypred' is not defined",
     "output_type": "error",
     "traceback": [
      "\u001b[1;31m---------------------------------------------------------------------------\u001b[0m",
      "\u001b[1;31mNameError\u001b[0m                                 Traceback (most recent call last)",
      "\u001b[1;32m<ipython-input-60-f5418e8785b5>\u001b[0m in \u001b[0;36m<module>\u001b[1;34m\u001b[0m\n\u001b[1;32m----> 1\u001b[1;33m \u001b[0mconfusion_matrix\u001b[0m\u001b[1;33m(\u001b[0m\u001b[0mytest\u001b[0m\u001b[1;33m,\u001b[0m\u001b[0mypred\u001b[0m\u001b[1;33m)\u001b[0m\u001b[1;33m\u001b[0m\u001b[1;33m\u001b[0m\u001b[0m\n\u001b[0m",
      "\u001b[1;31mNameError\u001b[0m: name 'ypred' is not defined"
     ]
    }
   ],
   "source": [
    "confusion_matrix(ytest,ypred)"
   ]
  },
  {
   "cell_type": "code",
   "execution_count": 303,
   "metadata": {},
   "outputs": [
    {
     "name": "stdout",
     "output_type": "stream",
     "text": [
      "              precision    recall  f1-score   support\n",
      "\n",
      "           0       0.92      0.96      0.94      7050\n",
      "           1       0.58      0.40      0.48       962\n",
      "\n",
      "    accuracy                           0.89      8012\n",
      "   macro avg       0.75      0.68      0.71      8012\n",
      "weighted avg       0.88      0.89      0.89      8012\n",
      "\n"
     ]
    }
   ],
   "source": [
    "print(classification_report(ytest,ypred))"
   ]
  },
  {
   "cell_type": "code",
   "execution_count": 304,
   "metadata": {},
   "outputs": [],
   "source": [
    "from sklearn.linear_model import LogisticRegression\n",
    "lr=LogisticRegression(class_weight={1:70,0:30})"
   ]
  },
  {
   "cell_type": "code",
   "execution_count": 305,
   "metadata": {},
   "outputs": [],
   "source": [
    "modellr=lr.fit(xtrain,ytrain)\n",
    "ypredlr=modellr.predict(xtest)"
   ]
  },
  {
   "cell_type": "code",
   "execution_count": 306,
   "metadata": {},
   "outputs": [
    {
     "data": {
      "text/plain": [
       "array([[6216,  834],\n",
       "       [ 349,  613]], dtype=int64)"
      ]
     },
     "execution_count": 306,
     "metadata": {},
     "output_type": "execute_result"
    }
   ],
   "source": [
    "confusion_matrix(ytest,ypredlr)"
   ]
  },
  {
   "cell_type": "code",
   "execution_count": 307,
   "metadata": {},
   "outputs": [
    {
     "name": "stdout",
     "output_type": "stream",
     "text": [
      "              precision    recall  f1-score   support\n",
      "\n",
      "           0       0.95      0.88      0.91      7050\n",
      "           1       0.42      0.64      0.51       962\n",
      "\n",
      "    accuracy                           0.85      8012\n",
      "   macro avg       0.69      0.76      0.71      8012\n",
      "weighted avg       0.88      0.85      0.86      8012\n",
      "\n"
     ]
    }
   ],
   "source": [
    "print(classification_report(ytest,ypredlr))"
   ]
  },
  {
   "cell_type": "code",
   "execution_count": 308,
   "metadata": {},
   "outputs": [
    {
     "data": {
      "text/plain": [
       "0.42615094376177587"
      ]
     },
     "execution_count": 308,
     "metadata": {},
     "output_type": "execute_result"
    }
   ],
   "source": [
    "cohen_kappa_score(ytest,ypredlr)"
   ]
  },
  {
   "cell_type": "code",
   "execution_count": 309,
   "metadata": {},
   "outputs": [
    {
     "data": {
      "text/plain": [
       "0.8523464802795806"
      ]
     },
     "execution_count": 309,
     "metadata": {},
     "output_type": "execute_result"
    }
   ],
   "source": [
    "accuracy_score(ytest,ypredlr)"
   ]
  },
  {
   "cell_type": "code",
   "execution_count": 310,
   "metadata": {},
   "outputs": [],
   "source": [
    "from sklearn.naive_bayes import GaussianNB\n",
    "nb=GaussianNB()"
   ]
  },
  {
   "cell_type": "code",
   "execution_count": 311,
   "metadata": {},
   "outputs": [],
   "source": [
    "modelnb=nb.fit(xtrain,ytrain)\n",
    "yprednb=modelnb.predict(xtest)"
   ]
  },
  {
   "cell_type": "code",
   "execution_count": 312,
   "metadata": {},
   "outputs": [
    {
     "name": "stdout",
     "output_type": "stream",
     "text": [
      "              precision    recall  f1-score   support\n",
      "\n",
      "           0       0.91      0.93      0.92      7050\n",
      "           1       0.40      0.36      0.38       962\n",
      "\n",
      "    accuracy                           0.86      8012\n",
      "   macro avg       0.66      0.64      0.65      8012\n",
      "weighted avg       0.85      0.86      0.86      8012\n",
      "\n"
     ]
    }
   ],
   "source": [
    "print(classification_report(ytest,yprednb))"
   ]
  },
  {
   "cell_type": "code",
   "execution_count": 313,
   "metadata": {},
   "outputs": [],
   "source": [
    "from sklearn.tree import DecisionTreeClassifier\n",
    "dtree=DecisionTreeClassifier()"
   ]
  },
  {
   "cell_type": "code",
   "execution_count": 314,
   "metadata": {},
   "outputs": [],
   "source": [
    "modeldt=dtree.fit(xtrain,ytrain)\n",
    "ypreddt=modeldt.predict(xtest)"
   ]
  },
  {
   "cell_type": "code",
   "execution_count": 315,
   "metadata": {},
   "outputs": [
    {
     "name": "stdout",
     "output_type": "stream",
     "text": [
      "              precision    recall  f1-score   support\n",
      "\n",
      "           0       0.92      0.91      0.92      7050\n",
      "           1       0.41      0.44      0.43       962\n",
      "\n",
      "    accuracy                           0.86      8012\n",
      "   macro avg       0.67      0.68      0.67      8012\n",
      "weighted avg       0.86      0.86      0.86      8012\n",
      "\n"
     ]
    }
   ],
   "source": [
    "print(classification_report(ytest,ypreddt))"
   ]
  },
  {
   "cell_type": "code",
   "execution_count": 316,
   "metadata": {},
   "outputs": [],
   "source": [
    "#smote"
   ]
  },
  {
   "cell_type": "code",
   "execution_count": 52,
   "metadata": {},
   "outputs": [],
   "source": [
    "from imblearn.combine import SMOTETomek"
   ]
  },
  {
   "cell_type": "code",
   "execution_count": 53,
   "metadata": {},
   "outputs": [],
   "source": [
    "smt=SMOTETomek(random_state=42,)\n",
    "x=df1.drop([\"DEFAULT\"],axis=1)\n",
    "y=df1[\"DEFAULT\"]\n",
    "\n",
    "x_reset,y_reset=smt.fit_sample(x,y)"
   ]
  },
  {
   "cell_type": "code",
   "execution_count": 54,
   "metadata": {},
   "outputs": [
    {
     "name": "stdout",
     "output_type": "stream",
     "text": [
      "Orignal Data CountCounter({0: 23364, 1: 4607})\n",
      "Revised Data CountCounter({1: 21092, 0: 21092})\n"
     ]
    }
   ],
   "source": [
    "from collections import Counter\n",
    "print(\"Orignal Data Count{}\".format(Counter(df1[\"DEFAULT\"])))\n",
    "print(\"Revised Data Count{}\".format(Counter(y_reset)))"
   ]
  },
  {
   "cell_type": "code",
   "execution_count": 55,
   "metadata": {},
   "outputs": [],
   "source": [
    "lr=LogisticRegression()"
   ]
  },
  {
   "cell_type": "code",
   "execution_count": 56,
   "metadata": {},
   "outputs": [],
   "source": [
    "xtrain,xtest,ytrain,ytest=train_test_split(x_reset,y_reset,test_size=0.2,random_state=25)\n",
    "smotemodel=lr.fit(xtrain,ytrain)\n",
    "smotepred=smotemodel.predict(xtest)"
   ]
  },
  {
   "cell_type": "code",
   "execution_count": 59,
   "metadata": {},
   "outputs": [
    {
     "name": "stdout",
     "output_type": "stream",
     "text": [
      "Cohen's Kappa :  0.6690914270671229\n",
      "Matthew's Correlation :  0.6700880384024451\n",
      "              precision    recall  f1-score   support\n",
      "\n",
      "           0       0.82      0.86      0.84      4215\n",
      "           1       0.85      0.81      0.83      4222\n",
      "\n",
      "    accuracy                           0.83      8437\n",
      "   macro avg       0.84      0.83      0.83      8437\n",
      "weighted avg       0.84      0.83      0.83      8437\n",
      "\n",
      "0.8345383430129193\n"
     ]
    },
    {
     "data": {
      "image/png": "[encoded data removed]",
      "text/plain": [
       "<Figure size 432x288 with 2 Axes>"
      ]
     },
     "metadata": {
      "needs_background": "light"
     },
     "output_type": "display_data"
    }
   ],
   "source": [
    "print(\"Cohen's Kappa : \",cohen_kappa_score(ytest,smotepred))\n",
    "print(\"Matthew's Correlation : \",matthews_corrcoef(ytest,smotepred))\n",
    "print(classification_report(ytest,smotepred))\n",
    "print(accuracy_score(ytest,smotepred))\n",
    "sns.heatmap(confusion_matrix(ytest,smotepred),annot=True,fmt=\"g\")\n",
    "plt.show()"
   ]
  },
  {
   "cell_type": "code",
   "execution_count": 60,
   "metadata": {},
   "outputs": [],
   "source": [
    "rf=RandomForestClassifier()"
   ]
  },
  {
   "cell_type": "code",
   "execution_count": 61,
   "metadata": {},
   "outputs": [],
   "source": [
    "smotemodel=rf.fit(xtrain,ytrain)\n",
    "smotepred=smotemodel.predict(xtest)"
   ]
  },
  {
   "cell_type": "code",
   "execution_count": 119,
   "metadata": {
    "scrolled": true
   },
   "outputs": [
    {
     "name": "stdout",
     "output_type": "stream",
     "text": [
      "[[4414  280]\n",
      " [ 555  346]]\n"
     ]
    },
    {
     "data": {
      "image/png": "[encoded data removed]",
      "text/plain": [
       "<Figure size 432x288 with 2 Axes>"
      ]
     },
     "metadata": {
      "needs_background": "light"
     },
     "output_type": "display_data"
    }
   ],
   "source": [
    "#print(\"Cohen's Kappa : \",cohen_kappa_score(ytest,smotepred))\n",
    "#print(\"Matthew's Correlation : \",matthews_corrcoef(ytest,smotepred))\n",
    "#print(classification_report(ytest,smotepred))\n",
    "#print(accuracy_score(ytest,smotepred))\n",
    "sns.heatmap(confusion_matrix(ytest,smotepred),annot=True,fmt=\"g\")\n",
    "print(confusion_matrix(ytest,smotepred))"
   ]
  },
  {
   "cell_type": "code",
   "execution_count": 63,
   "metadata": {},
   "outputs": [],
   "source": [
    "from sklearn.naive_bayes import GaussianNB\n",
    "nb=GaussianNB()"
   ]
  },
  {
   "cell_type": "code",
   "execution_count": 64,
   "metadata": {},
   "outputs": [],
   "source": [
    "smotemodel=nb.fit(xtrain,ytrain)\n",
    "smotepred=smotemodel.predict(xtest)"
   ]
  },
  {
   "cell_type": "code",
   "execution_count": 65,
   "metadata": {},
   "outputs": [
    {
     "name": "stdout",
     "output_type": "stream",
     "text": [
      "Cohen's Kappa :  0.49512793963045043\n",
      "Matthew's Correlat ion :  0.5555868578058599\n",
      "              precision    recall  f1-score   support\n",
      "\n",
      "           0       0.95      0.52      0.67      4215\n",
      "           1       0.67      0.97      0.79      4222\n",
      "\n",
      "    accuracy                           0.75      8437\n",
      "   macro avg       0.81      0.75      0.73      8437\n",
      "weighted avg       0.81      0.75      0.73      8437\n",
      "\n",
      "0.7476591205404765\n"
     ]
    },
    {
     "data": {
      "image/png": "[encoded data removed]",
      "text/plain": [
       "<Figure size 432x288 with 2 Axes>"
      ]
     },
     "metadata": {
      "needs_background": "light"
     },
     "output_type": "display_data"
    }
   ],
   "source": [
    "print(\"Cohen's Kappa : \",cohen_kappa_score(ytest,smotepred))\n",
    "print(\"Matthew's Correlat ion : \",matthews_corrcoef(ytest,smotepred))\n",
    "print(classification_report(ytest,smotepred))\n",
    "print(accuracy_score(ytest,smotepred))\n",
    "sns.heatmap(confusion_matrix(ytest,smotepred),annot=True,fmt=\"g\")\n",
    "plt.show()"
   ]
  },
  {
   "cell_type": "code",
   "execution_count": 66,
   "metadata": {},
   "outputs": [],
   "source": [
    "dt=DecisionTreeClassifier()"
   ]
  },
  {
   "cell_type": "code",
   "execution_count": 67,
   "metadata": {},
   "outputs": [],
   "source": [
    "smotemodel=dt.fit(xtrain,ytrain)\n",
    "smotepred=smotemodel.predict(xtest)"
   ]
  },
  {
   "cell_type": "code",
   "execution_count": 68,
   "metadata": {},
   "outputs": [
    {
     "name": "stdout",
     "output_type": "stream",
     "text": [
      "Cohen's Kappa :  0.7662658148607937\n",
      "Matthew's Correlat ion :  0.7662937190122205\n",
      "              precision    recall  f1-score   support\n",
      "\n",
      "           0       0.89      0.88      0.88      4215\n",
      "           1       0.88      0.89      0.88      4222\n",
      "\n",
      "    accuracy                           0.88      8437\n",
      "   macro avg       0.88      0.88      0.88      8437\n",
      "weighted avg       0.88      0.88      0.88      8437\n",
      "\n",
      "0.8831338153372051\n"
     ]
    },
    {
     "data": {
      "image/png": "[encoded data removed]",
      "text/plain": [
       "<Figure size 432x288 with 2 Axes>"
      ]
     },
     "metadata": {
      "needs_background": "light"
     },
     "output_type": "display_data"
    }
   ],
   "source": [
    "print(\"Cohen's Kappa : \",cohen_kappa_score(ytest,smotepred))\n",
    "print(\"Matthew's Correlat ion : \",matthews_corrcoef(ytest,smotepred))\n",
    "print(classification_report(ytest,smotepred))\n",
    "print(accuracy_score(ytest,smotepred))\n",
    "sns.heatmap(confusion_matrix(ytest,smotepred),annot=True,fmt=\"g\")\n",
    "plt.show()"
   ]
  },
  {
   "cell_type": "code",
   "execution_count": 69,
   "metadata": {},
   "outputs": [],
   "source": [
    "ada=AdaBoostClassifier()"
   ]
  },
  {
   "cell_type": "code",
   "execution_count": 70,
   "metadata": {},
   "outputs": [],
   "source": [
    "smotemodel=ada.fit(xtrain,ytrain)\n",
    "smotepred=smotemodel.predict(xtest)"
   ]
  },
  {
   "cell_type": "code",
   "execution_count": 71,
   "metadata": {},
   "outputs": [
    {
     "name": "stdout",
     "output_type": "stream",
     "text": [
      "Cohen's Kappa :  0.8003955475555911\n",
      "Matthew's Correlation :  0.8011747506279551\n",
      "              precision    recall  f1-score   support\n",
      "\n",
      "           0       0.92      0.88      0.90      4215\n",
      "           1       0.88      0.92      0.90      4222\n",
      "\n",
      "    accuracy                           0.90      8437\n",
      "   macro avg       0.90      0.90      0.90      8437\n",
      "weighted avg       0.90      0.90      0.90      8437\n",
      "\n",
      "0.9002014934218324\n"
     ]
    },
    {
     "data": {
      "image/png": "[encoded data removed]",
      "text/plain": [
       "<Figure size 432x288 with 2 Axes>"
      ]
     },
     "metadata": {
      "needs_background": "light"
     },
     "output_type": "display_data"
    }
   ],
   "source": [
    "print(\"Cohen's Kappa : \",cohen_kappa_score(ytest,smotepred))\n",
    "print(\"Matthew's Correlation : \",matthews_corrcoef(ytest,smotepred))\n",
    "print(classification_report(ytest,smotepred))\n",
    "print(accuracy_score(ytest,smotepred))\n",
    "sns.heatmap(confusion_matrix(ytest,smotepred),annot=True,fmt=\"g\")\n",
    "plt.show()"
   ]
  },
  {
   "cell_type": "code",
   "execution_count": 72,
   "metadata": {},
   "outputs": [],
   "source": [
    "gbm=GradientBoostingClassifier()"
   ]
  },
  {
   "cell_type": "code",
   "execution_count": 73,
   "metadata": {},
   "outputs": [],
   "source": [
    "smotemodel=gbm.fit(xtrain,ytrain)\n",
    "smotepred=smotemodel.predict(xtest)"
   ]
  },
  {
   "cell_type": "code",
   "execution_count": 74,
   "metadata": {},
   "outputs": [
    {
     "name": "stdout",
     "output_type": "stream",
     "text": [
      "Cohen's Kappa :  0.7892494618557748\n",
      "Matthew's Correlation :  0.7911083190729301\n",
      "              precision    recall  f1-score   support\n",
      "\n",
      "           0       0.92      0.86      0.89      4215\n",
      "           1       0.87      0.93      0.90      4222\n",
      "\n",
      "    accuracy                           0.89      8437\n",
      "   macro avg       0.90      0.89      0.89      8437\n",
      "weighted avg       0.90      0.89      0.89      8437\n",
      "\n",
      "0.8946307929358777\n"
     ]
    },
    {
     "data": {
      "image/png": "[encoded data removed]",
      "text/plain": [
       "<Figure size 432x288 with 2 Axes>"
      ]
     },
     "metadata": {
      "needs_background": "light"
     },
     "output_type": "display_data"
    }
   ],
   "source": [
    "print(\"Cohen's Kappa : \",cohen_kappa_score(ytest,smotepred))\n",
    "print(\"Matthew's Correlation : \",matthews_corrcoef(ytest,smotepred))\n",
    "print(classification_report(ytest,smotepred))\n",
    "print(accuracy_score(ytest,smotepred))\n",
    "sns.heatmap(confusion_matrix(ytest,smotepred),annot=True,fmt=\"g\")\n",
    "plt.show()"
   ]
  },
  {
   "cell_type": "code",
   "execution_count": 75,
   "metadata": {},
   "outputs": [],
   "source": [
    "### Tuning"
   ]
  },
  {
   "cell_type": "code",
   "execution_count": 76,
   "metadata": {},
   "outputs": [],
   "source": [
    "x=df1.drop([\"DEFAULT\"],axis=1)\n",
    "y=df1[\"DEFAULT\"]\n",
    "xtrain,xtest,ytrain,ytest=train_test_split(x,y,test_size=0.2,random_state=0)"
   ]
  },
  {
   "cell_type": "code",
   "execution_count": 77,
   "metadata": {},
   "outputs": [],
   "source": [
    "param_grid = [{'C':[0.1,0.2,0.3,0.4,0.5,0.6,0.7,0.8,0.9,1.0,1.1,1.2,1.3,1.4,1.5,1.6],'penalty':['l1','l2']}]"
   ]
  },
  {
   "cell_type": "code",
   "execution_count": 78,
   "metadata": {},
   "outputs": [],
   "source": [
    "lr=LogisticRegression()"
   ]
  },
  {
   "cell_type": "code",
   "execution_count": 79,
   "metadata": {},
   "outputs": [
    {
     "data": {
      "text/plain": [
       "GridSearchCV(cv=5, error_score=nan,\n",
       "             estimator=LogisticRegression(C=1.0, class_weight=None, dual=False,\n",
       "                                          fit_intercept=True,\n",
       "                                          intercept_scaling=1, l1_ratio=None,\n",
       "                                          max_iter=100, multi_class='auto',\n",
       "                                          n_jobs=None, penalty='l2',\n",
       "                                          random_state=None, solver='lbfgs',\n",
       "                                          tol=0.0001, verbose=0,\n",
       "                                          warm_start=False),\n",
       "             iid='deprecated', n_jobs=None,\n",
       "             param_grid=[{'C': [0.1, 0.2, 0.3, 0.4, 0.5, 0.6, 0.7, 0.8, 0.9,\n",
       "                                1.0, 1.1, 1.2, 1.3, 1.4, 1.5, 1.6],\n",
       "                          'penalty': ['l1', 'l2']}],\n",
       "             pre_dispatch='2*n_jobs', refit=True, return_train_score=False,\n",
       "             scoring='f1_weighted', verbose=0)"
      ]
     },
     "execution_count": 79,
     "metadata": {},
     "output_type": "execute_result"
    }
   ],
   "source": [
    "gs = GridSearchCV(lr,param_grid,cv=5,scoring='f1_weighted')\n",
    "gs.fit(xtrain,ytrain)"
   ]
  },
  {
   "cell_type": "code",
   "execution_count": 80,
   "metadata": {},
   "outputs": [
    {
     "data": {
      "text/plain": [
       "{'C': 0.2, 'penalty': 'l2'}"
      ]
     },
     "execution_count": 80,
     "metadata": {},
     "output_type": "execute_result"
    }
   ],
   "source": [
    "gs.best_params_"
   ]
  },
  {
   "cell_type": "code",
   "execution_count": 81,
   "metadata": {},
   "outputs": [],
   "source": [
    "lr_gs = LogisticRegression(**gs.best_params_)"
   ]
  },
  {
   "cell_type": "code",
   "execution_count": 82,
   "metadata": {},
   "outputs": [],
   "source": [
    "model=lr_gs.fit(xtrain,ytrain)\n",
    "pred=model.predict(xtest)"
   ]
  },
  {
   "cell_type": "code",
   "execution_count": 83,
   "metadata": {},
   "outputs": [
    {
     "name": "stdout",
     "output_type": "stream",
     "text": [
      "Cohen's Kappa :  0.4689817536625812\n",
      "Matthew's Correlation :  0.469076654226204\n",
      "              precision    recall  f1-score   support\n",
      "\n",
      "           0       0.91      0.92      0.92      4694\n",
      "           1       0.56      0.54      0.55       901\n",
      "\n",
      "    accuracy                           0.86      5595\n",
      "   macro avg       0.74      0.73      0.73      5595\n",
      "weighted avg       0.86      0.86      0.86      5595\n",
      "\n",
      "0.8584450402144772\n"
     ]
    },
    {
     "data": {
      "image/png": "[encoded data removed]",
      "text/plain": [
       "<Figure size 432x288 with 2 Axes>"
      ]
     },
     "metadata": {
      "needs_background": "light"
     },
     "output_type": "display_data"
    }
   ],
   "source": [
    "print(\"Cohen's Kappa : \",cohen_kappa_score(ytest,pred))\n",
    "print(\"Matthew's Correlation : \",matthews_corrcoef(ytest,pred))\n",
    "print(classification_report(ytest,pred))\n",
    "print(accuracy_score(ytest,pred))\n",
    "sns.heatmap(confusion_matrix(ytest,pred),annot=True,fmt=\"g\")\n",
    "plt.show()"
   ]
  },
  {
   "cell_type": "code",
   "execution_count": 84,
   "metadata": {},
   "outputs": [],
   "source": [
    "smt=SMOTETomek(random_state=42)\n",
    "x_reset,y_reset=smt.fit_sample(x,y)\n",
    "xtrsmote,xtesmote,ytrsmote,ytesmote=train_test_split(x_reset,y_reset,test_size=0.2,random_state=0)"
   ]
  },
  {
   "cell_type": "code",
   "execution_count": 85,
   "metadata": {},
   "outputs": [
    {
     "name": "stdout",
     "output_type": "stream",
     "text": [
      "{'C': 0.2, 'penalty': 'l2'}\n",
      "0.8505122461284363\n"
     ]
    }
   ],
   "source": [
    "print(gs.best_params_)\n",
    "print(gs.best_score_)"
   ]
  },
  {
   "cell_type": "code",
   "execution_count": 86,
   "metadata": {},
   "outputs": [],
   "source": [
    "lr_gs = LogisticRegression(**gs.best_params_)\n",
    "model=lr_gs.fit(xtrsmote,ytrsmote)\n",
    "pred=model.predict(xtesmote)"
   ]
  },
  {
   "cell_type": "code",
   "execution_count": 87,
   "metadata": {},
   "outputs": [
    {
     "name": "stdout",
     "output_type": "stream",
     "text": [
      "Cohen's Kappa :  0.6635906588820364\n",
      "Matthew's Correlation :  0.664944205811055\n",
      "              precision    recall  f1-score   support\n",
      "\n",
      "           0       0.81      0.86      0.84      4225\n",
      "           1       0.85      0.80      0.83      4212\n",
      "\n",
      "    accuracy                           0.83      8437\n",
      "   macro avg       0.83      0.83      0.83      8437\n",
      "weighted avg       0.83      0.83      0.83      8437\n",
      "\n",
      "0.8318122555410691\n"
     ]
    },
    {
     "data": {
      "image/png": "[encoded data removed]",
      "text/plain": [
       "<Figure size 432x288 with 2 Axes>"
      ]
     },
     "metadata": {
      "needs_background": "light"
     },
     "output_type": "display_data"
    }
   ],
   "source": [
    "print(\"Cohen's Kappa : \",cohen_kappa_score(ytesmote,pred))\n",
    "print(\"Matthew's Correlation : \",matthews_corrcoef(ytesmote,pred))\n",
    "print(classification_report(ytesmote,pred))\n",
    "print(accuracy_score(ytesmote,pred))\n",
    "sns.heatmap(confusion_matrix(ytesmote,pred),annot=True,fmt=\"g\")\n",
    "plt.show()"
   ]
  },
  {
   "cell_type": "code",
   "execution_count": 88,
   "metadata": {},
   "outputs": [
    {
     "name": "stdout",
     "output_type": "stream",
     "text": [
      "Best Hyper Parameters: {'max_features': 'auto', 'min_samples_leaf': 5, 'min_samples_split': 13, 'random_state': 42}\n"
     ]
    }
   ],
   "source": [
    "from sklearn.tree import DecisionTreeClassifier\n",
    "#making the instance\n",
    "dt= DecisionTreeClassifier(random_state=42)\n",
    "#Hyper Parameters Set\n",
    "params = {'max_features': ['auto', 'sqrt', 'log2'],\n",
    "          'min_samples_split': [2,3,4,5,6,7,8,9,10,11,12,13,14,15], \n",
    "          'min_samples_leaf':[1,2,3,4,5,6,7,8,9,10,11],\n",
    "          'random_state':[42]}\n",
    "#Making models with hyper parameters sets\n",
    "gs = GridSearchCV(dt, param_grid=params, n_jobs=-1,cv=5,scoring='f1_weighted')\n",
    "#Learning\n",
    "gs.fit(xtrain,ytrain)\n",
    "#The best hyper parameters set\n",
    "print(\"Best Hyper Parameters:\",gs.best_params_)"
   ]
  },
  {
   "cell_type": "code",
   "execution_count": 89,
   "metadata": {},
   "outputs": [],
   "source": [
    "dt_gs=DecisionTreeClassifier(**gs.best_params_)"
   ]
  },
  {
   "cell_type": "code",
   "execution_count": 90,
   "metadata": {},
   "outputs": [],
   "source": [
    "model=dt_gs.fit(xtrain,ytrain)\n",
    "pred=model.predict(xtest)"
   ]
  },
  {
   "cell_type": "code",
   "execution_count": 91,
   "metadata": {},
   "outputs": [
    {
     "name": "stdout",
     "output_type": "stream",
     "text": [
      "Cohen's Kappa :  0.3699930132952367\n",
      "Matthew's Correlation :  0.3782240363481513\n",
      "              precision    recall  f1-score   support\n",
      "\n",
      "           0       0.89      0.94      0.91      4694\n",
      "           1       0.55      0.38      0.45       901\n",
      "\n",
      "    accuracy                           0.85      5595\n",
      "   macro avg       0.72      0.66      0.68      5595\n",
      "weighted avg       0.83      0.85      0.84      5595\n",
      "\n",
      "0.8507596067917784\n"
     ]
    },
    {
     "data": {
      "image/png": "[encoded data removed]",
      "text/plain": [
       "<Figure size 432x288 with 2 Axes>"
      ]
     },
     "metadata": {
      "needs_background": "light"
     },
     "output_type": "display_data"
    }
   ],
   "source": [
    "print(\"Cohen's Kappa : \",cohen_kappa_score(ytest,pred))\n",
    "print(\"Matthew's Correlation : \",matthews_corrcoef(ytest,pred))\n",
    "print(classification_report(ytest,pred))\n",
    "print(accuracy_score(ytest,pred))\n",
    "sns.heatmap(confusion_matrix(ytest,pred),annot=True,fmt=\"g\")\n",
    "plt.show()"
   ]
  },
  {
   "cell_type": "code",
   "execution_count": 92,
   "metadata": {},
   "outputs": [],
   "source": [
    "smotemodel=dt_gs.fit(xtrain,ytrain)\n",
    "smotepred=smotemodel.predict(xtest)"
   ]
  },
  {
   "cell_type": "code",
   "execution_count": 93,
   "metadata": {},
   "outputs": [
    {
     "name": "stdout",
     "output_type": "stream",
     "text": [
      "Cohen's Kappa :  0.3699930132952367\n",
      "Matthew's Correlat ion :  0.3782240363481513\n",
      "              precision    recall  f1-score   support\n",
      "\n",
      "           0       0.89      0.94      0.91      4694\n",
      "           1       0.55      0.38      0.45       901\n",
      "\n",
      "    accuracy                           0.85      5595\n",
      "   macro avg       0.72      0.66      0.68      5595\n",
      "weighted avg       0.83      0.85      0.84      5595\n",
      "\n",
      "0.8507596067917784\n"
     ]
    },
    {
     "data": {
      "image/png": "[encoded data removed]",
      "text/plain": [
       "<Figure size 432x288 with 2 Axes>"
      ]
     },
     "metadata": {
      "needs_background": "light"
     },
     "output_type": "display_data"
    }
   ],
   "source": [
    "print(\"Cohen's Kappa : \",cohen_kappa_score(ytest,smotepred))\n",
    "print(\"Matthew's Correlat ion : \",matthews_corrcoef(ytest,smotepred))\n",
    "print(classification_report(ytest,smotepred))\n",
    "print(accuracy_score(ytest,smotepred))\n",
    "sns.heatmap(confusion_matrix(ytest,smotepred),annot=True,fmt=\"g\")\n",
    "plt.show()"
   ]
  },
  {
   "cell_type": "code",
   "execution_count": 94,
   "metadata": {},
   "outputs": [],
   "source": [
    "smt=SMOTETomek(random_state=42)\n",
    "x_reset,y_reset=smt.fit_sample(x,y)\n",
    "xtrsmote,xtesmote,ytrsmote,ytesmote=train_test_split(x_reset,y_reset,test_size=0.2,random_state=0)"
   ]
  },
  {
   "cell_type": "code",
   "execution_count": 95,
   "metadata": {},
   "outputs": [
    {
     "name": "stdout",
     "output_type": "stream",
     "text": [
      "{'max_features': 'auto', 'min_samples_leaf': 5, 'min_samples_split': 13, 'random_state': 42}\n",
      "0.838981697671031\n"
     ]
    }
   ],
   "source": [
    "print(gs.best_params_)\n",
    "print(gs.best_score_)"
   ]
  },
  {
   "cell_type": "code",
   "execution_count": 96,
   "metadata": {},
   "outputs": [],
   "source": [
    "dt_gs = DecisionTreeClassifier(**gs.best_params_)\n",
    "model=dt_gs.fit(xtrsmote,ytrsmote)\n",
    "pred=model.predict(xtesmote)"
   ]
  },
  {
   "cell_type": "code",
   "execution_count": 97,
   "metadata": {},
   "outputs": [
    {
     "name": "stdout",
     "output_type": "stream",
     "text": [
      "Cohen's Kappa :  0.7306920161424652\n",
      "Matthew's Correlation :  0.7313288688333751\n",
      "              precision    recall  f1-score   support\n",
      "\n",
      "           0       0.85      0.89      0.87      4225\n",
      "           1       0.88      0.84      0.86      4212\n",
      "\n",
      "    accuracy                           0.87      8437\n",
      "   macro avg       0.87      0.87      0.87      8437\n",
      "weighted avg       0.87      0.87      0.87      8437\n",
      "\n",
      "0.8653549839990518\n"
     ]
    },
    {
     "data": {
      "image/png": "[encoded data removed]",
      "text/plain": [
       "<Figure size 432x288 with 2 Axes>"
      ]
     },
     "metadata": {
      "needs_background": "light"
     },
     "output_type": "display_data"
    }
   ],
   "source": [
    "print(\"Cohen's Kappa : \",cohen_kappa_score(ytesmote,pred))\n",
    "print(\"Matthew's Correlation : \",matthews_corrcoef(ytesmote,pred))\n",
    "print(classification_report(ytesmote,pred))\n",
    "print(accuracy_score(ytesmote,pred))\n",
    "sns.heatmap(confusion_matrix(ytesmote,pred),annot=True,fmt=\"g\")\n",
    "plt.show()"
   ]
  },
  {
   "cell_type": "code",
   "execution_count": 100,
   "metadata": {},
   "outputs": [
    {
     "name": "stdout",
     "output_type": "stream",
     "text": [
      "RandomizedSearchCV(cv=StratifiedKFold(n_splits=10, random_state=0, shuffle=False),\n",
      "                   error_score=nan,\n",
      "                   estimator=RandomForestClassifier(bootstrap=True,\n",
      "                                                    ccp_alpha=0.0,\n",
      "                                                    class_weight=None,\n",
      "                                                    criterion='gini',\n",
      "                                                    max_depth=None,\n",
      "                                                    max_features='auto',\n",
      "                                                    max_leaf_nodes=None,\n",
      "                                                    max_samples=None,\n",
      "                                                    min_impurity_decrease=0.0,\n",
      "                                                    min_impurity_split=None,\n",
      "                                                    min_samples_leaf=1,\n",
      "                                                    min_samples_spli...\n",
      "                                                    min_weight_fraction_leaf=0.0,\n",
      "                                                    n_estimators=100,\n",
      "                                                    n_jobs=None,\n",
      "                                                    oob_score=False,\n",
      "                                                    random_state=0, verbose=0,\n",
      "                                                    warm_start=False),\n",
      "                   iid='deprecated', n_iter=10, n_jobs=None,\n",
      "                   param_distributions={'criterion': ['gini', 'entropy'],\n",
      "                                        'n_estimators': range(20, 101, 10)},\n",
      "                   pre_dispatch='2*n_jobs', random_state=None, refit=True,\n",
      "                   return_train_score=False, scoring='f1_weighted', verbose=0)\n",
      "{'n_estimators': 90, 'criterion': 'entropy'}\n"
     ]
    }
   ],
   "source": [
    "RF=RandomForestClassifier(random_state=0)\n",
    "kfolds = StratifiedKFold(n_splits=10, random_state=0)\n",
    "estimators=range(20,101,10)\n",
    "rsearch= RandomizedSearchCV(cv=kfolds,estimator=RF,scoring = \"f1_weighted\", param_distributions=dict(n_estimators=estimators, criterion=['gini', 'entropy']))             \n",
    "rsearch.fit(xtrsmote, ytrsmote)\n",
    "print(rsearch)\n",
    "print(rsearch.best_params_)"
   ]
  },
  {
   "cell_type": "code",
   "execution_count": 101,
   "metadata": {},
   "outputs": [],
   "source": [
    "rf_gs = RandomForestClassifier(**rsearch.best_params_)\n",
    "model_rf=rf_gs.fit(xtrsmote,ytrsmote)\n",
    "pred=model_rf.predict(xtesmote)"
   ]
  },
  {
   "cell_type": "code",
   "execution_count": 102,
   "metadata": {},
   "outputs": [],
   "source": [
    "# Random Forest Feature Importance"
   ]
  },
  {
   "cell_type": "code",
   "execution_count": 103,
   "metadata": {},
   "outputs": [
    {
     "data": {
      "text/plain": [
       "array([3.74122447e-01, 1.63095295e-04, 2.53765284e-02, 1.67694411e-02,\n",
       "       2.32215199e-03, 1.19128514e-02, 2.76723243e-03, 8.20172520e-05,\n",
       "       2.05804080e-03, 2.51266901e-02, 1.73729683e-03, 2.43716750e-02,\n",
       "       1.28871453e-02, 9.51527772e-04, 1.89642962e-02, 1.23650933e-02,\n",
       "       1.38836527e-03, 1.09520993e-02, 8.27554077e-04, 1.73734468e-04,\n",
       "       1.73882119e-03, 1.73016186e-02, 1.24168697e-03, 2.04133922e-02,\n",
       "       2.17599809e-03, 1.38342096e-02, 9.44636898e-03, 3.17304507e-02,\n",
       "       4.71993513e-04, 1.90695156e-01, 1.65631021e-01])"
      ]
     },
     "execution_count": 103,
     "metadata": {},
     "output_type": "execute_result"
    }
   ],
   "source": [
    "rf_gs.feature_importances_"
   ]
  },
  {
   "cell_type": "code",
   "execution_count": 104,
   "metadata": {},
   "outputs": [],
   "source": [
    "feature_results = pd.DataFrame({'feature': list(xtrsmote.columns),'importance': rf_gs.feature_importances_})  "
   ]
  },
  {
   "cell_type": "code",
   "execution_count": 105,
   "metadata": {},
   "outputs": [],
   "source": [
    "feature_results = feature_results.sort_values('importance', ascending = False).head(10)"
   ]
  },
  {
   "cell_type": "code",
   "execution_count": 106,
   "metadata": {},
   "outputs": [
    {
     "data": {
      "text/plain": [
       "<Figure size 576x432 with 0 Axes>"
      ]
     },
     "metadata": {},
     "output_type": "display_data"
    },
    {
     "data": {
      "image/png": "[encoded data removed]",
      "text/plain": [
       "<Figure size 432x288 with 1 Axes>"
      ]
     },
     "metadata": {
      "needs_background": "light"
     },
     "output_type": "display_data"
    }
   ],
   "source": [
    "plt.figure(figsize=(8,6))\n",
    "feature_results.loc[:, :].plot(x = 'feature', y = 'importance', kind='barh', color = 'blue')\n",
    "plt.xlabel('Relative Importance')\n",
    "plt.title('Feature Importances from Random Forest')\n",
    "plt.show()"
   ]
  },
  {
   "cell_type": "code",
   "execution_count": 112,
   "metadata": {},
   "outputs": [
    {
     "name": "stdout",
     "output_type": "stream",
     "text": [
      "Cohen's Kappa :  0.807990830721175\n",
      "Matthew's Correlation :  0.8080236133638351\n",
      "              precision    recall  f1-score   support\n",
      "\n",
      "           0       0.91      0.90      0.90      4225\n",
      "           1       0.90      0.91      0.90      4212\n",
      "\n",
      "    accuracy                           0.90      8437\n",
      "   macro avg       0.90      0.90      0.90      8437\n",
      "weighted avg       0.90      0.90      0.90      8437\n",
      "\n",
      "0.9039943107739717\n"
     ]
    },
    {
     "data": {
      "image/png": "[encoded data removed]",
      "text/plain": [
       "<Figure size 432x288 with 2 Axes>"
      ]
     },
     "metadata": {
      "needs_background": "light"
     },
     "output_type": "display_data"
    },
    {
     "name": "stdout",
     "output_type": "stream",
     "text": [
      "AUC SCORE:  0.9040010227189715\n"
     ]
    }
   ],
   "source": [
    "print(\"Cohen's Kappa : \",cohen_kappa_score(ytesmote,pred))\n",
    "print(\"Matthew's Correlation : \",matthews_corrcoef(ytesmote,pred))\n",
    "print(classification_report(ytesmote,pred))\n",
    "print(accuracy_score(ytesmote,pred))\n",
    "sns.heatmap(confusion_matrix(ytesmote,pred),annot=True,fmt=\"g\", cmap='Blues' )\n",
    "plt.show()\n",
    "print('AUC SCORE: ', roc_auc_score(ytesmote,pred))"
   ]
  },
  {
   "cell_type": "code",
   "execution_count": 371,
   "metadata": {},
   "outputs": [
    {
     "name": "stdout",
     "output_type": "stream",
     "text": [
      "RandomizedSearchCV(cv=StratifiedKFold(n_splits=10, random_state=0, shuffle=False),\n",
      "                   error_score=nan,\n",
      "                   estimator=GradientBoostingClassifier(ccp_alpha=0.0,\n",
      "                                                        criterion='friedman_mse',\n",
      "                                                        init=None,\n",
      "                                                        learning_rate=0.1,\n",
      "                                                        loss='deviance',\n",
      "                                                        max_depth=3,\n",
      "                                                        max_features=None,\n",
      "                                                        max_leaf_nodes=None,\n",
      "                                                        min_impurity_decrease=0.0,\n",
      "                                                        min_impurity_split=None,\n",
      "                                                        min_samples_leaf=1,\n",
      "                                                        min_samples_spl...\n",
      "                                                        n_estimators=100,\n",
      "                                                        n_iter_no_change=None,\n",
      "                                                        presort='deprecated',\n",
      "                                                        random_state=0,\n",
      "                                                        subsample=1.0,\n",
      "                                                        tol=0.0001,\n",
      "                                                        validation_fraction=0.1,\n",
      "                                                        verbose=0,\n",
      "                                                        warm_start=False),\n",
      "                   iid='deprecated', n_iter=10, n_jobs=None,\n",
      "                   param_distributions={'n_estimators': range(20, 101, 10)},\n",
      "                   pre_dispatch='2*n_jobs', random_state=None, refit=True,\n",
      "                   return_train_score=False, scoring='f1_weighted', verbose=0)\n",
      "{'n_estimators': 100}\n"
     ]
    }
   ],
   "source": [
    "GB=GradientBoostingClassifier(random_state=0)\n",
    "kfolds = StratifiedKFold(n_splits=10, random_state=0)\n",
    "estimators=range(20,101,10)\n",
    "rsearch= RandomizedSearchCV(cv=kfolds,estimator=GB,scoring = \"f1_weighted\", param_distributions=dict(n_estimators=estimators))             \n",
    "rsearch.fit(xtrsmote, ytrsmote)\n",
    "print(rsearch)\n",
    "print(rsearch.best_params_)"
   ]
  },
  {
   "cell_type": "code",
   "execution_count": 372,
   "metadata": {},
   "outputs": [],
   "source": [
    "gb_gs = GradientBoostingClassifier(**rsearch.best_params_)\n",
    "model_gb=gb_gs.fit(xtrsmote,ytrsmote)\n",
    "pred=model_gb.predict(xtesmote)"
   ]
  },
  {
   "cell_type": "code",
   "execution_count": 373,
   "metadata": {},
   "outputs": [],
   "source": [
    "# Feature Importance from Gradient Boosting"
   ]
  },
  {
   "cell_type": "code",
   "execution_count": 374,
   "metadata": {},
   "outputs": [],
   "source": [
    "gb_gs.feature_importances_\n",
    "feature_results = pd.DataFrame({'feature': list(xtrsmote.columns),'importance': gb_gs.feature_importances_})                         \n",
    "#Showing the top 10 most important features\n",
    "feature_results = feature_results.sort_values('importance', ascending = False).head(10)"
   ]
  },
  {
   "cell_type": "code",
   "execution_count": 375,
   "metadata": {},
   "outputs": [
    {
     "data": {
      "text/plain": [
       "Text(0.5, 1.0, 'Feature Importances from Gradient Boosting')"
      ]
     },
     "execution_count": 375,
     "metadata": {},
     "output_type": "execute_result"
    },
    {
     "data": {
      "text/plain": [
       "<Figure size 576x432 with 0 Axes>"
      ]
     },
     "metadata": {},
     "output_type": "display_data"
    },
    {
     "data": {
      "image/png": "[encoded data removed]",
      "text/plain": [
       "<Figure size 432x288 with 1 Axes>"
      ]
     },
     "metadata": {
      "needs_background": "light"
     },
     "output_type": "display_data"
    }
   ],
   "source": [
    "plt.figure(figsize=(8,6))\n",
    "feature_results.loc[:, :].plot(x = 'feature', y = 'importance', kind='barh', color = 'red')\n",
    "plt.xlabel('Relative Importance')\n",
    "plt.title('Feature Importances from Gradient Boosting')"
   ]
  },
  {
   "cell_type": "code",
   "execution_count": 377,
   "metadata": {},
   "outputs": [
    {
     "name": "stdout",
     "output_type": "stream",
     "text": [
      "Cohen's Kappa :  0.8220766499666323\n",
      "Matthew's Correlation :  0.8243189031900421\n",
      "              precision    recall  f1-score   support\n",
      "\n",
      "           0       0.94      0.87      0.91      4454\n",
      "           1       0.88      0.95      0.91      4534\n",
      "\n",
      "    accuracy                           0.91      8988\n",
      "   macro avg       0.91      0.91      0.91      8988\n",
      "weighted avg       0.91      0.91      0.91      8988\n",
      "\n",
      "0.9111036938139742\n"
     ]
    },
    {
     "data": {
      "image/png": "[encoded data removed]",
      "text/plain": [
       "<Figure size 432x288 with 2 Axes>"
      ]
     },
     "metadata": {
      "needs_background": "light"
     },
     "output_type": "display_data"
    },
    {
     "name": "stdout",
     "output_type": "stream",
     "text": [
      "AUC Score:  0.9107688375154424\n"
     ]
    }
   ],
   "source": [
    "print(\"Cohen's Kappa : \",cohen_kappa_score(ytesmote,pred))\n",
    "print(\"Matthew's Correlation : \",matthews_corrcoef(ytesmote,pred))\n",
    "print(classification_report(ytesmote,pred))\n",
    "print(accuracy_score(ytesmote,pred))\n",
    "sns.heatmap(confusion_matrix(ytesmote,pred),annot=True,fmt=\"g\")\n",
    "plt.show()\n",
    "print('AUC Score: ',roc_auc_score(ytesmote, pred))"
   ]
  },
  {
   "cell_type": "code",
   "execution_count": 378,
   "metadata": {},
   "outputs": [
    {
     "name": "stdout",
     "output_type": "stream",
     "text": [
      "RandomizedSearchCV(cv=StratifiedKFold(n_splits=10, random_state=0, shuffle=False),\n",
      "                   error_score=nan,\n",
      "                   estimator=AdaBoostClassifier(algorithm='SAMME.R',\n",
      "                                                base_estimator=None,\n",
      "                                                learning_rate=1.0,\n",
      "                                                n_estimators=50,\n",
      "                                                random_state=0),\n",
      "                   iid='deprecated', n_iter=10, n_jobs=None,\n",
      "                   param_distributions={'n_estimators': range(20, 101, 10)},\n",
      "                   pre_dispatch='2*n_jobs', random_state=None, refit=True,\n",
      "                   return_train_score=False, scoring='f1_weighted', verbose=0)\n",
      "{'n_estimators': 100}\n"
     ]
    }
   ],
   "source": [
    "RF_boost=AdaBoostClassifier(random_state=0)\n",
    "kfolds = StratifiedKFold(n_splits=10, random_state=0)\n",
    "estimators=range(20,101,10)\n",
    "rsearch= RandomizedSearchCV(cv=kfolds,estimator=RF_boost,scoring = \"f1_weighted\", param_distributions=dict(n_estimators=estimators))             \n",
    "rsearch.fit(xtrsmote, ytrsmote)\n",
    "print(rsearch)\n",
    "print(rsearch.best_params_)"
   ]
  },
  {
   "cell_type": "code",
   "execution_count": 379,
   "metadata": {},
   "outputs": [],
   "source": [
    "rf_boost_gs = AdaBoostClassifier(**rsearch.best_params_)\n",
    "model_rf_boost=rf_boost_gs.fit(xtrsmote,ytrsmote)\n",
    "pred=model_rf_boost.predict(xtesmote)"
   ]
  },
  {
   "cell_type": "code",
   "execution_count": 380,
   "metadata": {},
   "outputs": [
    {
     "name": "stdout",
     "output_type": "stream",
     "text": [
      "Cohen's Kappa :  0.8330665105021744\n",
      "Matthew's Correlation :  0.8332489052864954\n",
      "              precision    recall  f1-score   support\n",
      "\n",
      "           0       0.92      0.91      0.91      4454\n",
      "           1       0.91      0.93      0.92      4534\n",
      "\n",
      "    accuracy                           0.92      8988\n",
      "   macro avg       0.92      0.92      0.92      8988\n",
      "weighted avg       0.92      0.92      0.92      8988\n",
      "\n",
      "0.9165554072096128\n"
     ]
    },
    {
     "data": {
      "image/png": "[encoded data removed]",
      "text/plain": [
       "<Figure size 432x288 with 2 Axes>"
      ]
     },
     "metadata": {
      "needs_background": "light"
     },
     "output_type": "display_data"
    },
    {
     "name": "stdout",
     "output_type": "stream",
     "text": [
      "AUC score:  0.9164557009663454\n"
     ]
    }
   ],
   "source": [
    "print(\"Cohen's Kappa : \",cohen_kappa_score(ytesmote,pred))\n",
    "print(\"Matthew's Correlation : \",matthews_corrcoef(ytesmote,pred))\n",
    "print(classification_report(ytesmote,pred))\n",
    "print(accuracy_score(ytesmote,pred))\n",
    "sns.heatmap(confusion_matrix(ytesmote,pred),annot=True,fmt=\"g\")\n",
    "plt.show()\n",
    "print('AUC score: ',roc_auc_score(ytesmote, pred))"
   ]
  },
  {
   "cell_type": "code",
   "execution_count": 381,
   "metadata": {},
   "outputs": [],
   "source": [
    "import warnings\n",
    "warnings.filterwarnings('ignore')\n",
    "RF=RandomForestClassifier(n_estimators=100, criterion='gini', random_state=0)\n",
    "RF_boost=AdaBoostClassifier(base_estimator=RF, n_estimators=90, random_state=0)\n",
    "GBoost=GradientBoostingClassifier(n_estimators=100, random_state=0)"
   ]
  },
  {
   "cell_type": "code",
   "execution_count": 382,
   "metadata": {},
   "outputs": [],
   "source": [
    "models=[]\n",
    "models.append(('RandomForest', RF))\n",
    "models.append(('RF_boost', RF_boost))\n",
    "models.append(('GBoost', GBoost))"
   ]
  },
  {
   "cell_type": "code",
   "execution_count": 383,
   "metadata": {},
   "outputs": [
    {
     "name": "stdout",
     "output_type": "stream",
     "text": [
      "Mean weighted training f1-score\n",
      "RandomForest 0.9253625091433044\n",
      "Mean weighted training f1-score\n",
      "RF_boost 0.9261404393997594\n",
      "Mean weighted training f1-score\n",
      "GBoost 0.9104407063256208\n"
     ]
    }
   ],
   "source": [
    "results=[]\n",
    "names=[]\n",
    "for name, model in models:\n",
    "    skfold=StratifiedKFold(n_splits=10, random_state=0)\n",
    "    cv_results=model_selection.cross_val_score(model, xtrsmote, ytrsmote, cv=skfold, scoring='f1_weighted')\n",
    "    results.append(cv_results)\n",
    "    names.append(name)\n",
    "    print('Mean weighted training f1-score')\n",
    "    print(name, np.mean(cv_results))"
   ]
  },
  {
   "cell_type": "code",
   "execution_count": 384,
   "metadata": {},
   "outputs": [
    {
     "name": "stdout",
     "output_type": "stream",
     "text": [
      "Mean weighted testing f1-score\n",
      "RandomForest 0.9097351312294316\n",
      "Mean weighted testing f1-score\n",
      "RF_boost 0.9087418790197146\n",
      "Mean weighted testing f1-score\n",
      "GBoost 0.9119439500993296\n"
     ]
    }
   ],
   "source": [
    "results=[]\n",
    "names=[]\n",
    "for name, model in models:\n",
    "    skfold=StratifiedKFold(n_splits=10, random_state=0)\n",
    "    cv_results=model_selection.cross_val_score(model, xtesmote, ytesmote, cv=skfold, scoring='f1_weighted')\n",
    "    results.append(cv_results)\n",
    "    names.append(name)\n",
    "    print('Mean weighted testing f1-score')\n",
    "    print(name, np.mean(cv_results))"
   ]
  },
  {
   "cell_type": "code",
   "execution_count": 385,
   "metadata": {},
   "outputs": [],
   "source": [
    "###PCA"
   ]
  },
  {
   "cell_type": "code",
   "execution_count": 386,
   "metadata": {},
   "outputs": [],
   "source": [
    "df1=pd.read_csv(\"credit_card1.csv\")"
   ]
  },
  {
   "cell_type": "code",
   "execution_count": 387,
   "metadata": {},
   "outputs": [
    {
     "data": {
      "text/html": [
       "<div>\n",
       "<style scoped>\n",
       "    .dataframe tbody tr th:only-of-type {\n",
       "        vertical-align: middle;\n",
       "    }\n",
       "\n",
       "    .dataframe tbody tr th {\n",
       "        vertical-align: top;\n",
       "    }\n",
       "\n",
       "    .dataframe thead th {\n",
       "        text-align: right;\n",
       "    }\n",
       "</style>\n",
       "<table border=\"1\" class=\"dataframe\">\n",
       "  <thead>\n",
       "    <tr style=\"text-align: right;\">\n",
       "      <th></th>\n",
       "      <th>ID</th>\n",
       "      <th>LIMIT_BAL</th>\n",
       "      <th>SEX</th>\n",
       "      <th>EDUCATION</th>\n",
       "      <th>MARRIAGE</th>\n",
       "      <th>AGE</th>\n",
       "      <th>PAY_1</th>\n",
       "      <th>PAY_2</th>\n",
       "      <th>PAY_3</th>\n",
       "      <th>PAY_4</th>\n",
       "      <th>...</th>\n",
       "      <th>BILL_AMT4</th>\n",
       "      <th>BILL_AMT5</th>\n",
       "      <th>BILL_AMT6</th>\n",
       "      <th>PAY_AMT1</th>\n",
       "      <th>PAY_AMT2</th>\n",
       "      <th>PAY_AMT3</th>\n",
       "      <th>PAY_AMT4</th>\n",
       "      <th>PAY_AMT5</th>\n",
       "      <th>PAY_AMT6</th>\n",
       "      <th>DEFAULT</th>\n",
       "    </tr>\n",
       "  </thead>\n",
       "  <tbody>\n",
       "    <tr>\n",
       "      <td>0</td>\n",
       "      <td>1</td>\n",
       "      <td>20000</td>\n",
       "      <td>2</td>\n",
       "      <td>2</td>\n",
       "      <td>1</td>\n",
       "      <td>24</td>\n",
       "      <td>2</td>\n",
       "      <td>2</td>\n",
       "      <td>-1</td>\n",
       "      <td>-1</td>\n",
       "      <td>...</td>\n",
       "      <td>0</td>\n",
       "      <td>0</td>\n",
       "      <td>0</td>\n",
       "      <td>0</td>\n",
       "      <td>689</td>\n",
       "      <td>0</td>\n",
       "      <td>0</td>\n",
       "      <td>0</td>\n",
       "      <td>0</td>\n",
       "      <td>1</td>\n",
       "    </tr>\n",
       "    <tr>\n",
       "      <td>1</td>\n",
       "      <td>2</td>\n",
       "      <td>120000</td>\n",
       "      <td>2</td>\n",
       "      <td>2</td>\n",
       "      <td>2</td>\n",
       "      <td>26</td>\n",
       "      <td>-1</td>\n",
       "      <td>2</td>\n",
       "      <td>0</td>\n",
       "      <td>0</td>\n",
       "      <td>...</td>\n",
       "      <td>3272</td>\n",
       "      <td>3455</td>\n",
       "      <td>3261</td>\n",
       "      <td>0</td>\n",
       "      <td>1000</td>\n",
       "      <td>1000</td>\n",
       "      <td>1000</td>\n",
       "      <td>0</td>\n",
       "      <td>2000</td>\n",
       "      <td>1</td>\n",
       "    </tr>\n",
       "    <tr>\n",
       "      <td>2</td>\n",
       "      <td>3</td>\n",
       "      <td>90000</td>\n",
       "      <td>2</td>\n",
       "      <td>2</td>\n",
       "      <td>2</td>\n",
       "      <td>34</td>\n",
       "      <td>0</td>\n",
       "      <td>0</td>\n",
       "      <td>0</td>\n",
       "      <td>0</td>\n",
       "      <td>...</td>\n",
       "      <td>14331</td>\n",
       "      <td>14948</td>\n",
       "      <td>15549</td>\n",
       "      <td>1518</td>\n",
       "      <td>1500</td>\n",
       "      <td>1000</td>\n",
       "      <td>1000</td>\n",
       "      <td>1000</td>\n",
       "      <td>5000</td>\n",
       "      <td>0</td>\n",
       "    </tr>\n",
       "    <tr>\n",
       "      <td>3</td>\n",
       "      <td>4</td>\n",
       "      <td>50000</td>\n",
       "      <td>2</td>\n",
       "      <td>2</td>\n",
       "      <td>1</td>\n",
       "      <td>37</td>\n",
       "      <td>0</td>\n",
       "      <td>0</td>\n",
       "      <td>0</td>\n",
       "      <td>0</td>\n",
       "      <td>...</td>\n",
       "      <td>28314</td>\n",
       "      <td>28959</td>\n",
       "      <td>29547</td>\n",
       "      <td>2000</td>\n",
       "      <td>2019</td>\n",
       "      <td>1200</td>\n",
       "      <td>1100</td>\n",
       "      <td>1069</td>\n",
       "      <td>1000</td>\n",
       "      <td>0</td>\n",
       "    </tr>\n",
       "    <tr>\n",
       "      <td>4</td>\n",
       "      <td>5</td>\n",
       "      <td>50000</td>\n",
       "      <td>1</td>\n",
       "      <td>2</td>\n",
       "      <td>1</td>\n",
       "      <td>57</td>\n",
       "      <td>-1</td>\n",
       "      <td>0</td>\n",
       "      <td>-1</td>\n",
       "      <td>0</td>\n",
       "      <td>...</td>\n",
       "      <td>20940</td>\n",
       "      <td>19146</td>\n",
       "      <td>19131</td>\n",
       "      <td>2000</td>\n",
       "      <td>36681</td>\n",
       "      <td>10000</td>\n",
       "      <td>9000</td>\n",
       "      <td>689</td>\n",
       "      <td>679</td>\n",
       "      <td>0</td>\n",
       "    </tr>\n",
       "  </tbody>\n",
       "</table>\n",
       "<p>5 rows × 25 columns</p>\n",
       "</div>"
      ],
      "text/plain": [
       "   ID  LIMIT_BAL  SEX  EDUCATION  MARRIAGE  AGE  PAY_1  PAY_2  PAY_3  PAY_4  \\\n",
       "0   1      20000    2          2         1   24      2      2     -1     -1   \n",
       "1   2     120000    2          2         2   26     -1      2      0      0   \n",
       "2   3      90000    2          2         2   34      0      0      0      0   \n",
       "3   4      50000    2          2         1   37      0      0      0      0   \n",
       "4   5      50000    1          2         1   57     -1      0     -1      0   \n",
       "\n",
       "   ...  BILL_AMT4  BILL_AMT5  BILL_AMT6  PAY_AMT1  PAY_AMT2  PAY_AMT3  \\\n",
       "0  ...          0          0          0         0       689         0   \n",
       "1  ...       3272       3455       3261         0      1000      1000   \n",
       "2  ...      14331      14948      15549      1518      1500      1000   \n",
       "3  ...      28314      28959      29547      2000      2019      1200   \n",
       "4  ...      20940      19146      19131      2000     36681     10000   \n",
       "\n",
       "   PAY_AMT4  PAY_AMT5  PAY_AMT6  DEFAULT  \n",
       "0         0         0         0        1  \n",
       "1      1000         0      2000        1  \n",
       "2      1000      1000      5000        0  \n",
       "3      1100      1069      1000        0  \n",
       "4      9000       689       679        0  \n",
       "\n",
       "[5 rows x 25 columns]"
      ]
     },
     "execution_count": 387,
     "metadata": {},
     "output_type": "execute_result"
    }
   ],
   "source": [
    "df1.head()"
   ]
  },
  {
   "cell_type": "code",
   "execution_count": 388,
   "metadata": {},
   "outputs": [],
   "source": [
    "df1.drop([\"ID\"],axis=1,inplace=True)"
   ]
  },
  {
   "cell_type": "code",
   "execution_count": 389,
   "metadata": {},
   "outputs": [],
   "source": [
    "from sklearn.preprocessing import StandardScaler\n",
    "sc=StandardScaler()"
   ]
  },
  {
   "cell_type": "code",
   "execution_count": 390,
   "metadata": {},
   "outputs": [],
   "source": [
    "df1.SEX=df1.SEX.map({2: 'Female', 1:'Male'})"
   ]
  },
  {
   "cell_type": "code",
   "execution_count": 391,
   "metadata": {},
   "outputs": [],
   "source": [
    "df1.EDUCATION=df1.EDUCATION.map({1:'GraduateSchool', 2:'University', 3:'HighSchool', 4:'Others', 0:'Others', 5:'Others', 6:'Others'})"
   ]
  },
  {
   "cell_type": "code",
   "execution_count": 392,
   "metadata": {},
   "outputs": [],
   "source": [
    "df1.MARRIAGE=df1.MARRIAGE.map({1:'Married', 2:'Single', 3:'Others', 0:'Others'})"
   ]
  },
  {
   "cell_type": "code",
   "execution_count": 393,
   "metadata": {},
   "outputs": [],
   "source": [
    "df1=pd.get_dummies(df1,drop_first=True)"
   ]
  },
  {
   "cell_type": "code",
   "execution_count": 394,
   "metadata": {},
   "outputs": [],
   "source": [
    "df2=df1.copy()"
   ]
  },
  {
   "cell_type": "code",
   "execution_count": 395,
   "metadata": {},
   "outputs": [],
   "source": [
    "x=df2.drop([\"DEFAULT\"],axis=1)\n",
    "y=df2[\"DEFAULT\"]"
   ]
  },
  {
   "cell_type": "code",
   "execution_count": 396,
   "metadata": {},
   "outputs": [],
   "source": [
    "scaled_df1=pd.DataFrame(sc.fit_transform(x),columns=x.columns)"
   ]
  },
  {
   "cell_type": "code",
   "execution_count": 397,
   "metadata": {},
   "outputs": [
    {
     "data": {
      "text/html": [
       "<div>\n",
       "<style scoped>\n",
       "    .dataframe tbody tr th:only-of-type {\n",
       "        vertical-align: middle;\n",
       "    }\n",
       "\n",
       "    .dataframe tbody tr th {\n",
       "        vertical-align: top;\n",
       "    }\n",
       "\n",
       "    .dataframe thead th {\n",
       "        text-align: right;\n",
       "    }\n",
       "</style>\n",
       "<table border=\"1\" class=\"dataframe\">\n",
       "  <thead>\n",
       "    <tr style=\"text-align: right;\">\n",
       "      <th></th>\n",
       "      <th>LIMIT_BAL</th>\n",
       "      <th>AGE</th>\n",
       "      <th>PAY_1</th>\n",
       "      <th>PAY_2</th>\n",
       "      <th>PAY_3</th>\n",
       "      <th>PAY_4</th>\n",
       "      <th>PAY_5</th>\n",
       "      <th>PAY_6</th>\n",
       "      <th>BILL_AMT1</th>\n",
       "      <th>BILL_AMT2</th>\n",
       "      <th>...</th>\n",
       "      <th>PAY_AMT3</th>\n",
       "      <th>PAY_AMT4</th>\n",
       "      <th>PAY_AMT5</th>\n",
       "      <th>PAY_AMT6</th>\n",
       "      <th>SEX_Male</th>\n",
       "      <th>EDUCATION_HighSchool</th>\n",
       "      <th>EDUCATION_Others</th>\n",
       "      <th>EDUCATION_University</th>\n",
       "      <th>MARRIAGE_Others</th>\n",
       "      <th>MARRIAGE_Single</th>\n",
       "    </tr>\n",
       "  </thead>\n",
       "  <tbody>\n",
       "    <tr>\n",
       "      <td>0</td>\n",
       "      <td>-1.136720</td>\n",
       "      <td>-1.246020</td>\n",
       "      <td>1.794564</td>\n",
       "      <td>1.782348</td>\n",
       "      <td>-0.696663</td>\n",
       "      <td>-0.666599</td>\n",
       "      <td>-1.530046</td>\n",
       "      <td>-1.486041</td>\n",
       "      <td>-0.642501</td>\n",
       "      <td>-0.647399</td>\n",
       "      <td>...</td>\n",
       "      <td>-0.296801</td>\n",
       "      <td>-0.308063</td>\n",
       "      <td>-0.314136</td>\n",
       "      <td>-0.293382</td>\n",
       "      <td>-0.810161</td>\n",
       "      <td>-0.442752</td>\n",
       "      <td>-0.125886</td>\n",
       "      <td>1.0669</td>\n",
       "      <td>-0.112812</td>\n",
       "      <td>-1.066471</td>\n",
       "    </tr>\n",
       "    <tr>\n",
       "      <td>1</td>\n",
       "      <td>-0.365981</td>\n",
       "      <td>-1.029047</td>\n",
       "      <td>-0.874991</td>\n",
       "      <td>1.782348</td>\n",
       "      <td>0.138865</td>\n",
       "      <td>0.188746</td>\n",
       "      <td>0.234917</td>\n",
       "      <td>1.992316</td>\n",
       "      <td>-0.659219</td>\n",
       "      <td>-0.666747</td>\n",
       "      <td>...</td>\n",
       "      <td>-0.240005</td>\n",
       "      <td>-0.244230</td>\n",
       "      <td>-0.314136</td>\n",
       "      <td>-0.180878</td>\n",
       "      <td>-0.810161</td>\n",
       "      <td>-0.442752</td>\n",
       "      <td>-0.125886</td>\n",
       "      <td>1.0669</td>\n",
       "      <td>-0.112812</td>\n",
       "      <td>0.937672</td>\n",
       "    </tr>\n",
       "    <tr>\n",
       "      <td>2</td>\n",
       "      <td>-0.597202</td>\n",
       "      <td>-0.161156</td>\n",
       "      <td>0.014861</td>\n",
       "      <td>0.111736</td>\n",
       "      <td>0.138865</td>\n",
       "      <td>0.188746</td>\n",
       "      <td>0.234917</td>\n",
       "      <td>0.253137</td>\n",
       "      <td>-0.298560</td>\n",
       "      <td>-0.493899</td>\n",
       "      <td>...</td>\n",
       "      <td>-0.240005</td>\n",
       "      <td>-0.244230</td>\n",
       "      <td>-0.248683</td>\n",
       "      <td>-0.012122</td>\n",
       "      <td>-0.810161</td>\n",
       "      <td>-0.442752</td>\n",
       "      <td>-0.125886</td>\n",
       "      <td>1.0669</td>\n",
       "      <td>-0.112812</td>\n",
       "      <td>0.937672</td>\n",
       "    </tr>\n",
       "    <tr>\n",
       "      <td>3</td>\n",
       "      <td>-0.905498</td>\n",
       "      <td>0.164303</td>\n",
       "      <td>0.014861</td>\n",
       "      <td>0.111736</td>\n",
       "      <td>0.138865</td>\n",
       "      <td>0.188746</td>\n",
       "      <td>0.234917</td>\n",
       "      <td>0.253137</td>\n",
       "      <td>-0.057491</td>\n",
       "      <td>-0.013293</td>\n",
       "      <td>...</td>\n",
       "      <td>-0.228645</td>\n",
       "      <td>-0.237846</td>\n",
       "      <td>-0.244166</td>\n",
       "      <td>-0.237130</td>\n",
       "      <td>-0.810161</td>\n",
       "      <td>-0.442752</td>\n",
       "      <td>-0.125886</td>\n",
       "      <td>1.0669</td>\n",
       "      <td>-0.112812</td>\n",
       "      <td>-1.066471</td>\n",
       "    </tr>\n",
       "    <tr>\n",
       "      <td>4</td>\n",
       "      <td>-0.905498</td>\n",
       "      <td>2.334029</td>\n",
       "      <td>-0.874991</td>\n",
       "      <td>0.111736</td>\n",
       "      <td>-0.696663</td>\n",
       "      <td>0.188746</td>\n",
       "      <td>0.234917</td>\n",
       "      <td>0.253137</td>\n",
       "      <td>-0.578618</td>\n",
       "      <td>-0.611318</td>\n",
       "      <td>...</td>\n",
       "      <td>0.271165</td>\n",
       "      <td>0.266434</td>\n",
       "      <td>-0.269039</td>\n",
       "      <td>-0.255187</td>\n",
       "      <td>1.234323</td>\n",
       "      <td>-0.442752</td>\n",
       "      <td>-0.125886</td>\n",
       "      <td>1.0669</td>\n",
       "      <td>-0.112812</td>\n",
       "      <td>-1.066471</td>\n",
       "    </tr>\n",
       "  </tbody>\n",
       "</table>\n",
       "<p>5 rows × 26 columns</p>\n",
       "</div>"
      ],
      "text/plain": [
       "   LIMIT_BAL       AGE     PAY_1     PAY_2     PAY_3     PAY_4     PAY_5  \\\n",
       "0  -1.136720 -1.246020  1.794564  1.782348 -0.696663 -0.666599 -1.530046   \n",
       "1  -0.365981 -1.029047 -0.874991  1.782348  0.138865  0.188746  0.234917   \n",
       "2  -0.597202 -0.161156  0.014861  0.111736  0.138865  0.188746  0.234917   \n",
       "3  -0.905498  0.164303  0.014861  0.111736  0.138865  0.188746  0.234917   \n",
       "4  -0.905498  2.334029 -0.874991  0.111736 -0.696663  0.188746  0.234917   \n",
       "\n",
       "      PAY_6  BILL_AMT1  BILL_AMT2  ...  PAY_AMT3  PAY_AMT4  PAY_AMT5  \\\n",
       "0 -1.486041  -0.642501  -0.647399  ... -0.296801 -0.308063 -0.314136   \n",
       "1  1.992316  -0.659219  -0.666747  ... -0.240005 -0.244230 -0.314136   \n",
       "2  0.253137  -0.298560  -0.493899  ... -0.240005 -0.244230 -0.248683   \n",
       "3  0.253137  -0.057491  -0.013293  ... -0.228645 -0.237846 -0.244166   \n",
       "4  0.253137  -0.578618  -0.611318  ...  0.271165  0.266434 -0.269039   \n",
       "\n",
       "   PAY_AMT6  SEX_Male  EDUCATION_HighSchool  EDUCATION_Others  \\\n",
       "0 -0.293382 -0.810161             -0.442752         -0.125886   \n",
       "1 -0.180878 -0.810161             -0.442752         -0.125886   \n",
       "2 -0.012122 -0.810161             -0.442752         -0.125886   \n",
       "3 -0.237130 -0.810161             -0.442752         -0.125886   \n",
       "4 -0.255187  1.234323             -0.442752         -0.125886   \n",
       "\n",
       "   EDUCATION_University  MARRIAGE_Others  MARRIAGE_Single  \n",
       "0                1.0669        -0.112812        -1.066471  \n",
       "1                1.0669        -0.112812         0.937672  \n",
       "2                1.0669        -0.112812         0.937672  \n",
       "3                1.0669        -0.112812        -1.066471  \n",
       "4                1.0669        -0.112812        -1.066471  \n",
       "\n",
       "[5 rows x 26 columns]"
      ]
     },
     "execution_count": 397,
     "metadata": {},
     "output_type": "execute_result"
    }
   ],
   "source": [
    "scaled_df1.head()"
   ]
  },
  {
   "cell_type": "code",
   "execution_count": 398,
   "metadata": {},
   "outputs": [
    {
     "name": "stdout",
     "output_type": "stream",
     "text": [
      "covariance_matrix \n",
      " [[ 1.00003333e+00  1.44717621e-01 -2.71223373e-01 -2.96391981e-01\n",
      "  -2.86132492e-01 -2.67468925e-01 -2.49419709e-01 -2.35203240e-01\n",
      "   2.85439380e-01  2.78323641e-01  2.83245225e-01  2.93997424e-01\n",
      "   2.95572190e-01  2.90398631e-01  1.95242423e-01  1.78413901e-01\n",
      "   2.10173754e-01  2.03249185e-01  2.17209673e-01  2.19602689e-01\n",
      "  -2.47560603e-02 -1.39690631e-01  1.34208813e-02 -1.47534769e-01\n",
      "  -5.60033617e-02 -9.10007443e-02]\n",
      " [ 1.44717621e-01  1.00003333e+00 -3.94486911e-02 -5.01494479e-02\n",
      "  -5.30502056e-02 -4.97233314e-02 -5.38277707e-02 -4.87750523e-02\n",
      "   5.62404079e-02  5.42848838e-02  5.37114956e-02  5.13548051e-02\n",
      "   4.93466930e-02  4.76142651e-02  2.61475506e-02  2.17856196e-02\n",
      "   2.92483280e-02  2.13797183e-02  2.28507352e-02  1.94788023e-02\n",
      "   9.08766757e-02  2.31259324e-01  8.98191697e-03 -7.76283971e-02\n",
      "   8.07697735e-02 -4.66600005e-01]\n",
      " [-2.71223373e-01 -3.94486911e-02  1.00003333e+00  6.72186789e-01\n",
      "   5.74264235e-01  5.38858589e-01  5.09443045e-01  4.74568905e-01\n",
      "   1.87074667e-01  1.89865438e-01  1.79791275e-01  1.79130742e-01\n",
      "   1.80640647e-01  1.76986195e-01 -7.92713536e-02 -7.01028580e-02\n",
      "  -7.05631898e-02 -6.40070225e-02 -5.81918257e-02 -5.86751702e-02\n",
      "   5.76448004e-02  5.89042849e-02 -2.49382191e-02  9.91802534e-02\n",
      "   1.39256201e-02  1.31736755e-02]\n",
      " [-2.96391981e-01 -5.01494479e-02  6.72186789e-01  1.00003333e+00\n",
      "   7.66577236e-01  6.62089201e-01  6.22801005e-01  5.75520046e-01\n",
      "   2.34894356e-01  2.35264785e-01  2.24153327e-01  2.22243920e-01\n",
      "   2.21355752e-01  2.19410665e-01 -8.07033999e-02 -5.89919654e-02\n",
      "  -5.59030947e-02 -4.68599735e-02 -3.70943162e-02 -3.65015922e-02\n",
      "   7.07733623e-02  6.45917783e-02 -3.31192103e-02  1.22367812e-01\n",
      "   9.85603065e-03  2.02821273e-02]\n",
      " [-2.86132492e-01 -5.30502056e-02  5.74264235e-01  7.66577236e-01\n",
      "   1.00003333e+00  7.77384786e-01  6.86797404e-01  6.32704683e-01\n",
      "   2.08479838e-01  2.37302444e-01  2.27501910e-01  2.27209854e-01\n",
      "   2.25152698e-01  2.22334149e-01  1.29485749e-03 -6.67956222e-02\n",
      "  -5.33125567e-02 -4.60680695e-02 -3.58642660e-02 -3.58622791e-02\n",
      "   6.60982597e-02  6.24627825e-02 -3.44363555e-02  1.15648290e-01\n",
      "   1.49160814e-02  2.71960187e-02]\n",
      " [-2.67468925e-01 -4.97233314e-02  5.38858589e-01  6.62089201e-01\n",
      "   7.77384786e-01  1.00003333e+00  8.19862640e-01  7.16473364e-01\n",
      "   2.02818830e-01  2.25823844e-01  2.44991304e-01  2.45925402e-01\n",
      "   2.42910155e-01  2.39162102e-01 -9.36244784e-03 -1.94372140e-03\n",
      "  -6.92375115e-02 -4.34628784e-02 -3.35906544e-02 -2.65659735e-02\n",
      "   6.01752442e-02  5.83842066e-02 -3.09987523e-02  1.10343357e-01\n",
      "   1.41267220e-02  2.69556565e-02]\n",
      " [-2.49419709e-01 -5.38277707e-02  5.09443045e-01  6.22801005e-01\n",
      "   6.86797404e-01  8.19862640e-01  1.00003333e+00  8.16927391e-01\n",
      "   2.06690854e-01  2.26920831e-01  2.43342792e-01  2.71924071e-01\n",
      "   2.69792083e-01  2.62518002e-01 -6.08896010e-03 -3.19143869e-03\n",
      "   9.06266477e-03 -5.83008087e-02 -3.33376155e-02 -2.30282186e-02\n",
      "   5.50657206e-02  4.95791272e-02 -2.88227308e-02  1.03221876e-01\n",
      "   8.54492783e-03  3.21083856e-02]\n",
      " [-2.35203240e-01 -4.87750523e-02  4.74568905e-01  5.75520046e-01\n",
      "   6.32704683e-01  7.16473364e-01  8.16927391e-01  1.00003333e+00\n",
      "   2.07380044e-01  2.26931995e-01  2.41189186e-01  2.66364948e-01\n",
      "   2.90903442e-01  2.85100494e-01 -1.49633892e-03 -5.22344226e-03\n",
      "   5.83396866e-03  1.90184972e-02 -4.64351889e-02 -2.53001818e-02\n",
      "   4.40092552e-02  4.13714867e-02 -3.57341639e-02  9.80159096e-02\n",
      "   1.32048674e-02  2.87638377e-02]\n",
      " [ 2.85439380e-01  5.62404079e-02  1.87074667e-01  2.34894356e-01\n",
      "   2.08479838e-01  2.02818830e-01  2.06690854e-01  2.07380044e-01\n",
      "   1.00003333e+00  9.51515390e-01  8.92308273e-01  8.60300866e-01\n",
      "   8.29806266e-01  8.02676944e-01  1.40281954e-01  9.93583469e-02\n",
      "   1.56892368e-01  1.58307810e-01  1.67031280e-01  1.79347100e-01\n",
      "   3.36429910e-02 -2.20063627e-02  3.63651016e-02  3.03240714e-02\n",
      "  -1.73274593e-02 -2.13478581e-02]\n",
      " [ 2.78323641e-01  5.42848838e-02  1.89865438e-01  2.35264785e-01\n",
      "   2.37302444e-01  2.25823844e-01  2.26920831e-01  2.26931995e-01\n",
      "   9.51515390e-01  1.00003333e+00  9.28357205e-01  8.92512042e-01\n",
      "   8.59806968e-01  8.31621280e-01  2.80374703e-01  1.00854239e-01\n",
      "   1.50723218e-01  1.47403018e-01  1.57962677e-01  1.74261974e-01\n",
      "   3.11845117e-02 -2.27613421e-02  3.07785970e-02  2.87171567e-02\n",
      "  -1.81242548e-02 -1.83397019e-02]\n",
      " [ 2.83245225e-01  5.37114956e-02  1.79791275e-01  2.24153327e-01\n",
      "   2.27501910e-01  2.44991304e-01  2.43342792e-01  2.41189186e-01\n",
      "   8.92308273e-01  9.28357205e-01  1.00003333e+00  9.24000257e-01\n",
      "   8.83939162e-01  8.53348536e-01  2.44343382e-01  3.16946542e-01\n",
      "   1.30015515e-01  1.43409385e-01  1.79718341e-01  1.82332044e-01\n",
      "   2.45641305e-02 -2.28076143e-02  2.89529368e-02  2.22883493e-02\n",
      "  -2.01284522e-02 -2.14031673e-02]\n",
      " [ 2.93997424e-01  5.13548051e-02  1.79130742e-01  2.22243920e-01\n",
      "   2.27209854e-01  2.45925402e-01  2.71924071e-01  2.66364948e-01\n",
      "   8.60300866e-01  8.92512042e-01  9.24000257e-01  1.00003333e+00\n",
      "   9.40165743e-01  9.00970987e-01  2.33019619e-01  2.07570648e-01\n",
      "   3.00032530e-01  1.30195748e-01  1.60438386e-01  1.77642916e-01\n",
      "   2.18804084e-02 -3.12768218e-02  2.09547082e-02  2.16488392e-02\n",
      "  -2.41714376e-02 -1.77084848e-02]\n",
      " [ 2.95572190e-01  4.93466930e-02  1.80640647e-01  2.21355752e-01\n",
      "   2.25152698e-01  2.42910155e-01  2.69792083e-01  2.90903442e-01\n",
      "   8.29806266e-01  8.59806968e-01  8.83939162e-01  9.40165743e-01\n",
      "   1.00003333e+00  9.46228348e-01  2.17038058e-01  1.81252533e-01\n",
      "   2.52313272e-01  2.93128234e-01  1.41578899e-01  1.64189923e-01\n",
      "   1.70057470e-02 -3.17088446e-02  1.18109702e-02  1.96907359e-02\n",
      "  -2.51500921e-02 -1.93567639e-02]\n",
      " [ 2.90398631e-01  4.76142651e-02  1.76986195e-01  2.19410665e-01\n",
      "   2.22334149e-01  2.39162102e-01  2.62518002e-01  2.85100494e-01\n",
      "   8.02676944e-01  8.31621280e-01  8.53348536e-01  9.00970987e-01\n",
      "   9.46228348e-01  1.00003333e+00  1.99971672e-01  1.72668693e-01\n",
      "   2.33777586e-01  2.50245166e-01  3.07739147e-01  1.15498017e-01\n",
      "   1.67336841e-02 -3.09821004e-02  3.41733484e-03  2.45562493e-02\n",
      "  -2.26843201e-02 -1.60646411e-02]\n",
      " [ 1.95242423e-01  2.61475506e-02 -7.92713536e-02 -8.07033999e-02\n",
      "   1.29485749e-03 -9.36244784e-03 -6.08896010e-03 -1.49633892e-03\n",
      "   1.40281954e-01  2.80374703e-01  2.44343382e-01  2.33019619e-01\n",
      "   2.17038058e-01  1.99971672e-01  1.00003333e+00  2.85585048e-01\n",
      "   2.52199546e-01  1.99564583e-01  1.48464224e-01  1.85741447e-01\n",
      "   2.42462645e-04 -2.13105085e-02  4.44511404e-03 -3.29995180e-02\n",
      "   9.35599718e-03 -9.03940841e-03]\n",
      " [ 1.78413901e-01  2.17856196e-02 -7.01028580e-02 -5.89919654e-02\n",
      "  -6.67956222e-02 -1.94372140e-03 -3.19143869e-03 -5.22344226e-03\n",
      "   9.93583469e-02  1.00854239e-01  3.16946542e-01  2.07570648e-01\n",
      "   1.81252533e-01  1.72668693e-01  2.85585048e-01  1.00003333e+00\n",
      "   2.44778610e-01  1.80112747e-01  1.80913783e-01  1.57639171e-01\n",
      "   1.39095602e-03 -1.66746790e-02  1.20042631e-02 -3.31333078e-02\n",
      "   5.95344545e-03 -1.25987275e-02]\n",
      " [ 2.10173754e-01  2.92483280e-02 -7.05631898e-02 -5.59030947e-02\n",
      "  -5.33125567e-02 -6.92375115e-02  9.06266477e-03  5.83396866e-03\n",
      "   1.56892368e-01  1.50723218e-01  1.30015515e-01  3.00032530e-01\n",
      "   2.52313272e-01  2.33777586e-01  2.52199546e-01  2.44778610e-01\n",
      "   1.00003333e+00  2.16332303e-01  1.59219028e-01  1.62745458e-01\n",
      "   8.59691148e-03 -3.17269168e-02  2.22731834e-02 -3.56092530e-02\n",
      "   3.97549993e-03 -6.21598491e-03]\n",
      " [ 2.03249185e-01  2.13797183e-02 -6.40070225e-02 -4.68599735e-02\n",
      "  -4.60680695e-02 -4.34628784e-02 -5.83008087e-02  1.90184972e-02\n",
      "   1.58307810e-01  1.47403018e-01  1.43409385e-01  1.30195748e-01\n",
      "   2.93128234e-01  2.50245166e-01  1.99564583e-01  1.80112747e-01\n",
      "   2.16332303e-01  1.00003333e+00  1.51835497e-01  1.57839177e-01\n",
      "   2.22904581e-03 -2.35549713e-02  1.09530679e-03 -2.69657829e-02\n",
      "  -2.02898762e-04 -1.45078606e-02]\n",
      " [ 2.17209673e-01  2.28507352e-02 -5.81918257e-02 -3.70943162e-02\n",
      "  -3.58642660e-02 -3.35906544e-02 -3.33376155e-02 -4.64351889e-02\n",
      "   1.67031280e-01  1.57962677e-01  1.79718341e-01  1.60438386e-01\n",
      "   1.41578899e-01  3.07739147e-01  1.48464224e-01  1.80913783e-01\n",
      "   1.59219028e-01  1.51835497e-01  1.00003333e+00  1.54900689e-01\n",
      "   1.66721737e-03 -3.47688184e-02  7.39479311e-03 -2.12710018e-02\n",
      "  -4.31885100e-03 -1.22678265e-03]\n",
      " [ 2.19602689e-01  1.94788023e-02 -5.86751702e-02 -3.65015922e-02\n",
      "  -3.58622791e-02 -2.65659735e-02 -2.30282186e-02 -2.53001818e-02\n",
      "   1.79347100e-01  1.74261974e-01  1.82332044e-01  1.77642916e-01\n",
      "   1.64189923e-01  1.15498017e-01  1.85741447e-01  1.57639171e-01\n",
      "   1.62745458e-01  1.57839177e-01  1.54900689e-01  1.00003333e+00\n",
      "   2.76611449e-03 -3.46138586e-02  1.60085078e-02 -2.63113003e-02\n",
      "  -1.25284196e-02 -3.16572762e-03]\n",
      " [-2.47560603e-02  9.08766757e-02  5.76448004e-02  7.07733623e-02\n",
      "   6.60982597e-02  6.01752442e-02  5.50657206e-02  4.40092552e-02\n",
      "   3.36429910e-02  3.11845117e-02  2.45641305e-02  2.18804084e-02\n",
      "   1.70057470e-02  1.67336841e-02  2.42462645e-04  1.39095602e-03\n",
      "   8.59691148e-03  2.22904581e-03  1.66721737e-03  2.76611449e-03\n",
      "   1.00003333e+00  7.65068610e-03 -8.49837627e-03 -2.53538971e-02\n",
      "  -2.68737331e-03  3.10048337e-02]\n",
      " [-1.39690631e-01  2.31259324e-01  5.89042849e-02  6.45917783e-02\n",
      "   6.24627825e-02  5.83842066e-02  4.95791272e-02  4.13714867e-02\n",
      "  -2.20063627e-02 -2.27613421e-02 -2.28076143e-02 -3.12768218e-02\n",
      "  -3.17088446e-02 -3.09821004e-02 -2.13105085e-02 -1.66746790e-02\n",
      "  -3.17269168e-02 -2.35549713e-02 -3.47688184e-02 -3.46138586e-02\n",
      "   7.65068610e-03  1.00003333e+00 -5.57379945e-02 -4.15002984e-01\n",
      "   6.88810455e-02 -1.27681962e-01]\n",
      " [ 1.34208813e-02  8.98191697e-03 -2.49382191e-02 -3.31192103e-02\n",
      "  -3.44363555e-02 -3.09987523e-02 -2.88227308e-02 -3.57341639e-02\n",
      "   3.63651016e-02  3.07785970e-02  2.89529368e-02  2.09547082e-02\n",
      "   1.18109702e-02  3.41733484e-03  4.44511404e-03  1.20042631e-02\n",
      "   2.22731834e-02  1.09530679e-03  7.39479311e-03  1.60085078e-02\n",
      "  -8.49837627e-03 -5.57379945e-02  1.00003333e+00 -1.17996018e-01\n",
      "   5.11647840e-03 -1.24201302e-02]\n",
      " [-1.47534769e-01 -7.76283971e-02  9.91802534e-02  1.22367812e-01\n",
      "   1.15648290e-01  1.10343357e-01  1.03221876e-01  9.80159096e-02\n",
      "   3.03240714e-02  2.87171567e-02  2.22883493e-02  2.16488392e-02\n",
      "   1.96907359e-02  2.45562493e-02 -3.29995180e-02 -3.31333078e-02\n",
      "  -3.56092530e-02 -2.69657829e-02 -2.12710018e-02 -2.63113003e-02\n",
      "  -2.53538971e-02 -4.15002984e-01 -1.17996018e-01  1.00003333e+00\n",
      "  -4.98411079e-03 -5.96941588e-02]\n",
      " [-5.60033617e-02  8.07697735e-02  1.39256201e-02  9.85603065e-03\n",
      "   1.49160814e-02  1.41267220e-02  8.54492783e-03  1.32048674e-02\n",
      "  -1.73274593e-02 -1.81242548e-02 -2.01284522e-02 -2.41714376e-02\n",
      "  -2.51500921e-02 -2.26843201e-02  9.35599718e-03  5.95344545e-03\n",
      "   3.97549993e-03 -2.02898762e-04 -4.31885100e-03 -1.25284196e-02\n",
      "  -2.68737331e-03  6.88810455e-02  5.11647840e-03 -4.98411079e-03\n",
      "   1.00003333e+00 -1.20315010e-01]\n",
      " [-9.10007443e-02 -4.66600005e-01  1.31736755e-02  2.02821273e-02\n",
      "   2.71960187e-02  2.69556565e-02  3.21083856e-02  2.87638377e-02\n",
      "  -2.13478581e-02 -1.83397019e-02 -2.14031673e-02 -1.77084848e-02\n",
      "  -1.93567639e-02 -1.60646411e-02 -9.03940841e-03 -1.25987275e-02\n",
      "  -6.21598491e-03 -1.45078606e-02 -1.22678265e-03 -3.16572762e-03\n",
      "   3.10048337e-02 -1.27681962e-01 -1.24201302e-02 -5.96941588e-02\n",
      "  -1.20315010e-01  1.00003333e+00]]\n"
     ]
    }
   ],
   "source": [
    "cov_matrix=np.cov(scaled_df1.T)\n",
    "print(\"covariance_matrix \\n\",cov_matrix) \n",
    "eig_val,eig_vec=np.linalg.eig(cov_matrix)"
   ]
  },
  {
   "cell_type": "code",
   "execution_count": 399,
   "metadata": {},
   "outputs": [
    {
     "name": "stdout",
     "output_type": "stream",
     "text": [
      "Cumulative Variance Explained [ 25.175096    40.96454888  47.43690027  53.25742389  58.23470963\n",
      "  62.16678367  66.06880573  69.77738502  73.30510356  76.71649959\n",
      "  80.07285217  83.08880408  85.90596475  88.69503009  91.15922436\n",
      "  93.07260763  94.670884    96.19897465  97.19841185  98.15454851\n",
      "  98.88017515  99.38699218  99.6566119   99.81347     99.91071499\n",
      " 100.        ]\n"
     ]
    }
   ],
   "source": [
    "tot=sum(eig_val)\n",
    "var_exp=[(i/tot)* 100 for i in sorted(eig_val,reverse=True)]\n",
    "cum_var_exp=np.cumsum(var_exp)\n",
    "print(\"Cumulative Variance Explained\",cum_var_exp)"
   ]
  },
  {
   "cell_type": "code",
   "execution_count": 417,
   "metadata": {},
   "outputs": [
    {
     "data": {
      "image/png": "[encoded data removed]",
      "text/plain": [
       "<Figure size 432x288 with 1 Axes>"
      ]
     },
     "metadata": {
      "needs_background": "light"
     },
     "output_type": "display_data"
    }
   ],
   "source": [
    "plt.figure()\n",
    "plt.plot(cum_var_exp, marker = \"o\")\n",
    "plt.xlabel('Number of Components')                             # Cumulative variance explained v/s no. of principal components\n",
    "plt.ylabel('Variance (%)') #for each component\n",
    "plt.title('Dataset Explained Variance')\n",
    "plt.show()"
   ]
  },
  {
   "cell_type": "code",
   "execution_count": 418,
   "metadata": {},
   "outputs": [
    {
     "name": "stdout",
     "output_type": "stream",
     "text": [
      "[6.54574315 4.1053946  1.68286745 1.51338659 1.29413743 0.07010346\n",
      " 0.04078447 0.02321488 0.02528454 0.13177682 0.18866922 0.24860382\n",
      " 0.25986233 0.39731681 0.41556571 0.49749624 0.64071187 0.72518116\n",
      " 0.73248619 0.78417364 1.02237333 1.01455955 0.96426276 0.9172374\n",
      " 0.87268076 0.88699253]\n"
     ]
    }
   ],
   "source": [
    "print(eig_val)\n",
    "sorted(eig_val,reverse=True)\n",
    "eigen_pairs=[(np.abs(eig_val[i]),eig_vec[:,i]) for i in range(len(eig_val))]\n",
    "eigen_pairs_sorted=sorted(eigen_pairs,reverse=True)\n",
    "eigen_values_sort=[eigen_pairs_sorted[i][0] for i in range(len(eig_val)) ]\n",
    "eigen_vectors_sort=[eigen_pairs_sorted[i][1] for i in range(len(eig_val))]"
   ]
  },
  {
   "cell_type": "code",
   "execution_count": 419,
   "metadata": {},
   "outputs": [
    {
     "data": {
      "text/plain": [
       "array([[ 6.85314591e-02,  3.15217008e-01,  2.63176373e-02,\n",
       "         5.16375368e-02, -5.20931016e-02,  6.95126739e-02,\n",
       "         7.57644229e-02, -2.00042435e-01, -9.54737839e-02,\n",
       "        -2.00781736e-03,  6.07017591e-02, -1.22325874e-01,\n",
       "         6.19835229e-02,  5.15129886e-01, -5.22860877e-01,\n",
       "        -1.44526340e-02,  4.21209873e-01, -2.96919226e-01],\n",
       "       [ 1.29474123e-02,  6.97428435e-02,  5.72419053e-01,\n",
       "        -2.67630678e-02, -2.94248890e-01,  1.15330703e-01,\n",
       "         1.34269717e-01, -1.42926745e-01,  7.18152106e-02,\n",
       "         5.71849789e-03, -3.28261416e-02, -1.64708431e-02,\n",
       "         2.44831161e-02,  3.00704266e-02,  8.64042815e-03,\n",
       "         6.97621886e-01, -1.43528886e-01,  1.13165431e-01],\n",
       "       [ 1.61111768e-01, -2.97680600e-01,  3.18474771e-02,\n",
       "        -3.14647998e-03, -6.33851204e-03,  1.03481074e-02,\n",
       "         3.67015108e-02, -2.14548864e-02, -8.68681401e-02,\n",
       "         1.06078520e-02,  1.27924690e-02,  3.35164669e-02,\n",
       "        -9.08604396e-02, -3.78798460e-01, -5.27499413e-01,\n",
       "         3.21897549e-02, -3.40267978e-01, -4.98320924e-01],\n",
       "       [ 1.94188015e-01, -3.34519030e-01,  2.49769986e-02,\n",
       "         4.49310686e-02, -1.28025616e-02,  1.86156003e-02,\n",
       "         3.88888193e-02, -4.13012402e-02, -9.86602967e-02,\n",
       "         6.97884098e-03,  1.88676335e-02,  1.76960890e-02,\n",
       "        -5.65267814e-02, -2.35130405e-01, -3.11045869e-01,\n",
       "         1.09389422e-02,  1.95699911e-01,  2.59188236e-01],\n",
       "       [ 2.00272506e-01, -3.43606826e-01,  2.24884772e-02,\n",
       "         1.00667854e-01, -1.09534244e-02,  6.18945066e-04,\n",
       "         2.66407590e-02, -4.33923887e-02, -4.49293693e-02,\n",
       "        -2.22270920e-02,  1.93401943e-02,  1.97682137e-02,\n",
       "         1.05186621e-01, -3.15621183e-02, -1.31081081e-01,\n",
       "         4.13217125e-03,  3.36506512e-01,  4.29501279e-01],\n",
       "       [ 2.07091301e-01, -3.44220658e-01,  2.18000167e-02,\n",
       "         1.37402085e-01, -1.13116007e-02, -1.97579991e-02,\n",
       "         1.95559834e-02, -5.89969358e-02,  1.15118767e-03,\n",
       "        -4.27025781e-02, -1.75680132e-02,  2.43728665e-02,\n",
       "         3.74178127e-02,  2.23885733e-01,  7.50898650e-02,\n",
       "         1.25956569e-03,  1.39879177e-01,  1.12290359e-01],\n",
       "       [ 2.11023008e-01, -3.31273509e-01,  1.28273194e-02,\n",
       "         1.56025135e-01, -6.41220747e-03, -3.13878267e-02,\n",
       "         1.46031030e-02, -5.89856618e-02,  5.02430387e-02,\n",
       "        -7.46391872e-03, -2.00159535e-02, -1.09734583e-01,\n",
       "         2.92853325e-02,  3.13667920e-01,  1.94511098e-01,\n",
       "        -1.03122342e-02, -7.78242359e-02, -1.63240438e-01],\n",
       "       [ 2.06495588e-01, -3.05754688e-01,  9.61349194e-03,\n",
       "         1.53748136e-01, -1.12618906e-02, -3.21551952e-02,\n",
       "        -1.14674103e-02, -5.06282619e-02,  6.22049311e-02,\n",
       "         8.12013252e-02,  2.85666443e-02, -5.87415666e-02,\n",
       "         1.93235505e-02,  3.40394660e-01,  2.43328565e-01,\n",
       "        -4.19004849e-03, -2.26289115e-01, -2.83608581e-01],\n",
       "       [ 3.34250764e-01,  1.40350964e-01, -6.76275840e-04,\n",
       "        -2.22329413e-01,  2.95459339e-02,  4.45915556e-03,\n",
       "         1.17237319e-02,  2.24902958e-02, -5.22720152e-02,\n",
       "        -2.81020604e-02,  5.56528184e-02,  3.75560765e-03,\n",
       "        -2.08229087e-02, -7.30832017e-02,  9.16977366e-03,\n",
       "        -8.34548124e-04,  5.77261033e-02,  4.86074294e-02],\n",
       "       [ 3.45661512e-01,  1.40640498e-01, -3.09443372e-03,\n",
       "        -1.91833279e-01,  3.12056312e-02, -4.56726626e-03,\n",
       "        -5.76318411e-03,  4.27819684e-02,  1.36924877e-02,\n",
       "        -7.77420374e-02,  4.84750267e-02,  4.53859016e-02,\n",
       "         1.23438333e-01, -7.66731232e-02,  1.06878078e-02,\n",
       "        -2.22688665e-03,  2.46761486e-02,  4.47219015e-02],\n",
       "       [ 3.49627386e-01,  1.46589496e-01, -3.78607357e-03,\n",
       "        -1.29820759e-01,  2.89101449e-02, -1.89998481e-02,\n",
       "        -1.98188577e-02,  4.70940119e-02,  5.48649606e-02,\n",
       "        -1.41316888e-01, -7.01569090e-02,  1.26081320e-01,\n",
       "        -1.00216915e-01, -4.36391393e-03,  2.04763866e-02,\n",
       "        -1.74779196e-03, -2.13131030e-03,  4.29401394e-02],\n",
       "       [ 3.53775133e-01,  1.45554319e-01, -9.90329327e-03,\n",
       "        -1.17927053e-01,  2.68417003e-02, -1.60054036e-02,\n",
       "        -2.21492389e-02,  4.32821473e-02,  8.49604074e-02,\n",
       "        -3.13991036e-02, -1.74092149e-02, -1.21522133e-01,\n",
       "        -3.94899936e-02, -2.19947890e-02,  4.88176989e-02,\n",
       "        -1.12278436e-02, -3.84512630e-02,  1.40641757e-02],\n",
       "       [ 3.51658019e-01,  1.43638458e-01, -1.07258530e-02,\n",
       "        -9.99537662e-02,  2.18540879e-02, -3.03772962e-03,\n",
       "        -4.44267397e-02,  2.73372855e-02,  5.72037147e-02,\n",
       "         1.27646123e-01,  6.04826208e-02,  6.37137521e-03,\n",
       "        -4.61939123e-02,  1.58010338e-02,  6.28986356e-02,\n",
       "        -8.78947755e-03, -7.69343970e-02, -1.45822089e-02],\n",
       "       [ 3.44447878e-01,  1.41523422e-01, -1.42402242e-02,\n",
       "        -9.05339217e-02,  1.58384073e-02,  1.33409898e-02,\n",
       "        -4.81698852e-02,  9.30580266e-03, -7.22316146e-02,\n",
       "         1.38108452e-01, -1.03109286e-01, -1.29811115e-02,\n",
       "         5.66337098e-03,  9.47630651e-03,  8.86250994e-02,\n",
       "        -1.05628440e-02, -9.28145077e-02, -2.80160400e-02],\n",
       "       [ 9.41126640e-02,  1.48838611e-01, -1.46001168e-02,\n",
       "         3.99056591e-01, -2.36925457e-02, -4.71849870e-02,\n",
       "        -5.50995429e-02,  1.15401021e-01,  3.14272800e-01,\n",
       "        -2.53634390e-01,  3.87472648e-03,  2.24793218e-01,\n",
       "         7.20603988e-01, -1.36335362e-01, -7.81647354e-02,\n",
       "        -1.79466598e-03, -5.78650050e-02, -6.73169057e-02],\n",
       "       [ 7.85530900e-02,  1.39847731e-01, -1.26356428e-02,\n",
       "         4.34133200e-01, -2.60994742e-02, -5.97194968e-02,\n",
       "        -3.95679483e-02,  9.73346701e-02,  2.71116801e-01,\n",
       "        -2.60019182e-01, -3.75230578e-01,  2.83937969e-01,\n",
       "        -5.88638373e-01,  5.16061526e-02, -9.15323220e-02,\n",
       "         2.02950391e-02,  2.47527177e-02,  3.32414122e-02],\n",
       "       [ 8.62961166e-02,  1.51606484e-01, -2.02947516e-02,\n",
       "         3.94739489e-01, -2.64051318e-02, -3.37773875e-02,\n",
       "         1.36804423e-02,  7.43621313e-02,  2.27187531e-01,\n",
       "         2.72005987e-01,  1.11306536e-02, -7.50553566e-01,\n",
       "        -6.57876659e-02, -2.52464058e-01, -1.39864506e-02,\n",
       "        -7.47567145e-03,  4.76127560e-02,  6.31917789e-02],\n",
       "       [ 7.77296996e-02,  1.40959096e-01, -1.78022952e-02,\n",
       "         3.34294910e-01, -3.88134037e-02,  4.44933346e-02,\n",
       "        -5.62979706e-02, -2.80047287e-02, -9.24418071e-02,\n",
       "         6.79256955e-01,  3.42075834e-01,  4.66272752e-01,\n",
       "        -7.20111858e-02, -3.00274656e-02,  2.26723029e-02,\n",
       "         2.28196984e-02,  1.01543542e-02,  3.92017851e-02],\n",
       "       [ 7.53431758e-02,  1.36807391e-01, -3.07971258e-02,\n",
       "         2.60373795e-01, -3.55743250e-02,  7.19730324e-02,\n",
       "         3.33093621e-02, -1.41518485e-01, -6.92074659e-01,\n",
       "         2.80080326e-02, -5.55684603e-01, -3.29256826e-02,\n",
       "         1.71418169e-01, -9.92456413e-02,  1.35463453e-01,\n",
       "        -1.24322800e-02, -5.64589544e-02, -4.36546385e-03],\n",
       "       [ 6.99131087e-02,  1.29343651e-01, -2.87807556e-02,\n",
       "         2.91892535e-01, -2.67900420e-02,  3.61387253e-02,\n",
       "         1.19437879e-01, -1.93645669e-01, -3.27594042e-01,\n",
       "        -5.00117241e-01,  6.19247329e-01, -6.86031635e-02,\n",
       "        -1.83342140e-01, -1.06218703e-01,  1.75966416e-01,\n",
       "        -1.55538165e-03, -7.96697151e-02,  1.88176559e-03],\n",
       "       [ 2.15484293e-02, -3.02948910e-02,  7.90347778e-02,\n",
       "         3.31700665e-02,  2.86433390e-02,  6.54076048e-01,\n",
       "         5.69331651e-01,  4.49788256e-01,  1.77572802e-02,\n",
       "         8.99140874e-03, -7.24968295e-03,  3.17217829e-02,\n",
       "        -4.75487130e-03,  2.49671498e-02,  5.96860730e-02,\n",
       "        -1.62566587e-01,  3.31485219e-02, -4.97823107e-02],\n",
       "       [-3.83223467e-03, -4.78733530e-02,  5.16859333e-01,\n",
       "         3.96442367e-02,  4.28309997e-01,  6.61195667e-02,\n",
       "        -2.57067626e-01, -7.02136802e-03, -1.89927984e-03,\n",
       "        -2.10830771e-02, -6.87976312e-03,  3.85995564e-02,\n",
       "        -3.74508029e-02, -2.46137890e-01,  2.56154211e-01,\n",
       "        -3.67632581e-02,  4.61241747e-01, -3.60038816e-01],\n",
       "       [ 2.03570139e-03,  3.44554878e-02,  2.34295232e-02,\n",
       "        -1.93170087e-02,  1.58872917e-01, -6.13863643e-01,\n",
       "         7.23859179e-01, -6.25723253e-02,  3.25238277e-02,\n",
       "         8.53892440e-02, -4.69826811e-02,  8.47291606e-02,\n",
       "         1.45625689e-02, -9.22323346e-02,  9.91682224e-02,\n",
       "         3.52767550e-02,  1.30837873e-01, -1.06719322e-01],\n",
       "       [ 2.78316013e-02, -8.02852211e-02, -3.27074989e-01,\n",
       "        -8.89376857e-02, -6.53953187e-01,  3.13602304e-02,\n",
       "        -2.33396133e-02,  3.91852450e-02,  5.06538121e-02,\n",
       "        -1.48159717e-02, -2.32951382e-02,  5.11876952e-02,\n",
       "        -2.99734080e-02, -2.34298693e-01,  2.56543374e-01,\n",
       "         1.49588881e-01,  4.27169091e-01, -3.36375323e-01],\n",
       "       [-5.75466689e-03, -1.67251046e-02,  2.10340654e-01,\n",
       "         4.05847307e-02, -1.68674219e-01, -3.78780198e-01,\n",
       "        -1.65298293e-01,  7.67679792e-01, -3.33555561e-01,\n",
       "        -3.48911531e-02,  1.19905655e-01, -5.70533900e-02,\n",
       "        -1.01208464e-02,  1.55841538e-01, -8.66236669e-02,\n",
       "         5.04028064e-02,  1.83879650e-02, -1.04299819e-02],\n",
       "       [-4.63257867e-03, -3.91111753e-02, -4.90192648e-01,\n",
       "         3.90789872e-02,  4.84671772e-01,  9.63580544e-02,\n",
       "        -3.45143378e-02,  1.86944387e-01, -6.69122421e-02,\n",
       "        -1.43109175e-02,  2.05969827e-02, -2.58768862e-02,\n",
       "         7.57919498e-03,  4.00528574e-02, -4.38157150e-03,\n",
       "         6.75576012e-01,  9.07643950e-02, -6.34435610e-02]])"
      ]
     },
     "execution_count": 419,
     "metadata": {},
     "output_type": "execute_result"
    }
   ],
   "source": [
    "P_reduce=np.array(eigen_vectors_sort[0:18]).transpose()\n",
    "P_reduce"
   ]
  },
  {
   "cell_type": "code",
   "execution_count": 420,
   "metadata": {},
   "outputs": [
    {
     "data": {
      "text/plain": [
       "(26, 18)"
      ]
     },
     "execution_count": 420,
     "metadata": {},
     "output_type": "execute_result"
    }
   ],
   "source": [
    "P_reduce.shape"
   ]
  },
  {
   "cell_type": "code",
   "execution_count": 421,
   "metadata": {},
   "outputs": [
    {
     "data": {
      "text/plain": [
       "(30000, 18)"
      ]
     },
     "execution_count": 421,
     "metadata": {},
     "output_type": "execute_result"
    }
   ],
   "source": [
    "proj_data_pca_1=np.dot(scaled_df1,P_reduce)\n",
    "proj_data_pca_1.shape"
   ]
  },
  {
   "cell_type": "code",
   "execution_count": 422,
   "metadata": {},
   "outputs": [
    {
     "data": {
      "text/html": [
       "<div>\n",
       "<style scoped>\n",
       "    .dataframe tbody tr th:only-of-type {\n",
       "        vertical-align: middle;\n",
       "    }\n",
       "\n",
       "    .dataframe tbody tr th {\n",
       "        vertical-align: top;\n",
       "    }\n",
       "\n",
       "    .dataframe thead th {\n",
       "        text-align: right;\n",
       "    }\n",
       "</style>\n",
       "<table border=\"1\" class=\"dataframe\">\n",
       "  <thead>\n",
       "    <tr style=\"text-align: right;\">\n",
       "      <th></th>\n",
       "      <th>0</th>\n",
       "      <th>1</th>\n",
       "      <th>2</th>\n",
       "      <th>3</th>\n",
       "      <th>4</th>\n",
       "      <th>5</th>\n",
       "      <th>6</th>\n",
       "      <th>7</th>\n",
       "      <th>8</th>\n",
       "      <th>9</th>\n",
       "      <th>10</th>\n",
       "      <th>11</th>\n",
       "      <th>12</th>\n",
       "      <th>13</th>\n",
       "      <th>14</th>\n",
       "      <th>15</th>\n",
       "      <th>16</th>\n",
       "      <th>17</th>\n",
       "    </tr>\n",
       "  </thead>\n",
       "  <tbody>\n",
       "    <tr>\n",
       "      <td>0</td>\n",
       "      <td>-1.858592</td>\n",
       "      <td>-0.962888</td>\n",
       "      <td>-0.785811</td>\n",
       "      <td>-0.827153</td>\n",
       "      <td>-1.043544</td>\n",
       "      <td>-0.561245</td>\n",
       "      <td>-0.482312</td>\n",
       "      <td>-0.169825</td>\n",
       "      <td>-0.260394</td>\n",
       "      <td>-0.041141</td>\n",
       "      <td>-0.043899</td>\n",
       "      <td>0.449828</td>\n",
       "      <td>-0.574019</td>\n",
       "      <td>-2.765758</td>\n",
       "      <td>-1.629858</td>\n",
       "      <td>-1.161329</td>\n",
       "      <td>-0.200951</td>\n",
       "      <td>-0.100428</td>\n",
       "    </tr>\n",
       "    <tr>\n",
       "      <td>1</td>\n",
       "      <td>-0.733763</td>\n",
       "      <td>-2.161736</td>\n",
       "      <td>-1.622875</td>\n",
       "      <td>0.374884</td>\n",
       "      <td>-0.232719</td>\n",
       "      <td>-0.497390</td>\n",
       "      <td>-0.533917</td>\n",
       "      <td>-0.303629</td>\n",
       "      <td>0.027502</td>\n",
       "      <td>0.125895</td>\n",
       "      <td>0.148155</td>\n",
       "      <td>-0.170598</td>\n",
       "      <td>-0.070543</td>\n",
       "      <td>0.607415</td>\n",
       "      <td>0.543182</td>\n",
       "      <td>0.218159</td>\n",
       "      <td>0.640964</td>\n",
       "      <td>0.083386</td>\n",
       "    </tr>\n",
       "    <tr>\n",
       "      <td>2</td>\n",
       "      <td>-0.817991</td>\n",
       "      <td>-1.121615</td>\n",
       "      <td>-1.178796</td>\n",
       "      <td>-0.084798</td>\n",
       "      <td>-0.417705</td>\n",
       "      <td>-0.376881</td>\n",
       "      <td>-0.452864</td>\n",
       "      <td>-0.235293</td>\n",
       "      <td>0.027983</td>\n",
       "      <td>-0.122081</td>\n",
       "      <td>0.100765</td>\n",
       "      <td>-0.034543</td>\n",
       "      <td>-0.066347</td>\n",
       "      <td>-0.096796</td>\n",
       "      <td>0.374974</td>\n",
       "      <td>0.837086</td>\n",
       "      <td>0.145373</td>\n",
       "      <td>-0.112473</td>\n",
       "    </tr>\n",
       "    <tr>\n",
       "      <td>3</td>\n",
       "      <td>-0.169274</td>\n",
       "      <td>-0.861132</td>\n",
       "      <td>-0.024484</td>\n",
       "      <td>-0.506872</td>\n",
       "      <td>-1.413110</td>\n",
       "      <td>-0.576469</td>\n",
       "      <td>-0.429304</td>\n",
       "      <td>-0.477508</td>\n",
       "      <td>0.339641</td>\n",
       "      <td>-0.045973</td>\n",
       "      <td>-0.131303</td>\n",
       "      <td>0.132031</td>\n",
       "      <td>-0.059376</td>\n",
       "      <td>-0.364134</td>\n",
       "      <td>0.568266</td>\n",
       "      <td>-0.293724</td>\n",
       "      <td>-0.219178</td>\n",
       "      <td>0.190809</td>\n",
       "    </tr>\n",
       "    <tr>\n",
       "      <td>4</td>\n",
       "      <td>-0.816756</td>\n",
       "      <td>-0.118568</td>\n",
       "      <td>1.303416</td>\n",
       "      <td>0.730057</td>\n",
       "      <td>-2.097905</td>\n",
       "      <td>0.918645</td>\n",
       "      <td>0.906350</td>\n",
       "      <td>0.306359</td>\n",
       "      <td>1.146602</td>\n",
       "      <td>0.136996</td>\n",
       "      <td>-0.662793</td>\n",
       "      <td>0.365625</td>\n",
       "      <td>-1.011233</td>\n",
       "      <td>0.139395</td>\n",
       "      <td>1.101762</td>\n",
       "      <td>0.900763</td>\n",
       "      <td>-0.383566</td>\n",
       "      <td>0.465808</td>\n",
       "    </tr>\n",
       "  </tbody>\n",
       "</table>\n",
       "</div>"
      ],
      "text/plain": [
       "          0         1         2         3         4         5         6  \\\n",
       "0 -1.858592 -0.962888 -0.785811 -0.827153 -1.043544 -0.561245 -0.482312   \n",
       "1 -0.733763 -2.161736 -1.622875  0.374884 -0.232719 -0.497390 -0.533917   \n",
       "2 -0.817991 -1.121615 -1.178796 -0.084798 -0.417705 -0.376881 -0.452864   \n",
       "3 -0.169274 -0.861132 -0.024484 -0.506872 -1.413110 -0.576469 -0.429304   \n",
       "4 -0.816756 -0.118568  1.303416  0.730057 -2.097905  0.918645  0.906350   \n",
       "\n",
       "          7         8         9        10        11        12        13  \\\n",
       "0 -0.169825 -0.260394 -0.041141 -0.043899  0.449828 -0.574019 -2.765758   \n",
       "1 -0.303629  0.027502  0.125895  0.148155 -0.170598 -0.070543  0.607415   \n",
       "2 -0.235293  0.027983 -0.122081  0.100765 -0.034543 -0.066347 -0.096796   \n",
       "3 -0.477508  0.339641 -0.045973 -0.131303  0.132031 -0.059376 -0.364134   \n",
       "4  0.306359  1.146602  0.136996 -0.662793  0.365625 -1.011233  0.139395   \n",
       "\n",
       "         14        15        16        17  \n",
       "0 -1.629858 -1.161329 -0.200951 -0.100428  \n",
       "1  0.543182  0.218159  0.640964  0.083386  \n",
       "2  0.374974  0.837086  0.145373 -0.112473  \n",
       "3  0.568266 -0.293724 -0.219178  0.190809  \n",
       "4  1.101762  0.900763 -0.383566  0.465808  "
      ]
     },
     "execution_count": 422,
     "metadata": {},
     "output_type": "execute_result"
    }
   ],
   "source": [
    "pca_data=pd.DataFrame(proj_data_pca_1)\n",
    "pca_data.head()"
   ]
  },
  {
   "cell_type": "code",
   "execution_count": 423,
   "metadata": {},
   "outputs": [],
   "source": [
    "from sklearn.cluster import KMeans\n",
    "cluster_inertia=[]\n",
    "for i in range(1,15):\n",
    "    model=KMeans(n_clusters=i)\n",
    "    model.fit(pca_data)\n",
    "    cluster_inertia.append(model.inertia_)"
   ]
  },
  {
   "cell_type": "code",
   "execution_count": 424,
   "metadata": {},
   "outputs": [
    {
     "data": {
      "text/plain": [
       "[750352.0022681883,\n",
       " 628775.8041712986,\n",
       " 548518.1113303343,\n",
       " 518297.0604702633,\n",
       " 492090.33583635173,\n",
       " 465635.045604841,\n",
       " 443465.8406024818,\n",
       " 417021.3560515895,\n",
       " 405796.3041262634,\n",
       " 395675.22253664257,\n",
       " 370779.88323492697,\n",
       " 364288.89557671885,\n",
       " 350135.9282841314,\n",
       " 337878.4278743113]"
      ]
     },
     "execution_count": 424,
     "metadata": {},
     "output_type": "execute_result"
    }
   ],
   "source": [
    "cluster_inertia"
   ]
  },
  {
   "cell_type": "code",
   "execution_count": 425,
   "metadata": {},
   "outputs": [
    {
     "data": {
      "image/png": "[encoded data removed]",
      "text/plain": [
       "<Figure size 720x360 with 1 Axes>"
      ]
     },
     "metadata": {
      "needs_background": "light"
     },
     "output_type": "display_data"
    }
   ],
   "source": [
    "plt.figure(figsize=(10,5))\n",
    "plt.plot(range(1,15),cluster_inertia,marker=\"o\")\n",
    "plt.show()"
   ]
  },
  {
   "cell_type": "code",
   "execution_count": 408,
   "metadata": {},
   "outputs": [],
   "source": [
    "kmeans=KMeans(n_clusters=2,n_init=15,random_state=42)"
   ]
  },
  {
   "cell_type": "code",
   "execution_count": 409,
   "metadata": {},
   "outputs": [
    {
     "data": {
      "text/plain": [
       "KMeans(algorithm='auto', copy_x=True, init='k-means++', max_iter=300,\n",
       "       n_clusters=2, n_init=15, n_jobs=None, precompute_distances='auto',\n",
       "       random_state=42, tol=0.0001, verbose=0)"
      ]
     },
     "execution_count": 409,
     "metadata": {},
     "output_type": "execute_result"
    }
   ],
   "source": [
    "kmeans.fit(pca_data)"
   ]
  },
  {
   "cell_type": "code",
   "execution_count": 410,
   "metadata": {},
   "outputs": [
    {
     "data": {
      "text/html": [
       "<div>\n",
       "<style scoped>\n",
       "    .dataframe tbody tr th:only-of-type {\n",
       "        vertical-align: middle;\n",
       "    }\n",
       "\n",
       "    .dataframe tbody tr th {\n",
       "        vertical-align: top;\n",
       "    }\n",
       "\n",
       "    .dataframe thead th {\n",
       "        text-align: right;\n",
       "    }\n",
       "</style>\n",
       "<table border=\"1\" class=\"dataframe\">\n",
       "  <thead>\n",
       "    <tr style=\"text-align: right;\">\n",
       "      <th></th>\n",
       "      <th>0</th>\n",
       "      <th>1</th>\n",
       "      <th>2</th>\n",
       "      <th>3</th>\n",
       "      <th>4</th>\n",
       "      <th>5</th>\n",
       "      <th>6</th>\n",
       "      <th>7</th>\n",
       "      <th>8</th>\n",
       "      <th>9</th>\n",
       "      <th>10</th>\n",
       "      <th>11</th>\n",
       "      <th>12</th>\n",
       "      <th>13</th>\n",
       "      <th>14</th>\n",
       "      <th>15</th>\n",
       "      <th>16</th>\n",
       "      <th>17</th>\n",
       "    </tr>\n",
       "  </thead>\n",
       "  <tbody>\n",
       "    <tr>\n",
       "      <td>0</td>\n",
       "      <td>4.471997</td>\n",
       "      <td>1.380512</td>\n",
       "      <td>-0.011807</td>\n",
       "      <td>-0.308872</td>\n",
       "      <td>0.033693</td>\n",
       "      <td>-0.015877</td>\n",
       "      <td>0.001681</td>\n",
       "      <td>0.015091</td>\n",
       "      <td>0.007444</td>\n",
       "      <td>0.001519</td>\n",
       "      <td>-0.013255</td>\n",
       "      <td>0.018414</td>\n",
       "      <td>0.020062</td>\n",
       "      <td>-0.007542</td>\n",
       "      <td>-0.003807</td>\n",
       "      <td>-0.011954</td>\n",
       "      <td>-0.017232</td>\n",
       "      <td>-0.005199</td>\n",
       "    </tr>\n",
       "    <tr>\n",
       "      <td>1</td>\n",
       "      <td>-0.823649</td>\n",
       "      <td>-0.254262</td>\n",
       "      <td>0.002175</td>\n",
       "      <td>0.056888</td>\n",
       "      <td>-0.006206</td>\n",
       "      <td>0.002924</td>\n",
       "      <td>-0.000310</td>\n",
       "      <td>-0.002779</td>\n",
       "      <td>-0.001371</td>\n",
       "      <td>-0.000280</td>\n",
       "      <td>0.002441</td>\n",
       "      <td>-0.003391</td>\n",
       "      <td>-0.003695</td>\n",
       "      <td>0.001389</td>\n",
       "      <td>0.000701</td>\n",
       "      <td>0.002202</td>\n",
       "      <td>0.003174</td>\n",
       "      <td>0.000958</td>\n",
       "    </tr>\n",
       "  </tbody>\n",
       "</table>\n",
       "</div>"
      ],
      "text/plain": [
       "          0         1         2         3         4         5         6  \\\n",
       "0  4.471997  1.380512 -0.011807 -0.308872  0.033693 -0.015877  0.001681   \n",
       "1 -0.823649 -0.254262  0.002175  0.056888 -0.006206  0.002924 -0.000310   \n",
       "\n",
       "          7         8         9        10        11        12        13  \\\n",
       "0  0.015091  0.007444  0.001519 -0.013255  0.018414  0.020062 -0.007542   \n",
       "1 -0.002779 -0.001371 -0.000280  0.002441 -0.003391 -0.003695  0.001389   \n",
       "\n",
       "         14        15        16        17  \n",
       "0 -0.003807 -0.011954 -0.017232 -0.005199  \n",
       "1  0.000701  0.002202  0.003174  0.000958  "
      ]
     },
     "execution_count": 410,
     "metadata": {},
     "output_type": "execute_result"
    }
   ],
   "source": [
    "centroid=kmeans.cluster_centers_\n",
    "pd.DataFrame(centroid)"
   ]
  },
  {
   "cell_type": "code",
   "execution_count": 411,
   "metadata": {},
   "outputs": [
    {
     "data": {
      "text/plain": [
       "628775.5030542605"
      ]
     },
     "execution_count": 411,
     "metadata": {},
     "output_type": "execute_result"
    }
   ],
   "source": [
    "kmeans.inertia_"
   ]
  },
  {
   "cell_type": "code",
   "execution_count": 412,
   "metadata": {},
   "outputs": [
    {
     "data": {
      "text/plain": [
       "array([1, 1, 1, ..., 1, 1, 1])"
      ]
     },
     "execution_count": 412,
     "metadata": {},
     "output_type": "execute_result"
    }
   ],
   "source": [
    "labs=kmeans.labels_\n",
    "labs"
   ]
  },
  {
   "cell_type": "code",
   "execution_count": 413,
   "metadata": {},
   "outputs": [],
   "source": [
    "pdata=pca_data.copy()\n",
    "pdata[\"class\"]=kmeans.labels_"
   ]
  },
  {
   "cell_type": "code",
   "execution_count": 414,
   "metadata": {},
   "outputs": [
    {
     "data": {
      "text/plain": [
       "1    25342\n",
       "0     4658\n",
       "Name: class, dtype: int64"
      ]
     },
     "execution_count": 414,
     "metadata": {},
     "output_type": "execute_result"
    }
   ],
   "source": [
    "pdata[\"class\"].value_counts()"
   ]
  },
  {
   "cell_type": "code",
   "execution_count": 415,
   "metadata": {},
   "outputs": [
    {
     "data": {
      "text/plain": [
       "0    23364\n",
       "1     6636\n",
       "Name: DEFAULT, dtype: int64"
      ]
     },
     "execution_count": 415,
     "metadata": {},
     "output_type": "execute_result"
    }
   ],
   "source": [
    "df1[\"DEFAULT\"].value_counts()"
   ]
  },
  {
   "cell_type": "code",
   "execution_count": 416,
   "metadata": {},
   "outputs": [],
   "source": [
    "pred=kmeans.predict(pca_data)"
   ]
  },
  {
   "cell_type": "code",
   "execution_count": 746,
   "metadata": {},
   "outputs": [],
   "source": [
    "data=pca_data.iloc[:,:]"
   ]
  },
  {
   "cell_type": "code",
   "execution_count": 747,
   "metadata": {},
   "outputs": [
    {
     "data": {
      "text/plain": [
       "<matplotlib.legend.Legend at 0x1bc1f4d6948>"
      ]
     },
     "execution_count": 747,
     "metadata": {},
     "output_type": "execute_result"
    },
    {
     "data": {
      "image/png": "[encoded data removed]",
      "text/plain": [
       "<Figure size 720x360 with 1 Axes>"
      ]
     },
     "metadata": {
      "needs_background": "light"
     },
     "output_type": "display_data"
    }
   ],
   "source": [
    "plt.figure(figsize=(10,5))\n",
    "plt.scatter(data.iloc[pred==0,0],data.iloc[pred==0,1],color=\"red\",label=\"Cluster 1\")\n",
    "plt.scatter(data.iloc[pred==1,0],data.iloc[pred==1,1],color=\"blue\",label=\"Cluster 2\")\n",
    "plt.legend()"
   ]
  },
  {
   "cell_type": "code",
   "execution_count": 748,
   "metadata": {},
   "outputs": [],
   "source": [
    "from sklearn.metrics import silhouette_score"
   ]
  },
  {
   "cell_type": "code",
   "execution_count": 749,
   "metadata": {},
   "outputs": [
    {
     "data": {
      "text/plain": [
       "0.3266314247895734"
      ]
     },
     "execution_count": 749,
     "metadata": {},
     "output_type": "execute_result"
    }
   ],
   "source": [
    "silhouette_score(pca_data,kmeans.labels_)"
   ]
  },
  {
   "cell_type": "code",
   "execution_count": 750,
   "metadata": {},
   "outputs": [
    {
     "data": {
      "text/plain": [
       "AgglomerativeClustering(affinity='euclidean', compute_full_tree='auto',\n",
       "                        connectivity=None, distance_threshold=None,\n",
       "                        linkage='ward', memory=None, n_clusters=2)"
      ]
     },
     "execution_count": 750,
     "metadata": {},
     "output_type": "execute_result"
    }
   ],
   "source": [
    "from sklearn.cluster import AgglomerativeClustering\n",
    "modelagc=AgglomerativeClustering(n_clusters=2,affinity=\"euclidean\",linkage=\"ward\")\n",
    "modelagc.fit(pca_data)"
   ]
  },
  {
   "cell_type": "code",
   "execution_count": 751,
   "metadata": {},
   "outputs": [],
   "source": [
    "labels=pd.DataFrame(modelagc.labels_)"
   ]
  },
  {
   "cell_type": "code",
   "execution_count": 752,
   "metadata": {},
   "outputs": [
    {
     "data": {
      "text/plain": [
       "0    22439\n",
       "1     7561\n",
       "Name: 0, dtype: int64"
      ]
     },
     "execution_count": 752,
     "metadata": {},
     "output_type": "execute_result"
    }
   ],
   "source": [
    "labels[0].value_counts()"
   ]
  },
  {
   "cell_type": "code",
   "execution_count": 753,
   "metadata": {},
   "outputs": [],
   "source": [
    "labeled=pca_data.copy()\n",
    "labeled[\"class\"]=modelagc.labels_"
   ]
  },
  {
   "cell_type": "code",
   "execution_count": 754,
   "metadata": {},
   "outputs": [],
   "source": [
    "AGC=labeled.groupby([\"class\"])"
   ]
  },
  {
   "cell_type": "code",
   "execution_count": 755,
   "metadata": {},
   "outputs": [],
   "source": [
    "x0=AGC.get_group(0)\n",
    "x1=AGC.get_group(1)\n",
    "\n",
    "c0=np.array(x0.mean())\n",
    "c1=np.array(x1.mean())\n",
    "\n",
    "c0=c0[:-1]\n",
    "c1=c1[:-1]\n"
   ]
  },
  {
   "cell_type": "code",
   "execution_count": 756,
   "metadata": {},
   "outputs": [],
   "source": [
    "agc_0=agc_1=agc_2=0\n",
    "for i in np.arange(x0.shape[0]):\n",
    "    agc_0=agc_0+np.sum((x0.iloc[i,:-1]-c0)**2)\n",
    "for i in np.arange(x1.shape[0]):\n",
    "    agc_1=agc_1+np.sum((x1.iloc[i,:-1]-c1)**2)"
   ]
  },
  {
   "cell_type": "code",
   "execution_count": 757,
   "metadata": {},
   "outputs": [
    {
     "data": {
      "text/plain": [
       "664897.4832539244"
      ]
     },
     "execution_count": 757,
     "metadata": {},
     "output_type": "execute_result"
    }
   ],
   "source": [
    "agc_0+agc_1"
   ]
  },
  {
   "cell_type": "code",
   "execution_count": 758,
   "metadata": {},
   "outputs": [
    {
     "data": {
      "text/plain": [
       "0.22563058715986833"
      ]
     },
     "execution_count": 758,
     "metadata": {},
     "output_type": "execute_result"
    }
   ],
   "source": [
    "silhouette_score(pca_data,modelagc.labels_)"
   ]
  },
  {
   "cell_type": "code",
   "execution_count": 759,
   "metadata": {},
   "outputs": [],
   "source": [
    "from sklearn.model_selection import train_test_split"
   ]
  },
  {
   "cell_type": "code",
   "execution_count": 760,
   "metadata": {},
   "outputs": [],
   "source": [
    "pca_data[\"class\"]=modelagc.labels_"
   ]
  },
  {
   "cell_type": "code",
   "execution_count": 761,
   "metadata": {},
   "outputs": [
    {
     "data": {
      "text/html": [
       "<div>\n",
       "<style scoped>\n",
       "    .dataframe tbody tr th:only-of-type {\n",
       "        vertical-align: middle;\n",
       "    }\n",
       "\n",
       "    .dataframe tbody tr th {\n",
       "        vertical-align: top;\n",
       "    }\n",
       "\n",
       "    .dataframe thead th {\n",
       "        text-align: right;\n",
       "    }\n",
       "</style>\n",
       "<table border=\"1\" class=\"dataframe\">\n",
       "  <thead>\n",
       "    <tr style=\"text-align: right;\">\n",
       "      <th></th>\n",
       "      <th>0</th>\n",
       "      <th>1</th>\n",
       "      <th>2</th>\n",
       "      <th>3</th>\n",
       "      <th>4</th>\n",
       "      <th>5</th>\n",
       "      <th>6</th>\n",
       "      <th>7</th>\n",
       "      <th>8</th>\n",
       "      <th>9</th>\n",
       "      <th>10</th>\n",
       "      <th>11</th>\n",
       "      <th>12</th>\n",
       "      <th>13</th>\n",
       "      <th>14</th>\n",
       "      <th>15</th>\n",
       "      <th>16</th>\n",
       "      <th>17</th>\n",
       "      <th>class</th>\n",
       "    </tr>\n",
       "  </thead>\n",
       "  <tbody>\n",
       "    <tr>\n",
       "      <td>0</td>\n",
       "      <td>-1.858592</td>\n",
       "      <td>-0.962888</td>\n",
       "      <td>-0.785811</td>\n",
       "      <td>-0.827153</td>\n",
       "      <td>-1.043544</td>\n",
       "      <td>-0.561245</td>\n",
       "      <td>-0.482312</td>\n",
       "      <td>-0.169825</td>\n",
       "      <td>-0.260394</td>\n",
       "      <td>-0.041141</td>\n",
       "      <td>-0.043899</td>\n",
       "      <td>0.449828</td>\n",
       "      <td>-0.574019</td>\n",
       "      <td>-2.765758</td>\n",
       "      <td>-1.629858</td>\n",
       "      <td>-1.161329</td>\n",
       "      <td>-0.200951</td>\n",
       "      <td>-0.100428</td>\n",
       "      <td>0</td>\n",
       "    </tr>\n",
       "    <tr>\n",
       "      <td>1</td>\n",
       "      <td>-0.733763</td>\n",
       "      <td>-2.161736</td>\n",
       "      <td>-1.622875</td>\n",
       "      <td>0.374884</td>\n",
       "      <td>-0.232719</td>\n",
       "      <td>-0.497390</td>\n",
       "      <td>-0.533917</td>\n",
       "      <td>-0.303629</td>\n",
       "      <td>0.027502</td>\n",
       "      <td>0.125895</td>\n",
       "      <td>0.148155</td>\n",
       "      <td>-0.170598</td>\n",
       "      <td>-0.070543</td>\n",
       "      <td>0.607415</td>\n",
       "      <td>0.543182</td>\n",
       "      <td>0.218159</td>\n",
       "      <td>0.640964</td>\n",
       "      <td>0.083386</td>\n",
       "      <td>0</td>\n",
       "    </tr>\n",
       "    <tr>\n",
       "      <td>2</td>\n",
       "      <td>-0.817991</td>\n",
       "      <td>-1.121615</td>\n",
       "      <td>-1.178796</td>\n",
       "      <td>-0.084798</td>\n",
       "      <td>-0.417705</td>\n",
       "      <td>-0.376881</td>\n",
       "      <td>-0.452864</td>\n",
       "      <td>-0.235293</td>\n",
       "      <td>0.027983</td>\n",
       "      <td>-0.122081</td>\n",
       "      <td>0.100765</td>\n",
       "      <td>-0.034543</td>\n",
       "      <td>-0.066347</td>\n",
       "      <td>-0.096796</td>\n",
       "      <td>0.374974</td>\n",
       "      <td>0.837086</td>\n",
       "      <td>0.145373</td>\n",
       "      <td>-0.112473</td>\n",
       "      <td>0</td>\n",
       "    </tr>\n",
       "    <tr>\n",
       "      <td>3</td>\n",
       "      <td>-0.169274</td>\n",
       "      <td>-0.861132</td>\n",
       "      <td>-0.024484</td>\n",
       "      <td>-0.506872</td>\n",
       "      <td>-1.413110</td>\n",
       "      <td>-0.576469</td>\n",
       "      <td>-0.429304</td>\n",
       "      <td>-0.477508</td>\n",
       "      <td>0.339641</td>\n",
       "      <td>-0.045973</td>\n",
       "      <td>-0.131303</td>\n",
       "      <td>0.132031</td>\n",
       "      <td>-0.059376</td>\n",
       "      <td>-0.364134</td>\n",
       "      <td>0.568266</td>\n",
       "      <td>-0.293724</td>\n",
       "      <td>-0.219178</td>\n",
       "      <td>0.190809</td>\n",
       "      <td>1</td>\n",
       "    </tr>\n",
       "    <tr>\n",
       "      <td>4</td>\n",
       "      <td>-0.816756</td>\n",
       "      <td>-0.118568</td>\n",
       "      <td>1.303416</td>\n",
       "      <td>0.730057</td>\n",
       "      <td>-2.097905</td>\n",
       "      <td>0.918645</td>\n",
       "      <td>0.906350</td>\n",
       "      <td>0.306359</td>\n",
       "      <td>1.146602</td>\n",
       "      <td>0.136996</td>\n",
       "      <td>-0.662793</td>\n",
       "      <td>0.365625</td>\n",
       "      <td>-1.011233</td>\n",
       "      <td>0.139395</td>\n",
       "      <td>1.101762</td>\n",
       "      <td>0.900763</td>\n",
       "      <td>-0.383566</td>\n",
       "      <td>0.465808</td>\n",
       "      <td>0</td>\n",
       "    </tr>\n",
       "  </tbody>\n",
       "</table>\n",
       "</div>"
      ],
      "text/plain": [
       "          0         1         2         3         4         5         6  \\\n",
       "0 -1.858592 -0.962888 -0.785811 -0.827153 -1.043544 -0.561245 -0.482312   \n",
       "1 -0.733763 -2.161736 -1.622875  0.374884 -0.232719 -0.497390 -0.533917   \n",
       "2 -0.817991 -1.121615 -1.178796 -0.084798 -0.417705 -0.376881 -0.452864   \n",
       "3 -0.169274 -0.861132 -0.024484 -0.506872 -1.413110 -0.576469 -0.429304   \n",
       "4 -0.816756 -0.118568  1.303416  0.730057 -2.097905  0.918645  0.906350   \n",
       "\n",
       "          7         8         9        10        11        12        13  \\\n",
       "0 -0.169825 -0.260394 -0.041141 -0.043899  0.449828 -0.574019 -2.765758   \n",
       "1 -0.303629  0.027502  0.125895  0.148155 -0.170598 -0.070543  0.607415   \n",
       "2 -0.235293  0.027983 -0.122081  0.100765 -0.034543 -0.066347 -0.096796   \n",
       "3 -0.477508  0.339641 -0.045973 -0.131303  0.132031 -0.059376 -0.364134   \n",
       "4  0.306359  1.146602  0.136996 -0.662793  0.365625 -1.011233  0.139395   \n",
       "\n",
       "         14        15        16        17  class  \n",
       "0 -1.629858 -1.161329 -0.200951 -0.100428      0  \n",
       "1  0.543182  0.218159  0.640964  0.083386      0  \n",
       "2  0.374974  0.837086  0.145373 -0.112473      0  \n",
       "3  0.568266 -0.293724 -0.219178  0.190809      1  \n",
       "4  1.101762  0.900763 -0.383566  0.465808      0  "
      ]
     },
     "execution_count": 761,
     "metadata": {},
     "output_type": "execute_result"
    }
   ],
   "source": [
    "pca_data.head()"
   ]
  },
  {
   "cell_type": "code",
   "execution_count": 762,
   "metadata": {},
   "outputs": [],
   "source": [
    "x=pca_data.drop([\"class\"],axis=1)\n",
    "y=pca_data[\"class\"]"
   ]
  },
  {
   "cell_type": "code",
   "execution_count": 763,
   "metadata": {},
   "outputs": [],
   "source": [
    "xtrain,xtest,ytrain,ytest=train_test_split(x,y,test_size=0.3,random_state=1)"
   ]
  },
  {
   "cell_type": "code",
   "execution_count": 764,
   "metadata": {},
   "outputs": [],
   "source": [
    "from sklearn.linear_model import LogisticRegression\n",
    "from sklearn.neighbors import KNeighborsClassifier\n",
    "from sklearn.tree import DecisionTreeClassifier\n",
    "from sklearn.ensemble import GradientBoostingClassifier\n",
    "from sklearn.ensemble import RandomForestClassifier\n",
    "from sklearn.metrics import classification_report,accuracy_score"
   ]
  },
  {
   "cell_type": "code",
   "execution_count": 765,
   "metadata": {},
   "outputs": [],
   "source": [
    "LR=LogisticRegression()\n",
    "KNN = KNeighborsClassifier()\n",
    "Dtree= DecisionTreeClassifier()\n",
    "GradBo = GradientBoostingClassifier()\n",
    "RF = RandomForestClassifier()"
   ]
  },
  {
   "cell_type": "code",
   "execution_count": 766,
   "metadata": {},
   "outputs": [
    {
     "name": "stdout",
     "output_type": "stream",
     "text": [
      "train : 0.9292380952380952\n",
      "test : 0.9332222222222222\n",
      "              precision    recall  f1-score   support\n",
      "\n",
      "           0       0.94      0.97      0.96      6726\n",
      "           1       0.91      0.82      0.86      2274\n",
      "\n",
      "    accuracy                           0.93      9000\n",
      "   macro avg       0.92      0.90      0.91      9000\n",
      "weighted avg       0.93      0.93      0.93      9000\n",
      "\n",
      "0.9332222222222222\n"
     ]
    }
   ],
   "source": [
    "modellr=LR.fit(xtrain,ytrain)\n",
    "ypredlr=modellr.predict(xtest)\n",
    "print(\"train :\",LR.score(xtrain,ytrain))\n",
    "print(\"test :\",LR.score(xtest,ytest))\n",
    "print(classification_report(ytest,ypredlr))\n",
    "print(accuracy_score(ytest,ypredlr))"
   ]
  },
  {
   "cell_type": "code",
   "execution_count": 767,
   "metadata": {},
   "outputs": [
    {
     "name": "stdout",
     "output_type": "stream",
     "text": [
      "train : 1.0\n",
      "test : 0.9505555555555556\n",
      "0.9505555555555556\n",
      "              precision    recall  f1-score   support\n",
      "\n",
      "           0       0.97      0.97      0.97      6726\n",
      "           1       0.90      0.91      0.90      2274\n",
      "\n",
      "    accuracy                           0.95      9000\n",
      "   macro avg       0.93      0.94      0.93      9000\n",
      "weighted avg       0.95      0.95      0.95      9000\n",
      "\n"
     ]
    }
   ],
   "source": [
    "modeltree=Dtree.fit(xtrain,ytrain)\n",
    "ytree=modeltree.predict(xtest)\n",
    "print(\"train :\",Dtree.score(xtrain,ytrain))\n",
    "print(\"test :\",Dtree.score(xtest,ytest))\n",
    "print(accuracy_score(ytest,ytree))\n",
    "print(classification_report(ytest,ytree))"
   ]
  },
  {
   "cell_type": "code",
   "execution_count": 768,
   "metadata": {},
   "outputs": [
    {
     "name": "stdout",
     "output_type": "stream",
     "text": [
      "train : 1.0\n",
      "test : 0.9687777777777777\n",
      "0.9687777777777777\n",
      "              precision    recall  f1-score   support\n",
      "\n",
      "           0       0.98      0.98      0.98      6726\n",
      "           1       0.95      0.93      0.94      2274\n",
      "\n",
      "    accuracy                           0.97      9000\n",
      "   macro avg       0.96      0.96      0.96      9000\n",
      "weighted avg       0.97      0.97      0.97      9000\n",
      "\n"
     ]
    }
   ],
   "source": [
    "modelrf=RF.fit(xtrain,ytrain)\n",
    "ypredrf=modelrf.predict(xtest)\n",
    "print(\"train :\",RF.score(xtrain,ytrain))\n",
    "print(\"test :\",RF.score(xtest,ytest))\n",
    "print(accuracy_score(ytest,ypredrf))\n",
    "print(classification_report(ytest,ypredrf))"
   ]
  },
  {
   "cell_type": "code",
   "execution_count": 769,
   "metadata": {},
   "outputs": [
    {
     "name": "stdout",
     "output_type": "stream",
     "text": [
      "train : 0.9887619047619047\n",
      "test : 0.9777777777777777\n",
      "0.9777777777777777\n",
      "              precision    recall  f1-score   support\n",
      "\n",
      "           0       0.98      0.99      0.99      6726\n",
      "           1       0.97      0.94      0.96      2274\n",
      "\n",
      "    accuracy                           0.98      9000\n",
      "   macro avg       0.98      0.96      0.97      9000\n",
      "weighted avg       0.98      0.98      0.98      9000\n",
      "\n"
     ]
    }
   ],
   "source": [
    "modelknn=KNN.fit(xtrain,ytrain)\n",
    "ypredknn=modelknn.predict(xtest)\n",
    "print(\"train :\",KNN.score(xtrain,ytrain))\n",
    "print(\"test :\",KNN.score(xtest,ytest))\n",
    "print(accuracy_score(ytest,ypredknn))\n",
    "print(classification_report(ytest,ypredknn))"
   ]
  },
  {
   "cell_type": "code",
   "execution_count": 770,
   "metadata": {},
   "outputs": [],
   "source": [
    "import warnings\n",
    "warnings.filterwarnings('ignore')\n",
    "RF=RandomForestClassifier(n_estimators=100, criterion='gini', random_state=0)\n",
    "RF_boost=AdaBoostClassifier(base_estimator=RF, n_estimators=90, random_state=0)\n",
    "GBoost=GradientBoostingClassifier(n_estimators=100, random_state=0)"
   ]
  },
  {
   "cell_type": "code",
   "execution_count": 771,
   "metadata": {},
   "outputs": [],
   "source": [
    "models=[]\n",
    "models.append(('RandomForest', RF))\n",
    "models.append(('RF_boost', RF_boost))\n",
    "models.append(('GBoost', GBoost))"
   ]
  },
  {
   "cell_type": "code",
   "execution_count": 772,
   "metadata": {},
   "outputs": [
    {
     "name": "stdout",
     "output_type": "stream",
     "text": [
      "Mean weighted training f1-score\n",
      "RandomForest 0.969902119343168\n",
      "Mean weighted training f1-score\n",
      "RF_boost 0.9697694616658274\n",
      "Mean weighted training f1-score\n",
      "GBoost 0.9530408965784435\n"
     ]
    }
   ],
   "source": [
    "results=[]\n",
    "names=[]\n",
    "for name, model in models:\n",
    "    skfold=StratifiedKFold(n_splits=10, random_state=0)\n",
    "    cv_results=model_selection.cross_val_score(model, xtrain, ytrain, cv=skfold, scoring='f1_weighted')\n",
    "    results.append(cv_results)\n",
    "    names.append(name)\n",
    "    print('Mean weighted training f1-score')\n",
    "    print(name, np.mean(cv_results))"
   ]
  },
  {
   "cell_type": "code",
   "execution_count": 774,
   "metadata": {},
   "outputs": [],
   "source": [
    "# The above are the overall(mean) weighted training f1 scores after applying Agglomerative Clusters on PCA data"
   ]
  },
  {
   "cell_type": "code",
   "execution_count": 775,
   "metadata": {},
   "outputs": [
    {
     "name": "stdout",
     "output_type": "stream",
     "text": [
      "Mean weighted training f1-score\n",
      "RandomForest 0.9626130555902499\n",
      "Mean weighted training f1-score\n",
      "RF_boost 0.9624766983292161\n",
      "Mean weighted training f1-score\n",
      "GBoost 0.9529668612425916\n"
     ]
    }
   ],
   "source": [
    "results=[]\n",
    "names=[]\n",
    "for name, model in models:\n",
    "    skfold=StratifiedKFold(n_splits=10, random_state=0)\n",
    "    cv_results=model_selection.cross_val_score(model, xtest, ytest, cv=skfold, scoring='f1_weighted')\n",
    "    results.append(cv_results)\n",
    "    names.append(name)\n",
    "    print('Mean weighted training f1-score')\n",
    "    print(name, np.mean(cv_results))"
   ]
  },
  {
   "cell_type": "code",
   "execution_count": null,
   "metadata": {},
   "outputs": [],
   "source": [
    "# The above are the overall(mean) weighted testing f1 scores after applying Agglomerative Clusters on PCA data"
   ]
  }
 ],
 "metadata": {
  "kernelspec": {
   "display_name": "Python 3",
   "language": "python",
   "name": "python3"
  },
  "language_info": {
   "codemirror_mode": {
    "name": "ipython",
    "version": 3
   },
   "file_extension": ".py",
   "mimetype": "text/x-python",
   "name": "python",
   "nbconvert_exporter": "python",
   "pygments_lexer": "ipython3",
   "version": "3.7.4"
  }
 },
 "nbformat": 4,
 "nbformat_minor": 2
}
