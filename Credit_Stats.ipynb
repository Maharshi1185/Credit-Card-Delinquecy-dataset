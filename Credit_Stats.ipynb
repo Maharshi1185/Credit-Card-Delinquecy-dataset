{
 "cells": [
  {
   "cell_type": "code",
   "execution_count": 1,
   "metadata": {},
   "outputs": [],
   "source": [
    "import pandas as pd\n",
    "import numpy as np\n",
    "import matplotlib.pyplot as plt\n",
    "import seaborn as sns\n",
    "import scipy.stats as st"
   ]
  },
  {
   "cell_type": "code",
   "execution_count": 23,
   "metadata": {},
   "outputs": [],
   "source": [
    "data=pd.read_csv('credit_card.csv')"
   ]
  },
  {
   "cell_type": "code",
   "execution_count": null,
   "metadata": {},
   "outputs": [],
   "source": [
    "sns.heatmap()"
   ]
  },
  {
   "cell_type": "code",
   "execution_count": 24,
   "metadata": {},
   "outputs": [
    {
     "data": {
      "text/html": [
       "<div>\n",
       "<style scoped>\n",
       "    .dataframe tbody tr th:only-of-type {\n",
       "        vertical-align: middle;\n",
       "    }\n",
       "\n",
       "    .dataframe tbody tr th {\n",
       "        vertical-align: top;\n",
       "    }\n",
       "\n",
       "    .dataframe thead th {\n",
       "        text-align: right;\n",
       "    }\n",
       "</style>\n",
       "<table border=\"1\" class=\"dataframe\">\n",
       "  <thead>\n",
       "    <tr style=\"text-align: right;\">\n",
       "      <th></th>\n",
       "      <th>ID</th>\n",
       "      <th>LIMIT_BAL</th>\n",
       "      <th>SEX</th>\n",
       "      <th>EDUCATION</th>\n",
       "      <th>MARRIAGE</th>\n",
       "      <th>AGE</th>\n",
       "      <th>PAY_1</th>\n",
       "      <th>PAY_2</th>\n",
       "      <th>PAY_3</th>\n",
       "      <th>PAY_4</th>\n",
       "      <th>...</th>\n",
       "      <th>BILL_AMT4</th>\n",
       "      <th>BILL_AMT5</th>\n",
       "      <th>BILL_AMT6</th>\n",
       "      <th>PAY_AMT1</th>\n",
       "      <th>PAY_AMT2</th>\n",
       "      <th>PAY_AMT3</th>\n",
       "      <th>PAY_AMT4</th>\n",
       "      <th>PAY_AMT5</th>\n",
       "      <th>PAY_AMT6</th>\n",
       "      <th>DEFAULT</th>\n",
       "    </tr>\n",
       "  </thead>\n",
       "  <tbody>\n",
       "    <tr>\n",
       "      <td>0</td>\n",
       "      <td>1</td>\n",
       "      <td>20000</td>\n",
       "      <td>2</td>\n",
       "      <td>2</td>\n",
       "      <td>1</td>\n",
       "      <td>24</td>\n",
       "      <td>2</td>\n",
       "      <td>2</td>\n",
       "      <td>-1</td>\n",
       "      <td>-1</td>\n",
       "      <td>...</td>\n",
       "      <td>0</td>\n",
       "      <td>0</td>\n",
       "      <td>0</td>\n",
       "      <td>0</td>\n",
       "      <td>689</td>\n",
       "      <td>0</td>\n",
       "      <td>0</td>\n",
       "      <td>0</td>\n",
       "      <td>0</td>\n",
       "      <td>1</td>\n",
       "    </tr>\n",
       "    <tr>\n",
       "      <td>1</td>\n",
       "      <td>2</td>\n",
       "      <td>120000</td>\n",
       "      <td>2</td>\n",
       "      <td>2</td>\n",
       "      <td>2</td>\n",
       "      <td>26</td>\n",
       "      <td>-1</td>\n",
       "      <td>2</td>\n",
       "      <td>0</td>\n",
       "      <td>0</td>\n",
       "      <td>...</td>\n",
       "      <td>3272</td>\n",
       "      <td>3455</td>\n",
       "      <td>3261</td>\n",
       "      <td>0</td>\n",
       "      <td>1000</td>\n",
       "      <td>1000</td>\n",
       "      <td>1000</td>\n",
       "      <td>0</td>\n",
       "      <td>2000</td>\n",
       "      <td>1</td>\n",
       "    </tr>\n",
       "    <tr>\n",
       "      <td>2</td>\n",
       "      <td>3</td>\n",
       "      <td>90000</td>\n",
       "      <td>2</td>\n",
       "      <td>2</td>\n",
       "      <td>2</td>\n",
       "      <td>34</td>\n",
       "      <td>0</td>\n",
       "      <td>0</td>\n",
       "      <td>0</td>\n",
       "      <td>0</td>\n",
       "      <td>...</td>\n",
       "      <td>14331</td>\n",
       "      <td>14948</td>\n",
       "      <td>15549</td>\n",
       "      <td>1518</td>\n",
       "      <td>1500</td>\n",
       "      <td>1000</td>\n",
       "      <td>1000</td>\n",
       "      <td>1000</td>\n",
       "      <td>5000</td>\n",
       "      <td>0</td>\n",
       "    </tr>\n",
       "    <tr>\n",
       "      <td>3</td>\n",
       "      <td>4</td>\n",
       "      <td>50000</td>\n",
       "      <td>2</td>\n",
       "      <td>2</td>\n",
       "      <td>1</td>\n",
       "      <td>37</td>\n",
       "      <td>0</td>\n",
       "      <td>0</td>\n",
       "      <td>0</td>\n",
       "      <td>0</td>\n",
       "      <td>...</td>\n",
       "      <td>28314</td>\n",
       "      <td>28959</td>\n",
       "      <td>29547</td>\n",
       "      <td>2000</td>\n",
       "      <td>2019</td>\n",
       "      <td>1200</td>\n",
       "      <td>1100</td>\n",
       "      <td>1069</td>\n",
       "      <td>1000</td>\n",
       "      <td>0</td>\n",
       "    </tr>\n",
       "    <tr>\n",
       "      <td>4</td>\n",
       "      <td>5</td>\n",
       "      <td>50000</td>\n",
       "      <td>1</td>\n",
       "      <td>2</td>\n",
       "      <td>1</td>\n",
       "      <td>57</td>\n",
       "      <td>-1</td>\n",
       "      <td>0</td>\n",
       "      <td>-1</td>\n",
       "      <td>0</td>\n",
       "      <td>...</td>\n",
       "      <td>20940</td>\n",
       "      <td>19146</td>\n",
       "      <td>19131</td>\n",
       "      <td>2000</td>\n",
       "      <td>36681</td>\n",
       "      <td>10000</td>\n",
       "      <td>9000</td>\n",
       "      <td>689</td>\n",
       "      <td>679</td>\n",
       "      <td>0</td>\n",
       "    </tr>\n",
       "  </tbody>\n",
       "</table>\n",
       "<p>5 rows × 25 columns</p>\n",
       "</div>"
      ],
      "text/plain": [
       "   ID  LIMIT_BAL  SEX  EDUCATION  MARRIAGE  AGE  PAY_1  PAY_2  PAY_3  PAY_4  \\\n",
       "0   1      20000    2          2         1   24      2      2     -1     -1   \n",
       "1   2     120000    2          2         2   26     -1      2      0      0   \n",
       "2   3      90000    2          2         2   34      0      0      0      0   \n",
       "3   4      50000    2          2         1   37      0      0      0      0   \n",
       "4   5      50000    1          2         1   57     -1      0     -1      0   \n",
       "\n",
       "   ...  BILL_AMT4  BILL_AMT5  BILL_AMT6  PAY_AMT1  PAY_AMT2  PAY_AMT3  \\\n",
       "0  ...          0          0          0         0       689         0   \n",
       "1  ...       3272       3455       3261         0      1000      1000   \n",
       "2  ...      14331      14948      15549      1518      1500      1000   \n",
       "3  ...      28314      28959      29547      2000      2019      1200   \n",
       "4  ...      20940      19146      19131      2000     36681     10000   \n",
       "\n",
       "   PAY_AMT4  PAY_AMT5  PAY_AMT6  DEFAULT  \n",
       "0         0         0         0        1  \n",
       "1      1000         0      2000        1  \n",
       "2      1000      1000      5000        0  \n",
       "3      1100      1069      1000        0  \n",
       "4      9000       689       679        0  \n",
       "\n",
       "[5 rows x 25 columns]"
      ]
     },
     "execution_count": 24,
     "metadata": {},
     "output_type": "execute_result"
    }
   ],
   "source": [
    "data.head()"
   ]
  },
  {
   "cell_type": "code",
   "execution_count": 25,
   "metadata": {},
   "outputs": [
    {
     "data": {
      "text/plain": [
       "ID           int64\n",
       "LIMIT_BAL    int64\n",
       "SEX          int64\n",
       "EDUCATION    int64\n",
       "MARRIAGE     int64\n",
       "AGE          int64\n",
       "PAY_1        int64\n",
       "PAY_2        int64\n",
       "PAY_3        int64\n",
       "PAY_4        int64\n",
       "PAY_5        int64\n",
       "PAY_6        int64\n",
       "BILL_AMT1    int64\n",
       "BILL_AMT2    int64\n",
       "BILL_AMT3    int64\n",
       "BILL_AMT4    int64\n",
       "BILL_AMT5    int64\n",
       "BILL_AMT6    int64\n",
       "PAY_AMT1     int64\n",
       "PAY_AMT2     int64\n",
       "PAY_AMT3     int64\n",
       "PAY_AMT4     int64\n",
       "PAY_AMT5     int64\n",
       "PAY_AMT6     int64\n",
       "DEFAULT      int64\n",
       "dtype: object"
      ]
     },
     "execution_count": 25,
     "metadata": {},
     "output_type": "execute_result"
    }
   ],
   "source": [
    "data.dtypes"
   ]
  },
  {
   "cell_type": "code",
   "execution_count": 26,
   "metadata": {},
   "outputs": [],
   "source": [
    "data.SEX=data.SEX.map({2: 'Female', 1:'Male'})"
   ]
  },
  {
   "cell_type": "code",
   "execution_count": 27,
   "metadata": {},
   "outputs": [],
   "source": [
    "data.EDUCATION=data.EDUCATION.map({1:'GraduateSchool', 2:'University', 3:'HighSchool', 4:'Others', 0:'Others', 5:'Others', 6:'Others'})"
   ]
  },
  {
   "cell_type": "code",
   "execution_count": 28,
   "metadata": {},
   "outputs": [],
   "source": [
    "data.MARRIAGE=data.MARRIAGE.map({1:'Married', 2:'Single', 3:'Others', 0:'Others'})"
   ]
  },
  {
   "cell_type": "code",
   "execution_count": 29,
   "metadata": {},
   "outputs": [],
   "source": [
    "data['Total_risk_value']=data['PAY_1']+data['PAY_2']+data['PAY_3']+data['PAY_4']+data['PAY_5']+data['PAY_6']"
   ]
  },
  {
   "cell_type": "code",
   "execution_count": 30,
   "metadata": {},
   "outputs": [],
   "source": [
    "data.PAY_1=data.PAY_1.map({-1:'Paid_duly', -2:'No_usage', 0:'Revolving', 1:'delay_1', 2:'delay_2', 3:'delay_3', 4:'delay_4', 5:'delay_5', 6:'delay_6', 7:'delay_7', 8:'delay_8'})\n",
    "data.PAY_2=data.PAY_2.map({-1:'Paid_duly', -2:'No_usage', 0:'Revolving', 1:'delay_1', 2:'delay_2', 3:'delay_3', 4:'delay_4', 5:'delay_5', 6:'delay_6', 7:'delay_7', 8:'delay_8'})\n",
    "data.PAY_3=data.PAY_3.map({-1:'Paid_duly', -2:'No_usage', 0:'Revolving', 1:'delay_1', 2:'delay_2', 3:'delay_3', 4:'delay_4', 5:'delay_5', 6:'delay_6', 7:'delay_7', 8:'delay_8'})\n",
    "data.PAY_4=data.PAY_4.map({-1:'Paid_duly', -2:'No_usage', 0:'Revolving', 1:'delay_1', 2:'delay_2', 3:'delay_3', 4:'delay_4', 5:'delay_5', 6:'delay_6', 7:'delay_7', 8:'delay_8'})\n",
    "data.PAY_5=data.PAY_5.map({-1:'Paid_duly', -2:'No_usage', 0:'Revolving', 1:'delay_1', 2:'delay_2', 3:'delay_3', 4:'delay_4', 5:'delay_5', 6:'delay_6', 7:'delay_7', 8:'delay_8'})\n",
    "data.PAY_6=data.PAY_6.map({-1:'Paid_duly', -2:'No_usage', 0:'Revolving', 1:'delay_1', 2:'delay_2', 3:'delay_3', 4:'delay_4', 5:'delay_5', 6:'delay_6', 7:'delay_7', 8:'delay_8'})"
   ]
  },
  {
   "cell_type": "code",
   "execution_count": 31,
   "metadata": {},
   "outputs": [],
   "source": [
    "data.DEFAULT=data.DEFAULT.astype('O')"
   ]
  },
  {
   "cell_type": "code",
   "execution_count": 32,
   "metadata": {},
   "outputs": [],
   "source": [
    "num_data=data[data.columns[data.dtypes=='int64']]"
   ]
  },
  {
   "cell_type": "code",
   "execution_count": 33,
   "metadata": {},
   "outputs": [],
   "source": [
    "cat_data=data[data.columns[data.dtypes=='O']]"
   ]
  },
  {
   "cell_type": "code",
   "execution_count": 34,
   "metadata": {},
   "outputs": [],
   "source": [
    "data.drop(columns='ID', inplace=True)"
   ]
  },
  {
   "cell_type": "code",
   "execution_count": 35,
   "metadata": {},
   "outputs": [
    {
     "data": {
      "text/plain": [
       "Index(['ID', 'LIMIT_BAL', 'AGE', 'BILL_AMT1', 'BILL_AMT2', 'BILL_AMT3',\n",
       "       'BILL_AMT4', 'BILL_AMT5', 'BILL_AMT6', 'PAY_AMT1', 'PAY_AMT2',\n",
       "       'PAY_AMT3', 'PAY_AMT4', 'PAY_AMT5', 'PAY_AMT6', 'Total_risk_value'],\n",
       "      dtype='object')"
      ]
     },
     "execution_count": 35,
     "metadata": {},
     "output_type": "execute_result"
    }
   ],
   "source": [
    "num_data.columns"
   ]
  },
  {
   "cell_type": "code",
   "execution_count": 36,
   "metadata": {},
   "outputs": [
    {
     "data": {
      "text/plain": [
       "Index(['SEX', 'EDUCATION', 'MARRIAGE', 'PAY_1', 'PAY_2', 'PAY_3', 'PAY_4',\n",
       "       'PAY_5', 'PAY_6', 'DEFAULT'],\n",
       "      dtype='object')"
      ]
     },
     "execution_count": 36,
     "metadata": {},
     "output_type": "execute_result"
    }
   ],
   "source": [
    "cat_data.columns"
   ]
  },
  {
   "cell_type": "code",
   "execution_count": 37,
   "metadata": {},
   "outputs": [
    {
     "name": "stdout",
     "output_type": "stream",
     "text": [
      "Chisquare Test between DEFAULT and column SEX\n",
      "4.944678999412026e-12\n",
      "Chisquare Test between DEFAULT and column EDUCATION\n",
      "1.495064564810615e-34\n",
      "Chisquare Test between DEFAULT and column MARRIAGE\n",
      "7.7907203642028e-07\n",
      "Chisquare Test between DEFAULT and column PAY_1\n",
      "0.0\n",
      "Chisquare Test between DEFAULT and column PAY_2\n",
      "0.0\n",
      "Chisquare Test between DEFAULT and column PAY_3\n",
      "0.0\n",
      "Chisquare Test between DEFAULT and column PAY_4\n",
      "0.0\n",
      "Chisquare Test between DEFAULT and column PAY_5\n",
      "0.0\n",
      "Chisquare Test between DEFAULT and column PAY_6\n",
      "0.0\n"
     ]
    }
   ],
   "source": [
    "cat_col=['SEX', 'EDUCATION', 'MARRIAGE', 'PAY_1', 'PAY_2', 'PAY_3','PAY_4','PAY_5','PAY_6']\n",
    "for i in cat_col:\n",
    "    print('Chisquare Test between DEFAULT and column',i)\n",
    "    cont_table=pd.crosstab(data['DEFAULT'], data[i])\n",
    "    chi_sq_Stat, p_value, deg_freedom, exp_freq=st.chi2_contingency(cont_table)\n",
    "    print(p_value)"
   ]
  },
  {
   "cell_type": "code",
   "execution_count": 38,
   "metadata": {},
   "outputs": [],
   "source": [
    "# Significant categorical columns are: SEX, EDUCATION, MARRIAGE, PAY_1 to PAY_6"
   ]
  },
  {
   "cell_type": "code",
   "execution_count": 39,
   "metadata": {},
   "outputs": [
    {
     "data": {
      "text/plain": [
       "Index(['ID', 'LIMIT_BAL', 'AGE', 'BILL_AMT1', 'BILL_AMT2', 'BILL_AMT3',\n",
       "       'BILL_AMT4', 'BILL_AMT5', 'BILL_AMT6', 'PAY_AMT1', 'PAY_AMT2',\n",
       "       'PAY_AMT3', 'PAY_AMT4', 'PAY_AMT5', 'PAY_AMT6', 'Total_risk_value'],\n",
       "      dtype='object')"
      ]
     },
     "execution_count": 39,
     "metadata": {},
     "output_type": "execute_result"
    }
   ],
   "source": [
    "num_data.columns"
   ]
  },
  {
   "cell_type": "code",
   "execution_count": 40,
   "metadata": {},
   "outputs": [],
   "source": [
    "from statsmodels.formula.api import ols\n",
    "from statsmodels.stats.anova import anova_lm"
   ]
  },
  {
   "cell_type": "code",
   "execution_count": 41,
   "metadata": {},
   "outputs": [
    {
     "name": "stdout",
     "output_type": "stream",
     "text": [
      "                sum_sq       df           F         PR(>F)\n",
      "DEFAULT   1.190241e+13      1.0  724.068539  1.302244e-157\n",
      "Residual  4.931144e+14  29998.0         NaN            NaN\n"
     ]
    }
   ],
   "source": [
    "model=ols(\"LIMIT_BAL~DEFAULT\", data=data).fit()\n",
    "aov_table = anova_lm(model, typ=2)\n",
    "print(aov_table)"
   ]
  },
  {
   "cell_type": "code",
   "execution_count": 42,
   "metadata": {},
   "outputs": [
    {
     "name": "stdout",
     "output_type": "stream",
     "text": [
      "                sum_sq       df         F    PR(>F)\n",
      "DEFAULT   4.917737e+02      1.0  5.788556  0.016137\n",
      "Residual  2.548516e+06  29998.0       NaN       NaN\n"
     ]
    }
   ],
   "source": [
    "model=ols(\"AGE~DEFAULT\", data=data).fit()\n",
    "aov_table = anova_lm(model, typ=2)\n",
    "print(aov_table)"
   ]
  },
  {
   "cell_type": "code",
   "execution_count": 43,
   "metadata": {},
   "outputs": [
    {
     "name": "stdout",
     "output_type": "stream",
     "text": [
      "                sum_sq       df          F    PR(>F)\n",
      "DEFAULT   6.277028e+10      1.0  11.580532  0.000667\n",
      "Residual  1.625990e+14  29998.0        NaN       NaN\n"
     ]
    }
   ],
   "source": [
    "model=ols(\"BILL_AMT1~DEFAULT\", data=data).fit()\n",
    "aov_table = anova_lm(model, typ=2)\n",
    "print(aov_table)"
   ]
  },
  {
   "cell_type": "code",
   "execution_count": 44,
   "metadata": {},
   "outputs": [
    {
     "name": "stdout",
     "output_type": "stream",
     "text": [
      "                sum_sq       df         F    PR(>F)\n",
      "DEFAULT   3.061318e+10      1.0  6.044238  0.013957\n",
      "Residual  1.519355e+14  29998.0       NaN       NaN\n"
     ]
    }
   ],
   "source": [
    "model=ols(\"BILL_AMT2~DEFAULT\", data=data).fit()\n",
    "aov_table = anova_lm(model, typ=2)\n",
    "print(aov_table)"
   ]
  },
  {
   "cell_type": "code",
   "execution_count": 45,
   "metadata": {},
   "outputs": [
    {
     "name": "stdout",
     "output_type": "stream",
     "text": [
      "                sum_sq       df         F   PR(>F)\n",
      "DEFAULT   2.858386e+10      1.0  5.944388  0.01477\n",
      "Residual  1.442467e+14  29998.0       NaN      NaN\n"
     ]
    }
   ],
   "source": [
    "model=ols(\"BILL_AMT3~DEFAULT\", data=data).fit()\n",
    "aov_table = anova_lm(model, typ=2)\n",
    "print(aov_table)"
   ]
  },
  {
   "cell_type": "code",
   "execution_count": 46,
   "metadata": {},
   "outputs": [
    {
     "name": "stdout",
     "output_type": "stream",
     "text": [
      "                sum_sq       df         F    PR(>F)\n",
      "DEFAULT   1.280738e+10      1.0  3.094745  0.078556\n",
      "Residual  1.241445e+14  29998.0       NaN       NaN\n"
     ]
    }
   ],
   "source": [
    "model=ols(\"BILL_AMT4~DEFAULT\", data=data).fit()\n",
    "aov_table = anova_lm(model, typ=2)\n",
    "print(aov_table)"
   ]
  },
  {
   "cell_type": "code",
   "execution_count": 47,
   "metadata": {},
   "outputs": [
    {
     "name": "stdout",
     "output_type": "stream",
     "text": [
      "                sum_sq       df         F    PR(>F)\n",
      "DEFAULT   5.067880e+09      1.0  1.371087  0.241634\n",
      "Residual  1.108801e+14  29998.0       NaN       NaN\n"
     ]
    }
   ],
   "source": [
    "model=ols(\"BILL_AMT5~DEFAULT\", data=data).fit()\n",
    "aov_table = anova_lm(model, typ=2)\n",
    "print(aov_table)"
   ]
  },
  {
   "cell_type": "code",
   "execution_count": 48,
   "metadata": {},
   "outputs": [
    {
     "name": "stdout",
     "output_type": "stream",
     "text": [
      "                sum_sq       df        F    PR(>F)\n",
      "DEFAULT   3.070811e+09      1.0  0.86582  0.352123\n",
      "Residual  1.063941e+14  29998.0      NaN       NaN\n"
     ]
    }
   ],
   "source": [
    "model=ols(\"BILL_AMT6~DEFAULT\", data=data).fit()\n",
    "aov_table = anova_lm(model, typ=2)\n",
    "print(aov_table)"
   ]
  },
  {
   "cell_type": "code",
   "execution_count": 49,
   "metadata": {},
   "outputs": [
    {
     "name": "stdout",
     "output_type": "stream",
     "text": [
      "                sum_sq       df          F        PR(>F)\n",
      "DEFAULT   2.681623e+10      1.0  85.089045  3.033589e-20\n",
      "Residual  9.454016e+12  29998.0        NaN           NaN\n"
     ]
    }
   ],
   "source": [
    "model=ols(\"PAY_AMT6~DEFAULT\", data=data).fit()\n",
    "aov_table = anova_lm(model, typ=2)\n",
    "print(aov_table)"
   ]
  },
  {
   "cell_type": "code",
   "execution_count": 50,
   "metadata": {},
   "outputs": [
    {
     "name": "stdout",
     "output_type": "stream",
     "text": [
      "                sum_sq       df          F        PR(>F)\n",
      "DEFAULT   2.127801e+10      1.0  91.429801  1.241345e-21\n",
      "Residual  6.981287e+12  29998.0        NaN           NaN\n"
     ]
    }
   ],
   "source": [
    "model=ols(\"PAY_AMT5~DEFAULT\", data=data).fit()\n",
    "aov_table = anova_lm(model, typ=2)\n",
    "print(aov_table)"
   ]
  },
  {
   "cell_type": "code",
   "execution_count": 51,
   "metadata": {},
   "outputs": [
    {
     "name": "stdout",
     "output_type": "stream",
     "text": [
      "                sum_sq       df       F        PR(>F)\n",
      "DEFAULT   2.377647e+10      1.0  97.188  6.830942e-23\n",
      "Residual  7.338835e+12  29998.0     NaN           NaN\n"
     ]
    }
   ],
   "source": [
    "model=ols(\"PAY_AMT4~DEFAULT\", data=data).fit()\n",
    "aov_table = anova_lm(model, typ=2)\n",
    "print(aov_table)"
   ]
  },
  {
   "cell_type": "code",
   "execution_count": 52,
   "metadata": {},
   "outputs": [
    {
     "name": "stdout",
     "output_type": "stream",
     "text": [
      "                sum_sq       df          F        PR(>F)\n",
      "DEFAULT   2.942565e+10      1.0  95.218011  1.841770e-22\n",
      "Residual  9.270417e+12  29998.0        NaN           NaN\n"
     ]
    }
   ],
   "source": [
    "model=ols(\"PAY_AMT3~DEFAULT\", data=data).fit()\n",
    "aov_table = anova_lm(model, typ=2)\n",
    "print(aov_table)"
   ]
  },
  {
   "cell_type": "code",
   "execution_count": 53,
   "metadata": {},
   "outputs": [
    {
     "name": "stdout",
     "output_type": "stream",
     "text": [
      "                sum_sq       df           F        PR(>F)\n",
      "DEFAULT   5.464924e+10      1.0  103.291524  3.166657e-24\n",
      "Residual  1.587127e+13  29998.0         NaN           NaN\n"
     ]
    }
   ],
   "source": [
    "model=ols(\"PAY_AMT2~DEFAULT\", data=data).fit()\n",
    "aov_table = anova_lm(model, typ=2)\n",
    "print(aov_table)"
   ]
  },
  {
   "cell_type": "code",
   "execution_count": 54,
   "metadata": {},
   "outputs": [
    {
     "name": "stdout",
     "output_type": "stream",
     "text": [
      "                sum_sq       df          F        PR(>F)\n",
      "DEFAULT   4.377295e+10      1.0  160.40381  1.146488e-36\n",
      "Residual  8.186220e+12  29998.0        NaN           NaN\n"
     ]
    }
   ],
   "source": [
    "model=ols(\"PAY_AMT1~DEFAULT\", data=data).fit()\n",
    "aov_table = anova_lm(model, typ=2)\n",
    "print(aov_table)"
   ]
  },
  {
   "cell_type": "code",
   "execution_count": 55,
   "metadata": {},
   "outputs": [],
   "source": [
    "# Significant numerical variables are:\n",
    "# LIMIT_BAL, AGE, BILL_AMT1, BILL_AMT2, BILL_AMT3, PAY_AMT1---PAY_AMT6"
   ]
  },
  {
   "cell_type": "code",
   "execution_count": 56,
   "metadata": {},
   "outputs": [],
   "source": [
    "# Non-significant numerical variables are:\n",
    "# BILL_AMT4, BILL_AMT5, BILL_AMT6"
   ]
  },
  {
   "cell_type": "code",
   "execution_count": 57,
   "metadata": {},
   "outputs": [],
   "source": [
    "# Stats tests for new features extracted"
   ]
  },
  {
   "cell_type": "code",
   "execution_count": 58,
   "metadata": {},
   "outputs": [],
   "source": [
    "data_new=data.copy(deep=True)"
   ]
  },
  {
   "cell_type": "code",
   "execution_count": 75,
   "metadata": {},
   "outputs": [],
   "source": [
    "data_new['Avg_Bill_Amt']=(data_new['BILL_AMT1']+data_new['BILL_AMT2']+data_new['BILL_AMT3']+data_new['BILL_AMT4']+data_new['BILL_AMT5']+data_new['BILL_AMT6'])/6"
   ]
  },
  {
   "cell_type": "code",
   "execution_count": 76,
   "metadata": {},
   "outputs": [],
   "source": [
    "data_new['Avg_Pay_Amt']=(data_new['PAY_AMT1']+data_new['PAY_AMT2']+data_new['PAY_AMT3']+data_new['PAY_AMT4']+data_new['PAY_AMT5']+data_new['PAY_AMT6'])/6"
   ]
  },
  {
   "cell_type": "code",
   "execution_count": 61,
   "metadata": {},
   "outputs": [],
   "source": [
    "data_new['Apr_outstanding']=data_new['BILL_AMT6']-data_new['PAY_AMT5']\n",
    "data_new['May_outstanding']=data_new['BILL_AMT5']-data_new['PAY_AMT4']\n",
    "data_new['Jun_outstanding']=data_new['BILL_AMT4']-data_new['PAY_AMT3']\n",
    "data_new['Jul_outstanding']=data_new['BILL_AMT3']-data_new['PAY_AMT2']\n",
    "data_new['Aug_outstanding']=data_new['BILL_AMT2']-data_new['PAY_AMT1']"
   ]
  },
  {
   "cell_type": "code",
   "execution_count": 77,
   "metadata": {},
   "outputs": [],
   "source": [
    "data_new['Avg_outstanding']=(data_new['Apr_outstanding']+data_new['May_outstanding']+data_new['Jun_outstanding']+data_new['Jul_outstanding']+data_new['Aug_outstanding'])/5"
   ]
  },
  {
   "cell_type": "code",
   "execution_count": 63,
   "metadata": {},
   "outputs": [],
   "source": [
    "data_new['Apr_usage']=data_new['BILL_AMT5']-data_new['Apr_outstanding']\n",
    "data_new['May_usage']=data_new['BILL_AMT4']-data_new['May_outstanding']\n",
    "data_new['Jun_usage']=data_new['BILL_AMT3']-data_new['Jun_outstanding']\n",
    "data_new['Jul_usage']=data_new['BILL_AMT2']-data_new['Jul_outstanding']\n",
    "data_new['Aug_usage']=data_new['BILL_AMT1']-data_new['Aug_outstanding']"
   ]
  },
  {
   "cell_type": "code",
   "execution_count": 64,
   "metadata": {},
   "outputs": [],
   "source": [
    "data_new['avg_usage']=(data_new['Apr_usage']+data_new['May_usage']+data_new['Jun_usage']+data_new['Jul_usage']+data_new['Aug_usage'])/5"
   ]
  },
  {
   "cell_type": "code",
   "execution_count": 65,
   "metadata": {},
   "outputs": [
    {
     "name": "stdout",
     "output_type": "stream",
     "text": [
      "                sum_sq       df         F    PR(>F)\n",
      "DEFAULT   8.182095e+09      1.0  2.541057  0.110931\n",
      "Residual  9.659226e+13  29998.0       NaN       NaN\n"
     ]
    }
   ],
   "source": [
    "model=ols(\"Apr_outstanding~DEFAULT\", data=data_new).fit()\n",
    "aov_table = anova_lm(model, typ=2)\n",
    "print(aov_table)"
   ]
  },
  {
   "cell_type": "code",
   "execution_count": 66,
   "metadata": {},
   "outputs": [
    {
     "name": "stdout",
     "output_type": "stream",
     "text": [
      "                sum_sq       df         F    PR(>F)\n",
      "DEFAULT   6.890192e+09      1.0  2.036566  0.153566\n",
      "Residual  1.014904e+14  29998.0       NaN       NaN\n"
     ]
    }
   ],
   "source": [
    "model=ols(\"May_outstanding~DEFAULT\", data=data_new).fit()\n",
    "aov_table = anova_lm(model, typ=2)\n",
    "print(aov_table)"
   ]
  },
  {
   "cell_type": "code",
   "execution_count": 67,
   "metadata": {},
   "outputs": [
    {
     "name": "stdout",
     "output_type": "stream",
     "text": [
      "                sum_sq       df         F    PR(>F)\n",
      "DEFAULT   3.406984e+09      1.0  0.903935  0.341736\n",
      "Residual  1.130642e+14  29998.0       NaN       NaN\n"
     ]
    }
   ],
   "source": [
    "model=ols(\"Jun_outstanding~DEFAULT\", data=data_new).fit()\n",
    "aov_table = anova_lm(model, typ=2)\n",
    "print(aov_table)"
   ]
  },
  {
   "cell_type": "code",
   "execution_count": 68,
   "metadata": {},
   "outputs": [
    {
     "name": "stdout",
     "output_type": "stream",
     "text": [
      "                sum_sq       df         F    PR(>F)\n",
      "DEFAULT   4.186628e+09      1.0  0.967474  0.325319\n",
      "Residual  1.298127e+14  29998.0       NaN       NaN\n"
     ]
    }
   ],
   "source": [
    "model=ols(\"Jul_outstanding~DEFAULT\", data=data_new).fit()\n",
    "aov_table = anova_lm(model, typ=2)\n",
    "print(aov_table)"
   ]
  },
  {
   "cell_type": "code",
   "execution_count": 71,
   "metadata": {},
   "outputs": [
    {
     "name": "stdout",
     "output_type": "stream",
     "text": [
      "                sum_sq       df         F    PR(>F)\n",
      "DEFAULT   1.173311e+09      1.0  0.250754  0.616548\n",
      "Residual  1.403647e+14  29998.0       NaN       NaN\n"
     ]
    }
   ],
   "source": [
    "model=ols(\"Aug_outstanding~DEFAULT\", data=data_new).fit()\n",
    "aov_table = anova_lm(model, typ=2)\n",
    "print(aov_table)"
   ]
  },
  {
   "cell_type": "code",
   "execution_count": 78,
   "metadata": {},
   "outputs": [
    {
     "name": "stdout",
     "output_type": "stream",
     "text": [
      "                sum_sq       df         F    PR(>F)\n",
      "DEFAULT   4.376862e+09      1.0  1.241675  0.265157\n",
      "Residual  1.057420e+14  29998.0       NaN       NaN\n"
     ]
    }
   ],
   "source": [
    "model=ols(\"Avg_outstanding~DEFAULT\", data=data_new).fit()\n",
    "aov_table = anova_lm(model, typ=2)\n",
    "print(aov_table)"
   ]
  },
  {
   "cell_type": "code",
   "execution_count": 79,
   "metadata": {},
   "outputs": [
    {
     "name": "stdout",
     "output_type": "stream",
     "text": [
      "                sum_sq       df          F        PR(>F)\n",
      "DEFAULT   2.612877e+10      1.0  79.968545  4.017355e-19\n",
      "Residual  9.801491e+12  29998.0        NaN           NaN\n"
     ]
    }
   ],
   "source": [
    "model=ols(\"Apr_usage~DEFAULT\", data=data_new).fit()\n",
    "aov_table = anova_lm(model, typ=2)\n",
    "print(aov_table)"
   ]
  },
  {
   "cell_type": "code",
   "execution_count": 80,
   "metadata": {},
   "outputs": [
    {
     "name": "stdout",
     "output_type": "stream",
     "text": [
      "                sum_sq       df          F        PR(>F)\n",
      "DEFAULT   3.848536e+10      1.0  89.705119  2.960133e-21\n",
      "Residual  1.286977e+13  29998.0        NaN           NaN\n"
     ]
    }
   ],
   "source": [
    "model=ols(\"May_usage~DEFAULT\", data=data_new).fit()\n",
    "aov_table = anova_lm(model, typ=2)\n",
    "print(aov_table)"
   ]
  },
  {
   "cell_type": "code",
   "execution_count": 81,
   "metadata": {},
   "outputs": [
    {
     "name": "stdout",
     "output_type": "stream",
     "text": [
      "                sum_sq       df          F        PR(>F)\n",
      "DEFAULT   5.172758e+10      1.0  79.617521  4.796145e-19\n",
      "Residual  1.948973e+13  29998.0        NaN           NaN\n"
     ]
    }
   ],
   "source": [
    "model=ols(\"Jun_usage~DEFAULT\", data=data_new).fit()\n",
    "aov_table = anova_lm(model, typ=2)\n",
    "print(aov_table)"
   ]
  },
  {
   "cell_type": "code",
   "execution_count": 82,
   "metadata": {},
   "outputs": [
    {
     "name": "stdout",
     "output_type": "stream",
     "text": [
      "                sum_sq       df           F        PR(>F)\n",
      "DEFAULT   5.744189e+10      1.0  102.982455  3.699312e-24\n",
      "Residual  1.673238e+13  29998.0         NaN           NaN\n"
     ]
    }
   ],
   "source": [
    "model=ols(\"Jul_usage~DEFAULT\", data=data_new).fit()\n",
    "aov_table = anova_lm(model, typ=2)\n",
    "print(aov_table)"
   ]
  },
  {
   "cell_type": "code",
   "execution_count": 83,
   "metadata": {},
   "outputs": [
    {
     "name": "stdout",
     "output_type": "stream",
     "text": [
      "                sum_sq       df           F        PR(>F)\n",
      "DEFAULT   8.110740e+10      1.0  173.525887  1.617844e-39\n",
      "Residual  1.402131e+13  29998.0         NaN           NaN\n"
     ]
    }
   ],
   "source": [
    "model=ols(\"Aug_usage~DEFAULT\", data=data_new).fit()\n",
    "aov_table = anova_lm(model, typ=2)\n",
    "print(aov_table)"
   ]
  },
  {
   "cell_type": "code",
   "execution_count": 84,
   "metadata": {},
   "outputs": [
    {
     "name": "stdout",
     "output_type": "stream",
     "text": [
      "                sum_sq       df           F        PR(>F)\n",
      "DEFAULT   4.925930e+10      1.0  293.109534  2.138343e-65\n",
      "Residual  5.041394e+12  29998.0         NaN           NaN\n"
     ]
    }
   ],
   "source": [
    "model=ols(\"avg_usage~DEFAULT\", data=data_new).fit()\n",
    "aov_table = anova_lm(model, typ=2)\n",
    "print(aov_table)"
   ]
  },
  {
   "cell_type": "code",
   "execution_count": 85,
   "metadata": {},
   "outputs": [
    {
     "name": "stdout",
     "output_type": "stream",
     "text": [
      "                 sum_sq       df            F  PR(>F)\n",
      "DEFAULT    82822.078404      1.0  2590.753192     0.0\n",
      "Residual  958986.257563  29998.0          NaN     NaN\n"
     ]
    }
   ],
   "source": [
    "model=ols(\"Total_risk_value~DEFAULT\", data=data).fit()\n",
    "aov_table = anova_lm(model, typ=2)\n",
    "print(aov_table)"
   ]
  },
  {
   "cell_type": "code",
   "execution_count": 86,
   "metadata": {},
   "outputs": [],
   "source": [
    "# Significant extracted numerical features are: Apr_usage----Aug_usage, total_usage"
   ]
  },
  {
   "cell_type": "code",
   "execution_count": 87,
   "metadata": {},
   "outputs": [],
   "source": [
    "# Non-significant extracted numerical features are: Apr_outstanding-------Aug_outstanding, cumulative_outstanding"
   ]
  },
  {
   "cell_type": "code",
   "execution_count": 88,
   "metadata": {},
   "outputs": [],
   "source": [
    "def age_cat(y):\n",
    "    if y>=20 and y<40:\n",
    "        return \"Young\"\n",
    "    elif y>=40 and y<60:\n",
    "        return \"Middle Aged\"\n",
    "    elif y>=60 and y<80:\n",
    "        return \"Senior Citizens\"\n",
    "data_new['Age_Category']=data_new.AGE.apply(age_cat)"
   ]
  },
  {
   "cell_type": "code",
   "execution_count": 89,
   "metadata": {},
   "outputs": [],
   "source": [
    "def limit_cat(x):\n",
    "    if x>=10000 and x<208000:\n",
    "        return \"Low Limit Holder\"\n",
    "    elif x>=208000 and x<406000:\n",
    "        return \"Medium Limit Holder\"\n",
    "    elif x>=406000 and x<604000:\n",
    "        return \"High Limit Holder\"\n",
    "    elif x>=604000 and x<802000:\n",
    "        return \"Very High Limit Holder\"\n",
    "    elif x>=802000 and x<1000000:\n",
    "        return \"Ultra High Limit Holder\"\n",
    "data_new['Credit_Limit_Category']=data_new.LIMIT_BAL.apply(limit_cat)"
   ]
  },
  {
   "cell_type": "code",
   "execution_count": 90,
   "metadata": {},
   "outputs": [
    {
     "name": "stdout",
     "output_type": "stream",
     "text": [
      "Chisquare Test between DEFAULT and column Age_Category\n",
      "1.3460129210671586e-05\n",
      "Chisquare Test between DEFAULT and column Credit_Limit_Category\n",
      "2.8137545576000575e-99\n"
     ]
    }
   ],
   "source": [
    "cat_col_new=['Age_Category', 'Credit_Limit_Category']\n",
    "for i in cat_col_new:\n",
    "    print('Chisquare Test between DEFAULT and column',i)\n",
    "    cont_table=pd.crosstab(data_new['DEFAULT'], data_new[i])\n",
    "    chi_sq_Stat, p_value, deg_freedom, exp_freq=st.chi2_contingency(cont_table)\n",
    "    print(p_value)"
   ]
  },
  {
   "cell_type": "code",
   "execution_count": 91,
   "metadata": {},
   "outputs": [],
   "source": [
    "# Significant extracted categorical features are: Age_Category, Credit_Limit_Category"
   ]
  },
  {
   "cell_type": "code",
   "execution_count": null,
   "metadata": {},
   "outputs": [],
   "source": []
  },
  {
   "cell_type": "code",
   "execution_count": null,
   "metadata": {},
   "outputs": [],
   "source": []
  }
 ],
 "metadata": {
  "kernelspec": {
   "display_name": "Python 3",
   "language": "python",
   "name": "python3"
  },
  "language_info": {
   "codemirror_mode": {
    "name": "ipython",
    "version": 3
   },
   "file_extension": ".py",
   "mimetype": "text/x-python",
   "name": "python",
   "nbconvert_exporter": "python",
   "pygments_lexer": "ipython3",
   "version": "3.7.4"
  }
 },
 "nbformat": 4,
 "nbformat_minor": 2
}
